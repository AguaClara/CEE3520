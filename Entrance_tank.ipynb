{
  "nbformat": 4,
  "nbformat_minor": 0,
  "metadata": {
    "colab": {
      "name": "Entrance_tank.ipynb",
      "provenance": [],
      "authorship_tag": "ABX9TyPH8kVf5rikRPE7gSjGRn4G",
      "include_colab_link": true
    },
    "kernelspec": {
      "name": "python3",
      "display_name": "Python 3"
    }
  },
  "cells": [
    {
      "cell_type": "markdown",
      "metadata": {
        "id": "view-in-github",
        "colab_type": "text"
      },
      "source": [
        "<a href=\"https://colab.research.google.com/github/AguaClara/CEE4520/blob/master/Entrance_tank.ipynb\" target=\"_parent\"><img src=\"https://colab.research.google.com/assets/colab-badge.svg\" alt=\"Open In Colab\"/></a>"
      ]
    },
    {
      "cell_type": "markdown",
      "metadata": {
        "id": "_LBPgdWKAUNM",
        "colab_type": "text"
      },
      "source": [
        "# Entrance Tank\n",
        "\n",
        "## Problems with the current design\n",
        "\n",
        "1.   Explore options to reduce the kinetic energy of the incoming water. This results in lots of wave action and splashing. Perhaps inject the water deeper into the entrance tank so that turbulent eddies are somewhat dissipated by the time they get to the water surface. Or direct the water against the wall of the tank?\n",
        "1.   Plate settlers don't work because the velocities are too high and flow isn't distributed at all unformly through the plates. Recommend either improving flow distribution (see 4520 capstone design project) or reverting to a simple horizontal flow tank to capture grit.\n",
        "1.   Velocity through the bar screen is too high. Increase the area for the bar screen and include a minimum of 2 bar screens and 3 tracks for inserting the screens so that one can be removed and cleaned and replaced. \n",
        "1.   Velocity of approach for the LFOM \n",
        "\n",
        "\n",
        "\n"
      ]
    },
    {
      "cell_type": "code",
      "metadata": {
        "id": "j8r1ROUAAQkj",
        "colab_type": "code",
        "colab": {}
      },
      "source": [
        ""
      ],
      "execution_count": null,
      "outputs": []
    }
  ]
}