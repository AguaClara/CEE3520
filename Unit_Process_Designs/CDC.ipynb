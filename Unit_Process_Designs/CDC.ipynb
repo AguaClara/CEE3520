{
  "nbformat": 4,
  "nbformat_minor": 0,
  "metadata": {
    "colab": {
      "name": "CDC.ipynb",
      "provenance": [],
      "authorship_tag": "ABX9TyPtuzzlpgMrtC2AkzTDrfPs",
      "include_colab_link": true
    },
    "kernelspec": {
      "name": "python3",
      "display_name": "Python 3"
    }
  },
  "cells": [
    {
      "cell_type": "markdown",
      "metadata": {
        "id": "view-in-github",
        "colab_type": "text"
      },
      "source": [
        "<a href=\"https://colab.research.google.com/github/AguaClara/SWOT/blob/master/Unit_Process_Designs/CDC.ipynb\" target=\"_parent\"><img src=\"https://colab.research.google.com/assets/colab-badge.svg\" alt=\"Open In Colab\"/></a>"
      ]
    },
    {
      "cell_type": "markdown",
      "metadata": {
        "id": "tQ5eBhgVRlXN"
      },
      "source": [
        "# Chemical Dose Controller\r\n",
        "The goal is to define the distinct design strategies required as a function of flow rate for the chemical dose controller. There are expected to be 3 distinct design regions.\r\n",
        "\r\n",
        "Chemical resistance is critical for the design of the components exposed to chlorine. According to [Chemical Resistance of Thermoplastics Piping Materials](https://plasticpipe.org/pdf/tr-19_thermoplastic_pipe_for_transport_of_chemical.pdf), the plastics that are compatible with bleach at 12% active $Cl_2$ at temperatures above 40 $^\\circ C$ are:\r\n",
        "*   CPVC (chlorinated polyvinyl chloride)\r\n",
        "*   PVC (polyvinyl chloride)\r\n",
        "*   PP (polypropylene)\r\n",
        "*   PB (polybutylene)\r\n",
        "\r\n",
        "\r\n",
        "Arrays of multiple tubes each with their own valve are difficult to maintain because each tube needs to be removed in turn to be cleaned. To reduce the time required for cleaning it is preferred that a complete set of tubes be removed together. Thus this design will always have two flow resistors of equal flow that are installed in parallel with only one active at a time. The plant should have a third flow resistor on hand as a spare that can be clean and ready to replace a defective unit at any time.\r\n",
        "\r\n",
        "\r\n",
        "\r\n",
        "\r\n",
        "1.   single dosing tube of 1/8\" ID where the stock solution is varied to obtain a range of maximum chemical mass rates. A spare tube is plumbed and the active tube is selected by valves.\r\n",
        "2.   set of multiple tubes with one valve at each end for the entire set.\r\n",
        "\r\n"
      ]
    },
    {
      "cell_type": "code",
      "metadata": {
        "id": "fRAVKHmiREp9"
      },
      "source": [
        "!pip install aguaclara"
      ],
      "execution_count": null,
      "outputs": []
    },
    {
      "cell_type": "code",
      "metadata": {
        "id": "Tio60OHMRnPL"
      },
      "source": [
        "from aguaclara.core.units import unit_registry as u\r\n",
        "import aguaclara as ac\r\n",
        "import numpy as np"
      ],
      "execution_count": 3,
      "outputs": []
    },
    {
      "cell_type": "markdown",
      "metadata": {
        "id": "6QPKpRVydYUD"
      },
      "source": [
        "$$L_{Min} = \\left( \\frac{g h_L \\pi D^4}{128 \\nu Q_{Max}} - \\frac{Q_{Max}}{16 \\pi \\nu} \\sum{K} \\right)$$"
      ]
    },
    {
      "cell_type": "code",
      "metadata": {
        "colab": {
          "base_uri": "https://localhost:8080/"
        },
        "id": "KJTPNdQRdcuA",
        "outputId": "e2c7b6bc-943b-40de-d4e1-acbaf64190d3"
      },
      "source": [
        "plantQ = 1 * u.L/u.s\r\n",
        "pacDoseC = 40 * u.mg/u.L \r\n",
        "pacStockC = 1 * u.gram/u.L\r\n",
        "pacQ = (plantQ * pacDoseC/pacStockC).to(u.mL/u.s)\r\n",
        "\r\n",
        "temp = 15 * u.degC\r\n",
        "\r\n",
        "K = 2\r\n",
        "errorPI = 0.1\r\n",
        "HL = 20 * u.cm\r\n",
        "ID = 1/8 * u.inch\r\n",
        "\r\n",
        "def tubeL(Q, HL,ID,errorPI,K,nu):\r\n",
        "  return ((HL * u.gravity * np.pi * ID ** 4 / (128 * nu * Q)) - (8 * Q * K /(128 * np.pi * nu))).to(u.m)\r\n",
        "\r\n",
        "def V_max(HL,errorPI,K):\r\n",
        "  return (np.sqrt(2 * HL * u.gravity * errorPI/K)).to(u.mm/u.s)\r\n",
        "\r\n",
        "def Q_max(HL,ID, errorPI,K):\r\n",
        "  return (V_max(HL,errorPI,K) * ac.area_circle(ID)).to(u.mL/u.s)\r\n",
        "\r\n",
        "\r\n",
        "def pacl_nu(pacStockC,temp):\r\n",
        "  return (1 + ((2.383 * 10 ** -5) * (pacStockC.to(u.kg/u.m**3)).magnitude ** 1.893)) * ac.viscosity_kinematic_water(temp)\r\n",
        "\r\n",
        "print(\"The target flow of PAC given the standard stock concentration is\",pacQ)\r\n",
        "\r\n",
        "print(\"The tube length to achieve the coagulant flow is\", tubeL(pacQ, HL,ID,errorPI,K,pacl_nu(pacStockC,temp)))\r\n",
        "print(\"The maximum flow for one tube is\", Q_max(HL,ID, errorPI,K))\r\n",
        "print(\"The tube length to achieve the max coagulant flow is\", tubeL(Q_max(HL,ID, errorPI,K), HL,ID,errorPI,K,pacl_nu(pacStockC,temp)))"
      ],
      "execution_count": 25,
      "outputs": [
        {
          "output_type": "stream",
          "text": [
            "The target flow of PAC given the standard stock concentration is 40 milliliter / second\n",
            "The tube length to achieve the coagulant flow is -1.292 meter\n",
            "The maximum flow for one tube is 3.506 milliliter / second\n",
            "The tube length to achieve the max coagulant flow is 1.104 meter\n"
          ],
          "name": "stdout"
        }
      ]
    },
    {
      "cell_type": "markdown",
      "metadata": {
        "id": "0nrbvuUsoqFu"
      },
      "source": [
        "What would happen if we standardized on the length of the dosing tubes? The tube needs to be long enough to meet the error condition for water at the maximum temperature and the maximum head loss."
      ]
    },
    {
      "cell_type": "code",
      "metadata": {
        "id": "TEYuBPckklI6"
      },
      "source": [
        "tubeL = 1.2 * u.m\r\n"
      ],
      "execution_count": null,
      "outputs": []
    }
  ]
}