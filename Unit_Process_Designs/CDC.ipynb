{
  "nbformat": 4,
  "nbformat_minor": 0,
  "metadata": {
    "colab": {
      "name": "CDC.ipynb",
      "provenance": [],
      "authorship_tag": "ABX9TyPnRcKmBZdaiiir4tZq2w3p",
      "include_colab_link": true
    },
    "kernelspec": {
      "name": "python3",
      "display_name": "Python 3"
    }
  },
  "cells": [
    {
      "cell_type": "markdown",
      "metadata": {
        "id": "view-in-github",
        "colab_type": "text"
      },
      "source": [
        "<a href=\"https://colab.research.google.com/github/AguaClara/SWOT/blob/master/Unit_Process_Designs/CDC.ipynb\" target=\"_parent\"><img src=\"https://colab.research.google.com/assets/colab-badge.svg\" alt=\"Open In Colab\"/></a>"
      ]
    },
    {
      "cell_type": "markdown",
      "metadata": {
        "id": "tQ5eBhgVRlXN"
      },
      "source": [
        "# Chemical Dose Controller\r\n",
        "The goal is to define the distinct design strategies required as a function of flow rate for the chemical dose controller. There are expected to be 3 distinct design regions.\r\n",
        "\r\n",
        "Chemical resistance is critical for the design of the components exposed to chlorine. According to [Chemical Resistance of Thermoplastics Piping Materials](https://plasticpipe.org/pdf/tr-19_thermoplastic_pipe_for_transport_of_chemical.pdf), the plastics that are compatible with bleach at 12% active $Cl_2$ at temperatures above 40 $^\\circ C$ are:\r\n",
        "*   CPVC (chlorinated polyvinyl chloride)\r\n",
        "*   PVC (polyvinyl chloride)\r\n",
        "*   PP (polypropylene)\r\n",
        "*   PB (polybutylene)\r\n",
        "\r\n",
        "\r\n",
        "Arrays of multiple tubes each with their own valve are difficult to maintain because each tube needs to be removed in turn to be cleaned. To reduce the time required for cleaning it is preferred that a complete set of tubes be removed together. Thus this design will always have two flow resistors of equal flow that are installed in parallel with only one active at a time. The plant should have a third flow resistor on hand as a spare that can be clean and ready to replace a defective unit at any time.\r\n",
        "\r\n",
        "\r\n",
        "\r\n",
        "\r\n",
        "1.   single dosing tube of 1/8\" ID where the stock solution is varied to obtain a range of maximum chemical mass rates. A spare tube is plumbed and the active tube is selected by valves.\r\n",
        "2.   set of multiple tubes connected via a manifold with one valve at each end for the entire set.\r\n",
        "3.   Pipe full of tubes when the number of tubes becomes unmanageable. \r\n",
        "\r\n"
      ]
    },
    {
      "cell_type": "code",
      "metadata": {
        "id": "fRAVKHmiREp9"
      },
      "source": [
        "!pip install aguaclara"
      ],
      "execution_count": null,
      "outputs": []
    },
    {
      "cell_type": "code",
      "metadata": {
        "id": "Tio60OHMRnPL"
      },
      "source": [
        "from aguaclara.core.units import unit_registry as u\r\n",
        "import aguaclara as ac\r\n",
        "import numpy as np"
      ],
      "execution_count": 3,
      "outputs": []
    },
    {
      "cell_type": "markdown",
      "metadata": {
        "id": "6QPKpRVydYUD"
      },
      "source": [
        "$$L_{Min} = \\left( \\frac{g h_L \\pi D^4}{128 \\nu Q_{Max}} - \\frac{Q_{Max}}{16 \\pi \\nu} \\sum{K} \\right)$$"
      ]
    },
    {
      "cell_type": "code",
      "metadata": {
        "colab": {
          "base_uri": "https://localhost:8080/"
        },
        "id": "KJTPNdQRdcuA",
        "outputId": "b0735ec6-ff70-45de-9302-26a1e95e4666"
      },
      "source": [
        "plantQ = 0.2 * u.L/u.s\r\n",
        "pacDoseC = 40 * u.mg/u.L \r\n",
        "pacStockC = 120 * u.gram/u.L\r\n",
        "pacQ = (plantQ * pacDoseC/pacStockC).to(u.mL/u.s)\r\n",
        "stockTI = 2 * u.day\r\n",
        "temp = 15 * u.degC\r\n",
        "\r\n",
        "K = 4\r\n",
        "errorPI = 0.1\r\n",
        "HL = 10 * u.cm\r\n",
        "ID = 5/32 * u.inch\r\n",
        "\r\n",
        "def ftubeL(Q, HL,ID,errorPI,K,nu):\r\n",
        "  return ((HL * u.gravity * np.pi * ID ** 4 / (128 * nu * Q)) - (8 * Q * K /(128 * np.pi * nu))).to(u.m)\r\n",
        "\r\n",
        "def V_max(HL,errorPI,K):\r\n",
        "  return (np.sqrt(2 * HL * u.gravity * errorPI/K)).to(u.mm/u.s)\r\n",
        "\r\n",
        "def Q_max(HL,ID, errorPI,K):\r\n",
        "  return (V_max(HL,errorPI,K) * ac.area_circle(ID)).to(u.mL/u.s)\r\n",
        "\r\n",
        "\r\n",
        "def pacl_nu(pacStockC,temp):\r\n",
        "  return (1 + ((2.383 * 10 ** -5) * (pacStockC.to(u.kg/u.m**3)).magnitude ** 1.893)) * ac.viscosity_kinematic_water(temp)\r\n",
        "\r\n",
        "print(\"The target flow of PAC given the standard stock concentration is\",pacQ)\r\n",
        "\r\n",
        "print(\"The tube length to achieve the coagulant flow is\", ftubeL(pacQ, HL,ID,errorPI,K,pacl_nu(pacStockC,temp)))\r\n",
        "print(\"The maximum flow for one tube is\", Q_max(HL,ID, errorPI,K))\r\n",
        "print(\"The tube length to achieve the max coagulant flow is\", ftubeL(Q_max(HL,ID, errorPI,K), HL,ID,errorPI,K,pacl_nu(pacStockC,temp)))"
      ],
      "execution_count": 208,
      "outputs": [
        {
          "output_type": "stream",
          "text": [
            "The target flow of PAC given the standard stock concentration is 0.06667 milliliter / second\n",
            "The tube length to achieve the coagulant flow is 65.34 meter\n",
            "The maximum flow for one tube is 2.739 milliliter / second\n",
            "The tube length to achieve the max coagulant flow is 1.431 meter\n"
          ],
          "name": "stdout"
        }
      ]
    },
    {
      "cell_type": "markdown",
      "metadata": {
        "id": "0nrbvuUsoqFu"
      },
      "source": [
        "What would happen if we standardized on the length of the dosing tubes? The tube needs to be long enough to meet the error condition for water at the maximum temperature and the maximum head loss.\r\n",
        "For small plants flow will exceed the target coagulant flow and thus the stock concentration will need to be adjusted. This creates an iterative solution because the viscosity is a function of the stock concentration also.\r\n",
        "\r\n"
      ]
    },
    {
      "cell_type": "code",
      "metadata": {
        "id": "iquBTOeLJdfX"
      },
      "source": [
        "def fpacStockC(plantQ,pacDoseC,pacStockC_max,ID, HL, tubeL0, K,errorPI):\r\n",
        "  error = 1\r\n",
        "  pacStockC = 2*pacStockC_max\r\n",
        "  nu = pacl_nu(pacStockC,temp)\r\n",
        "  tube = 0\r\n",
        "  tubeQprev = (ac.flow_pipe(ID[tube], HL, tubeL0, nu, Roughness=0*u.m, KMinor=K)).to(u.mL/u.s)\r\n",
        "  n = 0\r\n",
        "  tube = 0\r\n",
        "  tubeL = tubeL0\r\n",
        "\r\n",
        "  while pacStockC >= pacStockC_max and n<100:\r\n",
        "    if n >= 3 and tube < len(ID)-1: \r\n",
        "      n = 1\r\n",
        "      tube = tube + 1\r\n",
        "    else:\r\n",
        "      n = n + 1\r\n",
        "    error = 1\r\n",
        "    while error > 0.01:\r\n",
        "      pacStockC = np.minimum((plantQ*pacDoseC/tubeQprev), pacStockC_max)\r\n",
        "      nu = pacl_nu(pacStockC,temp)\r\n",
        "      tubeL_min = np.maximum(ftubeL(Q_max(HL,ID[tube], errorPI,K), HL,ID[tube],errorPI,K,nu),tubeL0)\r\n",
        "      tubeL = ac.ceil_step(tubeL_min, 10 * u.cm)\r\n",
        "      tubeQnew = n*(ac.flow_pipe(ID[tube], HL, tubeL, nu, Roughness=0*u.m, KMinor=K)).to(u.mL/u.s)\r\n",
        "      tubeQprev = tubeQnew\r\n",
        "      \r\n",
        "      error = np.abs((tubeQnew - tubeQprev)/(tubeQnew + tubeQprev))\r\n",
        "    pacStockC = (plantQ*pacDoseC/tubeQprev).to(u.gram/u.L)\r\n",
        "  return tubeQnew, n, ID[tube],tubeL, pacStockC"
      ],
      "execution_count": 222,
      "outputs": []
    },
    {
      "cell_type": "code",
      "metadata": {
        "colab": {
          "base_uri": "https://localhost:8080/"
        },
        "id": "TEYuBPckklI6",
        "outputId": "a24835a8-fd80-4922-9b79-3179f6be3ff6"
      },
      "source": [
        "tubeL0 = 0.5 * u.m\r\n",
        "plantQ = 24 * u.L/u.s\r\n",
        "pacDoseC = 40 * u.mg/u.L \r\n",
        "pacStockC_max = 120 * u.gram/u.L\r\n",
        "stockTI = 2 * u.day\r\n",
        "temp = 15 * u.degC\r\n",
        "K = 4\r\n",
        "errorPI = 0.1\r\n",
        "HL = 20 * u.cm\r\n",
        "ID = np.array([2,3,4])* 1/32 * u.inch\r\n",
        "Qratio = (4/3)**4\r\n",
        "\r\n",
        "\r\n",
        "\r\n",
        "tubeQ, n, myID, tubeL, pacStockC = fpacStockC(plantQ,pacDoseC,pacStockC_max,ID, HL, tubeL0, K,errorPI)\r\n",
        "print(\"The number of tubes is\", n)\r\n",
        "print(\"The PAC stock C is \",pacStockC)\r\n",
        "print(\"The total maximum coagulant flow rate is\",tubeQ)\r\n",
        "print(\"The minimum stock tank volume is\",(tubeQ*stockTI).to(u.L))\r\n",
        "print(\"The tube ID is \", (myID*32/u.inch).magnitude, \"/32 inch\")\r\n",
        "print(\"The tube length is \",tubeL)"
      ],
      "execution_count": 253,
      "outputs": [
        {
          "output_type": "stream",
          "text": [
            "The number of tubes is 4\n",
            "The PAC stock C is  97.09 gram / liter\n",
            "The total maximum coagulant flow rate is 9.888 milliliter / second\n",
            "The minimum stock tank volume is 1709 liter\n",
            "The tube ID is  4.0 /32 inch\n",
            "The tube length is  1.3 meter\n"
          ],
          "name": "stdout"
        }
      ]
    },
    {
      "cell_type": "code",
      "metadata": {
        "id": "lkNXCfVPrJJO"
      },
      "source": [
        ""
      ],
      "execution_count": null,
      "outputs": []
    }
  ]
}