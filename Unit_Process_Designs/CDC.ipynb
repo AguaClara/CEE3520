{
  "nbformat": 4,
  "nbformat_minor": 0,
  "metadata": {
    "colab": {
      "name": "CDC.ipynb",
      "provenance": [],
      "authorship_tag": "ABX9TyNwjvBIfPKX0sVu/dG8GHob",
      "include_colab_link": true
    },
    "kernelspec": {
      "name": "python3",
      "display_name": "Python 3"
    }
  },
  "cells": [
    {
      "cell_type": "markdown",
      "metadata": {
        "id": "view-in-github",
        "colab_type": "text"
      },
      "source": [
        "<a href=\"https://colab.research.google.com/github/AguaClara/SWOT/blob/master/Unit_Process_Designs/CDC.ipynb\" target=\"_parent\"><img src=\"https://colab.research.google.com/assets/colab-badge.svg\" alt=\"Open In Colab\"/></a>"
      ]
    },
    {
      "cell_type": "markdown",
      "metadata": {
        "id": "tQ5eBhgVRlXN"
      },
      "source": [
        "# Chemical Dose Controller\r\n",
        "The goal is to define the distinct design strategies required as a function of flow rate for the chemical dose controller. There are expected to be 3 distinct design regions.\r\n",
        "\r\n",
        "Chemical resistance is critical for the design of the components exposed to chlorine. According to [Chemical Resistance of Thermoplastics Piping Materials](https://plasticpipe.org/pdf/tr-19_thermoplastic_pipe_for_transport_of_chemical.pdf), the plastics that are compatible with bleach at 12% active $Cl_2$ at temperatures above 40 $^\\circ C$ are:\r\n",
        "*   CPVC (chlorinated polyvinyl chloride)\r\n",
        "*   PVC (polyvinyl chloride)\r\n",
        "*   PP (polypropylene)\r\n",
        "*   PB (polybutylene)\r\n",
        "\r\n",
        "\r\n",
        "Arrays of multiple tubes each with their own valve are difficult to maintain because each tube needs to be removed in turn to be cleaned. To reduce the time required for cleaning it is preferred that a complete set of tubes be removed together. Thus this design will always have two flow resistors of equal flow that are installed in parallel with only one active at a time. The plant should have a third flow resistor on hand as a spare that can be clean and ready to replace a defective unit at any time.\r\n",
        "\r\n",
        "\r\n",
        "\r\n",
        "\r\n",
        "1.   single dosing tube of 1/8\" ID where the stock solution is varied to obtain a range of maximum chemical mass rates. A spare tube is plumbed and the active tube is selected by valves.\r\n",
        "2.   set of multiple tubes connected via a manifold with one valve at each end for the entire set.\r\n",
        "3.   Pipe full of tubes when the number of tubes becomes unmanageable. \r\n",
        "\r\n"
      ]
    },
    {
      "cell_type": "code",
      "metadata": {
        "colab": {
          "base_uri": "https://localhost:8080/"
        },
        "id": "fRAVKHmiREp9",
        "outputId": "23a68ffa-82f1-4f3f-c307-ad5d458a1c4b"
      },
      "source": [
        "!pip install aguaclara"
      ],
      "execution_count": 1,
      "outputs": [
        {
          "output_type": "stream",
          "text": [
            "Collecting aguaclara\n",
            "\u001b[?25l  Downloading https://files.pythonhosted.org/packages/d1/b3/a2e9be1f8a58d97a1c8d27327a3d45bdf58a92717ad90008f8e63cdea480/aguaclara-0.2.8.tar.gz (93kB)\n",
            "\u001b[K     |████████████████████████████████| 102kB 3.5MB/s \n",
            "\u001b[?25hRequirement already satisfied: matplotlib in /usr/local/lib/python3.6/dist-packages (from aguaclara) (3.2.2)\n",
            "Requirement already satisfied: urllib3 in /usr/local/lib/python3.6/dist-packages (from aguaclara) (1.24.3)\n",
            "Collecting pint\n",
            "\u001b[?25l  Downloading https://files.pythonhosted.org/packages/5f/0e/dd4fb17aed6bfbc168fd767cffb6ec20b634009b75fd8ea699ea244bff3c/Pint-0.16.1-py2.py3-none-any.whl (205kB)\n",
            "\u001b[K     |████████████████████████████████| 215kB 20.6MB/s \n",
            "\u001b[?25hRequirement already satisfied: pandas in /usr/local/lib/python3.6/dist-packages (from aguaclara) (1.1.5)\n",
            "Requirement already satisfied: scipy in /usr/local/lib/python3.6/dist-packages (from aguaclara) (1.4.1)\n",
            "Collecting onshape_client\n",
            "\u001b[?25l  Downloading https://files.pythonhosted.org/packages/e7/e4/687bad02d5f0b04d507e029b7728269706c51c5caf1280223e423a2ac05a/onshape_client-1.6.3-py3-none-any.whl (2.1MB)\n",
            "\u001b[K     |████████████████████████████████| 2.1MB 39.4MB/s \n",
            "\u001b[?25hRequirement already satisfied: kiwisolver>=1.0.1 in /usr/local/lib/python3.6/dist-packages (from matplotlib->aguaclara) (1.3.1)\n",
            "Requirement already satisfied: numpy>=1.11 in /usr/local/lib/python3.6/dist-packages (from matplotlib->aguaclara) (1.19.4)\n",
            "Requirement already satisfied: pyparsing!=2.0.4,!=2.1.2,!=2.1.6,>=2.0.1 in /usr/local/lib/python3.6/dist-packages (from matplotlib->aguaclara) (2.4.7)\n",
            "Requirement already satisfied: cycler>=0.10 in /usr/local/lib/python3.6/dist-packages (from matplotlib->aguaclara) (0.10.0)\n",
            "Requirement already satisfied: python-dateutil>=2.1 in /usr/local/lib/python3.6/dist-packages (from matplotlib->aguaclara) (2.8.1)\n",
            "Requirement already satisfied: packaging in /usr/local/lib/python3.6/dist-packages (from pint->aguaclara) (20.8)\n",
            "Requirement already satisfied: importlib-metadata; python_version < \"3.8\" in /usr/local/lib/python3.6/dist-packages (from pint->aguaclara) (3.3.0)\n",
            "Requirement already satisfied: importlib-resources; python_version < \"3.7\" in /usr/local/lib/python3.6/dist-packages (from pint->aguaclara) (3.3.0)\n",
            "Requirement already satisfied: pytz>=2017.2 in /usr/local/lib/python3.6/dist-packages (from pandas->aguaclara) (2018.9)\n",
            "Collecting nulltype\n",
            "  Downloading https://files.pythonhosted.org/packages/00/0f/47dde1a3cceac9858da0bfb92d2279bf5f993ed075b72983e92efc297db3/nulltype-2.3.1-py2.py3-none-any.whl\n",
            "Requirement already satisfied: certifi>=2017.4.17 in /usr/local/lib/python3.6/dist-packages (from onshape_client->aguaclara) (2020.12.5)\n",
            "Requirement already satisfied: six>=1.10 in /usr/local/lib/python3.6/dist-packages (from onshape_client->aguaclara) (1.15.0)\n",
            "Requirement already satisfied: requests-oauthlib in /usr/local/lib/python3.6/dist-packages (from onshape_client->aguaclara) (1.3.0)\n",
            "Collecting ruamel.yaml\n",
            "\u001b[?25l  Downloading https://files.pythonhosted.org/packages/7e/39/186f14f3836ac5d2a6a042c8de69988770e8b9abb537610edc429e4914aa/ruamel.yaml-0.16.12-py2.py3-none-any.whl (111kB)\n",
            "\u001b[K     |████████████████████████████████| 112kB 48.1MB/s \n",
            "\u001b[?25hRequirement already satisfied: typing-extensions>=3.6.4; python_version < \"3.8\" in /usr/local/lib/python3.6/dist-packages (from importlib-metadata; python_version < \"3.8\"->pint->aguaclara) (3.7.4.3)\n",
            "Requirement already satisfied: zipp>=0.5 in /usr/local/lib/python3.6/dist-packages (from importlib-metadata; python_version < \"3.8\"->pint->aguaclara) (3.4.0)\n",
            "Requirement already satisfied: oauthlib>=3.0.0 in /usr/local/lib/python3.6/dist-packages (from requests-oauthlib->onshape_client->aguaclara) (3.1.0)\n",
            "Requirement already satisfied: requests>=2.0.0 in /usr/local/lib/python3.6/dist-packages (from requests-oauthlib->onshape_client->aguaclara) (2.23.0)\n",
            "Collecting ruamel.yaml.clib>=0.1.2; platform_python_implementation == \"CPython\" and python_version < \"3.9\"\n",
            "\u001b[?25l  Downloading https://files.pythonhosted.org/packages/88/ff/ec25dc01ef04232a9e68ff18492e37dfa01f1f58172e702ad4f38536d41b/ruamel.yaml.clib-0.2.2-cp36-cp36m-manylinux1_x86_64.whl (549kB)\n",
            "\u001b[K     |████████████████████████████████| 552kB 45.4MB/s \n",
            "\u001b[?25hRequirement already satisfied: chardet<4,>=3.0.2 in /usr/local/lib/python3.6/dist-packages (from requests>=2.0.0->requests-oauthlib->onshape_client->aguaclara) (3.0.4)\n",
            "Requirement already satisfied: idna<3,>=2.5 in /usr/local/lib/python3.6/dist-packages (from requests>=2.0.0->requests-oauthlib->onshape_client->aguaclara) (2.10)\n",
            "Building wheels for collected packages: aguaclara\n",
            "  Building wheel for aguaclara (setup.py) ... \u001b[?25l\u001b[?25hdone\n",
            "  Created wheel for aguaclara: filename=aguaclara-0.2.8-cp36-none-any.whl size=106382 sha256=45e6c1dc43ee467e8c1e015ea7d8255918896c3401af825c68114d1aa68bf3a0\n",
            "  Stored in directory: /root/.cache/pip/wheels/74/5a/8d/8668ea7f0d5d53882c71001c780aea73ec71d7f236a8958cdf\n",
            "Successfully built aguaclara\n",
            "Installing collected packages: pint, nulltype, ruamel.yaml.clib, ruamel.yaml, onshape-client, aguaclara\n",
            "Successfully installed aguaclara-0.2.8 nulltype-2.3.1 onshape-client-1.6.3 pint-0.16.1 ruamel.yaml-0.16.12 ruamel.yaml.clib-0.2.2\n"
          ],
          "name": "stdout"
        }
      ]
    },
    {
      "cell_type": "code",
      "metadata": {
        "id": "Tio60OHMRnPL"
      },
      "source": [
        "from aguaclara.core.units import unit_registry as u\r\n",
        "import aguaclara as ac\r\n",
        "import numpy as np\r\n",
        "import matplotlib.pyplot as plt\r\n",
        "import matplotlib.ticker as ticker"
      ],
      "execution_count": 30,
      "outputs": []
    },
    {
      "cell_type": "markdown",
      "metadata": {
        "id": "6QPKpRVydYUD"
      },
      "source": [
        "$$L_{Min} = \\left( \\frac{g h_L \\pi D^4}{128 \\nu Q_{Max}} - \\frac{Q_{Max}}{16 \\pi \\nu} \\sum{K} \\right)$$\r\n",
        "\r\n",
        "$$\\nu_{Alum} = \\left[ 1 + 4.225 \\times {10}^{-6}{\\left( \\frac{C_{Alum}}{\\frac{kg}{m^3}} \\right)}^{2.289} \\right] \\nu_{{H_2}O}$$\r\n",
        "\r\n",
        "$$nu_{PACl} = \\left[ 1 + 2.383 \\times {10}^{-5}\\left(\\frac{C_{PACl}}{\\frac{kg}{m^3}} \\right)^{1.893} \\right] \\nu_{{H_2}O}$$"
      ]
    },
    {
      "cell_type": "code",
      "metadata": {
        "colab": {
          "base_uri": "https://localhost:8080/"
        },
        "id": "KJTPNdQRdcuA",
        "outputId": "38ea6815-fbb2-4d9b-8449-cfd98163f865"
      },
      "source": [
        "plantQ = 0.2 * u.L/u.s\r\n",
        "pacDoseC = 40 * u.mg/u.L \r\n",
        "pacStockC = 120 * u.gram/u.L\r\n",
        "pacQ = (plantQ * pacDoseC/pacStockC).to(u.mL/u.s)\r\n",
        "stockTI = 2 * u.day\r\n",
        "temp = 15 * u.degC\r\n",
        "\r\n",
        "K = 4\r\n",
        "errorPI = 0.1\r\n",
        "HL = 10 * u.cm\r\n",
        "ID = 5/32 * u.inch\r\n",
        "\r\n",
        "def ftubeL(Q, HL,ID,errorPI,K,nu):\r\n",
        "  return ((HL * u.gravity * np.pi * ID ** 4 / (128 * nu * Q)) - (8 * Q * K /(128 * np.pi * nu))).to(u.m)\r\n",
        "\r\n",
        "def V_max(HL,errorPI,K):\r\n",
        "  return (np.sqrt(2 * HL * u.gravity * errorPI/K)).to(u.mm/u.s)\r\n",
        "\r\n",
        "def Q_max(HL,ID, errorPI,K):\r\n",
        "  return (V_max(HL,errorPI,K) * ac.area_circle(ID)).to(u.mL/u.s)\r\n",
        "\r\n",
        "\r\n",
        "def pacl_nu(chemC,temp):\r\n",
        "  return (1 + ((2.383 * 10 ** -5) * (chemC.to(u.kg/u.m**3)).magnitude ** 1.893)) * ac.viscosity_kinematic_water(temp)\r\n",
        "\r\n",
        "def alum_nu(chemC,temp):\r\n",
        "  return (1 + ((4.225 * 10 ** -6) * (chemC.to(u.kg/u.m**3)).magnitude ** 2.289)) * ac.viscosity_kinematic_water(temp)\r\n",
        "\r\n",
        "def chem_nu(chemC,temp,chem):\r\n",
        "  if chem.lower() == \"pacl\":\r\n",
        "    nu = pacl_nu(chemC,temp)\r\n",
        "  elif chem.lower() == \"alum\":\r\n",
        "    nu = alum_nu(chemC,temp)\r\n",
        "  elif chem.lower() == \"chlorine\":\r\n",
        "    nu = ac.viscosity_dynamic_water(temp)\r\n",
        "  else:\r\n",
        "    nu = ac.viscosity_dynamic_water(temp)\r\n",
        "  return nu\r\n",
        "\r\n",
        "\r\n",
        "print(\"The target flow of PAC given the standard stock concentration is\",pacQ)\r\n",
        "\r\n",
        "print(\"The tube length to achieve the coagulant flow is\", ftubeL(pacQ, HL,ID,errorPI,K,pacl_nu(pacStockC,temp)))\r\n",
        "print(\"The maximum flow for one tube is\", Q_max(HL,ID, errorPI,K))\r\n",
        "print(\"The tube length to achieve the max coagulant flow is\", ftubeL(Q_max(HL,ID, errorPI,K), HL,ID,errorPI,K,pacl_nu(pacStockC,temp)))"
      ],
      "execution_count": 18,
      "outputs": [
        {
          "output_type": "stream",
          "text": [
            "The target flow of PAC given the standard stock concentration is 0.06667 milliliter / second\n",
            "The tube length to achieve the coagulant flow is 65.34 meter\n",
            "The maximum flow for one tube is 2.739 milliliter / second\n",
            "The tube length to achieve the max coagulant flow is 1.431 meter\n"
          ],
          "name": "stdout"
        }
      ]
    },
    {
      "cell_type": "markdown",
      "metadata": {
        "id": "0nrbvuUsoqFu"
      },
      "source": [
        "What would happen if we standardized on the length of the dosing tubes? The tube needs to be long enough to meet the error condition for water at the maximum temperature and the maximum head loss.\r\n",
        "For small plants flow will exceed the target coagulant flow and thus the stock concentration will need to be adjusted. This creates an iterative solution because the viscosity is a function of the stock concentration also.\r\n",
        "\r\n"
      ]
    },
    {
      "cell_type": "code",
      "metadata": {
        "id": "iquBTOeLJdfX"
      },
      "source": [
        "\r\n",
        "\r\n",
        "def dosingTubesStock(plantQ,chemDoseC,chemStockC_max,ID, HL, tubeL0, K,errorPI, chem):\r\n",
        "  error = 1\r\n",
        "  chemStockC = 2*chemStockC_max\r\n",
        "  nu = chem_nu(chemDoseC,temp,chem)    \r\n",
        "  tube = 0\r\n",
        "  tubeQprev = (ac.flow_pipe(ID[tube], HL, tubeL0, nu, Roughness=0*u.m, KMinor=K)).to(u.mL/u.s)\r\n",
        "  n = 0\r\n",
        "  tube = 0\r\n",
        "  tubeL = tubeL0\r\n",
        "\r\n",
        "  while chemStockC >= chemStockC_max and n<100:\r\n",
        "    if tube < len(ID)-1:\r\n",
        "      tubeN_max = np.floor((ID[tube+1]/ID[tube])**4)-1\r\n",
        "    if n >= tubeN_max and tube < len(ID)-1: \r\n",
        "      n = 1\r\n",
        "      tube = tube + 1\r\n",
        "    else:\r\n",
        "      n = n + 1\r\n",
        "    error = 1\r\n",
        "    while error > 0.01:\r\n",
        "      chemStockC = np.minimum((plantQ*chemDoseC/tubeQprev), chemStockC_max)\r\n",
        "      nu = chem_nu(chemDoseC,temp,chem)\r\n",
        "      tubeL_min = np.maximum(ftubeL(Q_max(HL,ID[tube], errorPI,K), HL,ID[tube],errorPI,K,nu),tubeL0)\r\n",
        "      tubeL = ac.ceil_step(tubeL_min, 10 * u.cm)\r\n",
        "      tubeQnew = n*(ac.flow_pipe(ID[tube], HL, tubeL, nu, Roughness=0*u.m, KMinor=K)).to(u.mL/u.s)\r\n",
        "      tubeQprev = tubeQnew\r\n",
        "      \r\n",
        "      error = np.abs((tubeQnew - tubeQprev)/(tubeQnew + tubeQprev))\r\n",
        "    chemStockC = (plantQ*chemDoseC/tubeQprev).to(u.gram/u.L)\r\n",
        "  return tubeQnew/n, n, ID[tube],tubeL, chemStockC"
      ],
      "execution_count": 38,
      "outputs": []
    },
    {
      "cell_type": "code",
      "metadata": {
        "colab": {
          "base_uri": "https://localhost:8080/"
        },
        "id": "TEYuBPckklI6",
        "outputId": "fcc10acb-268f-42b0-9763-3e9e3d113549"
      },
      "source": [
        "tubeL0 = 0.5 * u.m\r\n",
        "plantQ = 0.6 * u.L/u.s\r\n",
        "pacDoseC = 40 * u.mg/u.L \r\n",
        "pacStockC_max = 120 * u.gram/u.L\r\n",
        "stockTI = 2 * u.day\r\n",
        "temp = 15 * u.degC\r\n",
        "K = 4\r\n",
        "errorPI = 0.1\r\n",
        "HL = 20 * u.cm\r\n",
        "ID = np.array([2,3,4])* 1/32 * u.inch\r\n",
        "Qratio = (4/3)**4\r\n",
        "chem = \"PACl\"\r\n",
        "\r\n",
        "\r\n",
        "tubeQ, n, myID, tubeL, pacStockC = dosingTubesStock(plantQ,pacDoseC,pacStockC_max,ID, HL, tubeL0, K,errorPI,chem)\r\n",
        "print(\"The number of tubes is\", n)\r\n",
        "print(\"The PAC stock C is \",pacStockC)\r\n",
        "print(\"The maximum coagulant flow rate per tube is\",tubeQ)\r\n",
        "print(\"The minimum stock tank volume is\",(tubeQ*stockTI).to(u.L))\r\n",
        "print(\"The tube ID is \", (myID*32/u.inch).magnitude, \"/32 inch\")\r\n",
        "print(\"The tube length is \",tubeL)"
      ],
      "execution_count": 39,
      "outputs": [
        {
          "output_type": "stream",
          "text": [
            "The number of tubes is 1\n",
            "The PAC stock C is  47.75 gram / liter\n",
            "The maximum coagulant flow rate per tube is 0.5026 milliliter / second\n",
            "The minimum stock tank volume is 86.85 liter\n",
            "The tube ID is  2.0 /32 inch\n",
            "The tube length is  0.5 meter\n"
          ],
          "name": "stdout"
        }
      ]
    },
    {
      "cell_type": "code",
      "metadata": {
        "colab": {
          "base_uri": "https://localhost:8080/",
          "height": 323
        },
        "id": "lkNXCfVPrJJO",
        "outputId": "ac42315f-73cd-4549-d0b8-3308edc7cfca"
      },
      "source": [
        "elements = 50\r\n",
        "graphQ = np.logspace(-1,2,elements) * u.L/u.s\r\n",
        "ID = np.array([2,3,4])* 1/32 * u.inch\r\n",
        "IDa = np.empty(elements) * u.mm\r\n",
        "tubeQa = np.empty(elements) * u.mL/u.s\r\n",
        "na = np.empty(elements)\r\n",
        "tubeLa = np.empty(elements) * u.cm\r\n",
        "pacStockCa = np.empty(elements) * u.gram/u.L\r\n",
        "\r\n",
        "for i in range(elements):\r\n",
        "  tubeQa[i], na[i], IDa[i], tubeLa[i], pacStockCa[i] = dosingTubesStock(graphQ[i],pacDoseC,pacStockC_max,ID, HL, tubeL0, K,errorPI,chem)\r\n",
        "\r\n",
        "\r\n",
        "plt.plot(graphQ,IDa)\r\n",
        "plt.xscale(\"log\")\r\n",
        "plt.yscale(\"log\")\r\n",
        "# plt.legend(['Brownian','Interception','Gravity','Total'])\r\n",
        "# plt.ylim(ymin=0.1,ymax=20)\r\n",
        "# plt.xlim(xmin=0.1,xmax=50)\r\n",
        "plt.grid(which='both',axis='both')\r\n",
        "plt.ylabel('tube diameter')\r\n",
        "plt.xlabel(r'Plant flow rate ($\\frac{L}{s}$)')\r\n",
        "plt.gca().yaxis.set_major_formatter(ticker.StrMethodFormatter(\"{x}\"))\r\n",
        "plt.gca().xaxis.set_major_formatter(ticker.StrMethodFormatter(\"{x}\"))\r\n",
        "plt.show()"
      ],
      "execution_count": 42,
      "outputs": [
        {
          "output_type": "stream",
          "text": [
            "/usr/local/lib/python3.6/dist-packages/numpy/core/_asarray.py:83: UnitStrippedWarning: The unit of the quantity is stripped when downcasting to ndarray.\n",
            "  return array(a, dtype, copy=False, order=order)\n"
          ],
          "name": "stderr"
        },
        {
          "output_type": "display_data",
          "data": {
            "image/png": "[encoded data removed]",
            "text/plain": [
              "<Figure size 432x288 with 1 Axes>"
            ]
          },
          "metadata": {
            "tags": [],
            "needs_background": "light"
          }
        }
      ]
    },
    {
      "cell_type": "code",
      "metadata": {
        "id": "kS0EbaIL_w3T"
      },
      "source": [
        ""
      ],
      "execution_count": null,
      "outputs": []
    }
  ]
}