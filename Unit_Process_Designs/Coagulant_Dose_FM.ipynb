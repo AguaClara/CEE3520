{
  "nbformat": 4,
  "nbformat_minor": 0,
  "metadata": {
    "colab": {
      "name": "Coagulant_Dose_FM.ipynb",
      "provenance": [],
      "include_colab_link": true
    },
    "kernelspec": {
      "name": "python3",
      "display_name": "Python 3"
    }
  },
  "cells": [
    {
      "cell_type": "markdown",
      "metadata": {
        "id": "view-in-github",
        "colab_type": "text"
      },
      "source": [
        "<a href=\"https://colab.research.google.com/github/AguaClara/CEE4520/blob/master/Unit_Process_Designs/Coagulant_Dose_FM.ipynb\" target=\"_parent\"><img src=\"https://colab.research.google.com/assets/colab-badge.svg\" alt=\"Open In Colab\"/></a>"
      ]
    },
    {
      "cell_type": "markdown",
      "metadata": {
        "id": "b2v76-8Zdczr",
        "colab_type": "text"
      },
      "source": [
        "# Coagulant Dose Estimator\n",
        "\n",
        "The goal is to estimate a reasonable coagulant dose given the raw water turbidity and apparent color. \n",
        "\n",
        "Apparent color is corrected for false color caused by turbidity using a relationship that was obtained from analysis in the Gracias water treatment plant laboratory. Raw water turbidity multiplied by 7.5 yields the false color.\n",
        "\n",
        "True color is then converted to Total Organic Carbon using the table below from:\n",
        "\n",
        "[Natural Organic Matter in Drinking Water: Recommendations to Water Utilities\n",
        "By Billy H. Kornegay, Keith J. Kornegay, Evelyn Torres, AWWA Research Foundation](https://books.google.com/books?id=rVb-EL1OBToC&pg=PA75&lpg=PA75&dq=correlation+between+color+and+TOC&source=bl&ots=uxnFvEMRdZ&sig=ACfU3U08cWlzkKiRQvgEy5dk15IQv12TEA&hl=en&sa=X&ved=2ahUKEwjappGSsZjqAhXCSt8KHciyBukQ6AEwA3oECAgQAQ#v=onepage&q&f=false)\n",
        "\n",
        "![alt text](https://github.com/AguaClara/CEE4520/raw/master/Unit_Process_Designs/images/Color-TOC-alum_table.PNG)\n",
        "\n",
        "Color is converted to TOC using a factor of 7.73. The only Natural Organic Matter that we have characterized for coagulant demand is humic acid. We quantified the humic acid based on total dry mass. Organic matter is about 50 % carbon and thus to get the total dry mass we multiply the TOC by 2."
      ]
    },
    {
      "cell_type": "code",
      "metadata": {
        "id": "rPeCkVXldHKE",
        "colab_type": "code",
        "colab": {
          "base_uri": "https://localhost:8080/",
          "height": 493
        },
        "outputId": "b3db78b9-fa4d-4feb-a945-93dbac596f76"
      },
      "source": [
        "!pip install aguaclara"
      ],
      "execution_count": 2,
      "outputs": [
        {
          "output_type": "stream",
          "text": [
            "Collecting aguaclara\n",
            "\u001b[?25l  Downloading https://files.pythonhosted.org/packages/3e/e4/e279846ebb49e2fb6b8b55edad28b66b4ed281480b8ec683b06e123472e0/aguaclara-0.2.4.tar.gz (87kB)\n",
            "\r\u001b[K     |███▊                            | 10kB 15.9MB/s eta 0:00:01\r\u001b[K     |███████▌                        | 20kB 2.2MB/s eta 0:00:01\r\u001b[K     |███████████▎                    | 30kB 2.8MB/s eta 0:00:01\r\u001b[K     |███████████████                 | 40kB 3.1MB/s eta 0:00:01\r\u001b[K     |██████████████████▊             | 51kB 2.5MB/s eta 0:00:01\r\u001b[K     |██████████████████████▌         | 61kB 2.7MB/s eta 0:00:01\r\u001b[K     |██████████████████████████▎     | 71kB 3.0MB/s eta 0:00:01\r\u001b[K     |██████████████████████████████  | 81kB 3.4MB/s eta 0:00:01\r\u001b[K     |████████████████████████████████| 92kB 2.7MB/s \n",
            "\u001b[?25hRequirement already satisfied: matplotlib in /usr/local/lib/python3.6/dist-packages (from aguaclara) (3.2.2)\n",
            "Requirement already satisfied: urllib3 in /usr/local/lib/python3.6/dist-packages (from aguaclara) (1.24.3)\n",
            "Collecting pint\n",
            "\u001b[?25l  Downloading https://files.pythonhosted.org/packages/7f/72/4ea7d219a2d6624fd22c3d8fd5eea183af4f5ece03e3a4726c1c864bb213/Pint-0.15-py2.py3-none-any.whl (200kB)\n",
            "\u001b[K     |████████████████████████████████| 204kB 8.3MB/s \n",
            "\u001b[?25hRequirement already satisfied: pandas in /usr/local/lib/python3.6/dist-packages (from aguaclara) (1.0.5)\n",
            "Requirement already satisfied: scipy in /usr/local/lib/python3.6/dist-packages (from aguaclara) (1.4.1)\n",
            "Requirement already satisfied: kiwisolver>=1.0.1 in /usr/local/lib/python3.6/dist-packages (from matplotlib->aguaclara) (1.2.0)\n",
            "Requirement already satisfied: cycler>=0.10 in /usr/local/lib/python3.6/dist-packages (from matplotlib->aguaclara) (0.10.0)\n",
            "Requirement already satisfied: numpy>=1.11 in /usr/local/lib/python3.6/dist-packages (from matplotlib->aguaclara) (1.18.5)\n",
            "Requirement already satisfied: pyparsing!=2.0.4,!=2.1.2,!=2.1.6,>=2.0.1 in /usr/local/lib/python3.6/dist-packages (from matplotlib->aguaclara) (2.4.7)\n",
            "Requirement already satisfied: python-dateutil>=2.1 in /usr/local/lib/python3.6/dist-packages (from matplotlib->aguaclara) (2.8.1)\n",
            "Requirement already satisfied: importlib-metadata; python_version < \"3.8\" in /usr/local/lib/python3.6/dist-packages (from pint->aguaclara) (1.7.0)\n",
            "Requirement already satisfied: setuptools in /usr/local/lib/python3.6/dist-packages (from pint->aguaclara) (49.6.0)\n",
            "Requirement already satisfied: packaging in /usr/local/lib/python3.6/dist-packages (from pint->aguaclara) (20.4)\n",
            "Requirement already satisfied: pytz>=2017.2 in /usr/local/lib/python3.6/dist-packages (from pandas->aguaclara) (2018.9)\n",
            "Requirement already satisfied: six in /usr/local/lib/python3.6/dist-packages (from cycler>=0.10->matplotlib->aguaclara) (1.15.0)\n",
            "Requirement already satisfied: zipp>=0.5 in /usr/local/lib/python3.6/dist-packages (from importlib-metadata; python_version < \"3.8\"->pint->aguaclara) (3.1.0)\n",
            "Building wheels for collected packages: aguaclara\n",
            "  Building wheel for aguaclara (setup.py) ... \u001b[?25l\u001b[?25hdone\n",
            "  Created wheel for aguaclara: filename=aguaclara-0.2.4-cp36-none-any.whl size=99459 sha256=1ae77d523d8ba8dd17255ccce81ad3bdcf87742fbc0cf1f0fbef63ed52b1c134\n",
            "  Stored in directory: /root/.cache/pip/wheels/13/8f/96/21ca9dd731bb0b86c16855c39ce375604b9a745f3ed388ac51\n",
            "Successfully built aguaclara\n",
            "Installing collected packages: pint, aguaclara\n",
            "Successfully installed aguaclara-0.2.4 pint-0.15\n"
          ],
          "name": "stdout"
        }
      ]
    },
    {
      "cell_type": "code",
      "metadata": {
        "id": "dGfttqyjdcT1",
        "colab_type": "code",
        "colab": {}
      },
      "source": [
        "##import\n",
        "import aguaclara as ac\n",
        "from aguaclara.core.units import unit_registry as u\n",
        "import numpy as np\n",
        "import matplotlib.pyplot as plt\n",
        "from scipy.optimize import fsolve \n",
        "\n"
      ],
      "execution_count": 3,
      "outputs": []
    },
    {
      "cell_type": "markdown",
      "metadata": {
        "id": "y0MBAOJYWh_m",
        "colab_type": "text"
      },
      "source": [
        "# Natural organic matter diameter estimation based on molecular weight\n",
        "\n",
        "[Fulvic acid](https://pubchem.ncbi.nlm.nih.gov/compound/Fulvic-acid) molecular weight is 308.24.\n",
        "The density of organic matter [The density of humic acids and humic like substances (HULIS) from fresh and aged wood burning and pollution aerosol particles](https://www.atmos-chem-phys.net/6/5213/2006/acp-6-5213-2006.pdf) is about 1.5 m/mL.\n",
        "\n",
        "The fulvic binding to PACl is given by this stoichiometry from [Chemical aspects of coagulation using aluminum salts—II. coagulation of fulvic acid using alum and polyaluminum chloride](https://doi.org/10.1016/0043-1354(90)90087-M)\n",
        "\n",
        "$$Al(OH)_{2.8}FA_{0.63}$$\n",
        "\n",
        "[Size and Charge Evaluation of Standard Humic and Fulvic Acids as Crucial Factors to Determine Their Environmental Behavior and Impact](10.3389/fchem.2018.00235) shows that humic acid has a peak at about 70 nm for a size distribution by number and that fulvic acid has a peak around 250 nm. This suggests that fulvic acid would take less coagulant than humic acid. It also suggest that the individual molecules of fulvic acid aren't being adsorbed by PACl nanoparticles. Thus modeling humic acid based on its molecular weight and coverage of the coagulant nanoparticles is incorrect.\n",
        "\n",
        "Therefore given a concentration of fulvic acid, the concentration of Al would be the \n",
        "\n",
        "$$ vol = \\frac{\\pi}{6}d^3$$\n",
        "\n",
        "$$d = \\left(\\frac{6 vol}{\\pi}\\right)^{\\frac{1}{3}}$$"
      ]
    },
    {
      "cell_type": "code",
      "metadata": {
        "id": "DglANEU2bhgR",
        "colab_type": "code",
        "colab": {
          "base_uri": "https://localhost:8080/",
          "height": 34
        },
        "outputId": "8cd553d8-6bc9-4886-db11-ec680cbfa073"
      },
      "source": [
        "fulvic_MW = 308.24 * u.g / u.mol\n",
        "fulvic_mass_per_molecule = (fulvic_MW * u.mol /u.avogadro_number).to(u.ng)\n",
        "fulvic_density = 1.5 * u.g/u.mL\n",
        "fulvic_volume = fulvic_mass_per_molecule / fulvic_density\n",
        "fulvic_diameter = ((6*fulvic_volume/np.pi)**(1/3)).to(u.nm)\n",
        "print(fulvic_diameter)"
      ],
      "execution_count": 4,
      "outputs": [
        {
          "output_type": "stream",
          "text": [
            "0.867 nanometer\n"
          ],
          "name": "stdout"
        }
      ]
    },
    {
      "cell_type": "code",
      "metadata": {
        "id": "tkOJWy6LWdlH",
        "colab_type": "code",
        "colab": {}
      },
      "source": [
        "## constants & variables for floc model\n",
        "DiamTube = 4 * u.inch\n",
        "Temp = 10 * u.degC\n",
        "Time = 4 * u.min\n",
        "EnergyDis = 40 * u.cm * u.gravity / Time\n",
        "NatOrgMat = ac.HumicAcid\n",
        "material = ac.Clay\n",
        "coag = ac.PACl\n",
        "FittingParam = 0.13\n",
        "RatioHeightDiameter = 0.2"
      ],
      "execution_count": 5,
      "outputs": []
    },
    {
      "cell_type": "code",
      "metadata": {
        "id": "5NUg212EeQw5",
        "colab_type": "code",
        "colab": {
          "base_uri": "https://localhost:8080/",
          "height": 459
        },
        "outputId": "b6dd2f08-c4a9-4423-8ca1-bf04e090f1b0"
      },
      "source": [
        "Raw_Turbidity = 20 * u.NTU\n",
        "Color = 200\n",
        "Target_Turbidity = 5 * u.NTU\n",
        "\n",
        "\n",
        "\n",
        "True_Color = Color - Raw_Turbidity*7.5/(u.NTU)\n",
        "TOC = True_Color / 7.8 * u.mg/u.L\n",
        "ConcNatOrgMat = TOC*2\n",
        "\n",
        "print('The concentration of organic matter is estimated to be', ConcNatOrgMat)\n",
        "\n",
        "molarity_fulvic = (ConcNatOrgMat/fulvic_MW).to(u.mol/u.L)\n",
        "Stoich_Al_conc = (molarity_fulvic /0.63 * 27 * u.g/u.mol).to(u.mg/u.L)\n",
        "ConcAl = np.linspace(1,20) * u.mg/u.L\n",
        "#define a possible organic molecule that makes the water yellow. The molecular weight is bogus and isn't used.\n",
        "humic = ac.Material('humic',36*u.nm,900 * u.kg/u.m**3,fulvic_MW)\n",
        "fulvic_tiny = ac.Material('fulvic',fulvic_diameter,fulvic_density,fulvic_MW)\n",
        "fulvic = ac.Material('fulvic',90 * u.nm,fulvic_density,fulvic_MW)\n",
        "\n",
        "Eff_Turbidity_humic = (ac.invp(ac.pc_viscous(EnergyDis, Temp, Time, DiamTube, Raw_Turbidity, ConcAl, ConcNatOrgMat, humic, coag, material, FittingParam, RatioHeightDiameter)) * Raw_Turbidity)\n",
        "Eff_Turbidity_fulvic_tiny = (ac.invp(ac.pc_viscous(EnergyDis, Temp, Time, DiamTube, Raw_Turbidity, ConcAl, ConcNatOrgMat, fulvic_tiny, coag, material, FittingParam, RatioHeightDiameter)) * Raw_Turbidity)\n",
        "Eff_Turbidity_fulvic = (ac.invp(ac.pc_viscous(EnergyDis, Temp, Time, DiamTube, Raw_Turbidity, ConcAl, ConcNatOrgMat, fulvic, coag, material, FittingParam, RatioHeightDiameter)) * Raw_Turbidity)\n",
        "\n",
        "# reverse the arrays so that the y array is ascending\n",
        "Al_Dose_humic = np.interp(Target_Turbidity, Eff_Turbidity_humic[::-1], ConcAl[::-1])\n",
        "print('The coagulant dose as aluminum for humic organics is',Al_Dose_humic,'or approximately',3*Al_Dose_humic,'as PACl.')\n",
        "Al_Dose_fulvic_tiny = np.interp(Target_Turbidity, Eff_Turbidity_fulvic_tiny[::-1], ConcAl[::-1])\n",
        "print('The coagulant dose as aluminum for fulvic acid given 1 nm particles is',Al_Dose_fulvic_tiny,'or approximately',3*Al_Dose_fulvic_tiny,'as PACl.')\n",
        "Al_Dose_fulvic = np.interp(Target_Turbidity, Eff_Turbidity_fulvic[::-1], ConcAl[::-1])\n",
        "print('The coagulant dose as aluminum for fulvic acid is',Al_Dose_fulvic,'or approximately',3*Al_Dose_fulvic,'as PACl.')\n",
        "print('The coagulant dose as aluminum for fulvic acid based on stoichiometry is',Stoich_Al_conc,'or approximately',3*Stoich_Al_conc,'as PACl.')\n",
        "plt.plot(ConcAl,Eff_Turbidity_humic);\n",
        "plt.plot(ConcAl,Eff_Turbidity_fulvic);\n",
        "plt.xlabel(r'Coagulant dose as Al $\\left(\\frac{mg}{L}\\right)$');\n",
        "plt.ylabel('Settled water turbidity (NTU)');\n",
        "plt.plot(Al_Dose_humic,Target_Turbidity,'ro');\n",
        "plt.plot(Al_Dose_fulvic,Target_Turbidity,'go');\n",
        "plt.plot(Stoich_Al_conc,Target_Turbidity,'ko');\n",
        "plt.legend(['humic','fulvic','humic','fulvic','fulvic stoichiometry'])\n",
        "plt.show"
      ],
      "execution_count": 9,
      "outputs": [
        {
          "output_type": "stream",
          "text": [
            "The concentration of organic matter is estimated to be 12.82 milligram / liter\n",
            "The coagulant dose as aluminum for humic organics is 4.499 milligram / liter or approximately 13.5 milligram / liter as PACl.\n",
            "The coagulant dose as aluminum for fulvic acid given 1 nm particles is 20 milligram / liter or approximately 60 milligram / liter as PACl.\n",
            "The coagulant dose as aluminum for fulvic acid is 1.303 milligram / liter or approximately 3.908 milligram / liter as PACl.\n",
            "The coagulant dose as aluminum for fulvic acid based on stoichiometry is 1.783 milligram / liter or approximately 5.348 milligram / liter as PACl.\n"
          ],
          "name": "stdout"
        },
        {
          "output_type": "stream",
          "text": [
            "/usr/local/lib/python3.6/dist-packages/numpy/core/_asarray.py:85: UnitStrippedWarning: The unit of the quantity is stripped when downcasting to ndarray.\n",
            "  return array(a, dtype, copy=False, order=order)\n",
            "/usr/local/lib/python3.6/dist-packages/numpy/core/_asarray.py:85: UnitStrippedWarning: The unit of the quantity is stripped when downcasting to ndarray.\n",
            "  return array(a, dtype, copy=False, order=order)\n"
          ],
          "name": "stderr"
        },
        {
          "output_type": "execute_result",
          "data": {
            "text/plain": [
              "<function matplotlib.pyplot.show>"
            ]
          },
          "metadata": {
            "tags": []
          },
          "execution_count": 9
        },
        {
          "output_type": "display_data",
          "data": {
            "image/png": "[encoded data removed]",
            "text/plain": [
              "<Figure size 432x288 with 1 Axes>"
            ]
          },
          "metadata": {
            "tags": [],
            "needs_background": "light"
          }
        }
      ]
    },
    {
      "cell_type": "markdown",
      "metadata": {
        "id": "EKETg0S1o-fv",
        "colab_type": "text"
      },
      "source": [
        "For raw water dominated by turbidity use the following code to estimate the coagulant dose."
      ]
    },
    {
      "cell_type": "code",
      "metadata": {
        "id": "RaLbF6lpYQz9",
        "colab_type": "code",
        "colab": {
          "base_uri": "https://localhost:8080/",
          "height": 34
        },
        "outputId": "6354215b-2725-446e-99ad-8255f153dda2"
      },
      "source": [
        "Raw_Turbidity = 18 * u.NTU\n",
        "Target_Turbidity = 2 * u.NTU\n",
        "ConcNatOrgMat=0 * u.mg/u.L\n",
        "ConcAl = np.linspace(1,20) * u.mg/u.L\n",
        "# \n",
        "# ac.invp(ac.pc_viscous(EnergyDis, Temp, Time, DiamTube, Raw_Turbidity, ConcAl, ConcNatOrgMat, humic, coag, material, FittingParam, RatioHeightDiameter)\n",
        "Eff_Turbidity_clay = (ac.invp(ac.pc_viscous(EnergyDis, Temp, Time, DiamTube, Raw_Turbidity, ConcAl, ConcNatOrgMat, humic, ac.PACl, ac.Clay, FittingParam, RatioHeightDiameter)) * Raw_Turbidity)\n",
        "# reverse the arrays so that the y array is ascending\n",
        "Al_Dose_clay = np.interp(Target_Turbidity, Eff_Turbidity_clay[::-1], ConcAl[::-1])\n",
        "print('The coagulant dose as aluminum for clay is',Al_Dose_clay,'or approximately',3*Al_Dose_clay,'as PACl.')"
      ],
      "execution_count": 17,
      "outputs": [
        {
          "output_type": "stream",
          "text": [
            "The coagulant dose as aluminum for clay is 1.876 milligram / liter or approximately 5.628 milligram / liter as PACl.\n"
          ],
          "name": "stdout"
        }
      ]
    },
    {
      "cell_type": "code",
      "metadata": {
        "id": "wx0-f2xJZ8mf",
        "colab_type": "code",
        "colab": {
          "base_uri": "https://localhost:8080/",
          "height": 34
        },
        "outputId": "4f30222a-d543-4e22-c901-61f02ff7776d"
      },
      "source": [
        "print(ac.PACl.Density)"
      ],
      "execution_count": 14,
      "outputs": [
        {
          "output_type": "stream",
          "text": [
            "1138 kilogram / meter ** 3\n"
          ],
          "name": "stdout"
        }
      ]
    },
    {
      "cell_type": "code",
      "metadata": {
        "id": "AWN8mHXnZ_7v",
        "colab_type": "code",
        "colab": {}
      },
      "source": [
        ""
      ],
      "execution_count": null,
      "outputs": []
    }
  ]
}