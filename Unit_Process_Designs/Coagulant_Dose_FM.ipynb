{
  "nbformat": 4,
  "nbformat_minor": 0,
  "metadata": {
    "colab": {
      "name": "Coagulant_Dose_FM.ipynb",
      "provenance": [],
      "authorship_tag": "ABX9TyP4T5JxVH8rA/yv1XmHy4k3",
      "include_colab_link": true
    },
    "kernelspec": {
      "name": "python3",
      "display_name": "Python 3"
    }
  },
  "cells": [
    {
      "cell_type": "markdown",
      "metadata": {
        "id": "view-in-github",
        "colab_type": "text"
      },
      "source": [
        "<a href=\"https://colab.research.google.com/github/AguaClara/CEE4520/blob/master/Unit_Process_Designs/Coagulant_Dose_FM.ipynb\" target=\"_parent\"><img src=\"https://colab.research.google.com/assets/colab-badge.svg\" alt=\"Open In Colab\"/></a>"
      ]
    },
    {
      "cell_type": "markdown",
      "metadata": {
        "id": "b2v76-8Zdczr",
        "colab_type": "text"
      },
      "source": [
        "# Coagulant Dose Estimator\n",
        "\n",
        "The goal is to estimate a reasonable coagulant dose given the raw water turbidity and apparent color. \n",
        "\n",
        "Apparent color is corrected for false color caused by turbidity using a relationship that was obtained from analysis in the Gracias water treatment plant laboratory. Raw water turbidity multiplied by 7.5 yields the false color.\n",
        "\n",
        "True color is then converted to Total Organic Carbon using the table below from:\n",
        "\n",
        "[Natural Organic Matter in Drinking Water: Recommendations to Water Utilities\n",
        "By Billy H. Kornegay, Keith J. Kornegay, Evelyn Torres, AWWA Research Foundation](https://books.google.com/books?id=rVb-EL1OBToC&pg=PA75&lpg=PA75&dq=correlation+between+color+and+TOC&source=bl&ots=uxnFvEMRdZ&sig=ACfU3U08cWlzkKiRQvgEy5dk15IQv12TEA&hl=en&sa=X&ved=2ahUKEwjappGSsZjqAhXCSt8KHciyBukQ6AEwA3oECAgQAQ#v=onepage&q&f=false)\n",
        "\n",
        "![alt text](https://github.com/AguaClara/CEE4520/raw/master/Unit_Process_Designs/images/Color-TOC-alum_table.PNG)\n",
        "\n",
        "Color is converted to TOC using a factor of 7.73. The only Natural Organic Matter that we have characterized for coagulant demand is humic acid. We quantified the humic acid based on total dry mass. Organic matter is about 50 % carbon and thus to get the total dry mass we multiply the TOC by 2."
      ]
    },
    {
      "cell_type": "code",
      "metadata": {
        "id": "rPeCkVXldHKE",
        "colab_type": "code",
        "colab": {
          "base_uri": "https://localhost:8080/",
          "height": 493
        },
        "outputId": "a1f679ae-6e52-4ece-d048-30a41a8da51a"
      },
      "source": [
        "!pip install aguaclara"
      ],
      "execution_count": 1,
      "outputs": [
        {
          "output_type": "stream",
          "text": [
            "Collecting aguaclara\n",
            "\u001b[?25l  Downloading https://files.pythonhosted.org/packages/37/49/e2b89f6683233fdfed9134871d124823900f15192721e87ea04f867b51b3/aguaclara-0.2.3.tar.gz (87kB)\n",
            "\u001b[K     |████████████████████████████████| 92kB 2.4MB/s \n",
            "\u001b[?25hRequirement already satisfied: matplotlib in /usr/local/lib/python3.6/dist-packages (from aguaclara) (3.2.2)\n",
            "Requirement already satisfied: urllib3 in /usr/local/lib/python3.6/dist-packages (from aguaclara) (1.24.3)\n",
            "Collecting pint\n",
            "\u001b[?25l  Downloading https://files.pythonhosted.org/packages/05/2c/b8ca40ffa28795c9869cdc6cd3de5d34372329c095f34943c6622476e926/Pint-0.13-py2.py3-none-any.whl (196kB)\n",
            "\u001b[K     |████████████████████████████████| 204kB 8.7MB/s \n",
            "\u001b[?25hRequirement already satisfied: pandas in /usr/local/lib/python3.6/dist-packages (from aguaclara) (1.0.5)\n",
            "Requirement already satisfied: scipy in /usr/local/lib/python3.6/dist-packages (from aguaclara) (1.4.1)\n",
            "Requirement already satisfied: python-dateutil>=2.1 in /usr/local/lib/python3.6/dist-packages (from matplotlib->aguaclara) (2.8.1)\n",
            "Requirement already satisfied: cycler>=0.10 in /usr/local/lib/python3.6/dist-packages (from matplotlib->aguaclara) (0.10.0)\n",
            "Requirement already satisfied: kiwisolver>=1.0.1 in /usr/local/lib/python3.6/dist-packages (from matplotlib->aguaclara) (1.2.0)\n",
            "Requirement already satisfied: pyparsing!=2.0.4,!=2.1.2,!=2.1.6,>=2.0.1 in /usr/local/lib/python3.6/dist-packages (from matplotlib->aguaclara) (2.4.7)\n",
            "Requirement already satisfied: numpy>=1.11 in /usr/local/lib/python3.6/dist-packages (from matplotlib->aguaclara) (1.18.5)\n",
            "Requirement already satisfied: packaging in /usr/local/lib/python3.6/dist-packages (from pint->aguaclara) (20.4)\n",
            "Requirement already satisfied: setuptools in /usr/local/lib/python3.6/dist-packages (from pint->aguaclara) (47.3.1)\n",
            "Requirement already satisfied: importlib-metadata; python_version < \"3.8\" in /usr/local/lib/python3.6/dist-packages (from pint->aguaclara) (1.6.1)\n",
            "Requirement already satisfied: pytz>=2017.2 in /usr/local/lib/python3.6/dist-packages (from pandas->aguaclara) (2018.9)\n",
            "Requirement already satisfied: six>=1.5 in /usr/local/lib/python3.6/dist-packages (from python-dateutil>=2.1->matplotlib->aguaclara) (1.12.0)\n",
            "Requirement already satisfied: zipp>=0.5 in /usr/local/lib/python3.6/dist-packages (from importlib-metadata; python_version < \"3.8\"->pint->aguaclara) (3.1.0)\n",
            "Building wheels for collected packages: aguaclara\n",
            "  Building wheel for aguaclara (setup.py) ... \u001b[?25l\u001b[?25hdone\n",
            "  Created wheel for aguaclara: filename=aguaclara-0.2.3-cp36-none-any.whl size=99459 sha256=e800e017ab02d1216437b1e36d6b179f345d88ca16af19b2ea66eb4082931d2a\n",
            "  Stored in directory: /root/.cache/pip/wheels/da/f3/b6/a4648b3b3bc239e7953e74a2dee9f21c07d1b1e1f65cb86311\n",
            "Successfully built aguaclara\n",
            "Installing collected packages: pint, aguaclara\n",
            "Successfully installed aguaclara-0.2.3 pint-0.13\n"
          ],
          "name": "stdout"
        }
      ]
    },
    {
      "cell_type": "code",
      "metadata": {
        "id": "dGfttqyjdcT1",
        "colab_type": "code",
        "colab": {}
      },
      "source": [
        "##import\n",
        "import aguaclara as ac\n",
        "from aguaclara.core.units import unit_registry as u\n",
        "import numpy as np\n",
        "import matplotlib.pyplot as plt\n",
        "from scipy.optimize import fsolve \n",
        "\n"
      ],
      "execution_count": 2,
      "outputs": []
    },
    {
      "cell_type": "markdown",
      "metadata": {
        "id": "y0MBAOJYWh_m",
        "colab_type": "text"
      },
      "source": [
        "# Natural organic matter diameter estimation based on molecular weight\n",
        "\n",
        "[Fulvic acid](https://pubchem.ncbi.nlm.nih.gov/compound/Fulvic-acid) molecular weight is 308.24.\n",
        "The density of organic matter [The density of humic acids and humic like substances (HULIS) from fresh and aged wood burning and pollution aerosol particles](https://www.atmos-chem-phys.net/6/5213/2006/acp-6-5213-2006.pdf) is about 1.5 m/mL.\n",
        "\n",
        "The fulvic binding to PACl is given by this stoichiometry from [Chemical aspects of coagulation using aluminum salts—II. coagulation of fulvic acid using alum and polyaluminum chloride](https://doi.org/10.1016/0043-1354(90)90087-M)\n",
        "\n",
        "$$Al(OH)_{2.8}FA_{0.63}$$\n",
        "\n",
        "Therefore given a concentration of fulvic acid, the concentration of Al would be the \n",
        "\n",
        "$$ vol = \\frac{\\pi}{6}d^3$$\n",
        "\n",
        "$$d = \\left(\\frac{6 vol}{\\pi}\\right)^{\\frac{1}{3}}$$"
      ]
    },
    {
      "cell_type": "code",
      "metadata": {
        "id": "DglANEU2bhgR",
        "colab_type": "code",
        "colab": {
          "base_uri": "https://localhost:8080/",
          "height": 34
        },
        "outputId": "675c1356-496c-44ae-c649-2b2a66d0883f"
      },
      "source": [
        "fulvic_MW = 308.24 * u.g / u.mol\n",
        "fulvic_mass_per_molecule = (fulvic_MW * u.mol /u.avogadro_number).to(u.ng)\n",
        "fulvic_density = 1.5 * u.g/u.mL\n",
        "fulvic_volume = fulvic_mass_per_molecule / fulvic_density\n",
        "fulvic_diameter = ((6*fulvic_volume/np.pi)**(1/3)).to(u.nm)\n",
        "print(fulvic_diameter)"
      ],
      "execution_count": 24,
      "outputs": [
        {
          "output_type": "stream",
          "text": [
            "0.867 nanometer\n"
          ],
          "name": "stdout"
        }
      ]
    },
    {
      "cell_type": "code",
      "metadata": {
        "id": "tkOJWy6LWdlH",
        "colab_type": "code",
        "colab": {}
      },
      "source": [
        "## constants & variables for floc model\n",
        "DiamTube = 4 * u.inch\n",
        "Temp = 10 * u.degC\n",
        "Time = 4 * u.min\n",
        "EnergyDis = 40 * u.cm * u.gravity / Time\n",
        "NatOrgMat = ac.HumicAcid\n",
        "material = ac.Clay\n",
        "coag = ac.PACl\n",
        "FittingParam = 0.13\n",
        "RatioHeightDiameter = 0.2"
      ],
      "execution_count": 25,
      "outputs": []
    },
    {
      "cell_type": "code",
      "metadata": {
        "id": "5NUg212EeQw5",
        "colab_type": "code",
        "colab": {
          "base_uri": "https://localhost:8080/",
          "height": 442
        },
        "outputId": "d5e5ee75-5001-4281-e29b-690d43092bfa"
      },
      "source": [
        "Raw_Turbidity = 30 * u.NTU\n",
        "Color = 300\n",
        "Target_Turbidity = 5 * u.NTU\n",
        "\n",
        "\n",
        "\n",
        "True_Color = Color - Raw_Turbidity*7.5/(u.NTU)\n",
        "TOC = True_Color / 7.8 * u.mg/u.L\n",
        "ConcNatOrgMat = TOC*2\n",
        "\n",
        "print('The concentration of organic matter is estimated to be', ConcNatOrgMat)\n",
        "\n",
        "molarity_fulvic = (ConcNatOrgMat/fulvic_MW).to(u.mol/u.L)\n",
        "Stoich_Al_conc = (molarity_fulvic /0.63 * 27 * u.g/u.mol).to(u.mg/u.L)\n",
        "ConcAl = np.linspace(1,200) * u.mg/u.L\n",
        "#define a possible organic molecule that makes the water yellow. The molecular weight is bogus and isn't used.\n",
        "Gracias_yellow = ac.Material('Gracias_yellow',36*u.nm,900 * u.kg/u.m**3,fulvic_MW)\n",
        "fulvic = ac.Material('fulvic',fulvic_diameter,fulvic_density,fulvic_MW)\n",
        "\n",
        "\n",
        "Eff_Turbidity_Gracias = (ac.invp(ac.pc_viscous(EnergyDis, Temp, Time, DiamTube, Raw_Turbidity, ConcAl, ConcNatOrgMat, Gracias_yellow, coag, material, FittingParam, RatioHeightDiameter)) * Raw_Turbidity)\n",
        "Eff_Turbidity_fulvic = (ac.invp(ac.pc_viscous(EnergyDis, Temp, Time, DiamTube, Raw_Turbidity, ConcAl, ConcNatOrgMat, fulvic, coag, material, FittingParam, RatioHeightDiameter)) * Raw_Turbidity)\n",
        "\n",
        "# reverse the arrays so that the y array is ascending\n",
        "Al_Dose_Gracias = np.interp(Target_Turbidity, Eff_Turbidity_Gracias[::-1], ConcAl[::-1])\n",
        "print('The coagulant dose as aluminum for Gracias organics is',Al_Dose_Gracias,'or approximately',3*Al_Dose_Gracias,'as PACl.')\n",
        "Al_Dose_fulvic = np.interp(Target_Turbidity, Eff_Turbidity_fulvic[::-1], ConcAl[::-1])\n",
        "print('The coagulant dose as aluminum for fulvic acid is',Al_Dose_fulvic,'or approximately',3*Al_Dose_fulvic,'as PACl.')\n",
        "print('The coagulant dose as aluminum for fulvic acid based on stoichiometry is',Stoich_Al_conc,'or approximately',3*Stoich_Al_conc,'as PACl.')\n",
        "plt.plot(ConcAl,Eff_Turbidity_Gracias);\n",
        "plt.plot(ConcAl,Eff_Turbidity_fulvic);\n",
        "plt.xlabel(r'Coagulant dose as Al $\\left(\\frac{mg}{L}\\right)$');\n",
        "plt.ylabel('Settled water turbidity (NTU)');\n",
        "plt.plot(Al_Dose_Gracias,Target_Turbidity,'ro');\n",
        "plt.plot(Al_Dose_fulvic,Target_Turbidity,'go');\n",
        "plt.show"
      ],
      "execution_count": 27,
      "outputs": [
        {
          "output_type": "stream",
          "text": [
            "The concentration of organic matter is estimated to be 19.23 milligram / liter\n",
            "The coagulant dose as aluminum for Gracias organics is 8.879 milligram / liter or approximately 26.64 milligram / liter as PACl.\n",
            "The coagulant dose as aluminum for fulvic acid is 177.8 milligram / liter or approximately 533.4 milligram / liter as PACl.\n",
            "The coagulant dose as aluminum for fulvic acid based on stoichiometry is 2.674 milligram / liter or approximately 8.021 milligram / liter as PACl.\n"
          ],
          "name": "stdout"
        },
        {
          "output_type": "stream",
          "text": [
            "/usr/local/lib/python3.6/dist-packages/numpy/core/_asarray.py:85: UnitStrippedWarning: The unit of the quantity is stripped when downcasting to ndarray.\n",
            "  return array(a, dtype, copy=False, order=order)\n",
            "/usr/local/lib/python3.6/dist-packages/numpy/core/_asarray.py:85: UnitStrippedWarning: The unit of the quantity is stripped when downcasting to ndarray.\n",
            "  return array(a, dtype, copy=False, order=order)\n"
          ],
          "name": "stderr"
        },
        {
          "output_type": "execute_result",
          "data": {
            "text/plain": [
              "<function matplotlib.pyplot.show>"
            ]
          },
          "metadata": {
            "tags": []
          },
          "execution_count": 27
        },
        {
          "output_type": "display_data",
          "data": {
            "image/png": "[encoded data removed]",
            "text/plain": [
              "<Figure size 432x288 with 1 Axes>"
            ]
          },
          "metadata": {
            "tags": [],
            "needs_background": "light"
          }
        }
      ]
    }
  ]
}