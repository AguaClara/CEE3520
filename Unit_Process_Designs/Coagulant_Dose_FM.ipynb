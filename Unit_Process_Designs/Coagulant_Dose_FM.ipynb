{
  "nbformat": 4,
  "nbformat_minor": 0,
  "metadata": {
    "colab": {
      "name": "Coagulant_Dose_FM.ipynb",
      "provenance": [],
      "authorship_tag": "ABX9TyOhF75AhBWfRTrbKW7PbTOv",
      "include_colab_link": true
    },
    "kernelspec": {
      "name": "python3",
      "display_name": "Python 3"
    }
  },
  "cells": [
    {
      "cell_type": "markdown",
      "metadata": {
        "id": "view-in-github",
        "colab_type": "text"
      },
      "source": [
        "<a href=\"https://colab.research.google.com/github/AguaClara/CEE4520/blob/master/Unit_Process_Designs/Coagulant_Dose_FM.ipynb\" target=\"_parent\"><img src=\"https://colab.research.google.com/assets/colab-badge.svg\" alt=\"Open In Colab\"/></a>"
      ]
    },
    {
      "cell_type": "markdown",
      "metadata": {
        "id": "b2v76-8Zdczr",
        "colab_type": "text"
      },
      "source": [
        ""
      ]
    },
    {
      "cell_type": "code",
      "metadata": {
        "id": "rPeCkVXldHKE",
        "colab_type": "code",
        "colab": {
          "base_uri": "https://localhost:8080/",
          "height": 493
        },
        "outputId": "b92bf987-4453-49c3-9193-a07437d3f919"
      },
      "source": [
        "!pip install aguaclara"
      ],
      "execution_count": 1,
      "outputs": [
        {
          "output_type": "stream",
          "text": [
            "Collecting aguaclara\n",
            "\u001b[?25l  Downloading https://files.pythonhosted.org/packages/37/49/e2b89f6683233fdfed9134871d124823900f15192721e87ea04f867b51b3/aguaclara-0.2.3.tar.gz (87kB)\n",
            "\u001b[K     |████████████████████████████████| 92kB 3.5MB/s \n",
            "\u001b[?25hRequirement already satisfied: matplotlib in /usr/local/lib/python3.6/dist-packages (from aguaclara) (3.2.2)\n",
            "Requirement already satisfied: urllib3 in /usr/local/lib/python3.6/dist-packages (from aguaclara) (1.24.3)\n",
            "Collecting pint\n",
            "\u001b[?25l  Downloading https://files.pythonhosted.org/packages/05/2c/b8ca40ffa28795c9869cdc6cd3de5d34372329c095f34943c6622476e926/Pint-0.13-py2.py3-none-any.whl (196kB)\n",
            "\u001b[K     |████████████████████████████████| 204kB 12.6MB/s \n",
            "\u001b[?25hRequirement already satisfied: pandas in /usr/local/lib/python3.6/dist-packages (from aguaclara) (1.0.5)\n",
            "Requirement already satisfied: scipy in /usr/local/lib/python3.6/dist-packages (from aguaclara) (1.4.1)\n",
            "Requirement already satisfied: python-dateutil>=2.1 in /usr/local/lib/python3.6/dist-packages (from matplotlib->aguaclara) (2.8.1)\n",
            "Requirement already satisfied: pyparsing!=2.0.4,!=2.1.2,!=2.1.6,>=2.0.1 in /usr/local/lib/python3.6/dist-packages (from matplotlib->aguaclara) (2.4.7)\n",
            "Requirement already satisfied: cycler>=0.10 in /usr/local/lib/python3.6/dist-packages (from matplotlib->aguaclara) (0.10.0)\n",
            "Requirement already satisfied: numpy>=1.11 in /usr/local/lib/python3.6/dist-packages (from matplotlib->aguaclara) (1.18.5)\n",
            "Requirement already satisfied: kiwisolver>=1.0.1 in /usr/local/lib/python3.6/dist-packages (from matplotlib->aguaclara) (1.2.0)\n",
            "Requirement already satisfied: importlib-metadata; python_version < \"3.8\" in /usr/local/lib/python3.6/dist-packages (from pint->aguaclara) (1.6.1)\n",
            "Requirement already satisfied: setuptools in /usr/local/lib/python3.6/dist-packages (from pint->aguaclara) (47.3.1)\n",
            "Requirement already satisfied: packaging in /usr/local/lib/python3.6/dist-packages (from pint->aguaclara) (20.4)\n",
            "Requirement already satisfied: pytz>=2017.2 in /usr/local/lib/python3.6/dist-packages (from pandas->aguaclara) (2018.9)\n",
            "Requirement already satisfied: six>=1.5 in /usr/local/lib/python3.6/dist-packages (from python-dateutil>=2.1->matplotlib->aguaclara) (1.12.0)\n",
            "Requirement already satisfied: zipp>=0.5 in /usr/local/lib/python3.6/dist-packages (from importlib-metadata; python_version < \"3.8\"->pint->aguaclara) (3.1.0)\n",
            "Building wheels for collected packages: aguaclara\n",
            "  Building wheel for aguaclara (setup.py) ... \u001b[?25l\u001b[?25hdone\n",
            "  Created wheel for aguaclara: filename=aguaclara-0.2.3-cp36-none-any.whl size=99459 sha256=f99f4f8c56bb08c4b8de108f132ea3ba1d6b9d55e148c9e391e74ed9826d9dd4\n",
            "  Stored in directory: /root/.cache/pip/wheels/da/f3/b6/a4648b3b3bc239e7953e74a2dee9f21c07d1b1e1f65cb86311\n",
            "Successfully built aguaclara\n",
            "Installing collected packages: pint, aguaclara\n",
            "Successfully installed aguaclara-0.2.3 pint-0.13\n"
          ],
          "name": "stdout"
        }
      ]
    },
    {
      "cell_type": "code",
      "metadata": {
        "id": "dGfttqyjdcT1",
        "colab_type": "code",
        "colab": {}
      },
      "source": [
        "##import\n",
        "import aguaclara as ac\n",
        "from aguaclara.core.units import unit_registry as u\n",
        "import numpy as np\n",
        "import matplotlib.pyplot as plt\n",
        "from scipy.optimize import fsolve \n",
        "\n",
        "## constants & variables\n",
        "DiamTube = 4 * u.inch\n",
        "Temp = 10 * u.degC\n",
        "Time = 7 * u.min\n",
        "EnergyDis = 40 * u.cm * u.gravity / Time\n",
        "NatOrgMat = ac.HumicAcid\n",
        "material = ac.Clay\n",
        "coag = ac.PACl\n",
        "FittingParam = 0.13\n",
        "RatioHeightDiameter = 0.2\n",
        "\n"
      ],
      "execution_count": 44,
      "outputs": []
    },
    {
      "cell_type": "code",
      "metadata": {
        "id": "5NUg212EeQw5",
        "colab_type": "code",
        "colab": {
          "base_uri": "https://localhost:8080/",
          "height": 387
        },
        "outputId": "166c216b-7d60-4a14-921d-b8cefe0d0dce"
      },
      "source": [
        "ConcClay = 30 * u.NTU\n",
        "Color = 400\n",
        "True_Color = Color - ConcClay*7.5/(u.NTU)\n",
        "TOC = True_Color / 7.8 * u.mg/u.L\n",
        "ConcNatOrgMat = TOC*2\n",
        "ConcAl = np.linspace(1,30) * u.mg/u.L\n",
        "# ConcAl = 20 * u.mg/u.L\n",
        "print(NatOrgMat.Diameter.to(u.nm))\n",
        "\n",
        "Gracias_yellow = ac.Material('Gracias_yellow',36*u.nm,900 * u.kg/u.m**3,900 * u.g/u.mol)\n",
        "\n",
        "\n",
        "Eff_Turbidity = (ac.invp(ac.pc_viscous(EnergyDis, Temp, Time, DiamTube, ConcClay, ConcAl, ConcNatOrgMat, Gracias_yellow, coag, material, FittingParam, RatioHeightDiameter)) * ConcClay)\n",
        "reversed_Eff_Turbidity = Eff_Turbidity[::-1]\n",
        "reversed_ConcAl = ConcAl[::-1]\n",
        "\n",
        "print(Res_Turbidity)\n",
        "print(ConcNatOrgMat)\n",
        "\n",
        "plt.plot(ConcAl.to(u.mg/u.L),Res_Turbidity.to(u.mg/u.L))\n",
        "\n",
        "\n",
        "Target_Turbidity = (10 * u.NTU)\n",
        "Al_Dose = np.interp(Target_Turbidity, reversed_Eff_Turbidity, reversed_ConcAl)\n",
        "print('The coagulant dose is',Al_Dose)\n"
      ],
      "execution_count": 45,
      "outputs": [
        {
          "output_type": "stream",
          "text": [
            "72 nanometer\n",
            "[44.1 44.1 44.1 44.1 44.1 44.1 44.1 44.1 44.1 44.1 44.1 44.1 44.1 44.1 44.1 44.1 44.1 44.1 44.1 28.65 15.55 10.6 8.084 6.595 5.621 4.94 4.44 4.059 3.761 3.521 3.325 3.162 3.024 2.907 2.806 2.718 2.641 2.573 2.513 2.459 2.411 2.367 2.328 2.292 2.259 2.229 2.202 2.177 2.153 2.132] milligram / liter\n",
            "44.87 milligram / liter\n",
            "The coagulant dose is 13.21 milligram / liter\n"
          ],
          "name": "stdout"
        },
        {
          "output_type": "stream",
          "text": [
            "/usr/local/lib/python3.6/dist-packages/numpy/core/_asarray.py:85: UnitStrippedWarning: The unit of the quantity is stripped when downcasting to ndarray.\n",
            "  return array(a, dtype, copy=False, order=order)\n"
          ],
          "name": "stderr"
        },
        {
          "output_type": "display_data",
          "data": {
            "image/png": "[encoded data removed]",
            "text/plain": [
              "<Figure size 432x288 with 1 Axes>"
            ]
          },
          "metadata": {
            "tags": [],
            "needs_background": "light"
          }
        }
      ]
    },
    {
      "cell_type": "code",
      "metadata": {
        "id": "cNEtP8fqfj1B",
        "colab_type": "code",
        "colab": {
          "base_uri": "https://localhost:8080/",
          "height": 34
        },
        "outputId": "176e7f26-283c-4e24-ca5b-4b1bd420362d"
      },
      "source": [
        "x = np.linspace(0,5)\n",
        "y = 3*x\n",
        "Target_y = 6\n",
        "my_x = np.interp(Target_y, y, x)\n",
        "print(my_x)"
      ],
      "execution_count": 40,
      "outputs": [
        {
          "output_type": "stream",
          "text": [
            "1.9999999999999998\n"
          ],
          "name": "stdout"
        }
      ]
    },
    {
      "cell_type": "code",
      "metadata": {
        "id": "rtSxIZlNx1mY",
        "colab_type": "code",
        "colab": {}
      },
      "source": [
        ""
      ],
      "execution_count": null,
      "outputs": []
    }
  ]
}