{
  "nbformat": 4,
  "nbformat_minor": 0,
  "metadata": {
    "colab": {
      "name": "Flocculator.ipynb",
      "provenance": [],
      "collapsed_sections": [],
      "include_colab_link": true
    },
    "kernelspec": {
      "name": "python3",
      "display_name": "Python 3"
    }
  },
  "cells": [
    {
      "cell_type": "markdown",
      "metadata": {
        "id": "view-in-github",
        "colab_type": "text"
      },
      "source": [
        "<a href=\"https://colab.research.google.com/github/AguaClara/CEE4520/blob/master/Unit_Process_Designs/Flocculator.ipynb\" target=\"_parent\"><img src=\"https://colab.research.google.com/assets/colab-badge.svg\" alt=\"Open In Colab\"/></a>"
      ]
    },
    {
      "cell_type": "markdown",
      "metadata": {
        "id": "3CA0tdmlIKk4",
        "colab_type": "text"
      },
      "source": [
        "# Flocculation Design Challenge\n",
        "\n",
        "Learn how to use the AguaClara code distribution and python to design a flocculator!\n",
        "The [AguaClara code documentation](https://aguaclara.github.io/aguaclara/index.html) will be helpful as you search for useful functions.\n",
        "\n",
        "30 points total\n",
        "* 3 for style\n",
        "* 27 for questions"
      ]
    },
    {
      "cell_type": "code",
      "metadata": {
        "id": "rQ40v4xNxLRW",
        "colab_type": "code",
        "colab": {
          "base_uri": "https://localhost:8080/",
          "height": 493
        },
        "outputId": "0a73247f-64da-42c1-c224-ff467b1c4f46"
      },
      "source": [
        "!pip install aguaclara"
      ],
      "execution_count": 1,
      "outputs": [
        {
          "output_type": "stream",
          "text": [
            "Collecting aguaclara\n",
            "\u001b[?25l  Downloading https://files.pythonhosted.org/packages/37/49/e2b89f6683233fdfed9134871d124823900f15192721e87ea04f867b51b3/aguaclara-0.2.3.tar.gz (87kB)\n",
            "\u001b[K     |████████████████████████████████| 92kB 3.7MB/s \n",
            "\u001b[?25hRequirement already satisfied: matplotlib in /usr/local/lib/python3.6/dist-packages (from aguaclara) (3.2.2)\n",
            "Requirement already satisfied: urllib3 in /usr/local/lib/python3.6/dist-packages (from aguaclara) (1.24.3)\n",
            "Collecting pint\n",
            "\u001b[?25l  Downloading https://files.pythonhosted.org/packages/66/a9/18b232462dee45443994b19254cf6fe49893ea81bc7534cb984932d59e38/Pint-0.14-py2.py3-none-any.whl (197kB)\n",
            "\u001b[K     |████████████████████████████████| 204kB 6.3MB/s \n",
            "\u001b[?25hRequirement already satisfied: pandas in /usr/local/lib/python3.6/dist-packages (from aguaclara) (1.0.5)\n",
            "Requirement already satisfied: scipy in /usr/local/lib/python3.6/dist-packages (from aguaclara) (1.4.1)\n",
            "Requirement already satisfied: cycler>=0.10 in /usr/local/lib/python3.6/dist-packages (from matplotlib->aguaclara) (0.10.0)\n",
            "Requirement already satisfied: kiwisolver>=1.0.1 in /usr/local/lib/python3.6/dist-packages (from matplotlib->aguaclara) (1.2.0)\n",
            "Requirement already satisfied: numpy>=1.11 in /usr/local/lib/python3.6/dist-packages (from matplotlib->aguaclara) (1.18.5)\n",
            "Requirement already satisfied: pyparsing!=2.0.4,!=2.1.2,!=2.1.6,>=2.0.1 in /usr/local/lib/python3.6/dist-packages (from matplotlib->aguaclara) (2.4.7)\n",
            "Requirement already satisfied: python-dateutil>=2.1 in /usr/local/lib/python3.6/dist-packages (from matplotlib->aguaclara) (2.8.1)\n",
            "Requirement already satisfied: importlib-metadata; python_version < \"3.8\" in /usr/local/lib/python3.6/dist-packages (from pint->aguaclara) (1.7.0)\n",
            "Requirement already satisfied: packaging in /usr/local/lib/python3.6/dist-packages (from pint->aguaclara) (20.4)\n",
            "Requirement already satisfied: setuptools in /usr/local/lib/python3.6/dist-packages (from pint->aguaclara) (49.2.0)\n",
            "Requirement already satisfied: pytz>=2017.2 in /usr/local/lib/python3.6/dist-packages (from pandas->aguaclara) (2018.9)\n",
            "Requirement already satisfied: six in /usr/local/lib/python3.6/dist-packages (from cycler>=0.10->matplotlib->aguaclara) (1.15.0)\n",
            "Requirement already satisfied: zipp>=0.5 in /usr/local/lib/python3.6/dist-packages (from importlib-metadata; python_version < \"3.8\"->pint->aguaclara) (3.1.0)\n",
            "Building wheels for collected packages: aguaclara\n",
            "  Building wheel for aguaclara (setup.py) ... \u001b[?25l\u001b[?25hdone\n",
            "  Created wheel for aguaclara: filename=aguaclara-0.2.3-cp36-none-any.whl size=99459 sha256=bda8a17bff7081bbae80d025db1573d3619ba57fa3d6469ae56fdf4d00a01e7f\n",
            "  Stored in directory: /root/.cache/pip/wheels/da/f3/b6/a4648b3b3bc239e7953e74a2dee9f21c07d1b1e1f65cb86311\n",
            "Successfully built aguaclara\n",
            "Installing collected packages: pint, aguaclara\n",
            "Successfully installed aguaclara-0.2.3 pint-0.14\n"
          ],
          "name": "stdout"
        }
      ]
    },
    {
      "cell_type": "code",
      "metadata": {
        "id": "wufnKCzBHPC5",
        "colab_type": "code",
        "colab": {}
      },
      "source": [
        "import aguaclara as ac\n",
        "from aguaclara.core.units import unit_registry as u\n",
        "import matplotlib.pyplot as plt\n",
        "import numpy as np"
      ],
      "execution_count": 2,
      "outputs": []
    },
    {
      "cell_type": "markdown",
      "metadata": {
        "id": "QvcX78VukX_j",
        "colab_type": "text"
      },
      "source": [
        "Calculate minor loss coefficient for flow around baffles when H/s is small enough so that there is not complete expansion of the flow before the flow contracts again."
      ]
    },
    {
      "cell_type": "code",
      "metadata": {
        "id": "6thMN0qxksot",
        "colab_type": "code",
        "colab": {
          "base_uri": "https://localhost:8080/",
          "height": 402
        },
        "outputId": "e17610a9-fd0d-475a-d49a-1307d0743f95"
      },
      "source": [
        "venacontracta = 0.62\n",
        "ratio_plane_jet_width = 0.116\n",
        "\n",
        "ratio_vc_baffle = venacontracta**2\n",
        "height_e = (2.32 - 0.14 - 0.1) * u.m\n",
        "w_chan = 0.63 * u.m\n",
        "w_e = ratio_plane_jet_width * height_e/(1 - ratio_vc_baffle)\n",
        "print(w_e)\n",
        "q = 60 * u.L/u.s\n",
        "def Baffle_hl(q,height_e,w_chan,ratio_vc_baffle,ratio_plane_jet_width):\n",
        "  a = (q/w_chan)**2 / (2 * u.gravity)\n",
        "  b = (1-ratio_vc_baffle)**2\n",
        "  c = ratio_vc_baffle * ratio_plane_jet_width*height_e\n",
        "  return (a * ( b / c )**2).to(u.cm)\n",
        "\n",
        "\n",
        "baffle_hl = Baffle_hl(q,height_e,w_chan,ratio_vc_baffle,ratio_plane_jet_width)\n",
        "print(baffle_hl)\n",
        "baffle_s = 49 * u.cm\n",
        "ratio_h_s = height_e/baffle_s\n",
        "\n",
        "@ac.list_handler()\n",
        "def baffle_k_e(ratio_vc_baffle,ratio_plane_jet_width,ratio_h_s):\n",
        "  a = (1-ratio_vc_baffle)**2\n",
        "  b = ratio_vc_baffle * ratio_plane_jet_width * ratio_h_s\n",
        "  return ((a/b)**2).to(u.dimensionless)\n",
        "\n",
        "G_1_baffle_K = baffle_k_e(ratio_vc_baffle,ratio_plane_jet_width,ratio_h_s)\n",
        "print('Baffle K is',G_1_baffle_K) \n",
        "\n",
        "# max value of H/s - point of full expansion\n",
        "ratio_h_s_max = (1 - ratio_vc_baffle)/ratio_plane_jet_width\n",
        "print('max H/s is',ratio_h_s_max)\n",
        "\n",
        "h_s_graph = np.linspace(3,ratio_h_s_max) * u.dimensionless\n",
        "\n",
        "plt.plot(h_s_graph,baffle_k_e(ratio_vc_baffle,ratio_plane_jet_width,h_s_graph))\n",
        "plt.xlabel('Ratio of water depth to baffle spacing')\n",
        "plt.ylabel('Minor loss coefficient')\n",
        "plt.ylim(0,8)\n",
        "\n",
        "height_e/0.39"
      ],
      "execution_count": 3,
      "outputs": [
        {
          "output_type": "stream",
          "text": [
            "0.3919 meter\n",
            "0.7721 centimeter\n",
            "Baffle K is 4.008 dimensionless\n",
            "max H/s is 5.306896551724137\n"
          ],
          "name": "stdout"
        },
        {
          "output_type": "stream",
          "text": [
            "/usr/local/lib/python3.6/dist-packages/numpy/core/_asarray.py:85: UnitStrippedWarning: The unit of the quantity is stripped when downcasting to ndarray.\n",
            "  return array(a, dtype, copy=False, order=order)\n"
          ],
          "name": "stderr"
        },
        {
          "output_type": "execute_result",
          "data": {
            "text/latex": "$5.333333333333332\\ \\mathrm{meter}$",
            "text/html": [
              "\\[5.333333333333332\\ meter\\]"
            ],
            "text/plain": [
              "5.333333333333332 meter"
            ]
          },
          "metadata": {
            "tags": []
          },
          "execution_count": 3
        },
        {
          "output_type": "display_data",
          "data": {
            "image/png": "[encoded data removed]",
            "text/plain": [
              "<Figure size 432x288 with 1 Axes>"
            ]
          },
          "metadata": {
            "tags": [],
            "needs_background": "light"
          }
        }
      ]
    },
    {
      "cell_type": "markdown",
      "metadata": {
        "id": "LOOwvNsEiiOS",
        "colab_type": "text"
      },
      "source": [
        "Gracias new baffle design\n",
        "Primer canal, 5 arriba, 4 abajo, canal 2 y 3, son iguales, 8 arriba,7 abajo, canal 4, último, 6 arriba y  5 abajo\n"
      ]
    },
    {
      "cell_type": "code",
      "metadata": {
        "id": "w5kC9wUUUXnn",
        "colab_type": "code",
        "colab": {
          "base_uri": "https://localhost:8080/",
          "height": 119
        },
        "outputId": "77fd0926-8c58-4dfc-a742-5c167938c070"
      },
      "source": [
        "def planejetexp(q,baffle_hl,height_e,w_chan,ratio_vc_baffle):\n",
        "  a = (q/w_chan) / np.sqrt(2 * u.gravity * baffle_hl )\n",
        "  b = (1-ratio_vc_baffle)**2\n",
        "  c = ratio_vc_baffle * height_e\n",
        "  return (a * ( b / c )).to(u.dimensionless)\n",
        "\n",
        "# G_0 is Gracias original\n",
        "w_chan = 63 * u.cm\n",
        "G_0_Expansions_N = 11 + 16 + 2*17 + 3\n",
        "print('original expansions',G_0_Expansions_N)\n",
        "G_0_q = 45 * u.L/u.s\n",
        "G_0_HL_total = 52 * u.cm\n",
        "G_0_baffle_HL = G_0_HL_total/G_0_Expansions_N\n",
        "\n",
        "G_0_jetexpandrate = planejetexp(G_0_q,G_0_baffle_HL,height_e,w_chan,ratio_vc_baffle)\n",
        "print(G_0_jetexpandrate)\n",
        "\n",
        "\n",
        "#G_1 now repeat for updated design\n",
        "G_1_Expansions_N = 5+4+1 + 2*(8 + 7 + 1) + 6 + 5\n",
        "print('Expansions in the new design',G_1_Expansions_N)\n",
        "\n",
        "# The water is 17 cm from the top of the wall at the beginning of the flocculator. Thus 7 cm less head loss than 50 cm that was designed\n",
        "G_1_HL_total = 43 * u.cm\n",
        "G_1_q = 58 * u.L/u.s\n",
        "G_1_baffle_HL = G_1_HL_total/G_1_Expansions_N\n",
        "\n",
        "G_1_jetexpandrate = planejetexp(G_1_q,G_1_baffle_HL,height_e,w_chan,ratio_vc_baffle)\n",
        "print(G_1_jetexpandrate)\n",
        "\n",
        "(height_e/baffle_s).to(u.dimensionless)\n",
        "ratio_plane_jet_width = 0.116\n",
        "height_e = 1.55 * u.m\n",
        "G_0_predicted_hl = Baffle_hl(G_0_q,height_e,w_chan,ratio_vc_baffle,ratio_plane_jet_width) * G_0_Expansions_N\n",
        "print('Predicted initial headloss',G_0_predicted_hl)\n",
        "\n",
        "G_1_predicted_hl = Baffle_hl(G_1_q,height_e,w_chan,ratio_vc_baffle,ratio_plane_jet_width) * G_1_Expansions_N\n",
        "print('Predicted final headloss',G_1_predicted_hl)"
      ],
      "execution_count": 4,
      "outputs": [
        {
          "output_type": "stream",
          "text": [
            "original expansions 64\n",
            "0.08481 dimensionless\n",
            "Expansions in the new design 53\n",
            "0.1094 dimensionless\n",
            "Predicted initial headloss 50.05 centimeter\n",
            "Predicted final headloss 68.86 centimeter\n"
          ],
          "name": "stdout"
        }
      ]
    },
    {
      "cell_type": "code",
      "metadata": {
        "id": "A25uvjQMB5Cm",
        "colab_type": "code",
        "colab": {
          "base_uri": "https://localhost:8080/",
          "height": 204
        },
        "outputId": "b41a51ea-6df4-4414-c67a-e11c3546b909"
      },
      "source": [
        "# The following are for Gracias\n",
        "Caudal_max = 60 * u.L/u.s\n",
        "Floc_canal_W = 63 * u.cm\n",
        "Floc_aguas_abajo_H = 2.08 * u.m\n",
        "Floc_canal_L =\t7.09 * u.m\n",
        "Tanque_Entrada_L = 2.09 * u.m\n",
        "Floc_canal_N = 4\n",
        "Deflectores_S = 39.2 * u.cm\n",
        "Deflectores_Ke = 2.56\n",
        "Expansions_N = 11 + 16 + 2*17 + 3\n",
        "Floc_perdida_diseño_HL = 50 * u.cm\n",
        "Floc_volumen = ((Floc_canal_N * Floc_canal_L - Tanque_Entrada_L) * Floc_aguas_abajo_H * Floc_canal_W).to(u.L)\n",
        "print('Volumen del floculador',Floc_volumen)\n",
        "t_calculated = (Floc_volumen/Caudal_max).to(u.min)\n",
        "print('Tiempo de floculacion',t_calculated)\n",
        "\n",
        "Floc_V = Caudal_max/(Floc_canal_W * Deflectores_S)\n",
        "Floc_HL = (Expansions_N*Deflectores_Ke * Floc_V**2/(2*u.gravity)).to(u.cm)\n",
        "print('Perdida de carga en el floculador',Floc_HL)\n",
        "\n",
        "Temp = 10 * u.degC\n",
        "nu = ac.viscosity_kinematic_water(Temp)\n",
        "print('viscosidad de agua',nu)\n",
        "\n",
        "G = (np.sqrt(u.gravity * Floc_perdida_diseño_HL/(nu * t_calculated))).to(1/u.s)\n",
        "Gt = (G*t_calculated).to(u.dimensionless)\n",
        "print('Gradiente de velocidad',G)\n",
        "print('Gt',Gt)\n",
        "print('expansions',Expansions_N)\n",
        "# dato medido por Barbara Oramah on January 57 2020\n",
        "Floc_HL_medida = 52 * u.cm\n",
        "Caudal = 45 * u.L/u.s\n",
        "Floc_V = Caudal/(Floc_canal_W * Deflectores_S)\n",
        "# calculos\n",
        "Nuevo_Deflectores_Ke = (Floc_HL_medida/(Expansions_N * Floc_V**2/(2*u.gravity))).to(u.dimensionless)\n",
        "print('Nueva estimacion del coeficiente de perdida por cada deflector',Nuevo_Deflectores_Ke)\n",
        "Deflector_hl = (Floc_HL_medida * (Caudal_max / Caudal)**2)/Expansions_N\n",
        "print('actual head loss per deflector',Deflector_hl)\n",
        "Deflectores_S_new = 49 * u.cm\n",
        "Deflectores_n_new = np.trunc((Floc_canal_L/(Deflectores_S_new)).to(u.dimensionless)) * 3 +11\n",
        "print(Deflectores_n_new)\n",
        "\n",
        "predicted_design_hl = Deflectores_n_new*baffle_hl\n",
        "print('head loss predicted for new system is',predicted_design_hl)"
      ],
      "execution_count": 5,
      "outputs": [
        {
          "output_type": "stream",
          "text": [
            "Volumen del floculador 3.442e+04 liter\n",
            "Tiempo de floculacion 9.562 minute\n",
            "Perdida de carga en el floculador 49.31 centimeter\n",
            "viscosidad de agua 1.3e-06 meter ** 2 / second\n",
            "Gradiente de velocidad 81.08 / second\n",
            "Gt 4.652e+04 dimensionless\n",
            "expansions 64\n",
            "Nueva estimacion del coeficiente de perdida por cada deflector 4.8 dimensionless\n",
            "actual head loss per deflector 1.444 centimeter\n",
            "53 dimensionless\n",
            "head loss predicted for new system is 40.92 centimeter\n"
          ],
          "name": "stdout"
        }
      ]
    },
    {
      "cell_type": "markdown",
      "metadata": {
        "id": "jztZQ7B2SL-x",
        "colab_type": "text"
      },
      "source": [
        "#Calculate head loss in flocculator"
      ]
    },
    {
      "cell_type": "code",
      "metadata": {
        "id": "euLL5ywiExSe",
        "colab_type": "code",
        "colab": {
          "base_uri": "https://localhost:8080/",
          "height": 119
        },
        "outputId": "bb98ef89-e736-4717-b7dc-da6898a69328"
      },
      "source": [
        "Will_floc = ac.Flocculator(q=1*u.L/u.s,temp=15*u.degC,hl=0.5*u.m,l_max=0.6*u.m,end_water_depth=1*u.m,chan_n_parity='even',chan_w_max = 0.5*u.m,ent_l=0*u.m)\n",
        "print(Will_floc.chan_w)\n",
        "print(Will_floc.chan_n)\n",
        "print(Will_floc.chan_l)\n",
        "print(Will_floc.baffle_s)"
      ],
      "execution_count": 6,
      "outputs": [
        {
          "output_type": "stream",
          "text": [
            "53 centimeter\n",
            "1\n",
            "0.6 meter\n",
            "1.758 centimeter\n"
          ],
          "name": "stdout"
        },
        {
          "output_type": "stream",
          "text": [
            "/usr/local/lib/python3.6/dist-packages/numpy/core/fromnumeric.py:90: UnitStrippedWarning: The unit of the quantity is stripped when downcasting to ndarray.\n",
            "  return ufunc.reduce(obj, axis, dtype, out, **passkwargs)\n"
          ],
          "name": "stderr"
        }
      ]
    },
    {
      "cell_type": "code",
      "metadata": {
        "id": "f9WHqSsqO-0R",
        "colab_type": "code",
        "colab": {
          "base_uri": "https://localhost:8080/",
          "height": 102
        },
        "outputId": "d84e594f-cc5e-4acd-ceb7-e35a43a99634"
      },
      "source": [
        "Will_sed=ac.SedimentationTank(q=6*u.L/u.s,temp=15*u.degC,l_inner=1*u.m,w_inner=1*u.m,diffuser_n=15,inlet_man_hl=1*u.cm)\n",
        "Will_sed=ac.SedimentationTank(q=6*u.L/u.s,temp=15*u.degC,l_inner=1*u.m,w_inner=1*u.m,diffuser_n=15,inlet_man_hl=1*u.cm)\n",
        "Will_sed.inlet_man_nd.to(u.inch)"
      ],
      "execution_count": 7,
      "outputs": [
        {
          "output_type": "stream",
          "text": [
            "/usr/local/lib/python3.6/dist-packages/aguaclara/core/pipes.py:144: UnitStrippedWarning: The unit of the quantity is stripped when downcasting to ndarray.\n",
            "  for i in range(len(np.array(ID_SDR_all_available(SDR)))):\n",
            "/usr/local/lib/python3.6/dist-packages/aguaclara/core/pipes.py:145: UnitStrippedWarning: The unit of the quantity is stripped when downcasting to ndarray.\n",
            "  if np.array(ID_SDR_all_available(SDR))[i] >= (ID.to(u.inch)).magnitude:\n"
          ],
          "name": "stderr"
        },
        {
          "output_type": "execute_result",
          "data": {
            "text/latex": "$6.0\\ \\mathrm{inch}$",
            "text/html": [
              "\\[6.0\\ inch\\]"
            ],
            "text/plain": [
              "6.0 inch"
            ]
          },
          "metadata": {
            "tags": []
          },
          "execution_count": 7
        }
      ]
    },
    {
      "cell_type": "markdown",
      "metadata": {
        "id": "dOkUG4liEc2w",
        "colab_type": "text"
      },
      "source": [
        "# Flocculator design\n",
        "\n",
        "Below we design a flocculator using [aguaclara.design.floc](https://aguaclara.github.io/aguaclara/design/floc.html) in the aguaclara distribution version. We will use the default settings for this design except change the flow rate to 60 L/s. The available inputs (and their default values) that you can change are shown in the [documentation](https://aguaclara.github.io/aguaclara/design/floc.html). You can change any of these parameters by including their keywords in the function call.\n",
        "\n",
        "$$S = \\left( \\frac{K}{2 H_e G_{CS}^2 \\nu } \\right)^\\frac{1}{3} \\frac{Q}{W_{channel}}$$"
      ]
    },
    {
      "cell_type": "code",
      "metadata": {
        "id": "nl1iJikiEh_x",
        "colab_type": "code",
        "colab": {
          "base_uri": "https://localhost:8080/",
          "height": 289
        },
        "outputId": "d9bf89a1-cc6b-4c99-e8cb-44db98a2d213"
      },
      "source": [
        "flow= 100 * u.L/u.s\n",
        "Temperature = 0.1 * u.degC\n",
        "myF = ac.Flocculator(q=flow,ent_l=0*u.m,temp=Temperature,hl=40*u.cm,l_max =7*u.m)\n",
        "\n",
        "print('The number of channels is', myF.chan_n)\n",
        "print('The channel length is',myF.chan_l)\n",
        "print('The channel width is',ac.round_sig_figs(myF.chan_w,3))\n",
        "print('The spacing between baffles is',ac.round_sig_figs(myF.baffle_s,2))\n",
        "print('The number of obstacles per baffle is', myF.obstacle_n)\n",
        "print('The velocity gradient is', ac.round_sig_figs(myF.vel_grad_avg,2))\n",
        "print('The residence time used for design is',ac.round_sig_figs(myF.retention_time,2))\n",
        "print('The maximum distance between flow expansions is', ac.round_sig_figs(myF.expansion_h_max,2))\n",
        "#print('The drain diameter is', myF.drain_nd)\n",
        "print('Velocity',(flow/(myF.chan_w * myF.baffle_s)).to(u.m/u.s))\n",
        "print('The Gt is',myF.gt)\n",
        "\n",
        "Floc_total_L = myF.chan_l *myF.chan_n - myF.ent_l\n",
        "Expansions_n = np.floor((Floc_total_L / myF.baffle_s * myF.expansion_n).to(u.dimensionless))\n",
        "print('There are',Expansions_n.magnitude,'flow expansions.')\n",
        "\n",
        "v = myF.q/(myF.baffle_s * myF.chan_w)\n",
        "Expansion_HL = (myF.BAFFLE_K * (v**2) / (2 * u.standard_gravity)).to(u.cm)\n",
        "print('The head loss per flow expansions is', ac.round_sig_figs(Expansion_HL,3))\n",
        "\n",
        "Floc_headloss = Expansion_HL * Expansions_n\n",
        "print('The total head loss in the flocculator is', ac.round_sig_figs(Floc_headloss,2))\n",
        "PiHS = ((myF.end_water_depth/(myF.obstacle_n+1))/myF.baffle_s).to(u.dimensionless)\n",
        "print('The H/S ratio is',PiHS)"
      ],
      "execution_count": 8,
      "outputs": [
        {
          "output_type": "stream",
          "text": [
            "/usr/local/lib/python3.6/dist-packages/numpy/core/fromnumeric.py:90: UnitStrippedWarning: The unit of the quantity is stripped when downcasting to ndarray.\n",
            "  return ufunc.reduce(obj, axis, dtype, out, **passkwargs)\n"
          ],
          "name": "stderr"
        },
        {
          "output_type": "stream",
          "text": [
            "The number of channels is 6\n",
            "The channel length is 7 meter\n",
            "The channel width is 73 centimeter\n",
            "The spacing between baffles is 63 centimeter\n",
            "The number of obstacles per baffle is 0 dimensionless\n",
            "The velocity gradient is 61 / second\n",
            "The residence time used for design is 610 second\n",
            "The maximum distance between flow expansions is 3.2 meter\n",
            "Velocity 0.2175 meter / second\n",
            "The Gt is 37000\n",
            "There are 66.0 flow expansions.\n",
            "The head loss per flow expansions is 0.603 centimeter\n",
            "The total head loss in the flocculator is 40 centimeter\n",
            "The H/S ratio is 3.176 dimensionless\n"
          ],
          "name": "stdout"
        }
      ]
    },
    {
      "cell_type": "code",
      "metadata": {
        "id": "sLgFZMGklhzF",
        "colab_type": "code",
        "colab": {
          "base_uri": "https://localhost:8080/",
          "height": 1000
        },
        "outputId": "0e0f601a-7910-4d17-fbdd-72b426c394c4"
      },
      "source": [
        "n = 50\n",
        "mytemp = 15*u.degC\n",
        "GraphQ = np.linspace(0.001,1,n)*800*u.L/u.s\n",
        "myFs =np.empty(n, dtype=type(myF))\n",
        "residencetimes = np.empty(n)*u.s\n",
        "gradients = np.empty(n)*u.Hz\n",
        "bafflespacing = np.empty(n)*u.cm\n",
        "channels = np.empty(n)\n",
        "channel_w = np.empty(n)*u.cm\n",
        "for i in range(n):\n",
        "  myFs[i] = ac.Flocculator(q=GraphQ[i],temp = mytemp,end_water_depth=4*u.m)\n",
        "  residencetimes[i] = myFs[i].retention_time\n",
        "  gradients[i] = myFs[i].vel_grad_avg\n",
        "  bafflespacing[i] = myFs[i].baffle_s\n",
        "  channels[i] = myFs[i].chan_n\n",
        "  channel_w[i] = myFs[i].chan_w\n",
        "\n",
        "\n",
        "plt.plot(GraphQ, residencetimes  ,'-');\n",
        "plt.xlabel(r'Flow $\\frac{L}{s}$');\n",
        "plt.ylabel('Residence time (s)');\n",
        "plt.show()\n",
        "\n",
        "plt.plot(GraphQ, gradients  ,'-');\n",
        "plt.xlabel(r'Flow $\\frac{L}{s}$');\n",
        "plt.ylabel('Velocity gradients (Hz)');\n",
        "plt.show()\n",
        "\n",
        "plt.plot(GraphQ, bafflespacing  ,'o');\n",
        "plt.xlabel(r'Flow $\\frac{L}{s}$');\n",
        "plt.ylabel('Baffle spacing (cm)');\n",
        "plt.show()\n",
        "\n",
        "plt.plot(GraphQ, channels  ,'o');\n",
        "plt.xlabel(r'Flow $\\frac{L}{s}$');\n",
        "plt.ylabel('channels');\n",
        "plt.show()\n",
        "\n",
        "plt.plot(GraphQ, channel_w  ,'o');\n",
        "plt.xlabel(r'Flow $\\frac{L}{s}$');\n",
        "plt.ylabel('channel width (cm)');\n",
        "plt.show()"
      ],
      "execution_count": 9,
      "outputs": [
        {
          "output_type": "stream",
          "text": [
            "/usr/local/lib/python3.6/dist-packages/numpy/core/fromnumeric.py:90: UnitStrippedWarning: The unit of the quantity is stripped when downcasting to ndarray.\n",
            "  return ufunc.reduce(obj, axis, dtype, out, **passkwargs)\n",
            "/usr/local/lib/python3.6/dist-packages/numpy/core/_asarray.py:85: UnitStrippedWarning: The unit of the quantity is stripped when downcasting to ndarray.\n",
            "  return array(a, dtype, copy=False, order=order)\n"
          ],
          "name": "stderr"
        },
        {
          "output_type": "display_data",
          "data": {
            "image/png": "[encoded data removed]",
            "text/plain": [
              "<Figure size 432x288 with 1 Axes>"
            ]
          },
          "metadata": {
            "tags": [],
            "needs_background": "light"
          }
        },
        {
          "output_type": "stream",
          "text": [
            "/usr/local/lib/python3.6/dist-packages/numpy/core/_asarray.py:85: UnitStrippedWarning: The unit of the quantity is stripped when downcasting to ndarray.\n",
            "  return array(a, dtype, copy=False, order=order)\n"
          ],
          "name": "stderr"
        },
        {
          "output_type": "display_data",
          "data": {
            "image/png": "[encoded data removed]",
            "text/plain": [
              "<Figure size 432x288 with 1 Axes>"
            ]
          },
          "metadata": {
            "tags": [],
            "needs_background": "light"
          }
        },
        {
          "output_type": "stream",
          "text": [
            "/usr/local/lib/python3.6/dist-packages/numpy/core/_asarray.py:85: UnitStrippedWarning: The unit of the quantity is stripped when downcasting to ndarray.\n",
            "  return array(a, dtype, copy=False, order=order)\n"
          ],
          "name": "stderr"
        },
        {
          "output_type": "display_data",
          "data": {
            "image/png": "[encoded data removed]",
            "text/plain": [
              "<Figure size 432x288 with 1 Axes>"
            ]
          },
          "metadata": {
            "tags": [],
            "needs_background": "light"
          }
        },
        {
          "output_type": "stream",
          "text": [
            "/usr/local/lib/python3.6/dist-packages/numpy/core/_asarray.py:85: UnitStrippedWarning: The unit of the quantity is stripped when downcasting to ndarray.\n",
            "  return array(a, dtype, copy=False, order=order)\n"
          ],
          "name": "stderr"
        },
        {
          "output_type": "display_data",
          "data": {
            "image/png": "[encoded data removed]",
            "text/plain": [
              "<Figure size 432x288 with 1 Axes>"
            ]
          },
          "metadata": {
            "tags": [],
            "needs_background": "light"
          }
        },
        {
          "output_type": "stream",
          "text": [
            "/usr/local/lib/python3.6/dist-packages/numpy/core/_asarray.py:85: UnitStrippedWarning: The unit of the quantity is stripped when downcasting to ndarray.\n",
            "  return array(a, dtype, copy=False, order=order)\n"
          ],
          "name": "stderr"
        },
        {
          "output_type": "display_data",
          "data": {
            "image/png": "[encoded data removed]",
            "text/plain": [
              "<Figure size 432x288 with 1 Axes>"
            ]
          },
          "metadata": {
            "tags": [],
            "needs_background": "light"
          }
        }
      ]
    },
    {
      "cell_type": "markdown",
      "metadata": {
        "id": "vVxrHeQ-ABvg",
        "colab_type": "text"
      },
      "source": [
        "# Small scale flocculators (1-5 Lps)\n",
        "\n",
        "For these flocculators we begin with the assumption that the flow passage will be square to minimize surface area and loss of coagulant to the walls and the H/S ratio will be set to 6 so the jet expands fully before the next contraction.\n",
        "\n",
        "$$S = \\left( \\frac{K}{2 H_e G_{CS}^2 \\nu } \\right)^\\frac{1}{3} \\frac{Q}{W}$$\n",
        "\n",
        "$$S = W$$\n",
        "\n",
        "$$ S = \\frac{H_e}{\\Pi_{H_eS}} $$\n",
        "\n",
        "Now solve for the height of the flow, $H_e$.\n",
        "\n",
        "$$\\left(\\frac{H_e}{\\Pi_{H_eS}}\\right)^2 = Q\\left( \\frac{K}{2 H_e G_{CS}^2 \\nu } \\right)^\\frac{1}{3} $$\n",
        "\n",
        "$${H_e}^\\frac{7}{3} =\\Pi_{H_eS}^2 Q\\left( \\frac{K}{2 G_{CS}^2 \\nu } \\right)^\\frac{1}{3} $$\n",
        "\n",
        "$${H_e} =\\left[\\left(\\Pi_{H_eS}^2 Q\\right)^3 \\left( \\frac{K}{2 G_{CS}^2 \\nu } \\right)\\right]^\\frac{1}{7} $$\n",
        "\n",
        "$$G_{CS} = \\frac{g h_{L_{floc}}}{\\nu (G_{CS} \\theta)}$$"
      ]
    },
    {
      "cell_type": "code",
      "metadata": {
        "id": "_rS3VZazGQzx",
        "colab_type": "code",
        "colab": {
          "base_uri": "https://localhost:8080/",
          "height": 136
        },
        "outputId": "f58119e4-1ef8-44e4-ce8c-ef484c7cfd52"
      },
      "source": [
        "Q = 1 * u.L/u.s\n",
        "ratio_h_s = 6*u.dimensionless\n",
        "temp = 10 * u.degC\n",
        "HL = 45 * u.cm\n",
        "Gtheta = 30000\n",
        "nu = ac.viscosity_kinematic_water(temp)\n",
        "G = (u.gravity * HL/(nu * Gtheta)).to(1/u.s)\n",
        "theta = Gtheta/G\n",
        "K = baffle_k_e(ratio_vc_baffle,ratio_plane_jet_width,ratio_h_s)\n",
        "def Floc_H_optimal(Q,K,G,PiHS,nu):\n",
        "  return (((ratio_h_s**2 * Q)**3 * K /(2 * G**2 * nu)).to(u.m**7))**(1/7)\n",
        "\n",
        "FlocH = Floc_H_optimal(Q,K,G,ratio_h_s,nu)\n",
        "FlocS = FlocH/ratio_h_s\n",
        "print('Flocculator H is',FlocH)\n",
        "print('Flocculator S is',FlocS)\n",
        "\n",
        "# Now find total length required for all of the back and forth flow.\n",
        "\n",
        "theta_baffle = (FlocH * FlocS**2/Q).to(u.s)\n",
        "print('Baffle space residence time',theta_baffle)\n",
        "\n",
        "N_bafflespaces = round(theta/theta_baffle)\n",
        "print('Number of baffle spaces is',N_bafflespaces)\n",
        "\n",
        "totalbaffleL = N_bafflespaces*FlocS\n",
        "print('Total baffle space length is',totalbaffleL)\n",
        "\n",
        "# we want an even number of channels so that the water \n",
        "# enters the flocculator from the top and exits from the top. \n",
        "# We need to design an overflow to dump poorly flocculated water.\n",
        "\n",
        "H_sed = 2 * u.m\n",
        "H_floc_tank = H_sed + HL\n",
        "\n",
        "N_channels = ac.round_step(totalbaffleL/H_floc_tank,2)\n",
        "print('The number of channels is',N_channels)\n",
        "\n",
        "Floc_tank_W = N_channels * FlocS\n",
        "print('The floc tank width is',Floc_tank_W)\n",
        "\n",
        "#Now that we have the number of channels we can go back and optimize the design"
      ],
      "execution_count": 10,
      "outputs": [
        {
          "output_type": "stream",
          "text": [
            "Flocculator H is 0.4321 meter\n",
            "Flocculator S is 0.07201 meter\n",
            "Baffle space residence time 2.241 second\n",
            "Number of baffle spaces is 118 dimensionless\n",
            "Total baffle space length is 8.498 meter\n",
            "The number of channels is 4.0\n",
            "The floc tank width is 0.2881 meter\n"
          ],
          "name": "stdout"
        }
      ]
    },
    {
      "cell_type": "markdown",
      "metadata": {
        "id": "SkhM-lDNgbFi",
        "colab_type": "text"
      },
      "source": [
        "We need to figure out what we compromise on.\n",
        "What happens if we assume there are always 6 channels and then find the depth of the flocculator?\n",
        "Should there be an even or odd number of spaces in each channel? (assume even)\n",
        "This means the total number of spaces must be divisible by 12.\n",
        "The number of "
      ]
    },
    {
      "cell_type": "code",
      "metadata": {
        "id": "73o3NkNOHItT",
        "colab_type": "code",
        "colab": {
          "base_uri": "https://localhost:8080/",
          "height": 102
        },
        "outputId": "e763b786-0134-468e-fb19-c9daef72bbc4"
      },
      "source": [
        "N_channels = 6\n",
        "N_bafflespaces = ac.round_step(theta/theta_baffle,N_channels*2)\n",
        "print('Number of baffle spaces is',N_bafflespaces)\n",
        "\n",
        "Floc_tank_W = N_channels * FlocS\n",
        "H_floc_tank_active = FlocS * N_bafflespaces/N_channels\n",
        "print('The active depth of the floc tank is',H_floc_tank_active)\n",
        "\n",
        "theta_floc_tank_active = (H_floc_tank_active * FlocS**2 * N_channels * ratio_h_s/Q).to(u.s)\n",
        "print('The active floc residence time is',theta_floc_tank_active)\n",
        "\n",
        "HL_actual = (G**2 * nu * theta_floc_tank_active / u.gravity).to(u.cm)\n",
        "print('the actual head loss would be',HL_actual)\n",
        "\n",
        "Floc_tank_W = N_channels * FlocS\n",
        "print('The floc tank width is',Floc_tank_W)"
      ],
      "execution_count": 11,
      "outputs": [
        {
          "output_type": "stream",
          "text": [
            "Number of baffle spaces is 120.0\n",
            "The active depth of the floc tank is 1.44 meter\n",
            "The active floc residence time is 268.9 second\n",
            "the actual head loss would be 45.64 centimeter\n",
            "The floc tank width is 0.4321 meter\n"
          ],
          "name": "stdout"
        }
      ]
    },
    {
      "cell_type": "markdown",
      "metadata": {
        "id": "CkzCQTMDsYzO",
        "colab_type": "text"
      },
      "source": [
        "# Class for small flocculator design"
      ]
    },
    {
      "cell_type": "code",
      "metadata": {
        "id": "lB-vahyY9Eue",
        "colab_type": "code",
        "colab": {}
      },
      "source": [
        "class FlocChamber():\n",
        " \"\"\"Design an AguaClara flocculator chamber for flows between 1 and 5 L/s\n",
        "\n",
        " Design Inputs:\n",
        "   - ``q (float * u.L/u.s)``: Flow rate (required)\n",
        "   - ``temp (float * u.degC)``: Water temperature (optional, defaults to\n",
        "     20°C)\n",
        "    \"\"\"\n",
        "\n",
        " def __init__(self, q=2*u.L/u.s, temp=10*u.degC, Gtheta=35000, HL=50 * u.cm,**kwargs):\n",
        "   # The flow is the flow for all of the filters.\n",
        "   self.q=q\n",
        "   self.temp=temp\n",
        "   \n",
        "   self.calculate_outputs()\n",
        "\n",
        "def calculate_outputs(self):\n",
        "  self.ratio_h_s = 6*u.dimensionless\n",
        "  self.HL = HL\n",
        "  self.Gtheta = Gtheta\n",
        "  self.nu = ac.viscosity_kinematic_water(self.temp)\n",
        "  self.G = (u.gravity * self.HL/(self.nu * self.Gtheta)).to(1/u.s)\n",
        "  selftheta = self.Gtheta/self.G\n",
        "  venacontracta = 0.62\n",
        "  ratio_plane_jet_width = 0.116\n",
        "\n",
        "  ratio_vc_baffle = venacontracta**2\n",
        "  ratio_vc_baffle,\n",
        "  ratio_plane_jet_width\n",
        "  K = baffle_k_e(ratio_vc_baffle,ratio_plane_jet_width,self.ratio_h_s)\n",
        "  def Floc_H_optimal(Q,K,G,PiHS,nu):\n",
        "    return (((ratio_h_s**2 * Q)**3 * K /(2 * G**2 * nu)).to(u.m**7))**(1/7)\n",
        "\n",
        "  FlocH = Floc_H_optimal(Q,K,G,ratio_h_s,nu)\n",
        "  FlocS = FlocH/ratio_h_s\n",
        "  print('Flocculator H is',FlocH)\n",
        "  print('Flocculator S is',FlocS)\n",
        "\n",
        "  # Now find total length required for all of the back and forth flow.\n",
        "\n",
        "  theta_baffle = (FlocH * FlocS**2/Q).to(u.s)\n",
        "  print('Baffle space residence time',theta_baffle)\n",
        "\n",
        "  N_bafflespaces = round(theta/theta_baffle)\n",
        "  print('Number of baffle spaces is',N_bafflespaces)\n",
        "\n",
        "  totalbaffleL = N_bafflespaces*FlocS\n",
        "  print('Total baffle space length is',totalbaffleL)\n",
        "\n",
        "  # we want an even number of channels so that the water \n",
        "  # enters the flocculator from the top and exits from the top. \n",
        "  # We need to design an overflow to dump poorly flocculated water.\n",
        "\n",
        "  H_sed = 2 * u.m\n",
        "  H_floc_tank = H_sed + HL\n",
        "\n",
        "  N_channels = ac.round_step(totalbaffleL/H_floc_tank,2)\n",
        "  print('The number of channels is',N_channels)\n",
        "\n",
        "  Floc_tank_W = N_channels * FlocS\n",
        "  print('The floc tank width is',Floc_tank_W)\n",
        "\n"
      ],
      "execution_count": 12,
      "outputs": []
    }
  ]
}