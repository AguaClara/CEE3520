{
  "nbformat": 4,
  "nbformat_minor": 0,
  "metadata": {
    "colab": {
      "name": "Flocculator.ipynb",
      "provenance": [],
      "collapsed_sections": [],
      "include_colab_link": true
    },
    "kernelspec": {
      "name": "python3",
      "display_name": "Python 3"
    }
  },
  "cells": [
    {
      "cell_type": "markdown",
      "metadata": {
        "id": "view-in-github",
        "colab_type": "text"
      },
      "source": [
        "<a href=\"https://colab.research.google.com/github/AguaClara/CEE4520/blob/master/Unit_Process_Designs/Flocculator.ipynb\" target=\"_parent\"><img src=\"https://colab.research.google.com/assets/colab-badge.svg\" alt=\"Open In Colab\"/></a>"
      ]
    },
    {
      "cell_type": "markdown",
      "metadata": {
        "id": "3CA0tdmlIKk4",
        "colab_type": "text"
      },
      "source": [
        "# Flocculation Design Challenge\n",
        "\n",
        "Learn how to use the AguaClara code distribution and python to design a flocculator!\n",
        "The [AguaClara code documentation](https://aguaclara.github.io/aguaclara/index.html) will be helpful as you search for useful functions.\n",
        "\n",
        "30 points total\n",
        "* 3 for style\n",
        "* 27 for questions"
      ]
    },
    {
      "cell_type": "code",
      "metadata": {
        "id": "rQ40v4xNxLRW",
        "colab_type": "code",
        "colab": {
          "base_uri": "https://localhost:8080/",
          "height": 306
        },
        "outputId": "7f3fdfe8-f039-4ff9-e926-5ba64c679b8f"
      },
      "source": [
        "!pip install aguaclara"
      ],
      "execution_count": 35,
      "outputs": [
        {
          "output_type": "stream",
          "text": [
            "Requirement already satisfied: aguaclara in /usr/local/lib/python3.6/dist-packages (0.2.3)\n",
            "Requirement already satisfied: scipy in /usr/local/lib/python3.6/dist-packages (from aguaclara) (1.4.1)\n",
            "Requirement already satisfied: urllib3 in /usr/local/lib/python3.6/dist-packages (from aguaclara) (1.24.3)\n",
            "Requirement already satisfied: pint in /usr/local/lib/python3.6/dist-packages (from aguaclara) (0.13)\n",
            "Requirement already satisfied: pandas in /usr/local/lib/python3.6/dist-packages (from aguaclara) (1.0.5)\n",
            "Requirement already satisfied: matplotlib in /usr/local/lib/python3.6/dist-packages (from aguaclara) (3.2.2)\n",
            "Requirement already satisfied: numpy>=1.13.3 in /usr/local/lib/python3.6/dist-packages (from scipy->aguaclara) (1.18.5)\n",
            "Requirement already satisfied: importlib-metadata; python_version < \"3.8\" in /usr/local/lib/python3.6/dist-packages (from pint->aguaclara) (1.6.1)\n",
            "Requirement already satisfied: setuptools in /usr/local/lib/python3.6/dist-packages (from pint->aguaclara) (47.3.1)\n",
            "Requirement already satisfied: packaging in /usr/local/lib/python3.6/dist-packages (from pint->aguaclara) (20.4)\n",
            "Requirement already satisfied: pytz>=2017.2 in /usr/local/lib/python3.6/dist-packages (from pandas->aguaclara) (2018.9)\n",
            "Requirement already satisfied: python-dateutil>=2.6.1 in /usr/local/lib/python3.6/dist-packages (from pandas->aguaclara) (2.8.1)\n",
            "Requirement already satisfied: pyparsing!=2.0.4,!=2.1.2,!=2.1.6,>=2.0.1 in /usr/local/lib/python3.6/dist-packages (from matplotlib->aguaclara) (2.4.7)\n",
            "Requirement already satisfied: kiwisolver>=1.0.1 in /usr/local/lib/python3.6/dist-packages (from matplotlib->aguaclara) (1.2.0)\n",
            "Requirement already satisfied: cycler>=0.10 in /usr/local/lib/python3.6/dist-packages (from matplotlib->aguaclara) (0.10.0)\n",
            "Requirement already satisfied: zipp>=0.5 in /usr/local/lib/python3.6/dist-packages (from importlib-metadata; python_version < \"3.8\"->pint->aguaclara) (3.1.0)\n",
            "Requirement already satisfied: six in /usr/local/lib/python3.6/dist-packages (from packaging->pint->aguaclara) (1.12.0)\n"
          ],
          "name": "stdout"
        }
      ]
    },
    {
      "cell_type": "code",
      "metadata": {
        "id": "wufnKCzBHPC5",
        "colab_type": "code",
        "colab": {}
      },
      "source": [
        "import aguaclara as ac\n",
        "from aguaclara.core.units import unit_registry as u\n",
        "import matplotlib.pyplot as plt\n",
        "import numpy as np"
      ],
      "execution_count": 36,
      "outputs": []
    },
    {
      "cell_type": "markdown",
      "metadata": {
        "id": "QvcX78VukX_j",
        "colab_type": "text"
      },
      "source": [
        "Calculate minor loss coefficient for flow around baffles when H/s is small enough so that there is not complete expansion of the flow before the flow contracts again."
      ]
    },
    {
      "cell_type": "code",
      "metadata": {
        "id": "6thMN0qxksot",
        "colab_type": "code",
        "colab": {
          "base_uri": "https://localhost:8080/",
          "height": 402
        },
        "outputId": "8845292e-bd4d-4fbc-851e-60a6737eddf1"
      },
      "source": [
        "venacontracta = 0.62\n",
        "ratio_plane_jet_width = 0.116\n",
        "\n",
        "ratio_vc_baffle = venacontracta**2\n",
        "height_e = (2.32 - 0.14 - 0.1) * u.m\n",
        "w_chan = 0.63 * u.m\n",
        "w_e = ratio_plane_jet_width * height_e/(1 - ratio_vc_baffle)\n",
        "print(w_e)\n",
        "q = 60 * u.L/u.s\n",
        "def Baffle_hl(q,height_e,w_chan,ratio_vc_baffle,ratio_plane_jet_width):\n",
        "  a = (q/w_chan)**2 / (2 * u.gravity)\n",
        "  b = (1-ratio_vc_baffle)**2\n",
        "  c = ratio_vc_baffle * ratio_plane_jet_width*height_e\n",
        "  return (a * ( b / c )**2).to(u.cm)\n",
        "\n",
        "\n",
        "baffle_hl = Baffle_hl(q,height_e,w_chan,ratio_vc_baffle,ratio_plane_jet_width)\n",
        "print(baffle_hl)\n",
        "baffle_s = 49 * u.cm\n",
        "ratio_h_s = height_e/baffle_s\n",
        "\n",
        "@ac.list_handler()\n",
        "def baffle_k_e(ratio_vc_baffle,ratio_plane_jet_width,ratio_h_s):\n",
        "  a = (1-ratio_vc_baffle)**2\n",
        "  b = ratio_vc_baffle * ratio_plane_jet_width * ratio_h_s\n",
        "  return ((a/b)**2).to(u.dimensionless)\n",
        "\n",
        "G_1_baffle_K = baffle_k_e(ratio_vc_baffle,ratio_plane_jet_width,ratio_h_s)\n",
        "print('Baffle K is',G_1_baffle_K) \n",
        "\n",
        "# max value of H/s - point of full expansion\n",
        "ratio_h_s_max = (1 - ratio_vc_baffle)/ratio_plane_jet_width\n",
        "print('max H/s is',ratio_h_s_max)\n",
        "\n",
        "h_s_graph = np.linspace(3,ratio_h_s_max) * u.dimensionless\n",
        "\n",
        "plt.plot(h_s_graph,baffle_k_e(ratio_vc_baffle,ratio_plane_jet_width,h_s_graph))\n",
        "plt.xlabel('Ratio of water depth to baffle spacing')\n",
        "plt.ylabel('Minor loss coefficient')\n",
        "plt.ylim(0,8)\n",
        "\n",
        "height_e/0.39"
      ],
      "execution_count": 37,
      "outputs": [
        {
          "output_type": "stream",
          "text": [
            "0.3919 meter\n",
            "0.7721 centimeter\n",
            "Baffle K is 4.008 dimensionless\n",
            "max H/s is 5.306896551724137\n"
          ],
          "name": "stdout"
        },
        {
          "output_type": "stream",
          "text": [
            "/usr/local/lib/python3.6/dist-packages/numpy/core/_asarray.py:85: UnitStrippedWarning: The unit of the quantity is stripped when downcasting to ndarray.\n",
            "  return array(a, dtype, copy=False, order=order)\n"
          ],
          "name": "stderr"
        },
        {
          "output_type": "execute_result",
          "data": {
            "text/latex": "$5.333333333333332\\ \\mathrm{meter}$",
            "text/html": [
              "\\[5.333333333333332\\ meter\\]"
            ],
            "text/plain": [
              "5.333333333333332 meter"
            ]
          },
          "metadata": {
            "tags": []
          },
          "execution_count": 37
        },
        {
          "output_type": "display_data",
          "data": {
            "image/png": "[encoded data removed]",
            "text/plain": [
              "<Figure size 432x288 with 1 Axes>"
            ]
          },
          "metadata": {
            "tags": [],
            "needs_background": "light"
          }
        }
      ]
    },
    {
      "cell_type": "markdown",
      "metadata": {
        "id": "LOOwvNsEiiOS",
        "colab_type": "text"
      },
      "source": [
        "Gracias new baffle design\n",
        "Primer canal, 5 arriba, 4 abajo, canal 2 y 3, son iguales, 8 arriba,7 abajo, canal 4, último, 6 arriba y  5 abajo\n"
      ]
    },
    {
      "cell_type": "code",
      "metadata": {
        "id": "w5kC9wUUUXnn",
        "colab_type": "code",
        "colab": {
          "base_uri": "https://localhost:8080/",
          "height": 119
        },
        "outputId": "e38b5db6-580d-4061-c007-91160c340f3a"
      },
      "source": [
        "def planejetexp(q,baffle_hl,height_e,w_chan,ratio_vc_baffle):\n",
        "  a = (q/w_chan) / np.sqrt(2 * u.gravity * baffle_hl )\n",
        "  b = (1-ratio_vc_baffle)**2\n",
        "  c = ratio_vc_baffle * height_e\n",
        "  return (a * ( b / c )).to(u.dimensionless)\n",
        "\n",
        "# G_0 is Gracias original\n",
        "w_chan = 63 * u.cm\n",
        "G_0_Expansions_N = 11 + 16 + 2*17 + 3\n",
        "print('original expansions',G_0_Expansions_N)\n",
        "G_0_q = 45 * u.L/u.s\n",
        "G_0_HL_total = 52 * u.cm\n",
        "G_0_baffle_HL = G_0_HL_total/G_0_Expansions_N\n",
        "\n",
        "G_0_jetexpandrate = planejetexp(G_0_q,G_0_baffle_HL,height_e,w_chan,ratio_vc_baffle)\n",
        "print(G_0_jetexpandrate)\n",
        "\n",
        "\n",
        "#G_1 now repeat for updated design\n",
        "G_1_Expansions_N = 5+4+1 + 2*(8 + 7 + 1) + 6 + 5\n",
        "print('Expansions in the new design',G_1_Expansions_N)\n",
        "\n",
        "# The water is 17 cm from the top of the wall at the beginning of the flocculator. Thus 7 cm less head loss than 50 cm that was designed\n",
        "G_1_HL_total = 43 * u.cm\n",
        "G_1_q = 58 * u.L/u.s\n",
        "G_1_baffle_HL = G_1_HL_total/G_1_Expansions_N\n",
        "\n",
        "G_1_jetexpandrate = planejetexp(G_1_q,G_1_baffle_HL,height_e,w_chan,ratio_vc_baffle)\n",
        "print(G_1_jetexpandrate)\n",
        "\n",
        "(height_e/baffle_s).to(u.dimensionless)\n",
        "ratio_plane_jet_width = 0.116\n",
        "height_e = 1.55 * u.m\n",
        "G_0_predicted_hl = Baffle_hl(G_0_q,height_e,w_chan,ratio_vc_baffle,ratio_plane_jet_width) * G_0_Expansions_N\n",
        "print('Predicted initial headloss',G_0_predicted_hl)\n",
        "\n",
        "G_1_predicted_hl = Baffle_hl(G_1_q,height_e,w_chan,ratio_vc_baffle,ratio_plane_jet_width) * G_1_Expansions_N\n",
        "print('Predicted final headloss',G_1_predicted_hl)"
      ],
      "execution_count": 58,
      "outputs": [
        {
          "output_type": "stream",
          "text": [
            "original expansions 64\n",
            "0.1176 dimensionless\n",
            "Expansions in the new design 53\n",
            "0.1517 dimensionless\n",
            "Predicted initial headloss 50.05 centimeter\n",
            "Predicted final headloss 68.86 centimeter\n"
          ],
          "name": "stdout"
        }
      ]
    },
    {
      "cell_type": "code",
      "metadata": {
        "id": "A25uvjQMB5Cm",
        "colab_type": "code",
        "colab": {
          "base_uri": "https://localhost:8080/",
          "height": 204
        },
        "outputId": "c53622e3-6646-4eb5-d41e-56a6b44ccbe1"
      },
      "source": [
        "# The following are for Gracias\n",
        "Caudal_max = 60 * u.L/u.s\n",
        "Floc_canal_W = 63 * u.cm\n",
        "Floc_aguas_abajo_H = 2.08 * u.m\n",
        "Floc_canal_L =\t7.09 * u.m\n",
        "Tanque_Entrada_L = 2.09 * u.m\n",
        "Floc_canal_N = 4\n",
        "Deflectores_S = 39.2 * u.cm\n",
        "Deflectores_Ke = 2.56\n",
        "Expansions_N = 11 + 16 + 2*17 + 3\n",
        "Floc_perdida_diseño_HL = 50 * u.cm\n",
        "Floc_volumen = ((Floc_canal_N * Floc_canal_L - Tanque_Entrada_L) * Floc_aguas_abajo_H * Floc_canal_W).to(u.L)\n",
        "print('Volumen del floculador',Floc_volumen)\n",
        "t_calculated = (Floc_volumen/Caudal_max).to(u.min)\n",
        "print('Tiempo de floculacion',t_calculated)\n",
        "\n",
        "Floc_V = Caudal_max/(Floc_canal_W * Deflectores_S)\n",
        "Floc_HL = (Expansions_N*Deflectores_Ke * Floc_V**2/(2*u.gravity)).to(u.cm)\n",
        "print('Perdida de carga en el floculador',Floc_HL)\n",
        "\n",
        "Temp = 10 * u.degC\n",
        "nu = ac.viscosity_kinematic_water(Temp)\n",
        "print('viscosidad de agua',nu)\n",
        "\n",
        "G = (np.sqrt(u.gravity * Floc_perdida_diseño_HL/(nu * t_calculated))).to(1/u.s)\n",
        "Gt = (G*t_calculated).to(u.dimensionless)\n",
        "print('Gradiente de velocidad',G)\n",
        "print('Gt',Gt)\n",
        "print('expansions',Expansions_N)\n",
        "# dato medido por Barbara Oramah on January 57 2020\n",
        "Floc_HL_medida = 52 * u.cm\n",
        "Caudal = 45 * u.L/u.s\n",
        "Floc_V = Caudal/(Floc_canal_W * Deflectores_S)\n",
        "# calculos\n",
        "Nuevo_Deflectores_Ke = (Floc_HL_medida/(Expansions_N * Floc_V**2/(2*u.gravity))).to(u.dimensionless)\n",
        "print('Nueva estimacion del coeficiente de perdida por cada deflector',Nuevo_Deflectores_Ke)\n",
        "Deflector_hl = (Floc_HL_medida * (Caudal_max / Caudal)**2)/Expansions_N\n",
        "print('actual head loss per deflector',Deflector_hl)\n",
        "Deflectores_S_new = 49 * u.cm\n",
        "Deflectores_n_new = np.trunc((Floc_canal_L/(Deflectores_S_new)).to(u.dimensionless)) * 3 +11\n",
        "print(Deflectores_n_new)\n",
        "\n",
        "predicted_design_hl = Deflectores_n_new*baffle_hl\n",
        "print('head loss predicted for new system is',predicted_design_hl)"
      ],
      "execution_count": 39,
      "outputs": [
        {
          "output_type": "stream",
          "text": [
            "Volumen del floculador 3.442e+04 liter\n",
            "Tiempo de floculacion 9.562 minute\n",
            "Perdida de carga en el floculador 49.31 centimeter\n",
            "viscosidad de agua 1.3e-06 meter ** 2 / second\n",
            "Gradiente de velocidad 81.08 / second\n",
            "Gt 4.652e+04 dimensionless\n",
            "expansions 64\n",
            "Nueva estimacion del coeficiente de perdida por cada deflector 4.8 dimensionless\n",
            "actual head loss per deflector 1.444 centimeter\n",
            "53 dimensionless\n",
            "head loss predicted for new system is 40.92 centimeter\n"
          ],
          "name": "stdout"
        }
      ]
    },
    {
      "cell_type": "markdown",
      "metadata": {
        "id": "jztZQ7B2SL-x",
        "colab_type": "text"
      },
      "source": [
        "#Calculate head loss in flocculator"
      ]
    },
    {
      "cell_type": "code",
      "metadata": {
        "id": "euLL5ywiExSe",
        "colab_type": "code",
        "colab": {
          "base_uri": "https://localhost:8080/",
          "height": 119
        },
        "outputId": "ebee03a3-b36e-47a9-c397-fed62fc02017"
      },
      "source": [
        "Will_floc = ac.Flocculator(q=1*u.L/u.s,temp=15*u.degC,hl=0.5*u.m,l_max=0.6*u.m,end_water_depth=1*u.m,chan_n_parity='even',chan_w_max = 0.5*u.m,ent_l=0*u.m)\n",
        "print(Will_floc.chan_w)\n",
        "print(Will_floc.chan_n)\n",
        "print(Will_floc.chan_l)\n",
        "print(Will_floc.baffle_s)"
      ],
      "execution_count": 40,
      "outputs": [
        {
          "output_type": "stream",
          "text": [
            "53 centimeter\n",
            "1\n",
            "0.6 meter\n",
            "1.758 centimeter\n"
          ],
          "name": "stdout"
        },
        {
          "output_type": "stream",
          "text": [
            "/usr/local/lib/python3.6/dist-packages/numpy/core/fromnumeric.py:90: UnitStrippedWarning: The unit of the quantity is stripped when downcasting to ndarray.\n",
            "  return ufunc.reduce(obj, axis, dtype, out, **passkwargs)\n"
          ],
          "name": "stderr"
        }
      ]
    },
    {
      "cell_type": "code",
      "metadata": {
        "id": "f9WHqSsqO-0R",
        "colab_type": "code",
        "colab": {
          "base_uri": "https://localhost:8080/",
          "height": 102
        },
        "outputId": "225af1bc-6232-4a9d-95f0-ca83c228e731"
      },
      "source": [
        "Will_sed=ac.SedimentationTank(q=6*u.L/u.s,temp=15*u.degC,l_inner=1*u.m,w_inner=1*u.m,diffuser_n=15,inlet_man_hl=1*u.cm)\n",
        "Will_sed=ac.SedimentationTank(q=6*u.L/u.s,temp=15*u.degC,l_inner=1*u.m,w_inner=1*u.m,diffuser_n=15,inlet_man_hl=1*u.cm)\n",
        "Will_sed.inlet_man_nd.to(u.inch)"
      ],
      "execution_count": 41,
      "outputs": [
        {
          "output_type": "stream",
          "text": [
            "/usr/local/lib/python3.6/dist-packages/aguaclara/core/pipes.py:144: UnitStrippedWarning: The unit of the quantity is stripped when downcasting to ndarray.\n",
            "  for i in range(len(np.array(ID_SDR_all_available(SDR)))):\n",
            "/usr/local/lib/python3.6/dist-packages/aguaclara/core/pipes.py:145: UnitStrippedWarning: The unit of the quantity is stripped when downcasting to ndarray.\n",
            "  if np.array(ID_SDR_all_available(SDR))[i] >= (ID.to(u.inch)).magnitude:\n"
          ],
          "name": "stderr"
        },
        {
          "output_type": "execute_result",
          "data": {
            "text/latex": "$6.0\\ \\mathrm{inch}$",
            "text/html": [
              "\\[6.0\\ inch\\]"
            ],
            "text/plain": [
              "6.0 inch"
            ]
          },
          "metadata": {
            "tags": []
          },
          "execution_count": 41
        }
      ]
    },
    {
      "cell_type": "markdown",
      "metadata": {
        "id": "dOkUG4liEc2w",
        "colab_type": "text"
      },
      "source": [
        "# Flocculator design\n",
        "\n",
        "Below we design a flocculator using [aguaclara.design.floc](https://aguaclara.github.io/aguaclara/design/floc.html) in the aguaclara distribution version. We will use the default settings for this design except change the flow rate to 60 L/s. The available inputs (and their default values) that you can change are shown in the [documentation](https://aguaclara.github.io/aguaclara/design/floc.html). You can change any of these parameters by including their keywords in the function call.\n",
        "\n",
        "$$S = \\left( \\frac{K}{2 H_e G_{CS}^2 \\nu } \\right)^\\frac{1}{3} \\frac{Q}{W_{channel}}$$"
      ]
    },
    {
      "cell_type": "code",
      "metadata": {
        "id": "nl1iJikiEh_x",
        "colab_type": "code",
        "colab": {
          "base_uri": "https://localhost:8080/",
          "height": 374
        },
        "outputId": "7a5443ff-b4c7-4faa-9dc2-652defcd7686"
      },
      "source": [
        "flow= 100 * u.L/u.s\n",
        "Temperature = 0 * u.degC\n",
        "myF = ac.Flocculator(q=flow,ent_l=0*u.m,temp=Temperature,hl=40*u.cm,l_max =7*u.m)\n",
        "\n",
        "print('The number of channels is', myF.chan_n)\n",
        "print('The channel length is',myF.chan_l)\n",
        "print('The channel width is',ac.round_sig_figs(myF.chan_w,3))\n",
        "print('The spacing between baffles is',ac.round_sig_figs(myF.baffle_s,2))\n",
        "print('The number of obstacles per baffle is', myF.obstacle_n)\n",
        "print('The velocity gradient is', ac.round_sig_figs(myF.vel_grad_avg,2))\n",
        "print('The residence time used for design is',ac.round_sig_figs(myF.retention_time,2))\n",
        "print('The maximum distance between flow expansions is', ac.round_sig_figs(myF.expansion_h_max,2))\n",
        "#print('The drain diameter is', myF.drain_nd)\n",
        "print('Velocity',(flow/(myF.chan_w * myF.baffle_s)).to(u.m/u.s))\n",
        "print('The Gt is',myF.gt)\n",
        "\n",
        "Floc_total_L = myF.chan_l *myF.chan_n - myF.ent_l\n",
        "Expansions_n = np.floor((Floc_total_L / myF.baffle_s * myF.expansion_n).to(u.dimensionless))\n",
        "print('There are',Expansions_n.magnitude,'flow expansions.')\n",
        "\n",
        "v = myF.q/(myF.baffle_s * myF.chan_w)\n",
        "Expansion_HL = (myF.BAFFLE_K * (v**2) / (2 * u.standard_gravity)).to(u.cm)\n",
        "print('The head loss per flow expansions is', ac.round_sig_figs(Expansion_HL,3))\n",
        "\n",
        "Floc_headloss = Expansion_HL * Expansions_n\n",
        "print('The total head loss in the flocculator is', ac.round_sig_figs(Floc_headloss,2))\n",
        "PiHS = ((myF.end_water_depth/(myF.obstacle_n+1))/myF.baffle_s).to(u.dimensionless)\n",
        "print('The H/S ratio is',PiHS)"
      ],
      "execution_count": 42,
      "outputs": [
        {
          "output_type": "error",
          "ename": "ValueError",
          "evalue": "ignored",
          "traceback": [
            "\u001b[0;31m---------------------------------------------------------------------------\u001b[0m",
            "\u001b[0;31mValueError\u001b[0m                                Traceback (most recent call last)",
            "\u001b[0;32m<ipython-input-42-6d36ffc23b9f>\u001b[0m in \u001b[0;36m<module>\u001b[0;34m()\u001b[0m\n\u001b[1;32m      1\u001b[0m \u001b[0mflow\u001b[0m\u001b[0;34m=\u001b[0m \u001b[0;36m100\u001b[0m \u001b[0;34m*\u001b[0m \u001b[0mu\u001b[0m\u001b[0;34m.\u001b[0m\u001b[0mL\u001b[0m\u001b[0;34m/\u001b[0m\u001b[0mu\u001b[0m\u001b[0;34m.\u001b[0m\u001b[0ms\u001b[0m\u001b[0;34m\u001b[0m\u001b[0;34m\u001b[0m\u001b[0m\n\u001b[1;32m      2\u001b[0m \u001b[0mTemperature\u001b[0m \u001b[0;34m=\u001b[0m \u001b[0;36m0\u001b[0m \u001b[0;34m*\u001b[0m \u001b[0mu\u001b[0m\u001b[0;34m.\u001b[0m\u001b[0mdegC\u001b[0m\u001b[0;34m\u001b[0m\u001b[0;34m\u001b[0m\u001b[0m\n\u001b[0;32m----> 3\u001b[0;31m \u001b[0mmyF\u001b[0m \u001b[0;34m=\u001b[0m \u001b[0mac\u001b[0m\u001b[0;34m.\u001b[0m\u001b[0mFlocculator\u001b[0m\u001b[0;34m(\u001b[0m\u001b[0mq\u001b[0m\u001b[0;34m=\u001b[0m\u001b[0mflow\u001b[0m\u001b[0;34m,\u001b[0m\u001b[0ment_l\u001b[0m\u001b[0;34m=\u001b[0m\u001b[0;36m0\u001b[0m\u001b[0;34m*\u001b[0m\u001b[0mu\u001b[0m\u001b[0;34m.\u001b[0m\u001b[0mm\u001b[0m\u001b[0;34m,\u001b[0m\u001b[0mtemp\u001b[0m\u001b[0;34m=\u001b[0m\u001b[0mTemperature\u001b[0m\u001b[0;34m,\u001b[0m\u001b[0mhl\u001b[0m\u001b[0;34m=\u001b[0m\u001b[0;36m40\u001b[0m\u001b[0;34m*\u001b[0m\u001b[0mu\u001b[0m\u001b[0;34m.\u001b[0m\u001b[0mcm\u001b[0m\u001b[0;34m,\u001b[0m\u001b[0ml_max\u001b[0m \u001b[0;34m=\u001b[0m\u001b[0;36m7\u001b[0m\u001b[0;34m*\u001b[0m\u001b[0mu\u001b[0m\u001b[0;34m.\u001b[0m\u001b[0mm\u001b[0m\u001b[0;34m)\u001b[0m\u001b[0;34m\u001b[0m\u001b[0;34m\u001b[0m\u001b[0m\n\u001b[0m\u001b[1;32m      4\u001b[0m \u001b[0;34m\u001b[0m\u001b[0m\n\u001b[1;32m      5\u001b[0m \u001b[0mprint\u001b[0m\u001b[0;34m(\u001b[0m\u001b[0;34m'The number of channels is'\u001b[0m\u001b[0;34m,\u001b[0m \u001b[0mmyF\u001b[0m\u001b[0;34m.\u001b[0m\u001b[0mchan_n\u001b[0m\u001b[0;34m)\u001b[0m\u001b[0;34m\u001b[0m\u001b[0;34m\u001b[0m\u001b[0m\n",
            "\u001b[0;32m/usr/local/lib/python3.6/dist-packages/aguaclara/design/floc.py\u001b[0m in \u001b[0;36m__init__\u001b[0;34m(self, **kwargs)\u001b[0m\n\u001b[1;32m     92\u001b[0m         \u001b[0msuper\u001b[0m\u001b[0;34m(\u001b[0m\u001b[0;34m)\u001b[0m\u001b[0;34m.\u001b[0m\u001b[0m__init__\u001b[0m\u001b[0;34m(\u001b[0m\u001b[0;34m**\u001b[0m\u001b[0mkwargs\u001b[0m\u001b[0;34m)\u001b[0m\u001b[0;34m\u001b[0m\u001b[0;34m\u001b[0m\u001b[0m\n\u001b[1;32m     93\u001b[0m \u001b[0;34m\u001b[0m\u001b[0m\n\u001b[0;32m---> 94\u001b[0;31m         \u001b[0mself\u001b[0m\u001b[0;34m.\u001b[0m\u001b[0m_set_drain_pipe\u001b[0m\u001b[0;34m(\u001b[0m\u001b[0;34m)\u001b[0m\u001b[0;34m\u001b[0m\u001b[0;34m\u001b[0m\u001b[0m\n\u001b[0m\u001b[1;32m     95\u001b[0m         \u001b[0msuper\u001b[0m\u001b[0;34m(\u001b[0m\u001b[0;34m)\u001b[0m\u001b[0;34m.\u001b[0m\u001b[0mset_subcomponents\u001b[0m\u001b[0;34m(\u001b[0m\u001b[0;34m)\u001b[0m\u001b[0;34m\u001b[0m\u001b[0;34m\u001b[0m\u001b[0m\n\u001b[1;32m     96\u001b[0m \u001b[0;34m\u001b[0m\u001b[0m\n",
            "\u001b[0;32m/usr/local/lib/python3.6/dist-packages/aguaclara/design/floc.py\u001b[0m in \u001b[0;36m_set_drain_pipe\u001b[0;34m(self)\u001b[0m\n\u001b[1;32m    261\u001b[0m             \u001b[0mhl\u001b[0m\u001b[0;34m.\u001b[0m\u001b[0mPIPE_EXIT_K_MINOR\u001b[0m\u001b[0;34m\u001b[0m\u001b[0;34m\u001b[0m\u001b[0m\n\u001b[1;32m    262\u001b[0m \u001b[0;34m\u001b[0m\u001b[0m\n\u001b[0;32m--> 263\u001b[0;31m         \u001b[0mchan_pair_a\u001b[0m \u001b[0;34m=\u001b[0m \u001b[0;36m2\u001b[0m \u001b[0;34m*\u001b[0m \u001b[0mself\u001b[0m\u001b[0;34m.\u001b[0m\u001b[0mchan_l\u001b[0m \u001b[0;34m*\u001b[0m \u001b[0mself\u001b[0m\u001b[0;34m.\u001b[0m\u001b[0mchan_w\u001b[0m\u001b[0;34m\u001b[0m\u001b[0;34m\u001b[0m\u001b[0m\n\u001b[0m\u001b[1;32m    264\u001b[0m         drain_id = (\n\u001b[1;32m    265\u001b[0m             np.sqrt(8 * chan_pair_a / (np.pi * self.drain_t) *\n",
            "\u001b[0;32m/usr/local/lib/python3.6/dist-packages/aguaclara/design/floc.py\u001b[0m in \u001b[0;36mchan_l\u001b[0;34m(self)\u001b[0m\n\u001b[1;32m    188\u001b[0m     \u001b[0;32mdef\u001b[0m \u001b[0mchan_l\u001b[0m\u001b[0;34m(\u001b[0m\u001b[0mself\u001b[0m\u001b[0;34m)\u001b[0m\u001b[0;34m:\u001b[0m\u001b[0;34m\u001b[0m\u001b[0;34m\u001b[0m\u001b[0m\n\u001b[1;32m    189\u001b[0m         \u001b[0;34m\"\"\"The channel length.\"\"\"\u001b[0m\u001b[0;34m\u001b[0m\u001b[0;34m\u001b[0m\u001b[0m\n\u001b[0;32m--> 190\u001b[0;31m         \u001b[0mchan_l\u001b[0m \u001b[0;34m=\u001b[0m \u001b[0mmin\u001b[0m\u001b[0;34m(\u001b[0m\u001b[0mself\u001b[0m\u001b[0;34m.\u001b[0m\u001b[0ml_max\u001b[0m\u001b[0;34m,\u001b[0m \u001b[0mself\u001b[0m\u001b[0;34m.\u001b[0m\u001b[0ml_max_vol\u001b[0m\u001b[0;34m)\u001b[0m\u001b[0;34m\u001b[0m\u001b[0;34m\u001b[0m\u001b[0m\n\u001b[0m\u001b[1;32m    191\u001b[0m         \u001b[0;32mreturn\u001b[0m \u001b[0mchan_l\u001b[0m\u001b[0;34m.\u001b[0m\u001b[0mto_base_units\u001b[0m\u001b[0;34m(\u001b[0m\u001b[0;34m)\u001b[0m\u001b[0;34m\u001b[0m\u001b[0;34m\u001b[0m\u001b[0m\n\u001b[1;32m    192\u001b[0m \u001b[0;34m\u001b[0m\u001b[0m\n",
            "\u001b[0;32m/usr/local/lib/python3.6/dist-packages/aguaclara/design/floc.py\u001b[0m in \u001b[0;36ml_max_vol\u001b[0;34m(self)\u001b[0m\n\u001b[1;32m    181\u001b[0m     \u001b[0;32mdef\u001b[0m \u001b[0ml_max_vol\u001b[0m\u001b[0;34m(\u001b[0m\u001b[0mself\u001b[0m\u001b[0;34m)\u001b[0m\u001b[0;34m:\u001b[0m\u001b[0;34m\u001b[0m\u001b[0;34m\u001b[0m\u001b[0m\n\u001b[1;32m    182\u001b[0m         \u001b[0;34m\"\"\"The maximum length depeneding on the volume.\"\"\"\u001b[0m\u001b[0;34m\u001b[0m\u001b[0;34m\u001b[0m\u001b[0m\n\u001b[0;32m--> 183\u001b[0;31m         \u001b[0ml_max_vol\u001b[0m \u001b[0;34m=\u001b[0m \u001b[0mself\u001b[0m\u001b[0;34m.\u001b[0m\u001b[0mvol\u001b[0m \u001b[0;34m/\u001b[0m\u001b[0;31m \u001b[0m\u001b[0;31m\\\u001b[0m\u001b[0;34m\u001b[0m\u001b[0;34m\u001b[0m\u001b[0m\n\u001b[0m\u001b[1;32m    184\u001b[0m             \u001b[0;34m(\u001b[0m\u001b[0mself\u001b[0m\u001b[0;34m.\u001b[0m\u001b[0mCHAN_N_MIN\u001b[0m \u001b[0;34m*\u001b[0m \u001b[0mself\u001b[0m\u001b[0;34m.\u001b[0m\u001b[0mchan_w_min\u001b[0m \u001b[0;34m*\u001b[0m \u001b[0mself\u001b[0m\u001b[0;34m.\u001b[0m\u001b[0mend_water_depth\u001b[0m\u001b[0;34m)\u001b[0m\u001b[0;34m\u001b[0m\u001b[0;34m\u001b[0m\u001b[0m\n\u001b[1;32m    185\u001b[0m         \u001b[0;32mreturn\u001b[0m \u001b[0ml_max_vol\u001b[0m\u001b[0;34m.\u001b[0m\u001b[0mto\u001b[0m\u001b[0;34m(\u001b[0m\u001b[0mu\u001b[0m\u001b[0;34m.\u001b[0m\u001b[0mm\u001b[0m\u001b[0;34m)\u001b[0m\u001b[0;34m\u001b[0m\u001b[0;34m\u001b[0m\u001b[0m\n",
            "\u001b[0;32m/usr/local/lib/python3.6/dist-packages/aguaclara/design/floc.py\u001b[0m in \u001b[0;36mvol\u001b[0;34m(self)\u001b[0m\n\u001b[1;32m    118\u001b[0m     \u001b[0;32mdef\u001b[0m \u001b[0mvol\u001b[0m\u001b[0;34m(\u001b[0m\u001b[0mself\u001b[0m\u001b[0;34m)\u001b[0m\u001b[0;34m:\u001b[0m\u001b[0;34m\u001b[0m\u001b[0;34m\u001b[0m\u001b[0m\n\u001b[1;32m    119\u001b[0m         \u001b[0;34m\"\"\"The target volume (not counting the volume added by head loss).\"\"\"\u001b[0m\u001b[0;34m\u001b[0m\u001b[0;34m\u001b[0m\u001b[0m\n\u001b[0;32m--> 120\u001b[0;31m         \u001b[0;32mreturn\u001b[0m \u001b[0;34m(\u001b[0m\u001b[0mself\u001b[0m\u001b[0;34m.\u001b[0m\u001b[0mq\u001b[0m \u001b[0;34m*\u001b[0m \u001b[0mself\u001b[0m\u001b[0;34m.\u001b[0m\u001b[0mretention_time\u001b[0m\u001b[0;34m)\u001b[0m\u001b[0;34m.\u001b[0m\u001b[0mto\u001b[0m\u001b[0;34m(\u001b[0m\u001b[0mu\u001b[0m\u001b[0;34m.\u001b[0m\u001b[0mm\u001b[0m \u001b[0;34m**\u001b[0m \u001b[0;36m3\u001b[0m\u001b[0;34m)\u001b[0m\u001b[0;34m\u001b[0m\u001b[0;34m\u001b[0m\u001b[0m\n\u001b[0m\u001b[1;32m    121\u001b[0m \u001b[0;34m\u001b[0m\u001b[0m\n\u001b[1;32m    122\u001b[0m     \u001b[0;34m@\u001b[0m\u001b[0mproperty\u001b[0m\u001b[0;34m\u001b[0m\u001b[0;34m\u001b[0m\u001b[0m\n",
            "\u001b[0;32m/usr/local/lib/python3.6/dist-packages/aguaclara/design/floc.py\u001b[0m in \u001b[0;36mretention_time\u001b[0;34m(self)\u001b[0m\n\u001b[1;32m    112\u001b[0m         \u001b[0mcreated\u001b[0m \u001b[0mby\u001b[0m \u001b[0mhead\u001b[0m \u001b[0mloss\u001b[0m\u001b[0;34m.\u001b[0m\u001b[0;34m\u001b[0m\u001b[0;34m\u001b[0m\u001b[0m\n\u001b[1;32m    113\u001b[0m         \"\"\"\n\u001b[0;32m--> 114\u001b[0;31m         \u001b[0mretention_time\u001b[0m \u001b[0;34m=\u001b[0m \u001b[0;34m(\u001b[0m\u001b[0mself\u001b[0m\u001b[0;34m.\u001b[0m\u001b[0mgt\u001b[0m \u001b[0;34m/\u001b[0m \u001b[0mself\u001b[0m\u001b[0;34m.\u001b[0m\u001b[0mvel_grad_avg\u001b[0m\u001b[0;34m)\u001b[0m\u001b[0;34m.\u001b[0m\u001b[0mto\u001b[0m\u001b[0;34m(\u001b[0m\u001b[0mu\u001b[0m\u001b[0;34m.\u001b[0m\u001b[0ms\u001b[0m\u001b[0;34m)\u001b[0m\u001b[0;34m\u001b[0m\u001b[0;34m\u001b[0m\u001b[0m\n\u001b[0m\u001b[1;32m    115\u001b[0m         \u001b[0;32mreturn\u001b[0m \u001b[0mretention_time\u001b[0m\u001b[0;34m\u001b[0m\u001b[0;34m\u001b[0m\u001b[0m\n\u001b[1;32m    116\u001b[0m \u001b[0;34m\u001b[0m\u001b[0m\n",
            "\u001b[0;32m/usr/local/lib/python3.6/dist-packages/aguaclara/design/floc.py\u001b[0m in \u001b[0;36mvel_grad_avg\u001b[0;34m(self)\u001b[0m\n\u001b[1;32m    104\u001b[0m         \u001b[0;34m\"\"\"The average velocity gradient of water.\"\"\"\u001b[0m\u001b[0;34m\u001b[0m\u001b[0;34m\u001b[0m\u001b[0m\n\u001b[1;32m    105\u001b[0m         vel_grad_avg = ((u.standard_gravity * self.hl) /\n\u001b[0;32m--> 106\u001b[0;31m                         (pc.viscosity_kinematic_water(self.temp) * self.gt)).to(u.s ** -1)\n\u001b[0m\u001b[1;32m    107\u001b[0m         \u001b[0;32mreturn\u001b[0m \u001b[0mvel_grad_avg\u001b[0m\u001b[0;34m\u001b[0m\u001b[0;34m\u001b[0m\u001b[0m\n\u001b[1;32m    108\u001b[0m \u001b[0;34m\u001b[0m\u001b[0m\n",
            "\u001b[0;32m/usr/local/lib/python3.6/dist-packages/aguaclara/core/utility.py\u001b[0m in \u001b[0;36mwrapper\u001b[0;34m(*args, **kwargs)\u001b[0m\n\u001b[1;32m    270\u001b[0m             \u001b[0;31m# If there are no sequences, evaluate the function.\u001b[0m\u001b[0;34m\u001b[0m\u001b[0;34m\u001b[0m\u001b[0;34m\u001b[0m\u001b[0m\n\u001b[1;32m    271\u001b[0m             \u001b[0;32mif\u001b[0m \u001b[0margsFirstSequence\u001b[0m \u001b[0;32mis\u001b[0m \u001b[0;32mNone\u001b[0m \u001b[0;32mand\u001b[0m \u001b[0mkwargsFirstSequence\u001b[0m \u001b[0;32mis\u001b[0m \u001b[0;32mNone\u001b[0m\u001b[0;34m:\u001b[0m\u001b[0;34m\u001b[0m\u001b[0;34m\u001b[0m\u001b[0m\n\u001b[0;32m--> 272\u001b[0;31m                 \u001b[0;32mreturn\u001b[0m \u001b[0mfunc\u001b[0m\u001b[0;34m(\u001b[0m\u001b[0;34m*\u001b[0m\u001b[0margs\u001b[0m\u001b[0;34m,\u001b[0m \u001b[0;34m**\u001b[0m\u001b[0mkwargs\u001b[0m\u001b[0;34m)\u001b[0m\u001b[0;34m\u001b[0m\u001b[0;34m\u001b[0m\u001b[0m\n\u001b[0m\u001b[1;32m    273\u001b[0m             \u001b[0;31m# If there are sequences, iterate through them from left to right.\u001b[0m\u001b[0;34m\u001b[0m\u001b[0;34m\u001b[0m\u001b[0;34m\u001b[0m\u001b[0m\n\u001b[1;32m    274\u001b[0m             \u001b[0;31m# This means beginning with positional arguments.\u001b[0m\u001b[0;34m\u001b[0m\u001b[0;34m\u001b[0m\u001b[0;34m\u001b[0m\u001b[0m\n",
            "\u001b[0;32m/usr/local/lib/python3.6/dist-packages/aguaclara/core/physchem.py\u001b[0m in \u001b[0;36mviscosity_kinematic_water\u001b[0;34m(Temperature)\u001b[0m\n\u001b[1;32m    169\u001b[0m     \u001b[0;34m:\u001b[0m\u001b[0mrtype\u001b[0m\u001b[0;34m:\u001b[0m \u001b[0mu\u001b[0m\u001b[0;34m.\u001b[0m\u001b[0mm\u001b[0m\u001b[0;34m**\u001b[0m\u001b[0;36m2\u001b[0m\u001b[0;34m/\u001b[0m\u001b[0mu\u001b[0m\u001b[0;34m.\u001b[0m\u001b[0ms\u001b[0m\u001b[0;34m\u001b[0m\u001b[0;34m\u001b[0m\u001b[0m\n\u001b[1;32m    170\u001b[0m     \"\"\"\n\u001b[0;32m--> 171\u001b[0;31m     \u001b[0mut\u001b[0m\u001b[0;34m.\u001b[0m\u001b[0mcheck_range\u001b[0m\u001b[0;34m(\u001b[0m\u001b[0;34m[\u001b[0m\u001b[0mTemperature\u001b[0m\u001b[0;34m.\u001b[0m\u001b[0mmagnitude\u001b[0m\u001b[0;34m,\u001b[0m \u001b[0;34m\">0\"\u001b[0m\u001b[0;34m,\u001b[0m \u001b[0;34m\"Temperature in Kelvin\"\u001b[0m\u001b[0;34m]\u001b[0m\u001b[0;34m)\u001b[0m\u001b[0;34m\u001b[0m\u001b[0;34m\u001b[0m\u001b[0m\n\u001b[0m\u001b[1;32m    172\u001b[0m     \u001b[0;32mreturn\u001b[0m \u001b[0;34m(\u001b[0m\u001b[0mviscosity_dynamic_water\u001b[0m\u001b[0;34m(\u001b[0m\u001b[0mTemperature\u001b[0m\u001b[0;34m)\u001b[0m \u001b[0;34m/\u001b[0m \u001b[0mdensity_water\u001b[0m\u001b[0;34m(\u001b[0m\u001b[0mTemperature\u001b[0m\u001b[0;34m)\u001b[0m\u001b[0;34m)\u001b[0m\u001b[0;34m\u001b[0m\u001b[0;34m\u001b[0m\u001b[0m\n\u001b[1;32m    173\u001b[0m \u001b[0;34m\u001b[0m\u001b[0m\n",
            "\u001b[0;32m/usr/local/lib/python3.6/dist-packages/aguaclara/core/utility.py\u001b[0m in \u001b[0;36mcheck_range\u001b[0;34m(*args)\u001b[0m\n\u001b[1;32m    351\u001b[0m             \u001b[0;32mif\u001b[0m \u001b[0;34m'>0'\u001b[0m \u001b[0;32min\u001b[0m \u001b[0marg\u001b[0m\u001b[0;34m[\u001b[0m\u001b[0;36m1\u001b[0m\u001b[0;34m]\u001b[0m \u001b[0;32mand\u001b[0m \u001b[0mi\u001b[0m \u001b[0;34m<=\u001b[0m \u001b[0;36m0\u001b[0m\u001b[0;34m:\u001b[0m\u001b[0;34m\u001b[0m\u001b[0;34m\u001b[0m\u001b[0m\n\u001b[1;32m    352\u001b[0m                 raise ValueError(\"{1} is {0} but must be greater than \"\n\u001b[0;32m--> 353\u001b[0;31m                                  \"0.\".format(i, arg[2]))\n\u001b[0m\u001b[1;32m    354\u001b[0m             \u001b[0;32mif\u001b[0m \u001b[0;34m'>=0'\u001b[0m \u001b[0;32min\u001b[0m \u001b[0marg\u001b[0m\u001b[0;34m[\u001b[0m\u001b[0;36m1\u001b[0m\u001b[0;34m]\u001b[0m \u001b[0;32mand\u001b[0m \u001b[0mi\u001b[0m \u001b[0;34m<\u001b[0m\u001b[0;36m0\u001b[0m\u001b[0;34m:\u001b[0m\u001b[0;34m\u001b[0m\u001b[0;34m\u001b[0m\u001b[0m\n\u001b[1;32m    355\u001b[0m                 raise ValueError(\"{1} is {0} but must be 0 or \"\n",
            "\u001b[0;31mValueError\u001b[0m: Temperature in Kelvin is 0 but must be greater than 0."
          ]
        }
      ]
    },
    {
      "cell_type": "code",
      "metadata": {
        "id": "sLgFZMGklhzF",
        "colab_type": "code",
        "colab": {}
      },
      "source": [
        "n = 50\n",
        "mytemp = 15*u.degC\n",
        "GraphQ = np.linspace(0.001,1,n)*800*u.L/u.s\n",
        "myFs =np.empty(n, dtype=type(myF))\n",
        "residencetimes = np.empty(n)*u.s\n",
        "gradients = np.empty(n)*u.Hz\n",
        "bafflespacing = np.empty(n)*u.cm\n",
        "channels = np.empty(n)\n",
        "channel_w = np.empty(n)*u.cm\n",
        "for i in range(n):\n",
        "  myFs[i] = ac.Flocculator(q=GraphQ[i],temp = mytemp,end_water_depth=4*u.m)\n",
        "  residencetimes[i] = myFs[i].retention_time\n",
        "  gradients[i] = myFs[i].vel_grad_avg\n",
        "  bafflespacing[i] = myFs[i].baffle_s\n",
        "  channels[i] = myFs[i].chan_n\n",
        "  channel_w[i] = myFs[i].chan_w\n",
        "\n",
        "\n",
        "plt.plot(GraphQ, residencetimes  ,'-');\n",
        "plt.xlabel(r'Flow $\\frac{L}{s}$');\n",
        "plt.ylabel('Residence time (s)');\n",
        "plt.show()\n",
        "\n",
        "plt.plot(GraphQ, gradients  ,'-');\n",
        "plt.xlabel(r'Flow $\\frac{L}{s}$');\n",
        "plt.ylabel('Velocity gradients (Hz)');\n",
        "plt.show()\n",
        "\n",
        "plt.plot(GraphQ, bafflespacing  ,'o');\n",
        "plt.xlabel(r'Flow $\\frac{L}{s}$');\n",
        "plt.ylabel('Baffle spacing (cm)');\n",
        "plt.show()\n",
        "\n",
        "plt.plot(GraphQ, channels  ,'o');\n",
        "plt.xlabel(r'Flow $\\frac{L}{s}$');\n",
        "plt.ylabel('channels');\n",
        "plt.show()\n",
        "\n",
        "plt.plot(GraphQ, channel_w  ,'o');\n",
        "plt.xlabel(r'Flow $\\frac{L}{s}$');\n",
        "plt.ylabel('channel width (cm)');\n",
        "plt.show()"
      ],
      "execution_count": null,
      "outputs": []
    },
    {
      "cell_type": "code",
      "metadata": {
        "id": "8IcW_vC7pU1m",
        "colab_type": "code",
        "colab": {}
      },
      "source": [
        "(ac.ID_sch40(1*u.inch)).to(u.cm)"
      ],
      "execution_count": null,
      "outputs": []
    },
    {
      "cell_type": "code",
      "metadata": {
        "id": "uWxpJhYLrvBh",
        "colab_type": "code",
        "colab": {
          "base_uri": "https://localhost:8080/",
          "height": 34
        },
        "outputId": "4172ee5f-ba0e-452b-e9e1-bfb8ec66dc83"
      },
      "source": [
        "225 * 0.25/3"
      ],
      "execution_count": 60,
      "outputs": [
        {
          "output_type": "execute_result",
          "data": {
            "text/plain": [
              "18.75"
            ]
          },
          "metadata": {
            "tags": []
          },
          "execution_count": 60
        }
      ]
    },
    {
      "cell_type": "code",
      "metadata": {
        "id": "_SvbP3FGLNlQ",
        "colab_type": "code",
        "colab": {}
      },
      "source": [
        ""
      ],
      "execution_count": null,
      "outputs": []
    }
  ]
}