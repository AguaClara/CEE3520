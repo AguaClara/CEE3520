{
  "nbformat": 4,
  "nbformat_minor": 0,
  "metadata": {
    "colab": {
      "name": "Entrance_tank.ipynb",
      "provenance": [],
      "collapsed_sections": [],
      "include_colab_link": true
    },
    "kernelspec": {
      "name": "python3",
      "display_name": "Python 3"
    }
  },
  "cells": [
    {
      "cell_type": "markdown",
      "metadata": {
        "id": "view-in-github",
        "colab_type": "text"
      },
      "source": [
        "<a href=\"https://colab.research.google.com/github/AguaClara/CEE4520/blob/master/Unit_Process_Designs/Entrance_tank.ipynb\" target=\"_parent\"><img src=\"https://colab.research.google.com/assets/colab-badge.svg\" alt=\"Open In Colab\"/></a>"
      ]
    },
    {
      "cell_type": "markdown",
      "metadata": {
        "id": "dcXKB6AkUAw_",
        "colab_type": "text"
      },
      "source": [
        "# Entrance Tank: Executive Summary\n",
        "## 29 June 2020 \n",
        "The trash rack and plate settlers in the entrance tank at Gracias have been unsuccessful at capturing grit and preventing it from traveling to the rest of the plant. This grit causes maintenance issues by settling in the flocculator and the channel leading to the sedimentation tanks. To solve this problem, the plate settlers could be replaced with a more traditional horizontal settling basin. A series of 4-sided hoppers fitted with a drainpipe would make it easy to remove grit from the bottom of the chamber via gravity. However, Kawamura advises against the use of square tanks, due to their poor flow patterns:\n",
        "\n",
        "> “The square tank is satisfactory for the purpose of wastewater treatment but does not perform well as a water treatment grit chamber. The main problem with the detritus [square] tank is a function of its physical characteristics. The short tank length and the uneven inflow to the tank cause severe flow short-circuiting. … To provide good flow characteristics for grit settling, the chamber should be rectangular with a contracted inlet (pg. 414).” \n",
        "\n",
        "**To settle particles greater than 0.1 mm in diameter, the entrance tank at Gracias would need to be 11.13 m in length.** This calculation was done under the assumption of a 60 L/s flow rate, and that the entrance tank is the same width as the flocculator.  According to Kawamura, sand and silt smaller than 0.1 mm do not pose a significant risk to downstream processes (pg. 416). For context, a single treatment train (excluding the filters) at Gracias has an approximate 15 m x 7 m area. Increasing the area of the entrance tank would drive up construction costs and may block plant operator access to important parts of the plant. For example, observing the flocs in the first 4 baffles of the flocculator is one of the most reliable indications of plant performance. \n",
        "\n",
        "The required plan-view area of the entrance tank could be reduced by increasing the critical particle size that needs to be captured. Kawamura recommended a 0.1 mm diameter based on pump and piping damage in downstream processes. However, the predominant issue in Gracias, Honduras is grit settling in the flocculator and inlet channel to the sedimentation tanks.\n",
        "\n",
        "The velocities going around the bottom bend of the flocculator are comparatively higher than velocities in the entrance tank. This suggests that particles larger than 0.1 mm could be scoured from the bottom of the flocculator, and that the entrance tank may be designed for a larger critical particle diameter. **The shear on the bottom of the flocculator should be calculated to determine the largest particle that can be scoured.**\n",
        "\n",
        "Wave action and splashing is another issue occuring in the entrance tank at the plant in Gracias, Honduras. The velocity and kinetic energy was calculated at various points within the entrance tank (Table 1): exiting the influent pipe, through the plate settlers, and at the shallow channel leading to the LFOM. \n",
        "\n",
        "*Table 1: The velocity and kinetic energy at various location in the entrance tank*\n",
        "\n",
        "|Location|Velocity (m/s)|Kinetic Energy (cm)|\n",
        "|:---:|:---:|:---:|\n",
        "|Influent Pipe|1.91|18.6|\n",
        "|Plate Settlers|0.16|0.1305|\n",
        "|LFOM Channel|0.1593|0.1294|\n",
        "\n",
        "The velocity exiting the influent pipe is much greater than other areas of the entrance tank. **This suggests that the kinetic energy exiting the influent pipe may be the primary source of wave action.** Various methods should be explored to reduce this kinetic energy. This design may include the following components:\n",
        "- aiming the influent pipe at the end wall of the entrance tank\n",
        "- use 2\" pipes as diffusers\n",
        "- placing obstacles along the side walls of entrance tank\n",
        "- including a diffuser wall (the trash racks may assist with this)\n",
        "- place an endcap on the influent pipe so that water does not flow straight down into the hopper, and cut a vertical slit down the side to act as a diffuser. \n",
        "\n",
        "**Each component should be evaluated on its effectiveness at dissipating kinetic energy and its ease of construction.** \n"
      ]
    },
    {
      "cell_type": "markdown",
      "metadata": {
        "id": "BbTCJYaPRaEU",
        "colab_type": "text"
      },
      "source": [
        "# Python Calculations"
      ]
    },
    {
      "cell_type": "code",
      "metadata": {
        "id": "9N-YsZ8rQVkq",
        "colab_type": "code",
        "colab": {
          "base_uri": "https://localhost:8080/",
          "height": 485
        },
        "outputId": "adb5a9e6-791c-4515-e5b6-01cd883cc609"
      },
      "source": [
        "!pip install aguaclara\n",
        "from aguaclara.core.units import unit_registry as u\n",
        "import aguaclara as ac\n",
        "import numpy as np"
      ],
      "execution_count": 1,
      "outputs": [
        {
          "output_type": "stream",
          "text": [
            "Collecting aguaclara\n",
            "\u001b[?25l  Downloading https://files.pythonhosted.org/packages/37/49/e2b89f6683233fdfed9134871d124823900f15192721e87ea04f867b51b3/aguaclara-0.2.3.tar.gz (87kB)\n",
            "\u001b[K     |████████████████████████████████| 92kB 2.4MB/s \n",
            "\u001b[?25hRequirement already satisfied: matplotlib in /usr/local/lib/python3.6/dist-packages (from aguaclara) (3.2.2)\n",
            "Requirement already satisfied: urllib3 in /usr/local/lib/python3.6/dist-packages (from aguaclara) (1.24.3)\n",
            "Collecting pint\n",
            "\u001b[?25l  Downloading https://files.pythonhosted.org/packages/66/a9/18b232462dee45443994b19254cf6fe49893ea81bc7534cb984932d59e38/Pint-0.14-py2.py3-none-any.whl (197kB)\n",
            "\u001b[K     |████████████████████████████████| 204kB 8.2MB/s \n",
            "\u001b[?25hRequirement already satisfied: pandas in /usr/local/lib/python3.6/dist-packages (from aguaclara) (1.0.5)\n",
            "Requirement already satisfied: scipy in /usr/local/lib/python3.6/dist-packages (from aguaclara) (1.4.1)\n",
            "Requirement already satisfied: numpy>=1.11 in /usr/local/lib/python3.6/dist-packages (from matplotlib->aguaclara) (1.18.5)\n",
            "Requirement already satisfied: cycler>=0.10 in /usr/local/lib/python3.6/dist-packages (from matplotlib->aguaclara) (0.10.0)\n",
            "Requirement already satisfied: kiwisolver>=1.0.1 in /usr/local/lib/python3.6/dist-packages (from matplotlib->aguaclara) (1.2.0)\n",
            "Requirement already satisfied: python-dateutil>=2.1 in /usr/local/lib/python3.6/dist-packages (from matplotlib->aguaclara) (2.8.1)\n",
            "Requirement already satisfied: pyparsing!=2.0.4,!=2.1.2,!=2.1.6,>=2.0.1 in /usr/local/lib/python3.6/dist-packages (from matplotlib->aguaclara) (2.4.7)\n",
            "Requirement already satisfied: packaging in /usr/local/lib/python3.6/dist-packages (from pint->aguaclara) (20.4)\n",
            "Requirement already satisfied: setuptools in /usr/local/lib/python3.6/dist-packages (from pint->aguaclara) (47.3.1)\n",
            "Requirement already satisfied: importlib-metadata; python_version < \"3.8\" in /usr/local/lib/python3.6/dist-packages (from pint->aguaclara) (1.6.1)\n",
            "Requirement already satisfied: pytz>=2017.2 in /usr/local/lib/python3.6/dist-packages (from pandas->aguaclara) (2018.9)\n",
            "Requirement already satisfied: six in /usr/local/lib/python3.6/dist-packages (from cycler>=0.10->matplotlib->aguaclara) (1.12.0)\n",
            "Requirement already satisfied: zipp>=0.5 in /usr/local/lib/python3.6/dist-packages (from importlib-metadata; python_version < \"3.8\"->pint->aguaclara) (3.1.0)\n",
            "Building wheels for collected packages: aguaclara\n",
            "  Building wheel for aguaclara (setup.py) ... \u001b[?25l\u001b[?25hdone\n",
            "  Created wheel for aguaclara: filename=aguaclara-0.2.3-cp36-none-any.whl size=99459 sha256=74f3b734412ab742a3418ee23494523da3b0c4866d53181a1ed6413ece9a668c\n",
            "  Stored in directory: /root/.cache/pip/wheels/da/f3/b6/a4648b3b3bc239e7953e74a2dee9f21c07d1b1e1f65cb86311\n",
            "Successfully built aguaclara\n",
            "Installing collected packages: pint, aguaclara\n",
            "Successfully installed aguaclara-0.2.3 pint-0.14\n"
          ],
          "name": "stdout"
        }
      ]
    },
    {
      "cell_type": "markdown",
      "metadata": {
        "id": "j4aXnPr0PLLd",
        "colab_type": "text"
      },
      "source": [
        "## Calculate the largset particle that will be scoured by the inlet channel to the sedimentation tanks: velocity approach\n"
      ]
    },
    {
      "cell_type": "code",
      "metadata": {
        "id": "q74HjQTFPGsr",
        "colab_type": "code",
        "colab": {
          "base_uri": "https://localhost:8080/",
          "height": 150
        },
        "outputId": "26f42452-8541-4c94-8355-402f73f87f1a"
      },
      "source": [
        "# Calculate the smallest particle that will be scoured from in the inlet channel to the sedimentation tanks: scour velocity approach\n",
        "# assume that the velocity of water in the channel is relatively constant due to a sloped bottom geometry\n",
        "q = (60 * u.L/u.s).to(u.m**3/u.s)\n",
        "T = 20 * u.degC\n",
        "rho_H20 = ac.density_water(T)\n",
        "rho_p = 2650 *u.kg/u.m**3 # density of sand\n",
        "theta = (4.8*u.deg).to(u.rad)\n",
        "w_chan = 0.5 * u.m\n",
        "h_chan = 0.156 * u.m # the height of the channel at the influent end\n",
        "a_chan = w_chan*(h_chan - 0.1 * u.m) # The inlet channel to the sedimentation tanks have a 10 cm freeboard\n",
        "v_chan = q/a_chan\n",
        "\n",
        "d = (3*0.332*rho_H20*v_chan**2)/(2*500000**0.5*(rho_p - rho_H20)*ac.GRAVITY*np.tan(theta))\n",
        "\n",
        "print('The velocity in the influent channel to the sedimentation tank is ', v_chan)\n",
        "print('The largest diameter particle that will be scoured by the inlet channel to the sed tank is ', d.to(u.mm))\n",
        "\n",
        "# Calculate the require length of the entrance tank assuming it is the same width as the flocculator at Gracias\n",
        "\n",
        "nu = ac.viscosity_kinematic_water(T)\n",
        "w = 0.60 * u.m # assume ET is same width as the flocculator\n",
        "v_c = ((rho_p - rho_H20)*ac.GRAVITY*d**2)/(18*nu*rho_H20)\n",
        "print('The cricitcal velocity is ',v_c.to(u.mm/u.s))\n",
        "\n",
        "# check that flow is in laminar regime for Stokes' law to be valid\n",
        "Re = v_c*d/nu\n",
        "print('The Reynolds number is ', Re)\n",
        "\n",
        "# calculate the required ET length\n",
        "area = q/v_c\n",
        "length_ET = area/w\n",
        "print('The entrance tank length is ', length_ET)\n",
        "\n",
        "# repeat calculation in transistion regime\n",
        "mu = nu*rho_H20 # dynamic viscosity of water\n",
        "print('The calculation needs to repeated using Stokes Law for transition flow')\n",
        "v_c_transition = (((rho_p - rho_H20)*ac.GRAVITY*d**1.6)/(13.9*mu**0.6*rho_H20**0.4))**(1/1.4)\n",
        "\n",
        "# check that flow is in the transition/turbulent regime\n",
        "Re = v_c*d/nu\n",
        "print('The Reynolds number is ', Re)\n",
        "\n",
        "# calculate the required ET length\n",
        "area_2 = q/v_c_transition\n",
        "length_ET_2 = area_2/w\n",
        "print('The entrance tank length is ', length_ET_2)"
      ],
      "execution_count": 10,
      "outputs": [
        {
          "output_type": "stream",
          "text": [
            "The velocity in the influent channel to the sedimentation tank is  2.143 meter / second\n",
            "The largest diameter particle that will be scoured by the inlet channel to the sed tank is  2.373 millimeter\n",
            "The cricitcal velocity is  5060 millimeter / second\n",
            "The Reynolds number is  1.196e+04 dimensionless\n",
            "The entrance tank length is  0.01976 meter\n",
            "The calculation needs to repeated using Stokes Law for transition flow\n",
            "The Reynolds number is  1.196e+04 dimensionless\n",
            "The entrance tank length is  0.2403 meter ** 1\n"
          ],
          "name": "stdout"
        }
      ]
    },
    {
      "cell_type": "markdown",
      "metadata": {
        "id": "jBJKaogN_jWX",
        "colab_type": "text"
      },
      "source": [
        "## Calculate the minimum particle size that will be scoured from the bottom of the flocculator\n",
        "\n",
        "**Sources** (still need to site these properly)\n",
        "1. [Hydraulic Engineering: Channel Design Powerpoint](https://github.com/monroews/Hydraulics/raw/master/10_Channel_Design.pptx) (slides 19-23)\n",
        "1. Chapter 12: Stable Channel Design Functions in [HEC-RAS River Analysis System Hydraulic Reference Manual](https://www.hec.usace.army.mil/software/hec-ras/documentation/HEC-RAS%205.0%20Reference%20Manual.pdf)  (page 12-21)\n",
        "1. Chapter 9 [Introduction to Fluid Motion, Sediment Transport and Current Generated Sedimentary Structures](https://ocw.mit.edu/courses/earth-atmospheric-and-planetary-sciences/12-090-introduction-to-fluid-motions-sediment-transport-and-current-generated-sedimentary-structures-fall-2006/course-textbook/ch9.pdf)\n",
        "\n",
        "**Strategy:**\n",
        "   1. Find the shear $\\tau_o$ on the bottom of the flocculator\n",
        "   1. Use the updated Shields diagram (Figure 1) to identify the largest grain size that will be scoured by the flocculator shear stress\n",
        "\n",
        "**Summary of Relevant Literature**\n",
        "\n",
        "\n",
        "Shear in the flocculator:\n",
        "- If the floor of the flocculator is flat, velocity gradients would be higher in the downstream end of the flocculator, due to lower water levels. Therefore, we are most interested in know the velocity gradients/shear on the upstream end of the flocculator.\n",
        "- at lower flow rates, velocity gradients will also be lower. We will assume that the plant is pretty much always running at full capacity.\n",
        "\n",
        "\n",
        "\n",
        "---\n",
        "\n",
        "The movement of particles can be described by 3 dimensionless parameters: (source 3, pg. 268)\n",
        "\n",
        "**1. Density ratio:** The density ratio is only suspected to have a small effect on the initiation of particle movement, and there is little literature on it (source 3, pg. 281). It will not be used in calculations here. \n",
        "$$\\frac{\\rho_s}{\\rho}$$\n",
        "\n",
        "where\n",
        "\n",
        "$\\rho_s$ = the density of the particle\n",
        "\n",
        "$\\rho$ = the density of the fluid \n",
        "\n",
        "<br/>\n",
        "\n",
        "**2. 'Shear' or 'Boundary' Reynold's Number:**\n",
        "$$Re_* = \\frac{u_*D}{\\nu}$$\n",
        "\n",
        "where\n",
        "\n",
        "$u_*$ = shear velocity\n",
        "\n",
        "D = particle diameter\n",
        "\n",
        "$\\nu$ = kinematic viscosity\n",
        "\n",
        "<br/>\n",
        "\n",
        "**Shear Velocity:** (source 1)\n",
        "$$u_* = \\sqrt{\\frac{\\tau_o}{\\rho}} = \\sqrt{gR_hS_f}$$ \n",
        "\n",
        "where\n",
        "\n",
        "$g$ = acceleration due to gravity\n",
        "\n",
        "$R_h$ = hydraulic radius (ie. cross-sectional area of the flow divided by the wetted perimeter)\n",
        "\n",
        "$S_f$ = slope??????\n",
        "\n",
        "<br/>\n",
        "\n",
        "**3. Shield's Parameter:** \n",
        "\n",
        "$$\\frac{\\tau_o}{\\Delta\\rho gD} = \\frac{2}{3}tan\\theta$$\n",
        "\n",
        "According to source 3, the fraction on the righthand side appears to depend on geometrical and dynamical effects (pg. 267). Also note that multiplying the numerator and denominator by $D^2$ gives a ratio of fluid force on the particle to the weight of the particle (pg. 269).\n",
        "\n",
        "In Shield's experiment, \"Bed shear stress was determined from the resistance equation $\\tau_o = \\gamma dsin\\phi\"$ (source 3, pg. 273)\n",
        "\n",
        "**The Shields diagram can be 'recast' so that only one axis contains the variable $\\tau_o$ and only the other axis contains the particle diameter D.** These new axis are as follows (source 3, pg. 275):\n",
        "\n",
        "$$\\tau_o(\\rho /(g\\Delta\\rho)^2\\mu^2)^{1/3}$$\n",
        "\n",
        "$$D(\\rho (g\\Delta\\rho)/\\mu^2)^{1/3}$$\n",
        "\n",
        "Source 3 provides an updated version of Shields diagram reframed in terms of shear velocity and particle diameter at $20 ^\\circ C$ (pg. 277):\n",
        "\n",
        "![Shields Diagram](https://github.com/Emily-Wood/AguaClara/blob/master/Updated%20Shields%20Diagram.PNG?raw=true)\n",
        "\n",
        "**Figure 1**: an updated Shields diagram in terms of shear velocity and particle diameter at $20 ^\\circ C$ (source 3, page 277)\n",
        "\n",
        "\n",
        "\n",
        "\n"
      ]
    },
    {
      "cell_type": "code",
      "metadata": {
        "id": "hkIT1MBW_oPz",
        "colab_type": "code",
        "colab": {
          "base_uri": "https://localhost:8080/",
          "height": 50
        },
        "outputId": "d19b13f2-551a-41d7-c667-0b915419963d"
      },
      "source": [
        "# Calculate the shear on the bottom of the flocculator\n",
        "G =  40 / u.s # velocity gradient (this number is just a test, going to change it later)\n",
        "T = 20 * u.degC\n",
        "tau = ac.viscosity_dynamic_water(T) * G\n",
        "rho = ac.density_water(T)\n",
        "U_star = (tau/rho)**0.5\n",
        "\n",
        "print(U_star.to(u.cm/u.s))\n",
        "\n",
        "# this gives very roughy 0.2 mm with a good bit of rounding. \n",
        "\n",
        "\n",
        "#################\n",
        "# calculating the velocity in the inlet channel between the flocculator and sed tank:\n",
        "hl_sed = 5 *u.cm  #headloss in the sed tank from Monroe\n",
        "SED_TANK_Q_RATIO = 0.95   #known flow ratio for sed tank\n",
        "v_chan = (np.sqrt(hl_sed*2*ac.GRAVITY/(1-SED_TANK_Q_RATIO**2))).to(u.m/u.s)\n",
        "print(v_chan)\n"
      ],
      "execution_count": 4,
      "outputs": [
        {
          "output_type": "stream",
          "text": [
            "0.6336 centimeter / second\n",
            "3.171 meter / second\n"
          ],
          "name": "stdout"
        }
      ]
    },
    {
      "cell_type": "markdown",
      "metadata": {
        "id": "NjY4eL02PVre",
        "colab_type": "text"
      },
      "source": [
        "## Calculate the kinetic energy and velocity exiting the influent pipe at Gracias\n"
      ]
    },
    {
      "cell_type": "code",
      "metadata": {
        "id": "_eft7wdMPTIK",
        "colab_type": "code",
        "colab": {
          "base_uri": "https://localhost:8080/",
          "height": 50
        },
        "outputId": "1ab93aac-a1ae-4b67-962c-6e00eb37f56f"
      },
      "source": [
        "q = (60 * u.L/u.s).to(u.m**3/u.s)\n",
        "ID = 0.2 * u.m # inner diameter of influent pipe at Gracias\n",
        "a = 0.25*np.pi*ID**2\n",
        "v_influent = q/a\n",
        "KE_influent = v_influent**2/(2*ac.GRAVITY)\n",
        "\n",
        "print('The velocity exiting the influent pipe is ', v_influent)\n",
        "print('The kinetic energy exiting the influent pipe is ', KE_influent.to(u.cm))"
      ],
      "execution_count": 4,
      "outputs": [
        {
          "output_type": "stream",
          "text": [
            "The velocity exiting the influent pipe is  1.91 meter / second\n",
            "The kinetic energy exiting the influent pipe is  18.6 centimeter\n"
          ],
          "name": "stdout"
        }
      ]
    },
    {
      "cell_type": "markdown",
      "metadata": {
        "id": "wgYbX74f9b6Q",
        "colab_type": "text"
      },
      "source": [
        "## Calculate Ke = v^2/2g through the plate settlers at Gracias\n"
      ]
    },
    {
      "cell_type": "code",
      "metadata": {
        "id": "m9q7LQ0v-oxh",
        "colab_type": "code",
        "colab": {
          "base_uri": "https://localhost:8080/",
          "height": 50
        },
        "outputId": "99a8499a-74e8-4480-cec7-f47ad38d401d"
      },
      "source": [
        "# calculate the kinetic energy through the plate settlers at Gracias\n",
        "\n",
        "q = (60 * u.L/u.s).to(u.m**3/u.s)\n",
        "s = 0.0250 * u.m # edge-to-edge distance between plate settlers (ie. does not include plate thickness)\n",
        "n = 24 # number of plate settlers in entrance tank\n",
        "w = 0.6 * u.m # plate settler width\n",
        "area = s*(n+1)*w\n",
        "v = q/area\n",
        "Ke = v**2/(2*ac.GRAVITY)\n",
        "\n",
        "print('The hypothetical velocity through the plate settlers assuming uniform flow is ', v)\n",
        "print('The kinetic energy through the plate settlers at Gracias is ', Ke.to(u.cm))"
      ],
      "execution_count": null,
      "outputs": [
        {
          "output_type": "stream",
          "text": [
            "The hypothetical velocity through the plate settlers assuming uniform flow is  0.16 meter / second\n",
            "The kinetic energy through the plate settlers at Gracias is  0.1305 centimeter\n"
          ],
          "name": "stdout"
        }
      ]
    },
    {
      "cell_type": "markdown",
      "metadata": {
        "id": "pfptXf_ySEKQ",
        "colab_type": "text"
      },
      "source": [
        "## Calculate the velocity through the channel leading to the LFOM"
      ]
    },
    {
      "cell_type": "code",
      "metadata": {
        "id": "zq0FYZHzSdWR",
        "colab_type": "code",
        "colab": {
          "base_uri": "https://localhost:8080/",
          "height": 50
        },
        "outputId": "8ff9a7fb-92d7-4b3a-823b-b3c47c083ae0"
      },
      "source": [
        "# calculate the velocity through the channel leading to the LFOM\n",
        "\n",
        "q = (60 * u.L/u.s).to(u.m**3/u.s)\n",
        "d = 0.6278 * u.m # depth of water immediately after the plate settlers measured to the top hole on the LFOM (ie. assuming holes are completely covered at 60 L/s flow)\n",
        "w = 0.6 * u.m # width of ET\n",
        "area_LFOMchan = d*w\n",
        "v_LFOMchan = q/area_LFOMchan\n",
        "Ke_LFOMchan = v_LFOMchan**2/(2*ac.GRAVITY)\n",
        "\n",
        "print('The velocity in the channel leading to the LFOM is ', v_LFOMchan)\n",
        "print('The kinetic energy in the channel leading to the LFOM ', Ke_LFOMchan.to(u.cm))"
      ],
      "execution_count": null,
      "outputs": [
        {
          "output_type": "stream",
          "text": [
            "The velocity in the channel leading to the LFOM is  0.1593 meter / second\n",
            "The kinetic energy in the channel leading to the LFOM  0.1294 centimeter\n"
          ],
          "name": "stdout"
        }
      ]
    },
    {
      "cell_type": "markdown",
      "metadata": {
        "id": "hDhNyXqJocCp",
        "colab_type": "text"
      },
      "source": [
        "**Reflection:** It makes sense that neither the velocity or Ke change very much in these two calculations, because the cross-sectional area for flow didn't really change, and v = q/a. The Ke through the plate settlers is well below 5 cm (5 cm would be considered very high)"
      ]
    },
    {
      "cell_type": "markdown",
      "metadata": {
        "id": "TFi3nDQkWq86",
        "colab_type": "text"
      },
      "source": [
        "## Calculate the required length of the entrance tank"
      ]
    },
    {
      "cell_type": "code",
      "metadata": {
        "id": "2-YXKJ_NmdH7",
        "colab_type": "code",
        "colab": {
          "base_uri": "https://localhost:8080/",
          "height": 67
        },
        "outputId": "8f650617-c569-4599-e0b2-1a0eb854798b"
      },
      "source": [
        "# calculate the required ET length for a 60 L/s plant, assuming it has the same width as the flocculators at Gracias\n",
        "\n",
        "q = (60 * u.L/u.s).to(u.m**3/u.s)\n",
        "T = 20 * u.degC\n",
        "nu = ac.viscosity_kinematic_water(T)\n",
        "rho_H20 = ac.density_water(T)\n",
        "rho_p = 2650 *u.kg/u.m**3 # density of sand\n",
        "d_p = (0.1 * u.mm).to(u.m) # minimum grit diameter to be removed according to Kawamura\n",
        "w = 0.60 * u.m # assume ET is same width as the flocculator\n",
        "v_c = ((rho_p - rho_H20)*ac.GRAVITY*d_p**2)/(18*nu*rho_H20)\n",
        "print('The cricitcal velocity is ',v_c.to(u.mm/u.s))\n",
        "\n",
        "# check that flow is in laminar regime for Stokes' law to be valid\n",
        "Re = v_c*d_p/nu\n",
        "print('The Reynolds number is ', Re)\n",
        "\n",
        "# calculate the required ET length\n",
        "area = q/v_c\n",
        "length_ET = area/w\n",
        "print('The entrance tank length is ', length_ET)"
      ],
      "execution_count": 8,
      "outputs": [
        {
          "output_type": "stream",
          "text": [
            "The cricitcal velocity is  8.984 millimeter / second\n",
            "The Reynolds number is  0.8952 dimensionless\n",
            "The entrance tank length is  11.13 meter\n"
          ],
          "name": "stdout"
        }
      ]
    },
    {
      "cell_type": "markdown",
      "metadata": {
        "id": "kfE5rsTR1G5S",
        "colab_type": "text"
      },
      "source": [
        "**Reflection:** The calculated critical velocity is 8.984 mm/s, which is very close to the 8 mm/s that Monroe suggested. The Reynolds number is well within the laminar regime so using Stokes' law was an appropriate decision. The entrance tank requires a length of 11.13 meters. For comparison, the length of one treatment train at Gracias (sed tanks + flocculators) is approxiamtely 15 m, and the width of one treatment train is about 7 m. "
      ]
    },
    {
      "cell_type": "markdown",
      "metadata": {
        "id": "4G9cqdXGgEWB",
        "colab_type": "text"
      },
      "source": [
        "# Information and Notes"
      ]
    },
    {
      "cell_type": "markdown",
      "metadata": {
        "id": "_LBPgdWKAUNM",
        "colab_type": "text"
      },
      "source": [
        "## Information sources\n",
        "1.  [Capstone Design: Improved Entrance Tank Design](https://github.com/AguaClara/CEE4520/blob/master/Previous_Final_Projects/2019F/Improved_Entrance_Tank.ipynb)\n",
        "1.   MWH textbook\n",
        "1.   [Susumu Kawamura textbook](https://photos.app.goo.gl/6KWgu6m9uSKmRAKH9)\n",
        "1.   [Sed tank design code example](https://colab.research.google.com/github/AguaClara/CEE4520/blob/master/Unit_Process_Designs/Sed.ipynb)\n",
        "1. [Gracias CAD Design](https://cad.onshape.com/documents/cb0559d6c3bd85907f8704d3/w/8b31f12d476b14cf91bd29d9/e/6d7584b2804b3c166ba1e991)\n",
        "\n",
        "## Problems with the current design\n",
        "\n",
        "1.   Explore options to reduce the kinetic energy of the incoming water. This results in lots of wave action and splashing. Perhaps inject the water deeper into the entrance tank so that turbulent eddies are somewhat dissipated by the time they get to the water surface. Or direct the water against the wall of the tank? Perhaps  2\" diameter diffusers (so that clogging isn't a problem) in the vertical entrance pipe with the diffusers pointing upstream toward the end wall of the entrance tank? \n",
        "1.   Plate settlers don't work because the velocities are too high and flow isn't distributed at all unformly through the plates. Recommend either improving flow distribution (see 4520 capstone design project) or reverting to a simple horizontal flow tank to capture grit. The simple horizontal sed tank should be explored as the simplest option.\n",
        "1.   Velocity through the bar screen is too high. Increase the area for the bar screen and include a minimum of 2 bar screens and 3 tracks for inserting the screens so that one can be removed and cleaned and replaced. Screen can be angled to enable it to have more surface area.\n",
        "1.   Velocity of approach for the LFOM is too high causing wave action. See if we can predict the wave action that is observed at Gracias. The waves are simple a conversion of kinetic energy into potential energy, $v=\\sqrt{2gh}$. \n",
        "\n",
        "The new entrance tank will likely take more horizontal space OR it is likely that it simply is the full depth of the flocculator with several hoppers that drain any accumulated sediment.\n",
        "\n",
        "## Strategy\n",
        "\n",
        "1.  Design the ET in python\n",
        "1.  Draw the ET in Onshape\n",
        "1.  Transition on the python code to Feature Script\n",
        "1.  Intergrate the new ET with the flocculator, LFOM, and CDC\n",
        "\n"
      ]
    },
    {
      "cell_type": "markdown",
      "metadata": {
        "id": "Yl1rDCsM1Bav",
        "colab_type": "text"
      },
      "source": [
        "## Notes from meeting with Monroe\n",
        "\n",
        "\n",
        "\n",
        "\n",
        "\n",
        "\n"
      ]
    },
    {
      "cell_type": "markdown",
      "metadata": {
        "id": "9GgOzrQf8Kau",
        "colab_type": "text"
      },
      "source": [
        "### Wed. June 24\n",
        "- clarification: we are concerned with splashing everywhere in the ET\n",
        "- start with worst case scenario, if the pipe coming into the entrance tank was directed right towards the surface. Take the velocity coming out of influent pipe, and find the velocity flowing uniformly between the plates. There is very little headloss between the plates, so it's difficult to get an even distribution of flow\n",
        "- From powerpoint about turbulence:\n",
        "  - b is the width of the jet\n",
        "  - Vc is the velocity at the center of the jet\n",
        "  - s equals the distance forward\n",
        "  - there is a pproximately a 1/10 ratio between s and b, ie. b = 0.116s or something like that (number might not be exactly correct). Suppose the orifices on a trash rack are spaced out a centimeter. This means that 10 cm out, all of the jets will have merged.\n",
        "- We want to create many small eddies, because they dissipate the fastest, the trash rack can possibly help with this.\n",
        "  - Make the trash rack taller and potentially at a slope to increase surface area.\n",
        "  - at the far end of the flocculator, the channel is 2 m deep (we think), upstream add 50 cm headloss, then add 10 cm drop in the LFOM, and then an additional 20 cm for a total of 2.8 m height in the entrance tank. The trash racks would be placed after the first hopper and would go as deep as the top of the hopper. There is a physical limitation to how deep the trash rack can be, because the operators have to be able to lift it to clean it.\n",
        "- There are going to be 4 sided hoppers, need to determine how many and the length of the entrance tank. The number of drains depends on the size of particles. Confirm capture velocity from Kawamura textbook being 8 mm/s and this will set the length of the sed tank\n",
        "- the influent pipe would have a firnco coupling so it can be taken out, and possibly capped at the bottom end to prevent water from flowing straight down into the first hopper. This would be bad because it would not promote even flow throughout the tank. Influent pipe could also have a slot on the side instead of diffusers.\n",
        "- the eddy velocity in a pipe is roughly 10% of the mean velocity\n",
        "\n",
        "**Action Items:**\n",
        "- Monroe will send the pictures of the Kawamura textbook **complete**\n",
        "- Calculate v^2/2g for the plate settlers as Gracias. 5 cm would be a lot. **complete**\n",
        "- Calculate the velocity in the channel leading to the LFOM (where it gets a lot more shallow really fast) **complete**\n",
        "- Calculate how long the ET would need to be for a 60 L/s plant when designed as a horizontal sedimentation chamber. Assume the same flocculator width as Gracias. **complete**\n",
        "\n",
        "**Reflections & Future Questions**\n",
        "- Will flow expansion around a barrier dissipate more kinetic energy than water flowing through a barrier with a bunch of hole drilled into it? \n",
        "- Do non-AguaClara entrance tanks have similar problems? Can we learn anything from how problems have been dealt with in the past? \n",
        "- is the energy dissipation rate of water coming out of the influent pipe related to the energy dissipation rate of the turbulent eddies?\n",
        "- For predicting wave action around LFOM, what observations at Gracias should this be based off of?\n",
        "- are there any drawbacks to injecting the water deeper in the entrance tank?\n",
        "- the bottom geometry of the entrance tank should be selected to ensure that maintenance and the removal of grit is simple and effective. "
      ]
    },
    {
      "cell_type": "markdown",
      "metadata": {
        "id": "KQK_isEi4X1o",
        "colab_type": "text"
      },
      "source": [
        "**Kawamura Textbook Notes:**\n",
        "\n",
        "- \"a hydraulic scale model conducted by the author clearly demonstrated that when the screen is installed properly, it functions as an inlet diffuser wall\"\n",
        "- \"The square tank is satisfactory for the purpose of wastewater treatment but does not perform well as a water treatment grit chamber. The main problem with the detritus [square] tank is a function of its physical characteristics. The short tank length and the uneven inflow to the tank cause severe flow short-circuiting. ... To provide good flow characteristics for grit settling, the chamber should be rectangular with a contracted inlet.\""
      ]
    },
    {
      "cell_type": "markdown",
      "metadata": {
        "id": "kMHpRka0g2v2",
        "colab_type": "text"
      },
      "source": [
        "## Task: Reduce the kinetic energy of the influent water\n",
        "\n",
        "**Problem:** The high kinetic energy of the influent water causes lots of wave action and splashing \n",
        "\n",
        "**Possible Solutions**\n",
        "1. inject the water deeper into the entrance tank so that turbulent eddies are somewhat dissipated by the time they get to the water surface.\n",
        "1. direct the water against the wall of the tank\n",
        "1. use 2\" diameter diffusers (so that clogging isn't a problem) in the vertical entrance pipe with the diffusers pointing upstream toward the end wall of the entrance tank\n",
        "\n"
      ]
    },
    {
      "cell_type": "markdown",
      "metadata": {
        "id": "JFdv6qj6jz3D",
        "colab_type": "text"
      },
      "source": [
        "### Task 1 Solution 1: Inject water deeper in the entrance tank so that turbulent eddies are somewhat dissipated by the time they get to the water surface\n",
        "\n",
        "**Edit 6/24: not sure that we really need to any math to determine how deep the influent tube should be. would probably just position it as low as possible. Ask Monroe later.**\n",
        "\n",
        "- Define \"somewhat dissipated.\"\n",
        "  - From AC textbook: \"Eddy turnover time, $t_{eddy}$, is the time it takes for the eddy to travel a distance equal to its length-scale. Thus the eddy turnover time provides a good estimate of the time required for mixing to occur at the length scale of the eddy. **We assume that the energy of the large eddy is dissipated into smaller length scales in the time $t_{eddy}$:**\"\n",
        "\n",
        "- Which equations govern the dissipation of turbulent eddies?\n",
        "$$t_{eddy} \\approx \\frac{L_{eddy}}{v_{eddy}}$$\n",
        "\n",
        "   The rate of energy loss to smaller scales\n",
        "$$\\bar\\varepsilon \\approx\\frac{v_{eddy}^3}{L_{eddy}}$$\n",
        "\n",
        "   and therefore...\n",
        "\n",
        "$$v_{eddy} \\approx \\left( \\bar\\varepsilon \\, L_{eddy} \\right)^\\frac{1}{3}$$\n",
        "\n",
        "- \"The largest eddies are limited in size by the smallest dimension normal to the direction of flow\"\n",
        "\n",
        "   *Therefore the length scale of a turbulent eddy in the entrance tank is either the vertical distance between the water surface and the 'baffle wall', or the width of the entrance tank (whichever distance is smaller).*???\n",
        "\n",
        "- How is water currently being injected?\n",
        "  - see onshape drawing, there's a tee at the end of the pipe so water flows out horizontally towards the side walls of the entrance tank\n",
        "\n",
        "- For reference: The form of energy loss from the influent pipe is expansion, (ie. the following equations are relevant)\n",
        "\n",
        "$$h_e = K\\frac{\\bar v_{out}^2}{2g}$$\n",
        "\n",
        "$$\\bar\\varepsilon = K\\frac{\\bar v_{out}^3}{2H}$$\n",
        "\n",
        "$$G_{CS} = \\bar v_{out}\\sqrt{\\frac{K\\bar v_{out}}{2H\\nu}}$$\n",
        "\n",
        " \n",
        "- Determine the injection depth needed so that turbulent eddies are \"somewhat dissipated\"\n",
        "  \n"
      ]
    }
  ]
}