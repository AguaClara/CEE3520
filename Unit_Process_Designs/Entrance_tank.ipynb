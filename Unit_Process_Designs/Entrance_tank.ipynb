{
  "nbformat": 4,
  "nbformat_minor": 0,
  "metadata": {
    "colab": {
      "name": "Entrance_tank.ipynb",
      "provenance": [],
      "collapsed_sections": [
        "EVHi7Cq1kYi6",
        "tLdFDkOjMp2d",
        "TFi3nDQkWq86",
        "j4aXnPr0PLLd",
        "4G9cqdXGgEWB",
        "-1z3-G_omutf"
      ],
      "include_colab_link": true
    },
    "kernelspec": {
      "name": "python3",
      "display_name": "Python 3"
    }
  },
  "cells": [
    {
      "cell_type": "markdown",
      "metadata": {
        "id": "view-in-github",
        "colab_type": "text"
      },
      "source": [
        "<a href=\"https://colab.research.google.com/github/AguaClara/CEE4520/blob/master/Unit_Process_Designs/Entrance_tank.ipynb\" target=\"_parent\"><img src=\"https://colab.research.google.com/assets/colab-badge.svg\" alt=\"Open In Colab\"/></a>"
      ]
    },
    {
      "cell_type": "markdown",
      "metadata": {
        "id": "dcXKB6AkUAw_",
        "colab_type": "text"
      },
      "source": [
        "# Entrance Tank\n",
        "\n",
        "**Note:** I moved the executive summary to the 'Information and Notes' section, because it was outdated. I will put it at the top of the page again after I update it. \n",
        "\n",
        "\n",
        "\n",
        "\n"
      ]
    },
    {
      "cell_type": "markdown",
      "metadata": {
        "id": "BbTCJYaPRaEU",
        "colab_type": "text"
      },
      "source": [
        "# Python Calculations"
      ]
    },
    {
      "cell_type": "code",
      "metadata": {
        "id": "9N-YsZ8rQVkq",
        "colab_type": "code",
        "colab": {
          "base_uri": "https://localhost:8080/",
          "height": 301
        },
        "outputId": "7d23119b-5620-464c-b738-a5bf58e0e7e5"
      },
      "source": [
        "!pip install aguaclara\n",
        "from aguaclara.core.units import unit_registry as u\n",
        "import aguaclara as ac\n",
        "import numpy as np\n",
        "\n",
        "# global variables\n",
        "q = (60 * u.L/u.s).to(u.m**3/u.s)\n",
        "T = 20 * u.degC\n",
        "rho_H20 = ac.density_water(T)\n",
        "rho_p = 2650 *u.kg/u.m**3 # density of sand\n",
        "nu = ac.viscosity_kinematic_water(T) # kinematic viscosity\n",
        "mu = nu*rho_H20 # dynamic viscosity of \n",
        "w_flocculator = 0.60 * u.m # the width of one flocculator at Gracias (inner width ie. does not include thickness of the concrete)\n",
        "length_flocculator = 7.10 * u.m # the length of one flocculator channel at Gracias (inner length ie. does not include thickness of the concrete)\n",
        "depth_flocculator = 2.17 * u.m  # at Gracias (flocculator design code say 2.08)\n"
      ],
      "execution_count": 10,
      "outputs": [
        {
          "output_type": "stream",
          "text": [
            "Requirement already satisfied: aguaclara in /usr/local/lib/python3.6/dist-packages (0.2.3)\n",
            "Requirement already satisfied: scipy in /usr/local/lib/python3.6/dist-packages (from aguaclara) (1.4.1)\n",
            "Requirement already satisfied: pint in /usr/local/lib/python3.6/dist-packages (from aguaclara) (0.14)\n",
            "Requirement already satisfied: matplotlib in /usr/local/lib/python3.6/dist-packages (from aguaclara) (3.2.2)\n",
            "Requirement already satisfied: pandas in /usr/local/lib/python3.6/dist-packages (from aguaclara) (1.0.5)\n",
            "Requirement already satisfied: urllib3 in /usr/local/lib/python3.6/dist-packages (from aguaclara) (1.24.3)\n",
            "Requirement already satisfied: numpy>=1.13.3 in /usr/local/lib/python3.6/dist-packages (from scipy->aguaclara) (1.18.5)\n",
            "Requirement already satisfied: setuptools in /usr/local/lib/python3.6/dist-packages (from pint->aguaclara) (49.1.0)\n",
            "Requirement already satisfied: packaging in /usr/local/lib/python3.6/dist-packages (from pint->aguaclara) (20.4)\n",
            "Requirement already satisfied: importlib-metadata; python_version < \"3.8\" in /usr/local/lib/python3.6/dist-packages (from pint->aguaclara) (1.7.0)\n",
            "Requirement already satisfied: kiwisolver>=1.0.1 in /usr/local/lib/python3.6/dist-packages (from matplotlib->aguaclara) (1.2.0)\n",
            "Requirement already satisfied: pyparsing!=2.0.4,!=2.1.2,!=2.1.6,>=2.0.1 in /usr/local/lib/python3.6/dist-packages (from matplotlib->aguaclara) (2.4.7)\n",
            "Requirement already satisfied: cycler>=0.10 in /usr/local/lib/python3.6/dist-packages (from matplotlib->aguaclara) (0.10.0)\n",
            "Requirement already satisfied: python-dateutil>=2.1 in /usr/local/lib/python3.6/dist-packages (from matplotlib->aguaclara) (2.8.1)\n",
            "Requirement already satisfied: pytz>=2017.2 in /usr/local/lib/python3.6/dist-packages (from pandas->aguaclara) (2018.9)\n",
            "Requirement already satisfied: six in /usr/local/lib/python3.6/dist-packages (from packaging->pint->aguaclara) (1.12.0)\n",
            "Requirement already satisfied: zipp>=0.5 in /usr/local/lib/python3.6/dist-packages (from importlib-metadata; python_version < \"3.8\"->pint->aguaclara) (3.1.0)\n"
          ],
          "name": "stdout"
        }
      ]
    },
    {
      "cell_type": "markdown",
      "metadata": {
        "id": "7U7kQU1A6SJo",
        "colab_type": "text"
      },
      "source": [
        "## Design the Entrance Tank in Python\n",
        "\n",
        "*The entrance tank will morph from option 2 (like Gracias) to option 3 (full length of the flocculator) to wider (to get even better removal of grit). Determine the number of hoppers depending on the L/W ratio.* \n",
        "\n",
        "**Comments/questions on the design**\n",
        "- does area from essential parts of the ET (such as the LFOM) count towards area needed for the grit chamber?\n",
        "- are we sure that we want a grit chamber inside the plant, opposed to by the intake?\n",
        "- 2 ways to calculate the size of drain pipes: which is correct?\n",
        "- Let's say we choose to dissipate KE by aiming the water towards the back wall, and let it expand to half of the ET width? How would we calulate the influent area if we don't know how wide the entrance tank is yet?\n",
        "\n",
        "\n"
      ]
    },
    {
      "cell_type": "code",
      "metadata": {
        "id": "1YaaIvjsbWIb",
        "colab_type": "code",
        "colab": {}
      },
      "source": [
        "#### Official Code ####\n",
        "\n",
        "\"\"\"The entrance tank of an AguaClara water treatment plant\"\"\"\n",
        "\n",
        "!pip install aguaclara\n",
        "from aguaclara.core.units import unit_registry as u\n",
        "import aguaclara as ac\n",
        "import numpy as np\n",
        "\n",
        "class EntranceTank(Component):\n",
        "  \"\"\"Design an AguaClara plant's entrance tank. \n",
        "\n",
        "     An entrance tank's design relies on the LFOM's and the floccualtor's design in\n",
        "     the same plant, but assumed/default values may be used to design an entrance\n",
        "     tank by itself. To design these components in tandem, use :class:`aguaclara.design.ent_floc.EntTankFloc`.\n",
        "\n",
        "     Design Inputs:\n",
        "        - ``q (float * u.L / u.s)``: Flow rate (recommended, defaults to 60 L/s)\n",
        "        - ``temp (float * u.degC)``: Water temperature (recommended, defaults to 20°C)\n",
        "        - ``diam_p (float * u.mm)``: The smallest particle that needs to be captured by the entrance tank grit chamber (optional, defaults to 2.5 mm)\n",
        "        - ``lfom_nd (float * u.inch)``: The LFOM's nominal diameter (recommended,defaults to 10 inch\")\n",
        "        - ``fab_s(float * u.cm)``: The space needed for a person to remove the drain pipe (optional, defaults to 5 cm)\n",
        "        - ``hopper_LWratio (float)``: The length:width ratio of a hopper. Used to manipulate the tradeoff between hopper depth and number of hoppers (optional, defaults to 1)\n",
        "        - ``hopper_slope (float)``: The slope of the hopper walls (optional, defaults to 1)\n",
        "  \"\"\"\n",
        "  def __init__(self, **kwargs):\n",
        "      self.q = 60 * u.L/u.s\n",
        "      self.temp = 20 * u.degC\n",
        "      self.lfom_nd = 10 * u.inch # is this an actual pipe size. What is used in Gracias?\n",
        "      self.diam_p = 2.5 * u.mm\n",
        "      self.hopper_LWratio = 1\n",
        "      self.hopper_slope = 1 # corresponds to a 45 deg angle, the angle of repose for sand when wet\n",
        "      self.tRack_diam = 2 * u.mm\n",
        "      \n",
        "      super().__init__(**kwargs) # no idea what this does but it's in all the other code\n",
        "\n",
        "  @property\n",
        "  def grit_area(self):\n",
        "      \"\"\"the required area of the grit chamber\"\"\"\n",
        "      grit_area = 0 * u.m**2\n",
        "      if self.diam_p < self.tRack_diam: # there is no need for a grit chamber if the desired particle size will be trapped by the trash rack \n",
        "         rho_H20 = ac.density_water(self.temp)\n",
        "         rho_sand = 2650 *u.kg/u.m**3\n",
        "         nu = ac.viscosity_kinematic_water(self.temp)\n",
        "         v_c = ((rho_sand - rho_H20)*ac.GRAVITY*diam_p**2)/(18*nu*rho_H20)\n",
        "         Re = v_c*diam_p/nu\n",
        "         if Re > 2: # recalculate for transition flow (MWH textbook uses 2 as laminar boundary)\n",
        "            mu = \n",
        "            v_c = (((rho_sand - rho_H20)*ac.GRAVITY*diam_p**1.6)/(13.9*rho_H20*nu**0.6))**(1/1.4) \n",
        "            Re = v_c*diam_p/nu\n",
        "            grit_area = q/v_c\n",
        "      return grit_area\n"
      ],
      "execution_count": null,
      "outputs": []
    },
    {
      "cell_type": "code",
      "metadata": {
        "id": "2klYzYX770ff",
        "colab_type": "code",
        "colab": {}
      },
      "source": [
        "#### Working Code ####\n",
        "\n",
        "# Design the entrance tank in python (note: will probably rewrite this in a class)\n",
        "\n",
        "def grit_chamber(q,T,d_p): # **complete**\n",
        "    \"\"\"Calculates the required area of a grit chamber given plant flow rate, temperature, and critical particle size\"\"\"\n",
        "    rho_H20 = ac.density_water(T)\n",
        "    rho_p = 2650 *u.kg/u.m**3 # density of sand\n",
        "    nu = ac.viscosity_kinematic_water(T) # kinematic viscosity\n",
        "    v_c = ((rho_p - rho_H20)*ac.GRAVITY*d_p**2)/(18*nu*rho_H20)\n",
        "    Re = v_c*d_p/nu\n",
        "    if Re > 2: # recalculate for transition flow (MWH textbook uses 2 as laminar boundary)\n",
        "       v_c = (((rho_p - rho_H20)*ac.GRAVITY*d_p**1.6)/(13.9*mu**0.6*rho_H20**0.4))**(1/1.4) \n",
        "       Re = v_c*d_p/nu\n",
        "    grit_area = q/v_c\n",
        "    return grit_area\n",
        "\n",
        "def et_area(q,T,d_p):\n",
        "    \"\"\"Calcualtes the required area of the entrance tank given plant flow rate, temperature, and desired particle size to remove\"\"\"\n",
        "    grit_area = grit_chamber(q,T,d_p)\n",
        "    # LFOM_area = \n",
        "    # influent_area = \n",
        "    # tRacks_area = \n",
        "    et_area = grit_area #+ LFOM_area + influent_area + tRacks_area\n",
        "    return et_area\n",
        "\n",
        "# Algorithm: Default is an entrance tank in-line with the flocculator. However, if this produces an entrance tank that is longer than a sed tank, then the\n",
        "# entrance tank gets its own channel. Additionally, if the first flocculator channel is smaller than one baffle spacing, the entrance tank should also get its\n",
        "# for construction purposes. The following is also true, but not necessarily incorporated into the logic: \n",
        "      #if et_area/sed_length > flocc_widthMax, then the et MUST get its own channel\n",
        "      #if et_area_sed_length < flocc_widthMin, the the et MUST be incorporated in the first channel\n",
        "\n",
        "def etFlocc_specs(flocc_area,flocc_widthMax,flocc_widthMin,sed_length,q,T,d_p):\n",
        "    \"\"\"Calculates the dimensions of the entrance tank, the dimensions of the flocculator, and the number of channels\"\"\"\n",
        "    et_area = et_area(q,T,d_p)\n",
        "    total_area = et_area + flocc_area\n",
        "    n_channels = np.ceil(total_area/(sed_length * flocc_widthMax)) \n",
        "    channel_width = total_area/(sed_length*n_channels)\n",
        "    # throw an error if channel_width < channel_min - is this situation physically possible?\n",
        "    et_length = et_area/channel_width\n",
        "    et_width = channel_width\n",
        "    flocc_width = channel_width\n",
        "\n",
        "    if et_length >= sed_length: # the entrance tank gets its own channel\n",
        "       et_length = sed_length\n",
        "       et_width = et_area/et_length\n",
        "       n_chanFloc = np.ceil(flocc_area/(sed_length * flocc_widthMax))\n",
        "       flocc_width = flocc_area/(sed_length*n_chanFloc)\n",
        "       # throw an error if channel_width < channel_min - is this situation physically possible?\n",
        "\n",
        "    # For contruction purposes, the first channel of the flocculator should have a minimum size, ie. it should be able to fit at least one baffle\n",
        "    elif sed_length - et_length < SF*baffle_spacing: # ie. if the first channel of the flocculator is smaller than the baffle spacing, then ET gets its own channel\n",
        "       et_length = sed_length\n",
        "       et_width = et_area/et_length\n",
        "       if et_width < flocc_widthMin:\n",
        "          et_width = flocc_widthMin\n",
        "       n_chanFloc = np.ceil(flocc_area/(sed_length * flocc_widthMax))\n",
        "       flocc_width = flocc_area/(sed_length * n_ChanFloc)\n",
        "       # update n_channels?  \n",
        "    return et_width,et_length,flocc_width,flocc_length,n_channels\n",
        "\n",
        "\n",
        "### Hopper Design ###\n",
        "\n",
        "def hopper_design(width_ET,length_ET):\n",
        "    \"\"\"Determine the number of hoppers and their dimensions\"\"\"\n",
        "    LW_ratio_design = 1 # dimensionless variable used to manipulate the tradeoff between hopper depth and number of hoppers\n",
        "    width_hopper = width_ET\n",
        "    length_hopper = LW_ratio_design*width_hopper\n",
        "    n_hoppers = np.floor(length_ET/length_hopper)\n",
        "    # redistribute extra space to each hopper equally\n",
        "    extraLength = (length_ET - n_hoppers*length_hopper)/n_hoppers # the extra length added to each hopper to fill the entire grit chamber\n",
        "    length_hopper = length_hopper + extraLength\n",
        "    LW_ratio_actual = length_hopper/width_hopper\n",
        "\n",
        "    # the minimum number of hoppers is 2 (either side of the trash racks) need to flesh out this scenario\n",
        "\n",
        "    print('There are ',n_hoppers.magnitude, 'hoppers with a length:width ratio of ', LW_ratio_actual)\n",
        "    print('The width of each hopper is ', width_hopper)\n",
        "    print('The length of each hopper is ',length_hopper)\n",
        "\n",
        "    # determine the diameter of the drain pipe\n",
        "    t_drain = (5 * u.min).to(u.s) # this was an arbitrary choice\n",
        "    L_tank = length_ET # need to think more about this\n",
        "    W_tank = width_ET # need to think more about this\n",
        "    H_tank = depth_flocculator # for now. we haven't decided how deep it will actually be\n",
        "    sum_K = ac.PIPE_ENTRANCE_K_MINOR + ac.PIPE_EXIT_K_MINOR + ac.EL90_K_MINOR\n",
        "    ID_drainpipe = ((8*L_tank*W_tank)/(np.pi*t_drain))**0.5*((H_tank*sum_K)/(2*ac.GRAVITY))**0.25\n",
        "    print('The inner diameter of the hopper drainpipe is ',ID_drainpipe)\n",
        "    # looking at old ET code in aguaclara/design/ent.py, it uses a different method to find the \n",
        "    # drain pipe size which is through ac.diam_pipe(q,headloss,length,nu,piperough,kminor)\n",
        "\n",
        "    # need to ensure that the inner diameter is actually one that exists for common pipes\n",
        "    #OD_drainpipe = (ac.OD).to(u.m)\n",
        "\n",
        "    # determine the hopper depth\n",
        "    fab_s = (5 * u.cm).to(u.m) # the space needed for a person to remove the drain pipe (reference aguaclara/design/ent.py)\n",
        "    s_drainfloor = ID_drainpipe + 2*fab_s # the drain floor is a square with the drain pipe in the middle. This is the side-length of that square.\n",
        "    # s_drainfloor needs to be calculated with OD_drainpipe, but I used ID_drainpipe for now so the code would run\n",
        "\n",
        "    # the angle of repose for wet sand is 45 degrees ie. slope = 1\n",
        "    slope_zx = 1 # minimum allowable slope for the hopper wall in the longitudinal direction \n",
        "    slope_zy = 1 # minimum allowable slope for the hopper wall in the transverse direction\n",
        "    length_hopperWall_long = 0.5*(length_hopper - s_drainfloor)\n",
        "    length_hopperWall_trans = 0.5*(width_hopper - s_drainfloor)\n",
        "    depth_hopper_long = slope_zx * length_hopperWall_long # the distance between the bottom of the ET and the top of the hopper in the longitudinal direction\n",
        "    depth_hopper_trans = slope_zy * length_hopperWall_trans # the distance between the bottom of the ET and the top of the hopper in the transverse direction\n",
        "\n",
        "    print('The depth of the hopper in the longitudinal direction is ', depth_hopper_long.to(u.cm))\n",
        "    print('The depth of the hopper in the transverse direction is ', depth_hopper_trans.to(u.cm))\n",
        "\n",
        "\n",
        "\n",
        "\n",
        "\n",
        "\n"
      ],
      "execution_count": 9,
      "outputs": []
    },
    {
      "cell_type": "code",
      "metadata": {
        "id": "V-qRuVhuSe9V",
        "colab_type": "code",
        "colab": {
          "base_uri": "https://localhost:8080/",
          "height": 67
        },
        "outputId": "287ac533-2971-498b-cf5a-334e41922272"
      },
      "source": [
        "# Miscellaneous Code\n",
        "####################################################################\n",
        "\n",
        "def et_length(floc_width):\n",
        "        # Important Et Parameters that define it's length\n",
        "    length_LFOM = 2*nd_LFOM \n",
        "    length_LFOMspace = (80 * u.cm).to(u.m) # the space needed at the end of the ET, if it is the full length of the flocculator\n",
        "    length_gritChamber # depends on floc width\n",
        "    length_tRacks # longitudinal space that the grates take up.\n",
        "    length_influent # depends on ET width\n",
        "    et_length = LFOM_length + LFOMspace_length + grit_length + tRacks_length + influent_length\n",
        "    return et_length\n",
        "\n",
        "# calculate dimensions of the entrance tank (assuming it includes all essential ET components like the LFOM, etc.)\n",
        "d_p = (0.25 * u.mm).to(u.m) # minimum grit diameter to be removed (arbitrary number chosen - depends on water source)\n",
        "v_c = ((rho_p - rho_H20)*ac.GRAVITY*d_p**2)/(18*nu*rho_H20)\n",
        "Re = v_c*d_p/nu\n",
        "if Re > 2: # recalculate for transition flow (MWH textbook uses 2 as laminar boundary)\n",
        "   v_c = (((rho_p - rho_H20)*ac.GRAVITY*d_p**1.6)/(13.9*mu**0.6*rho_H20**0.4))**(1/1.4) \n",
        "   Re = v_c*d_p/nu\n",
        "area_ET = q/v_c\n",
        "print('The area of the entrance tank is',area_ET)\n",
        "width_ET = w_flocculator\n",
        "length_ET = ((area_ET/width_ET).magnitude) * u.m # Need to think about how the area taken up by the LFOM, trashracks, and influent pipe might fit into this\n",
        "if length_ET > length_flocculator:\n",
        "   length_ET = length_flocculator\n",
        "   width_ET = area_ET/length_ET\n",
        "#length_min = length_LFOM + length_tRacks + OD_influent pipe #Figure out how much space the components inside the ET take up \n",
        "#if length_ET < length_min:\n",
        "#   length_ET = length_min\n",
        "\n",
        "print('The length of the entrance tank is ',length_ET)\n",
        "print('The width of the entrance tank is ', width_ET)\n",
        "\n",
        "# trash racks \n",
        "# made of #10 SS round-wire mesh 2 mm diameter\n",
        "# at Gracias, the trash rack is a pvc sheet with 1.3 cm holes drilled into it; however trash racks can also be made with SS mesh\n",
        "\n",
        "#n_tRack = 2 # number of trash racks\n",
        "#n_tRackSlots = n_tRack + 1 # always need an empty slot so that the order of trash racks can be rearranged \n",
        "#s_tRack = (8 * u.cm).to(u.m) # center-center distance between trash racks (8 cm is an arbitrary guess)\n",
        "#n_orifices = # number of orifices per trash rack\n",
        "#d_orifices = # orifice diameter\n",
        "#thickness_tRack = # depends on material probably\n",
        "#width_tRack = width_ET\n",
        "#height_tRack = depth_flocculator\n",
        "\n",
        "# influent pipe\n",
        "\n",
        "# potential diffuser wall\n",
        "\n",
        "# add safety factors?"
      ],
      "execution_count": 31,
      "outputs": [
        {
          "output_type": "stream",
          "text": [
            "The area of the entrance tank is 1.888 meter ** 2\n",
            "The length of the entrance tank is  3.147 meter\n",
            "The width of the entrance tank is  0.6 meter\n"
          ],
          "name": "stdout"
        }
      ]
    },
    {
      "cell_type": "markdown",
      "metadata": {
        "id": "EVHi7Cq1kYi6",
        "colab_type": "text"
      },
      "source": [
        "## Analyze the Kinetic Energy in the Entrance Tank at the Gracias, Honduras Plant"
      ]
    },
    {
      "cell_type": "markdown",
      "metadata": {
        "id": "NpSGSe4gI9NS",
        "colab_type": "text"
      },
      "source": [
        "### Determine if the trash racks will help dissipate the influent kinetic energy"
      ]
    },
    {
      "cell_type": "code",
      "metadata": {
        "id": "wpiOOU1fI7-7",
        "colab_type": "code",
        "colab": {}
      },
      "source": [
        "# trash racks made of #10 SS round-wire, 2 mm diameter mesh\n",
        "\n",
        "n_tRack = 2 # number of trash racks\n",
        "n_tRackSlots = n_tRack + 1 # always need an empty slot so that the order of trash racks can be rearranged \n",
        "s_tRack = (8 * u.cm).to(u.m) # center-center distance between trash racks (8 cm is an arbitrary guess)\n",
        "d = (2 * u.mm).to(u.m) # the size of holes in the mesh (probably square holes, not round holes )\n",
        "d_openings = (10/u.inch).to(1/u.m) # density of opening in #10 mesh\n",
        "#n_orifices = # number of orifices per trash rack\n",
        "#d_orifices = # orifice diameter\n",
        "#thickness_tRack = # depends on material probably\n",
        "width_tRack = width_ET\n",
        "height_tRack = depth_flocculator\n",
        "\n",
        "#h_L through a wire mesh equation from 4520 ET design\n",
        "h_L "
      ],
      "execution_count": null,
      "outputs": []
    },
    {
      "cell_type": "markdown",
      "metadata": {
        "id": "NjY4eL02PVre",
        "colab_type": "text"
      },
      "source": [
        "### Calculate the kinetic energy and velocity exiting the influent pipe at Gracias\n"
      ]
    },
    {
      "cell_type": "code",
      "metadata": {
        "id": "_eft7wdMPTIK",
        "colab_type": "code",
        "colab": {
          "base_uri": "https://localhost:8080/",
          "height": 50
        },
        "outputId": "1ab93aac-a1ae-4b67-962c-6e00eb37f56f"
      },
      "source": [
        "ID = 0.2 * u.m # inner diameter of influent pipe at Gracias\n",
        "a = 0.25*np.pi*ID**2\n",
        "v_influent = q/a\n",
        "KE_influent = v_influent**2/(2*ac.GRAVITY)\n",
        "\n",
        "print('The velocity exiting the influent pipe is ', v_influent)\n",
        "print('The kinetic energy exiting the influent pipe is ', KE_influent.to(u.cm))"
      ],
      "execution_count": null,
      "outputs": [
        {
          "output_type": "stream",
          "text": [
            "The velocity exiting the influent pipe is  1.91 meter / second\n",
            "The kinetic energy exiting the influent pipe is  18.6 centimeter\n"
          ],
          "name": "stdout"
        }
      ]
    },
    {
      "cell_type": "markdown",
      "metadata": {
        "id": "wgYbX74f9b6Q",
        "colab_type": "text"
      },
      "source": [
        "### Calculate Ke = v^2/2g through the plate settlers at Gracias\n"
      ]
    },
    {
      "cell_type": "code",
      "metadata": {
        "id": "m9q7LQ0v-oxh",
        "colab_type": "code",
        "colab": {
          "base_uri": "https://localhost:8080/",
          "height": 50
        },
        "outputId": "99a8499a-74e8-4480-cec7-f47ad38d401d"
      },
      "source": [
        "# calculate the kinetic energy through the plate settlers at Gracias\n",
        "\n",
        "s = 0.0250 * u.m # edge-to-edge distance between plate settlers (ie. does not include plate thickness)\n",
        "n = 24 # number of plate settlers in entrance tank\n",
        "w = 0.6 * u.m # plate settler width\n",
        "area = s*(n+1)*w\n",
        "v = q/area\n",
        "Ke = v**2/(2*ac.GRAVITY)\n",
        "\n",
        "print('The hypothetical velocity through the plate settlers assuming uniform flow is ', v)\n",
        "print('The kinetic energy through the plate settlers at Gracias is ', Ke.to(u.cm))"
      ],
      "execution_count": null,
      "outputs": [
        {
          "output_type": "stream",
          "text": [
            "The hypothetical velocity through the plate settlers assuming uniform flow is  0.16 meter / second\n",
            "The kinetic energy through the plate settlers at Gracias is  0.1305 centimeter\n"
          ],
          "name": "stdout"
        }
      ]
    },
    {
      "cell_type": "markdown",
      "metadata": {
        "id": "pfptXf_ySEKQ",
        "colab_type": "text"
      },
      "source": [
        "### Calculate the velocity through the channel leading to the LFOM"
      ]
    },
    {
      "cell_type": "code",
      "metadata": {
        "id": "zq0FYZHzSdWR",
        "colab_type": "code",
        "colab": {
          "base_uri": "https://localhost:8080/",
          "height": 50
        },
        "outputId": "8ff9a7fb-92d7-4b3a-823b-b3c47c083ae0"
      },
      "source": [
        "# calculate the velocity through the channel leading to the LFOM\n",
        "\n",
        "d = 0.6278 * u.m # depth of water immediately after the plate settlers measured to the top hole on the LFOM (ie. assuming holes are completely covered at 60 L/s flow)\n",
        "w = 0.6 * u.m # width of ET\n",
        "area_LFOMchan = d*w\n",
        "v_LFOMchan = q/area_LFOMchan\n",
        "Ke_LFOMchan = v_LFOMchan**2/(2*ac.GRAVITY)\n",
        "\n",
        "print('The velocity in the channel leading to the LFOM is ', v_LFOMchan)\n",
        "print('The kinetic energy in the channel leading to the LFOM ', Ke_LFOMchan.to(u.cm))"
      ],
      "execution_count": null,
      "outputs": [
        {
          "output_type": "stream",
          "text": [
            "The velocity in the channel leading to the LFOM is  0.1593 meter / second\n",
            "The kinetic energy in the channel leading to the LFOM  0.1294 centimeter\n"
          ],
          "name": "stdout"
        }
      ]
    },
    {
      "cell_type": "markdown",
      "metadata": {
        "id": "hDhNyXqJocCp",
        "colab_type": "text"
      },
      "source": [
        "**Reflection:** It makes sense that neither the velocity or Ke change very much in these two calculations, because the cross-sectional area for flow didn't really change, and v = q/a. The Ke through the plate settlers is well below 5 cm (5 cm would be considered very high)"
      ]
    },
    {
      "cell_type": "markdown",
      "metadata": {
        "id": "tLdFDkOjMp2d",
        "colab_type": "text"
      },
      "source": [
        "## Calculate the Required Length of the Entrance Tank\n",
        "\n",
        "*Assume that the entrance tank has the same width as the flocculator and that the plant is running at full capacity. Calculations will focus on the inlet channel of the sedimentation tank, since high shear around baffles in the flocculator makes it less likely that particles will settle there.*\n",
        "\n",
        "**Strategy**\n",
        "\n",
        "1. Determine the diameter of the smallest particle that needs to be removed by the entrance tank.\n",
        "    - **Approach 1:** Use a critical particle size of 0.1 mm recommended by Kawamura (pg. 416)\n",
        "    - **Approach 2:** Calculate the diameter of the largest particle that will be scoured in the inlet channel of the sedimentation tank by rearranging the [equation](https://github.com/AguaClara/CEE4520/blob/master/Lectures/Extras/Sedimentation%20Extras.pptx) (slides 15-18) for scouring velocity:$$V_{min} = \\sqrt{\\frac{2}{3}\\frac{\\sqrt{Re_x}}{0.332}\\frac{\\rho_{p} - \\rho_{H20}}{\\rho_{H20}}\\ g\\ d_p\\ tan\\theta}$$\n",
        "    - **Approach 3:** Calculate the shear on the bottom of the inlet channel of the sedimentation tank and use a modified Shields diagram to determine the critical particle size. \n",
        "1. Use the appropriate Stokes Law for laminar or turbulent flow to determine the corresponding critical velocity of the particle.\n",
        "\n",
        "   $$**insert \\ equations**$$\n",
        "1. Calculate the required plan-view area of the entrance tank\n",
        "   $$**insert \\ equations**$$"
      ]
    },
    {
      "cell_type": "markdown",
      "metadata": {
        "id": "TFi3nDQkWq86",
        "colab_type": "text"
      },
      "source": [
        "### **Approach 1:** Use the 0.1 mm recommended particle diameter provided by Kawamura (pg. 416)"
      ]
    },
    {
      "cell_type": "code",
      "metadata": {
        "id": "2-YXKJ_NmdH7",
        "colab_type": "code",
        "colab": {
          "base_uri": "https://localhost:8080/",
          "height": 67
        },
        "outputId": "40f075de-0c10-449f-ee22-d55af8c2312a"
      },
      "source": [
        "d_p = (0.1 * u.mm).to(u.m) # minimum grit diameter to be removed according to Kawamura\n",
        "v_c = ((rho_p - rho_H20)*ac.GRAVITY*d_p**2)/(18*nu*rho_H20)\n",
        "print('The cricitcal velocity is ',v_c.to(u.mm/u.s))\n",
        "\n",
        "# check that flow is in laminar regime for Stokes' law to be valid\n",
        "Re = v_c*d_p/nu\n",
        "print('The Reynolds number is ', Re)\n",
        "\n",
        "# calculate the required ET length\n",
        "area = q/v_c\n",
        "length_ET = area/w_flocculator\n",
        "print('The required entrance tank length is ', length_ET)"
      ],
      "execution_count": null,
      "outputs": [
        {
          "output_type": "stream",
          "text": [
            "The cricitcal velocity is  6.919 millimeter / second\n",
            "The Reynolds number is  0.5322 dimensionless\n",
            "The required entrance tank length is  14.45 meter\n"
          ],
          "name": "stdout"
        }
      ]
    },
    {
      "cell_type": "markdown",
      "metadata": {
        "id": "kfE5rsTR1G5S",
        "colab_type": "text"
      },
      "source": [
        "**Reflection:** The calculated critical velocity is 8.984 mm/s, which is very close to the 8 mm/s that was suggested by Monroe. The Reynolds number is well within the laminar regime so using Stokes' law was an appropriate decision. The entrance tank requires a length of 11.13 meters. For comparison, the length of one treatment train at Gracias (sed tanks + flocculators) is approxiamtely 15 m, and the width of one treatment train is about 7 m. Therefore, trying to capture such small particles takes up a considerable amount of space, and may drive up materials and construction costs. Additionally, an entrance tank of that size my block plant operator access to important parts of the plant, such as the first four baffles in the flocculator, where plant operators like to observe flocs. "
      ]
    },
    {
      "cell_type": "markdown",
      "metadata": {
        "id": "j4aXnPr0PLLd",
        "colab_type": "text"
      },
      "source": [
        "### **Approach 2:** Calculate the scouring velocity in the inlet channel of the sedimentation tanks\n",
        "\n",
        "\n",
        "\n",
        "\n"
      ]
    },
    {
      "cell_type": "markdown",
      "metadata": {
        "id": "nhi64rqr-f_C",
        "colab_type": "text"
      },
      "source": [
        "For open-channel flow, the [equation](https://github.com/AguaClara/CEE4520/blob/master/Lectures/Extras/Sedimentation%20Extras.pptx) (slides 15-18) describing scouring velocity is:\n",
        "\n",
        "$$V_{min} = \\sqrt{\\frac{2}{3}\\frac{\\sqrt{Re_x}}{0.332}\\frac{\\rho_{p} - \\rho_{H20}}{\\rho_{H20}}\\ g\\ d_p\\ tan\\theta}$$\n",
        "\n",
        "where\n",
        "\n",
        "$Re_x$ = the Reynold's number based on the distance along the channel. Note that the lowest amount of shear occurs where the boundary layer switches from laminar to turbulent (ie. $Re_x$ = 500,000) (slide 15).\n",
        "\n",
        "$\\rho_{p}$ = density of the particle\n",
        "\n",
        "$\\rho_{H20}$ = density of the water\n",
        "\n",
        "$g$ = acceleration due to gravity\n",
        "\n",
        "$d_p$ = the particle diameter\n",
        "\n",
        "$\\theta$ = a parameter that is approximated from Shields Diagram (slide 18), assuming turbulent flow\n",
        "     $$\\theta =  tan^{-1}(0.056* \\frac{3}{2}) = 4.8^\\circ$$ \n",
        "\n",
        "Knowing the average velocity in the inlet channel, this equation can be rearranged to calculate the size of the largest particle that will be scoured. The inlet channel is designed with a sloped bottom such that it has a relatively constant velocity along the length of the channel. The simplest place to calculate the average velocity is the point where water enters the channel.  \n"
      ]
    },
    {
      "cell_type": "code",
      "metadata": {
        "id": "q74HjQTFPGsr",
        "colab_type": "code",
        "colab": {
          "base_uri": "https://localhost:8080/",
          "height": 150
        },
        "outputId": "94534dbc-011c-44a2-8c0e-3b6cba4afaa3"
      },
      "source": [
        "# calculate the average velocity in the inlet channel to the sedimentation tanks, assuming that it is relatively constant due to sloped bottom geometry\n",
        "theta = (4.8*u.deg).to(u.rad)\n",
        "w_chan = 0.5 * u.m # width of the inlet channel to the sedimentation tanks\n",
        "h_chan = 0.156 * u.m # the height of the inlet channel measured at the influent end\n",
        "a_chan = w_chan*(h_chan - 0.1 * u.m) # The inlet channel to the sedimentation tanks have a 10 cm freeboard\n",
        "v_chan = q/a_chan\n",
        "print('The velocity in the influent channel of the sedimentation tank is ', v_chan)\n",
        "\n",
        "# rearrange the scouring velocity equation to calculate the critical particle diameter\n",
        "dp_2 = (3*0.332*rho_H20*v_chan**2)/(2*500000**0.5*(rho_p - rho_H20)*ac.GRAVITY*np.tan(theta))\n",
        "print('The largest diameter particle that will be scoured by the inlet channel of the sedimentation tanks is ', dp_2.to(u.mm))\n",
        "\n",
        "# calculate the terminal velocity of the particle using Stokes' Law assuming laminar flow\n",
        "vc_2 = ((rho_p - rho_H20)*ac.GRAVITY*dp_2**2)/(18*nu*rho_H20)\n",
        "print('The cricitcal velocity is ',vc_2.to(u.mm/u.s))\n",
        "\n",
        "# check that flow is in laminar regime for Stokes' law to be valid\n",
        "Re = vc_2*dp_2/nu\n",
        "print('The Reynolds number is ', Re)\n",
        "print('The calculation needs to repeated using Stokes Law for transition flow')\n",
        "\n",
        "# calculate the terminal velocity of the particle assuming the transition/turbulent regime\n",
        "v_c_transition = (((rho_p - rho_H20)*ac.GRAVITY*dp_2**1.6)/(13.9*mu**0.6*rho_H20**0.4))**(1/1.4)\n",
        "print('The critical velocity assuming transitional flow is ', v_c_transition)\n",
        "\n",
        "# check that flow is in the transition/turbulent regime\n",
        "Re = v_c_transition*dp_2/nu\n",
        "print('The Reynolds number is ', Re)\n",
        "\n",
        "# calculate the required ET length\n",
        "area2 = q/v_c_transition\n",
        "length_ET2 = area2/w_flocculator # assume ET is same width as the flocculator\n",
        "print('The entrance tank length is ', length_ET2)"
      ],
      "execution_count": null,
      "outputs": [
        {
          "output_type": "stream",
          "text": [
            "The velocity in the influent channel of the sedimentation tank is  2.143 meter / second\n",
            "The largest diameter particle that will be scoured by the inlet channel of the sedimentation tanks is  2.379 millimeter\n",
            "The cricitcal velocity is  3915 millimeter / second\n",
            "The Reynolds number is  7165 dimensionless\n",
            "The calculation needs to repeated using Stokes Law for transition flow\n",
            "The critical velocity assuming transitional flow is  0.3728 meter ** 1 / second\n",
            "The Reynolds number is  682.2 dimensionless\n",
            "The entrance tank length is  0.2682 meter ** 1\n"
          ],
          "name": "stdout"
        }
      ]
    },
    {
      "cell_type": "code",
      "metadata": {
        "id": "PcFAECNrwkPH",
        "colab_type": "code",
        "colab": {
          "base_uri": "https://localhost:8080/",
          "height": 50
        },
        "outputId": "e0ce4b6a-16f7-4c99-b91a-d320443f65c0"
      },
      "source": [
        "# This is scrap code: I'm backchecking this calculation with current Gracias dimensions\n",
        "Length_ET = (16 * u.cm).to(u.m)\n",
        "area = Length_ET*w_flocculator\n",
        "v_c = q/area\n",
        "d_p = (v_c**(1.4)*(13.9*mu**0.6*rho_H20**0.4)/((rho_p - rho_H20)*ac.GRAVITY))**(1/1.6) # uses transition equation\n",
        "Re = v_c*d_p/nu\n",
        "\n",
        "print('the critical particle size is ',d_p)\n",
        "print('Re is ', Re)\n",
        "\n",
        "# the holes on the trash rack appear to be about 12.8 (rounds to 13 mm in diameter), so any particles we are talking about here would pass through\n",
        "# so theoretically, the current entrance tank at Gracias should be able to capture a 3.388 mm particle"
      ],
      "execution_count": null,
      "outputs": [
        {
          "output_type": "stream",
          "text": [
            "the critical particle size is  0.003388 meter ** 1\n",
            "Re is  2110 / meter ** 2.22045e-16\n"
          ],
          "name": "stdout"
        }
      ]
    },
    {
      "cell_type": "markdown",
      "metadata": {
        "id": "zOm7xZKJ7hyp",
        "colab_type": "text"
      },
      "source": [
        "**Reflection:** The critical particle size is 2.373 mm and the required entrance tank length is 24 cm. We should be skeptical of these results, because the entrance tank at Gracias is already longer than 24 cm long, and plant operators are observing grit in both the flocculator and inlet to the sedimentation tanks. "
      ]
    },
    {
      "cell_type": "markdown",
      "metadata": {
        "id": "5I7hPLDK_GLv",
        "colab_type": "text"
      },
      "source": [
        "### **Aproach 3:** Calculate the bottom shear in the inlet channel and use a modified Shields Diagram"
      ]
    },
    {
      "cell_type": "markdown",
      "metadata": {
        "id": "m-HmTpzsvTGb",
        "colab_type": "text"
      },
      "source": [
        "**Bottom Shear Stress**\n",
        "\n",
        "We will assume a turbulent boundary layer on the bottom of the inlet channel to the sedimentation tanks, since achieving laminar flow in a water treatment plant takes considerable effort. Wall shear stress, $\\tau_w$, in the turbulent regime can be modeled by the following [Equation:](http://www-mdp.eng.cam.ac.uk/web/library/enginfo/aerothermal_dvd_only/aero/fprops/introvisc/node8.html)\n",
        "\n",
        "$$\\tau_w = \\frac{1}{2}\\rho_{H20} U_ {\\infty}^2 C_f $$\n",
        "\n",
        "where \n",
        "\n",
        "$\\rho_{H20}$ = density of water\n",
        "\n",
        "$U_ {\\infty}$ = free stream speed. \n",
        "\n",
        "$C_f$ = the skin friction\n",
        "\n",
        "<br/>\n",
        "\n",
        "In the turbulent regime,\n",
        "\n",
        "$$C_f = \\frac{0.0594}{Re_x^{0.2}}$$ \n",
        "\n",
        "where\n",
        "\n",
        "$Re_x$ = the Reynolds number with respect to the distance along the channel\n",
        "\n",
        "The shear is the lowest when the boundardy layer switches from laminar to turbulent. Thereofre $Re_x$ will be assumed to be 500,000 [(slide 15)](https://github.com/AguaClara/CEE4520/blob/master/Lectures/Extras/Sedimentation%20Extras.pptx).\n",
        "\n",
        "<br/>\n",
        "\n",
        "**Shields Diagram**\n",
        "\n",
        "Shields diagram represents the empirical relationship between two dimensionless parameters that describe the incipient movement of particles ([Chapter 9](https://ocw.mit.edu/courses/earth-atmospheric-and-planetary-sciences/12-090-introduction-to-fluid-motions-sediment-transport-and-current-generated-sedimentary-structures-fall-2006/course-textbook/ch9.pdf), pg. 268): \n",
        "\n",
        "1) *The 'Shear' or 'Boundary' Reynolds Number*\n",
        "\n",
        "$$Re_* = \\frac{u_*D}{\\nu}$$\n",
        "\n",
        "where\n",
        "\n",
        "$u_* = \\sqrt{\\frac{\\tau_o}{\\rho}}\\ \\ $\"shear velocity\"\n",
        "\n",
        "$\\rho$ = density of the fluid\n",
        "\n",
        "D = particle diameter\n",
        "\n",
        "$\\nu$ = kinematic viscosity\n",
        "\n",
        "<br/>\n",
        "\n",
        "2) *Shields Parameter* ([Hydraulic](https://github.com/monroews/Hydraulics/raw/master/10_Channel_Design.pptx), slides 19-23)\n",
        "\n",
        "$$\\frac{\\tau_o}{\\Delta\\rho gD} = \\frac{2}{3}tan\\theta$$\n",
        "\n",
        "where\n",
        "\n",
        "$\\tau_o$ = shear stress\n",
        "\n",
        "$\\Delta \\rho$ = the difference in density between the particle and water\n",
        "\n",
        "$D$ = particle diameter\n",
        "\n",
        "*Side note: the $\\frac{2}{3}$ fraction on the right hand side may also depend on geometrical and dynamical effects ([Chapter 9](https://ocw.mit.edu/courses/earth-atmospheric-and-planetary-sciences/12-090-introduction-to-fluid-motions-sediment-transport-and-current-generated-sedimentary-structures-fall-2006/course-textbook/ch9.pdf), pg. 267) and multiplying the numerator and denominator by $D^2$ gives a ratio of fluid force on the particle to the weight of the particle (pg. 269).*\n",
        "\n",
        "The original version of Shields Diagram is not particularly useful for determining the critical particle size that will be scoured in the inlet channel, because both shear stress and particle diameter occur as variables on both the x and y axis. \n",
        "\n",
        "However, Shields diagram can be 'recast' so that only one axis contains the variable $\\tau_o$ and only the other axis contains the particle diameter D. These new axis are as follows ([Chapter 9](https://ocw.mit.edu/courses/earth-atmospheric-and-planetary-sciences/12-090-introduction-to-fluid-motions-sediment-transport-and-current-generated-sedimentary-structures-fall-2006/course-textbook/ch9.pdf), pg. 275): \n",
        "\n",
        "$$\\tau_o(\\rho /(g\\Delta\\rho)^2\\mu^2)^{1/3}\\ \\ \\  and\\ \\  \\ D(\\rho (g\\Delta\\rho)/\\mu^2)^{1/3}$$\n",
        "\n",
        "Figure 1 shows an updated version of Shields diagram reframed in terms of shear velocity and particle diameter at $20 ^\\circ C$ ([Chapter 9](https://ocw.mit.edu/courses/earth-atmospheric-and-planetary-sciences/12-090-introduction-to-fluid-motions-sediment-transport-and-current-generated-sedimentary-structures-fall-2006/course-textbook/ch9.pdf), pg. 277). Note that the axis do not look like the ones described above, because constant values at the given temperature such as the acceleration due to gravity and dynamic viscosity have already been plugged in. \n",
        "\n",
        "![Shields Diagram](https://github.com/Emily-Wood/AguaClara/blob/master/Updated_Shields_Diagram%20.PNG?raw=true)\n",
        "\n",
        "\n",
        "**Figure 1**: Shields diagram recast in terms of shear velocity and particle diameter at $20 ^\\circ C$ ([Chapter 9](https://ocw.mit.edu/courses/earth-atmospheric-and-planetary-sciences/12-090-introduction-to-fluid-motions-sediment-transport-and-current-generated-sedimentary-structures-fall-2006/course-textbook/ch9.pdf), page 277)\n",
        "\n",
        "Using the calculated bottom shear stress, the modified Shields Diagram can be used to determine the critical particle size. \n",
        "\n",
        "**Sources:** \n",
        "1. Chapter 9 [Introduction to Fluid Motion, Sediment Transport and Current Generated Sedimentary Structures](https://ocw.mit.edu/courses/earth-atmospheric-and-planetary-sciences/12-090-introduction-to-fluid-motions-sediment-transport-and-current-generated-sedimentary-structures-fall-2006/course-textbook/ch9.pdf)\n",
        "1. [Hydraulic Engineering: Channel Design Powerpoint](https://github.com/monroews/Hydraulics/raw/master/10_Channel_Design.pptx) (slides 19-23)\n",
        "\n",
        "\n",
        "\n",
        "\n",
        "\n",
        "\n",
        "\n"
      ]
    },
    {
      "cell_type": "code",
      "metadata": {
        "id": "YnznbNwRvW2a",
        "colab_type": "code",
        "colab": {
          "base_uri": "https://localhost:8080/",
          "height": 117
        },
        "outputId": "2f1653a6-7629-4c0e-eaef-50a5b1ce3b66"
      },
      "source": [
        "# calculate the average velocity in the inlet channel of the sedimentation tanks (ie. \"free stream speed\")\n",
        "L_chan = 12 * u.m\n",
        "w_chan = 0.5 * u.m\n",
        "h_chan = 0.156 * u.m # the height of the channel at the influent end\n",
        "a_chan = w_chan*(h_chan - 0.1 * u.m) # The inlet channel to the sedimentation tanks have a 10 cm freeboard\n",
        "v_chan = q/a_chan\n",
        "\n",
        "#Re_x = 500000\n",
        "Re_x = v_chan*L_chan/nu # choose the far end of the channel for a conservative estimate of tau\n",
        "print('The Reynolds number with respect to the channel length is ',Re_x)\n",
        "C_f = 0.0594/(Re_x**0.2)\n",
        "tau = 0.5*rho_H20*v_chan**2*C_f\n",
        "\n",
        "u_star = (tau/rho_H20)**0.5\n",
        "print('The shear velocity is ', u_star.to(u.cm/u.s))\n",
        "\n",
        "# According to the recast Shields Diagram, the corresponding critical particle diameter is approximately 1.3 cm\n",
        "dp_3 = (7.5 * u.mm).to(u.m)\n",
        "print('Using the modified Shields diagram, this corresponds to a particle diameter of ', dp_3.to(u.mm))\n",
        "\n",
        "# Calculate the terminal velocity of the particle assuming transitional/turbulent flow\n",
        "v_c_transition2 = (((rho_p - rho_H20)*ac.GRAVITY*dp_3**1.6)/(13.9*mu**0.6*rho_H20**0.4))**(1/1.4) \n",
        "print('The cricitcal velocity is ', v_c_transition2)\n",
        "\n",
        "# check that flow is in the transitional/turbulent regime\n",
        "Re = v_c_transition2*dp_3/nu\n",
        "print('The Reynolds number is ', Re)\n",
        "\n",
        "# calculate the required ET length\n",
        "area3 = q/v_c_transition2\n",
        "length_ET3 = area3/w_flocculator\n",
        "print('The entrance tank length is ', length_ET3)"
      ],
      "execution_count": null,
      "outputs": [
        {
          "output_type": "stream",
          "text": [
            "The Reynolds number with respect to the channel length is  1.978e+07 dimensionless\n",
            "The shear velocity is  6.882 centimeter / second\n",
            "Using the modified Shields diagram, this corresponds to a particle diameter of  7.5 millimeter\n",
            "The cricitcal velocity is  1.385 meter ** 1 / second\n",
            "The Reynolds number is  7990 dimensionless\n",
            "The entrance tank length is  0.07221 meter ** 1\n"
          ],
          "name": "stdout"
        }
      ]
    },
    {
      "cell_type": "markdown",
      "metadata": {
        "id": "jBJKaogN_jWX",
        "colab_type": "text"
      },
      "source": [
        "**Reflection:** With a Reynolds number of 500,000 the shear velocity is 9.942 cm/s. The corresponding critical particle diameter of 1.3 cm is clearly not a physically reasonable result. A piece of grit this large probably would not even make it into the plant, and would certainly be caught by the trash racks. Perhaps the equations selected to model the bottom shear in the inlet channel are not applicable to this situation, or the wrong Reynolds number was selected. It is also really hard to read the recast Shields diagram without gridlines - a small amount of reading error could lead to an order of magnitude difference in particle diameter. The initial assumption of this calculation should be checked, and a different method for approximating the shear stress on the bottom of the inlet channel could be considered. \n",
        "\n",
        "To troubleshoot this approach, I first tried calculating the Reynold's number for the channel directly instead of assuming that it is 500,000. I used the total channel length as the important length, because it would lead to the most conservative measure of shear stress (and less shear means that it is more difficult to scour particles). This led to a new Reynolds number of 25,620,000 (This number is really high, I'm not sure if it is reasonable for the open channel flow in this application) and a shear velocity of 6.707 cm/s. These numbers produce an approximate critical particle size of 7.5 mm, and an entrance tank length of 6.5 cm. This is still a very large particle size. \n",
        "\n",
        "Approach 3 is also less reliable than approach 2, because it relies on reading an empirical graph precisely rather than calculating particle size directly using first principles. \n",
        "\n",
        "\n"
      ]
    },
    {
      "cell_type": "markdown",
      "metadata": {
        "id": "4G9cqdXGgEWB",
        "colab_type": "text"
      },
      "source": [
        "# Information and Notes"
      ]
    },
    {
      "cell_type": "markdown",
      "metadata": {
        "id": "-1z3-G_omutf",
        "colab_type": "text"
      },
      "source": [
        "## Executive Summaries"
      ]
    },
    {
      "cell_type": "markdown",
      "metadata": {
        "id": "r1aQj7AUT8Je",
        "colab_type": "text"
      },
      "source": [
        "### Executive Summary: June 22 - July 12 2020 \n",
        "\n",
        "**Entrance Tank Size**\n",
        "\n",
        "The trash rack and plate settlers in the entrance tank at Gracias have been unsuccessful at capturing grit and preventing it from traveling to the rest of the plant. This grit causes maintenance issues by settling in the flocculator and the channel leading to the sedimentation tanks. To solve this problem, the plate settlers could be replaced with a more traditional horizontal settling basin.\n",
        "\n",
        "The required plan-view area of a horizontal settling basin is determined by the terminal velocity of the smallest particle it is designed to remove. Kawamura suggests that sand and silt smaller than 0.1 mm do not pose a significat risk to downstream pumps and processes (pg. 416). **However, to settle particles larger than 0.1 mm in diameter, the entrance tank would need to be 11.13 m in length.** This calculation was done under the assumption of a 60 L/s flow rate, and that the entrance tank is the same width as the flocculator. For comparison, a single treatment train at the Gracias plant (excluding the filters) covers an approximate 15 m x 7 m area. Increasing the area of the entrance tank would drive up construction costs and may block plant operator access to important parts of the plant. \n",
        "\n",
        "The required plan-view area of the entrance tank could be reduced by increasing the critical particle size that it is designed to capture. Any particles that are not captured in the entrance tank must be scoured in the flocculator and the inlet channel of the sedimentation tanks, otherwise they will cause maintenance issues. Calculations should focus on the inlet channel of the sedimentation tanks since it has lower velocities and less shear than the flocculator. \n",
        "\n",
        "Two approaches were taken to calculate the smallest particle that needs to be captured by the entrance tank. The first approach approximates the scouring velocity in the inlet channel with the following equation: $$V_{min} = \\sqrt{\\frac{2}{3}\\frac{\\sqrt{Re_x}}{0.332}\\frac{\\rho_{p} - \\rho_{H20}}{\\rho_{H20}}\\ g\\ d_p\\ tan\\theta}$$\n",
        "\n",
        "The second approach approximates the shear on the bottom of the inlet channel and uses a modified Shields diagram to determine the corresponding critical particle diameter. **Both approaches produced a critical particle diameter (2.373 mm and 7.5 mm respectively) that is larger than the typical size of sand. These results are not physically reasonable, and do not match observations made by plant operators in Gracias.** The key assumptions made in each approach should be re-examined or a new model should be developed. \n",
        "\n",
        "After consulting Agua Para el Pueblo engineers, it was determined that sand carryover is not as big of a problem in AguaClara plants as originally thought. Gracias and Agalteca are the only two plants that are having this issue. Therefore it makes sense that the entrance tank should be designed so that a grit chamber can be easily incorporated for water sources with potential sand carryover issues. Depending on the flow rate and the need for grit removal, the entrance tank design will range from 1) an entrance tank in-line with the flocculator and with the same width as the flocculator, to 2) an entrance tank the entire length of the flocculator channel and the same width as the floccutor, and 3) to an even wider entrance tank.\n",
        "\n",
        "**Entrance Tank Kinetic Energy**\n",
        "\n",
        "Wave action and splashing is another issue occuring in the entrance tank at the plant in Gracias, Honduras. The velocity and kinetic energy was calculated at various points within the entrance tank (Table 1): exiting the influent pipe, through the plate settlers, and at the shallow channel leading to the LFOM. \n",
        "\n",
        "*Table 1: The velocity and kinetic energy at various location in the entrance tank*\n",
        "\n",
        "|Location|Velocity (m/s)|Kinetic Energy (cm)|\n",
        "|:---:|:---:|:---:|\n",
        "|Influent Pipe|1.91|18.6|\n",
        "|Plate Settlers|0.16|0.1305|\n",
        "|LFOM Channel|0.1593|0.1294|\n",
        "\n",
        "The velocity exiting the influent pipe is much greater than other areas of the entrance tank. **This suggests that the kinetic energy exiting the influent pipe may be the primary source of wave action.** Various methods should be explored to reduce this kinetic energy. This design may include the following components:\n",
        "- aiming the influent pipe at the end wall of the entrance tank\n",
        "- use 2\" pipes as diffusers\n",
        "- placing obstacles along the side walls of entrance tank\n",
        "- including a diffuser wall (the trash racks may assist with this)\n",
        "- place an endcap on the influent pipe so that water does not flow straight down into the hopper, and cut a vertical slit down the side to act as a diffuser. \n",
        "\n",
        "Each component should be evaluated on its effectiveness at dissipating kinetic energy and its ease of construction.\n",
        "\n",
        "**Next Steps:**\n",
        "- Determine if the addition of a second trash rack will help diffuse kinetic energy\n",
        "- Determine if a diffuser wall or baffles/obstacles are better at diffusing kinetic energy, and which one is more convenient to construct. \n",
        "\n",
        "\n",
        "\n",
        "\n"
      ]
    },
    {
      "cell_type": "markdown",
      "metadata": {
        "id": "1xBq1rLImnCX",
        "colab_type": "text"
      },
      "source": [
        "### Executive Summary: June 22 - June 28 2020  \n",
        "The trash rack and plate settlers in the entrance tank at Gracias have been unsuccessful at capturing grit and preventing it from traveling to the rest of the plant. This grit causes maintenance issues by settling in the flocculator and the channel leading to the sedimentation tanks. To solve this problem, the plate settlers could be replaced with a more traditional horizontal settling basin. A series of 4-sided hoppers fitted with a drainpipe would make it easy to remove grit from the bottom of the chamber via gravity. However, Kawamura advises against the use of square tanks, due to their poor flow patterns:\n",
        "\n",
        "> “The square tank is satisfactory for the purpose of wastewater treatment but does not perform well as a water treatment grit chamber. The main problem with the detritus [square] tank is a function of its physical characteristics. The short tank length and the uneven inflow to the tank cause severe flow short-circuiting. … To provide good flow characteristics for grit settling, the chamber should be rectangular with a contracted inlet (pg. 414).” \n",
        "\n",
        "**To settle particles greater than 0.1 mm in diameter, the entrance tank at Gracias would need to be 11.13 m in length.** This calculation was done under the assumption of a 60 L/s flow rate, and that the entrance tank is the same width as the flocculator.  According to Kawamura, sand and silt smaller than 0.1 mm do not pose a significant risk to downstream processes (pg. 416). For context, a single treatment train (excluding the filters) at Gracias has an approximate 15 m x 7 m area. Increasing the area of the entrance tank would drive up construction costs and may block plant operator access to important parts of the plant. For example, observing the flocs in the first 4 baffles of the flocculator is one of the most reliable indications of plant performance. \n",
        "\n",
        "The required plan-view area of the entrance tank could be reduced by increasing the critical particle size that needs to be captured. Kawamura recommended a 0.1 mm diameter based on pump and piping damage in downstream processes. However, the predominant issue in Gracias, Honduras is grit settling in the flocculator and inlet channel to the sedimentation tanks.\n",
        "\n",
        "The velocities going around the bottom bend of the flocculator are comparatively higher than velocities in the entrance tank. This suggests that particles larger than 0.1 mm could be scoured from the bottom of the flocculator, and that the entrance tank may be designed for a larger critical particle diameter. **The shear on the bottom of the flocculator should be calculated to determine the largest particle that can be scoured.**\n",
        "\n",
        "Wave action and splashing is another issue occuring in the entrance tank at the plant in Gracias, Honduras. The velocity and kinetic energy was calculated at various points within the entrance tank (Table 1): exiting the influent pipe, through the plate settlers, and at the shallow channel leading to the LFOM. \n",
        "\n",
        "*Table 1: The velocity and kinetic energy at various location in the entrance tank*\n",
        "\n",
        "|Location|Velocity (m/s)|Kinetic Energy (cm)|\n",
        "|:---:|:---:|:---:|\n",
        "|Influent Pipe|1.91|18.6|\n",
        "|Plate Settlers|0.16|0.1305|\n",
        "|LFOM Channel|0.1593|0.1294|\n",
        "\n",
        "The velocity exiting the influent pipe is much greater than other areas of the entrance tank. **This suggests that the kinetic energy exiting the influent pipe may be the primary source of wave action.** Various methods should be explored to reduce this kinetic energy. This design may include the following components:\n",
        "- aiming the influent pipe at the end wall of the entrance tank\n",
        "- use 2\" pipes as diffusers\n",
        "- placing obstacles along the side walls of entrance tank\n",
        "- including a diffuser wall (the trash racks may assist with this)\n",
        "- place an endcap on the influent pipe so that water does not flow straight down into the hopper, and cut a vertical slit down the side to act as a diffuser. \n",
        "\n",
        "**Each component should be evaluated on its effectiveness at dissipating kinetic energy and its ease of construction.** \n"
      ]
    },
    {
      "cell_type": "markdown",
      "metadata": {
        "id": "_LBPgdWKAUNM",
        "colab_type": "text"
      },
      "source": [
        "## Information sources\n",
        "1.  [Capstone Design: Improved Entrance Tank Design](https://github.com/AguaClara/CEE4520/blob/master/Previous_Final_Projects/2019F/Improved_Entrance_Tank.ipynb)\n",
        "1.   MWH textbook\n",
        "1.   [Susumu Kawamura textbook](https://photos.app.goo.gl/6KWgu6m9uSKmRAKH9)\n",
        "1.   [Sed tank design code example](https://colab.research.google.com/github/AguaClara/CEE4520/blob/master/Unit_Process_Designs/Sed.ipynb)\n",
        "1. [Gracias CAD Design](https://cad.onshape.com/documents/cb0559d6c3bd85907f8704d3/w/8b31f12d476b14cf91bd29d9/e/6d7584b2804b3c166ba1e991)\n",
        "1. [Hydraulic Engineering: Channel Design Powerpoint](https://github.com/monroews/Hydraulics/raw/master/10_Channel_Design.pptx) (slides 19-23)\n",
        "1. Chapter 12: Stable Channel Design Functions in [HEC-RAS River Analysis System Hydraulic Reference Manual](https://www.hec.usace.army.mil/software/hec-ras/documentation/HEC-RAS%205.0%20Reference%20Manual.pdf)  (page 12-21)\n",
        "\n",
        "## Problems with the current design\n",
        "\n",
        "1.   Explore options to reduce the kinetic energy of the incoming water. This results in lots of wave action and splashing. Perhaps inject the water deeper into the entrance tank so that turbulent eddies are somewhat dissipated by the time they get to the water surface. Or direct the water against the wall of the tank? Perhaps  2\" diameter diffusers (so that clogging isn't a problem) in the vertical entrance pipe with the diffusers pointing upstream toward the end wall of the entrance tank? \n",
        "1.   Plate settlers don't work because the velocities are too high and flow isn't distributed at all unformly through the plates. Recommend either improving flow distribution (see 4520 capstone design project) or reverting to a simple horizontal flow tank to capture grit. The simple horizontal sed tank should be explored as the simplest option.\n",
        "1.   Velocity through the bar screen is too high. Increase the area for the bar screen and include a minimum of 2 bar screens and 3 tracks for inserting the screens so that one can be removed and cleaned and replaced. Screen can be angled to enable it to have more surface area.\n",
        "1.   Velocity of approach for the LFOM is too high causing wave action. See if we can predict the wave action that is observed at Gracias. The waves are simple a conversion of kinetic energy into potential energy, $v=\\sqrt{2gh}$. \n",
        "\n",
        "The new entrance tank will likely take more horizontal space OR it is likely that it simply is the full depth of the flocculator with several hoppers that drain any accumulated sediment.\n",
        "\n",
        "## Strategy\n",
        "\n",
        "1.  Design the ET in python\n",
        "1.  Draw the ET in Onshape\n",
        "1.  Transition on the python code to Feature Script\n",
        "1.  Intergrate the new ET with the flocculator, LFOM, and CDC\n",
        "\n"
      ]
    },
    {
      "cell_type": "markdown",
      "metadata": {
        "id": "Yl1rDCsM1Bav",
        "colab_type": "text"
      },
      "source": [
        "## Notes from meeting with Monroe\n",
        "\n",
        "\n",
        "\n",
        "\n",
        "\n",
        "\n"
      ]
    },
    {
      "cell_type": "markdown",
      "metadata": {
        "id": "Je29HB5sAx7I",
        "colab_type": "text"
      },
      "source": [
        "### Mon. July 13\n",
        "\n",
        "- Floc Hopper\n",
        "  - there is no need to have a flat space in between hoppers except where the trash racks are located\n",
        "  - when there is extra space at the end of the ET, round up instead of down?\n",
        "  - the angle of the floor given by Kawamura (1:100) is only helpful for getting the last few millimeters of water out of the tank. Therefore we should use and angle closer to 60 degrees. The angle of repose for sand is 45 degrees when wet. The angle for clay is typically lower, so choose 45 degrees as the conservative angle. \n",
        "  - the depth of the floc hopper is controlled by the longer dimension (length of width). There is a tradeoff between the the depth of the hopper and the number of hoppers. Use a dimensionless number so that these parameters can easily be adjusted (it's easier to justify a design this way)\n",
        "- Kinetic Energy\n",
        "- Outer ET dimensions\n",
        "- LFOM\n",
        "\n",
        "\n",
        "\n",
        "---\n",
        "\n",
        "5 L/s plant minimium case with no waves, it will have a narrower\n",
        "flocculator channe, minimum 45 cm wide (human width)\n",
        "\n",
        "\n",
        "\n",
        "we know how deep the flocc\n",
        "\n",
        "sketch out minimum and makimum cases \n",
        "\n",
        "is there a maximum width of the flocculator channels\n",
        "write equations to calculate the actual width and lenght of the ET\n",
        "\n",
        "\n",
        "\n",
        "we know the plan view area of the flocculator for sure\n",
        "flocculator does not  know how wide it is until\n",
        "it knows how wide the ET is\n",
        "Length occupied by LFOM is 3 times outer diameter of the LFOM\n",
        "\n",
        "\n",
        "case minimum channel * length sed\n",
        "anytime the et pv area/minimum width of a channel (45 cm)\n",
        "is greater than length of a sed channel the ET gets it own channel\n",
        "\n",
        "LFOm leading to the flocculator\n",
        "make it an L (in either direction)\n",
        "if et full elngth of channel there is a space at the end\n",
        "at least 80 cm for a human to fit there will be the most\n",
        "turbulence there\n",
        "\n",
        "ET includes 80 cm of open space after the LFOM and this will\n",
        "already show up for big plants\n",
        "\n",
        "we can decrease velocities by having the coupling that the\n",
        "LFOM plugs into lower the ledge significantly \n",
        "the holes are at the very top\n",
        "where does the chemical get inejcted\n",
        "we would like to inject the coagulantbelow the free fall\n",
        "of the LFOM, maybe below the level of water that  the flocculator\n",
        "will back up to \n",
        "\n",
        "add 10 cm free fall in the flocculator\n",
        "\n",
        "inject the chemical where there's always water\n",
        "downstream water level of the flocculator\n",
        "there's a half inch diam pipe going into the LFOM pipe\n",
        "the coagulant tubing should go through the wall of the\n",
        "entrance tank\n",
        "\n",
        "\n",
        "\n",
        "\n",
        "\n",
        "\n"
      ]
    },
    {
      "cell_type": "markdown",
      "metadata": {
        "id": "9GgOzrQf8Kau",
        "colab_type": "text"
      },
      "source": [
        "### Wed. June 24\n",
        "- clarification: we are concerned with splashing everywhere in the ET\n",
        "- start with worst case scenario, if the pipe coming into the entrance tank was directed right towards the surface. Take the velocity coming out of influent pipe, and find the velocity flowing uniformly between the plates. There is very little headloss between the plates, so it's difficult to get an even distribution of flow\n",
        "- From powerpoint about turbulence:\n",
        "  - b is the width of the jet\n",
        "  - Vc is the velocity at the center of the jet\n",
        "  - s equals the distance forward\n",
        "  - there is a pproximately a 1/10 ratio between s and b, ie. b = 0.116s or something like that (number might not be exactly correct). Suppose the orifices on a trash rack are spaced out a centimeter. This means that 10 cm out, all of the jets will have merged.\n",
        "- We want to create many small eddies, because they dissipate the fastest, the trash rack can possibly help with this.\n",
        "  - Make the trash rack taller and potentially at a slope to increase surface area.\n",
        "  - at the far end of the flocculator, the channel is 2 m deep (we think), upstream add 50 cm headloss, then add 10 cm drop in the LFOM, and then an additional 20 cm for a total of 2.8 m height in the entrance tank. The trash racks would be placed after the first hopper and would go as deep as the top of the hopper. There is a physical limitation to how deep the trash rack can be, because the operators have to be able to lift it to clean it.\n",
        "- There are going to be 4 sided hoppers, need to determine how many and the length of the entrance tank. The number of drains depends on the size of particles. Confirm capture velocity from Kawamura textbook being 8 mm/s and this will set the length of the sed tank\n",
        "- the influent pipe would have a firnco coupling so it can be taken out, and possibly capped at the bottom end to prevent water from flowing straight down into the first hopper. This would be bad because it would not promote even flow throughout the tank. Influent pipe could also have a slot on the side instead of diffusers.\n",
        "- the eddy velocity in a pipe is roughly 10% of the mean velocity\n",
        "\n",
        "**Action Items:**\n",
        "- Monroe will send the pictures of the Kawamura textbook **complete**\n",
        "- Calculate v^2/2g for the plate settlers as Gracias. 5 cm would be a lot. **complete**\n",
        "- Calculate the velocity in the channel leading to the LFOM (where it gets a lot more shallow really fast) **complete**\n",
        "- Calculate how long the ET would need to be for a 60 L/s plant when designed as a horizontal sedimentation chamber. Assume the same flocculator width as Gracias. **complete**\n",
        "\n",
        "**Reflections & Future Questions**\n",
        "- Will flow expansion around a barrier dissipate more kinetic energy than water flowing through a barrier with a bunch of hole drilled into it? \n",
        "- Do non-AguaClara entrance tanks have similar problems? Can we learn anything from how problems have been dealt with in the past? \n",
        "- is the energy dissipation rate of water coming out of the influent pipe related to the energy dissipation rate of the turbulent eddies?\n",
        "- For predicting wave action around LFOM, what observations at Gracias should this be based off of?\n",
        "- are there any drawbacks to injecting the water deeper in the entrance tank?\n",
        "- the bottom geometry of the entrance tank should be selected to ensure that maintenance and the removal of grit is simple and effective. "
      ]
    },
    {
      "cell_type": "markdown",
      "metadata": {
        "id": "KQK_isEi4X1o",
        "colab_type": "text"
      },
      "source": [
        "**Kawamura Textbook Notes:**\n",
        "\n",
        "- \"a hydraulic scale model conducted by the author clearly demonstrated that when the screen is installed properly, it functions as an inlet diffuser wall\"\n",
        "- \"The square tank is satisfactory for the purpose of wastewater treatment but does not perform well as a water treatment grit chamber. The main problem with the detritus [square] tank is a function of its physical characteristics. The short tank length and the uneven inflow to the tank cause severe flow short-circuiting. ... To provide good flow characteristics for grit settling, the chamber should be rectangular with a contracted inlet.\"\n",
        "\n",
        "**MWH Textbook Notes:**\n",
        "\"Although coarse screens are used with river intakes, a fine debris screen\n",
        "with approximately 20-mm openings is often provided at the front end\n",
        "of the presedimentation tank. Because the screen also acts as an effective\n",
        "diffuser wall, it should be installed close to the tank inlet. If a separate\n",
        "diffuser wall is specified, the total area of openings at the wall should be\n",
        "about 15 percent of the tank cross-sectional area\" (pg. 667)"
      ]
    },
    {
      "cell_type": "markdown",
      "metadata": {
        "id": "hAs1IcQtMm0Z",
        "colab_type": "text"
      },
      "source": [
        "**Questions:**\n",
        "\n",
        "\n",
        "- how much bigger does the bottom floor drain need to be than the drainpipe? **example in /aguaclara/designs/ent.py**\n",
        "\n",
        "- should the area of essential ET components (ie. LFOM, trash rack, influent pipe) count towards area needed for settling particles?\n",
        "\n",
        "**Trash Racks**\n",
        "\n",
        "- Considerations for determining the size of holes\n",
        "  - what size particles/debris are we trying the remove?\n",
        "  - in Rosie's design, the trash racks are protecting the plant from particles larger than 2 mm sand\n",
        "  - do not want a super high velocity through the holes (put as many as possible over a large area)\n",
        "- plant operators need to be able to lift the trash racks\n",
        "  - really tall trash racks, large velocities/high KE might make it for operators to lift\n",
        "- should the trash racks be at an angle to increase surface area? Need to balance the need to reduce velocities and making the rack physically easy to handle\n",
        "- how close should the racks be spaced apart?\n",
        "- what is the point of layering the wire mesh with the rebar? Why can't you rake the trash rack without the rebar?\n",
        "- Is it necessary for both trash racks to be in the tank at the same time? \n",
        "  - Pros: having both trash racks in the tank give a second chance to capture particles...but if the mesh is the same size, shouldn't they capture the same size particles. I don't see how the second screen would help that much.\n",
        "  - another reduction of kinetic energy\n",
        "- random idea: what if the trash rack had a hinge on it so you could fold it in half and make it easier to carry? This might not be ideal since it creates a moving part that could break and would need to be replaced\n",
        "- why were the holes at Gracias made so big (1.3 cm)?\n",
        "- what is the relationship between headloss and the creation of turbulent eddies? Does the source of headloss control the size of turbulent eddies produced? \n",
        "\n",
        "\n"
      ]
    },
    {
      "cell_type": "markdown",
      "metadata": {
        "id": "kMHpRka0g2v2",
        "colab_type": "text"
      },
      "source": [
        "## Task: Reduce the kinetic energy of the influent water\n",
        "\n",
        "**Problem:** The high kinetic energy of the influent water causes lots of wave action and splashing \n",
        "\n",
        "**Possible Solutions**\n",
        "1. inject the water deeper into the entrance tank so that turbulent eddies are somewhat dissipated by the time they get to the water surface.\n",
        "1. direct the water against the wall of the tank\n",
        "1. use 2\" diameter diffusers (so that clogging isn't a problem) in the vertical entrance pipe with the diffusers pointing upstream toward the end wall of the entrance tank\n",
        "\n"
      ]
    },
    {
      "cell_type": "markdown",
      "metadata": {
        "id": "JFdv6qj6jz3D",
        "colab_type": "text"
      },
      "source": [
        "### Task 1 Solution 1: Inject water deeper in the entrance tank so that turbulent eddies are somewhat dissipated by the time they get to the water surface\n",
        "\n",
        "**Edit 6/24: not sure that we really need to any math to determine how deep the influent tube should be. would probably just position it as low as possible. Ask Monroe later.**\n",
        "\n",
        "- Define \"somewhat dissipated.\"\n",
        "  - From AC textbook: \"Eddy turnover time, $t_{eddy}$, is the time it takes for the eddy to travel a distance equal to its length-scale. Thus the eddy turnover time provides a good estimate of the time required for mixing to occur at the length scale of the eddy. **We assume that the energy of the large eddy is dissipated into smaller length scales in the time $t_{eddy}$:**\"\n",
        "\n",
        "- Which equations govern the dissipation of turbulent eddies?\n",
        "$$t_{eddy} \\approx \\frac{L_{eddy}}{v_{eddy}}$$\n",
        "\n",
        "   The rate of energy loss to smaller scales\n",
        "$$\\bar\\varepsilon \\approx\\frac{v_{eddy}^3}{L_{eddy}}$$\n",
        "\n",
        "   and therefore...\n",
        "\n",
        "$$v_{eddy} \\approx \\left( \\bar\\varepsilon \\, L_{eddy} \\right)^\\frac{1}{3}$$\n",
        "\n",
        "- \"The largest eddies are limited in size by the smallest dimension normal to the direction of flow\"\n",
        "\n",
        "   *Therefore the length scale of a turbulent eddy in the entrance tank is either the vertical distance between the water surface and the 'baffle wall', or the width of the entrance tank (whichever distance is smaller).*???\n",
        "\n",
        "- How is water currently being injected?\n",
        "  - see onshape drawing, there's a tee at the end of the pipe so water flows out horizontally towards the side walls of the entrance tank\n",
        "\n",
        "- For reference: The form of energy loss from the influent pipe is expansion, (ie. the following equations are relevant)\n",
        "\n",
        "$$h_e = K\\frac{\\bar v_{out}^2}{2g}$$\n",
        "\n",
        "$$\\bar\\varepsilon = K\\frac{\\bar v_{out}^3}{2H}$$\n",
        "\n",
        "$$G_{CS} = \\bar v_{out}\\sqrt{\\frac{K\\bar v_{out}}{2H\\nu}}$$\n",
        "\n",
        " \n",
        "- Determine the injection depth needed so that turbulent eddies are \"somewhat dissipated\"\n",
        "  \n"
      ]
    }
  ]
}