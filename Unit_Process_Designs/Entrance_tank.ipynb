{
  "nbformat": 4,
  "nbformat_minor": 0,
  "metadata": {
    "colab": {
      "name": "Entrance_tank.ipynb",
      "provenance": [],
      "collapsed_sections": [
        "FrNTUNvm8hzo",
        "JFTRJI2a8nbs"
      ],
      "include_colab_link": true
    },
    "kernelspec": {
      "name": "python3",
      "display_name": "Python 3"
    }
  },
  "cells": [
    {
      "cell_type": "markdown",
      "metadata": {
        "id": "view-in-github",
        "colab_type": "text"
      },
      "source": [
        "<a href=\"https://colab.research.google.com/github/AguaClara/CEE4520/blob/master/Unit_Process_Designs/Entrance_tank.ipynb\" target=\"_parent\"><img src=\"https://colab.research.google.com/assets/colab-badge.svg\" alt=\"Open In Colab\"/></a>"
      ]
    },
    {
      "cell_type": "markdown",
      "metadata": {
        "id": "arjPMuEQ1W4S",
        "colab_type": "text"
      },
      "source": [
        "# Entrance Tank: Executive Summary"
      ]
    },
    {
      "cell_type": "markdown",
      "metadata": {
        "id": "l_qULmdu1Y-z",
        "colab_type": "text"
      },
      "source": [
        "## Introduction\n",
        "\n",
        "The trash rack and plate settlers in the entrance tank at the Gracias, Honduras AguaClara plant have been unsuccessful at capturing grit and preventing it from traveling to the rest of the plant. This grit causes maintenance issues by settling in the flocculator and the channel leading to the sedimentation tanks.  Another issue occuring in the Gracias entrance tank is excessive wave action and splashing, which destabilizes the floating component of the Chemical Dosage System (CDC). The entrance tank was redesigned using python to address these issues and a new CAD model was drawn in [Onshape](https://cad.onshape.com/documents/c3a8ce032e33ebe875b9aab4/w/6adcfdb3748954c1c2b7d1b2/e/e09d11406e7a9143537efe3a). The following summary provides rationale and context for the new entrance tank design and seeks to guide future improvements to the python code and Onshape model."
      ]
    },
    {
      "cell_type": "markdown",
      "metadata": {
        "id": "rSrFlwRh1bnU",
        "colab_type": "text"
      },
      "source": [
        "## Grit Chamber\n",
        "\n",
        "The entrance tank design includes a horizontal sedimentation basin to capture grit that may settle in the flocculator and influent channel to the sedimentation tanks. There was an attempt to calculate the critical particle size that needs to be removed by the entrance tank at Gracias (see Appendix A), but the results were not physically reasonable. After discussion with Agua Para el Pueblo (APP) engineers, it was determined that grit carryover is not a large problem throughout AguaClara plants. Out of 20+ plants, only plant operators in Gracias and Agalteca reported maintenance issues due to grit carryover. Therefore the grit chamber could be included in the entrance tank design on a case-by-case basis depending on the quality of the water source. \n",
        "\n",
        "Typically a grit chamber is located as close to the water intake as possible to avoid damaging pipeline, pumps, and valves. This is less of a concern for AguaClara plants since they are gravity powered and do not require pumps. However, it may be worthwhile to consider the pros/cons of locating the grit chamber inside the entrance tank or closer to the water source.  \n",
        "\n",
        "In this design, the grit chamber is located on the effluent side of the trash racks and is lined with a series of hoppers. When the grit chamber needs to be cleaned, the plant operator can remove the pipe stub blocking the drain at the bottom of each hopper, which allows water to wash away settled grit. The minimum slope of each hopper is determined by the angle of repose for wet sand (45 degrees). "
      ]
    },
    {
      "cell_type": "markdown",
      "metadata": {
        "id": "ybkU8UhV1f1X",
        "colab_type": "text"
      },
      "source": [
        "## Influent Region\n",
        "\n",
        "The influent region of the entrance tank is designed to reduce splashing and the kinetic energy of the water. Hydraulic calculations in Appendix B demonstrate the kinetic energy in the entrance tank come primarily from the influent pipe. To dissipate this kinetic energy, the influent pipe is aimed at the back wall of the sedimentation tank so that water has to travel twice the length of the influent region before traveling to the rest of this plant (Figure 1). \n",
        "\n",
        "<center>\n",
        " <p style=\"text-align: center;\">\n",
        "<img src=\"https://github.com/Emily-Wood/AguaClara/blob/master/Influent%20Region%20Diagram.PNG?raw=true\" height = 300 />\n",
        "  </p>\n",
        "\n",
        "**Figure 1:**  A design to reduce kinetic energy and splashing from the influent pipe. A diffuser aims the influent water towards the back wall of the entrance tank so that it has to travel 2*L before it continues on to the LFOM. The dotted lines show how the jet expands as it travels the length L in the entrance tank. For every 10 cm it travels forward, it expands 1 cm wider. \n",
        "</center>\n",
        "\n",
        "From fluid mechanics, a jet of water expands approximately 1 cm wider for every 10 cm that it travels forward. Therefore, the length of the influent region would need to be 5 times the width of the entrance tank for the jet to fully expand by the time the water flows to the rest of the plant. Allowing for the full expansion of the influent jet ensures uniform flow throughout the tank and gives time for turbulent eddies to dissipate. Additionally, obstacles were added near the back wall of the entrance tank in the Onshape design (not included in Figure 1) to cause further fluid deformation. \n",
        "\n",
        "A major downside to this design is that is takes up a lot of space and that the required area of the entrance tank is a function of its width. It is unclear whether a complete expansion of the influent jet is necessary to dissipate enough kinetic energy to reduce splashing. To decrease the size of the entrance tank, this requirement was relaxed so that the length to width ratio of the influent region was 2 instead of 5. The hydraulic assumptions used in this design could be tested further using Simscape, a modeling app that can be integrated with Onshape. \n",
        "\n",
        "An alternative method for reducing kinetic energy in the entrance tank is adding a diffuser wall. A diffuser wall could be as simple as a PVC sheet with holes drilled into it. When water flows through these openings, turbulent eddies are created which dissipate kinetic energy. This solution is both easy to construct and space efficient. "
      ]
    },
    {
      "cell_type": "markdown",
      "metadata": {
        "id": "GyWrEVfZ1qGV",
        "colab_type": "text"
      },
      "source": [
        "## Trash Racks\n",
        "\n",
        "The entrance tank contains two trash racks made of stainless steel [wire mesh](https://www.mcmaster.com/stainless-steel-mesh/stainless-steel-wire-cloth-9/). The trash racks are inserted into the entrance tanks by sliding them into a pair of [U-Channels](https://www.mcmaster.com/9001K691/) which are attached to the concrete. There are two trash racks so that one can be cleaned while the other prevents grit from traveling to the rest of the plant. The opening size of the wire mesh (set to 2 mm) was used to determine if a grit chamber is needed in the entrance tank. If the smallest particle size the needs to be removed from the entrance tank is larger than the opening size of the mesh, then a grit chamber is not necessary as these particles will be trapped by the trash rack. The trash racks may also help dissipate excess kinetic energy since water flowing through its openings create small turbulent eddies which dissipate faster than larger turbulent eddies. \n",
        "\n",
        "An important component of the trash rack is its size. A large trash rack with many orifices reduces the velocity through each opening. However, plant operators needs to be able to lift and carry the trash rack with ease. Therefore having the trash rack extend all the way to the bottom of the entrance tank may not be feasible if bulkiness is an issue for plant operators. The concrete supporting the trash racks could be raised in height until the trash rack is an appropriate depth.\n"
      ]
    },
    {
      "cell_type": "markdown",
      "metadata": {
        "id": "J_hXMaUc1yr6",
        "colab_type": "text"
      },
      "source": [
        "## Entrance Tank Dimensions\n",
        "\n",
        "In some AguaClara plants, the entrance tank, flocculators, and sedimentation tanks are separated by walkways. At the plant in Gracias, these components are arranged so that they fit together in one rectangle. This avoids the need for buried pipes to carry water underneath the walkway from one component to the other. Figure 2 shows how the entrance tank at Gracias is integrated into the first flocculator channel. \n",
        "\n",
        "<center>\n",
        " <p style=\"text-align: center;\">\n",
        "<img src=\"https://github.com/Emily-Wood/AguaClara/blob/master/Plant%20Layout%20Option%201.PNG?raw=true\" height = 300 />\n",
        "  </p>\n",
        "\n",
        "**Figure 2:**  At Gracias, the entrance tank, flocculators, and sedimentation tanks are arranged to fit in one rectangle, with the entrance tank integrated into the first flocculator channel\n",
        "</center>\n",
        "\n",
        "With the addition of a grit chamber to the design, it is possible that the entrance tank will extend to the full length of a flocculator channel and then get wider to meet its minimum plan-view area requirement (Figure 3). \n",
        "\n",
        "<center>\n",
        " <p style=\"text-align: center;\">\n",
        "<img src=\"https://github.com/Emily-Wood/AguaClara/blob/master/Plant%20Layout%20Option%202.PNG?raw=true\" height = 300 />\n",
        "  </p>\n",
        "\n",
        "**Figure 3:**  The entrance tank may extend the full length of the flocculator and then get wider as needed\n",
        "</center>\n",
        "\n",
        "The dimensions of the entrance tank are based on the assumption that the area of all channels must sum to the required area of the entrance tank and flocculator. \n",
        "\n",
        "\n",
        "**Equation 1** \n",
        "\n",
        "$$A_{total} = W_{channel} * L_{sed} * n_{channels}$$\n",
        "\n",
        "where \n",
        "\n",
        "$A_{total}$ = the combined required area of the flocculator and entrance tank\n",
        "\n",
        "$W_{channel}$ = the width of a channel (assume for now that the width of the entrance tank equals the width of a floccualtor channel)\n",
        "\n",
        "$L_{sed}$ = the length of the sedimentation tanks and therefore the length of one channel\n",
        "\n",
        "$n_{channels}$ = the total number of channels\n",
        "\n",
        "The total area is the sum of the area needed for the flocculator, the LFOM, the grit chamber, the trash racks, and the influent region of the entrance tank as shown in Equation 2. \n",
        "\n",
        "**Equation 2**\n",
        "\n",
        "$$A_{total} = A_{flocc} + A_{LFOM} + A_{grit} + A_{tRacks} + A_{influent}$$\n",
        "\n",
        "The required area of the flocculator and the grit chamber are easily calculated, and the remaining variables can be written as a function of entrance tank width.\n",
        "\n",
        " ${\\\\}$\n",
        "\n",
        "**Equation 3**\n",
        "\n",
        "$$A_{flocc} + 3*OD_{LFOM} * W_{channel} + A_{grit} + L_{tRacks} * W_{channel} + LW_{ratio}* (W_{channel})^2 = W_{channel} * L_{sed} * n_{channels}$$\n",
        "\n",
        "where \n",
        "\n",
        " $OD_{LFOM}$ = the outer diameter of the LFOM (the number 3 is added as a safety factor)\n",
        "\n",
        " $L_{tRacks}$ = the length of the entrance tank needed for the trash racks \n",
        " \n",
        " $LW_{ratio}$ = the length:width ratio of the influent region of the entrance tank, dictated by hydraulics (value set at 2 in the python code)\n",
        "\n",
        " ${\\\\}$\n",
        "\n",
        "Equation 3 is a quadratic equation that can be solved for the width of a channel if the number of channels is known. Since there are few options for the number of channels in an AguaClara plant, it is simple enough to iterate through each option and choose a desireable width. The width of a channel must be large enough for a human to fit inside (ie. > 45 cm) and smaller than the polycarbonate sheets used as baffles in the flocculator (ie. < 1.08 m). Note that additional parameters were added to Equation 3 in the python code to account for miscellanous space needed for fabrication. "
      ]
    },
    {
      "cell_type": "markdown",
      "metadata": {
        "id": "VcT_3oeO14c1",
        "colab_type": "text"
      },
      "source": [
        "## Linear Flow Orifice Meter (LFOM)\n",
        "The LFOM is located at the very end of the entrance tank. It is supported by concrete in the shape of an inverted L. Below the LFOM, there is a port in the concrete which allows water to flow to the flocculator. The length of the LFOM pipe and the height of its supported concrete can be adjusted to facilitate easier fabrication."
      ]
    },
    {
      "cell_type": "markdown",
      "metadata": {
        "id": "dcXKB6AkUAw_",
        "colab_type": "text"
      },
      "source": [
        "\n",
        "\n",
        "\n",
        " \n",
        "\n",
        "## Drain Channel\n",
        "\n",
        "When a plant operator removes the pipe stubs in the hoppers, water and grit drain from the entrance tank and empty into a concrete channel. This channel has a sloped bottom to encourage grit to flow towards the exit. The size and slope of this channel has been arbitrarily chosen in the Onshape design for demonstration purposes. These parameters should be defined explicitly after considering implications for construction and maintenance. There is concern that a narrow drain channel would be difficult to construct if a person cannot fit inside. The drain channel could be replaced with a large pipe buried in the ground and connected to the hopper drains by vertical PVC pipes. \n",
        "\n",
        "\n",
        "\n",
        "\n",
        "\n",
        "\n",
        "\n",
        "\n",
        "\n"
      ]
    },
    {
      "cell_type": "markdown",
      "metadata": {
        "id": "CfYGNqFR24ed",
        "colab_type": "text"
      },
      "source": [
        "## Comments on the Entrance Tank Design\n",
        "- The material, dimensions, and position of the obstacles in the influent region of the tank (shown in Onshape only) have not been defined. Furthermore it is not clear whether these obstacles are needed at all to properly reduce the kinetic energy in the entrance tank. Simscape is an app that can be integrated with Onshape and could be used to test the hydraulic efficacy of the design.\n",
        "- If the influent pipe is centered in the entrance tank, water will immediately collide with the closest hopper pipe stub and this may have unintended consequences. For this reason, the influent pipe was offset in the Onshape design. Other solutions include using two influent pipes instead of one. \n",
        "\n",
        "## Comments on the Python Code\n",
        "- The kinematic viscosity 'nu' is used several times throughout the code. This variable could be defined globally to avoid repeat calculations\n",
        "- In the definition grit_area, a 'messy' solution to a unit truncation error was used. This solution could potentially be improved by reducing the units to their base before applying the exponent. \n",
        "- Parameters from the LFOM and flocculator code (such as lfom_od and flocc_depth) were initialized in the constructor class. However, it would be better to integrate the LFOM, entrance tank, and flocculator code. \n",
        "- The constructor class could be rewritten as a parametrized constructor to allow for user input. Not sure if this will be relevant after the python code is transferred to FeatureScript.\n",
        "- Variables could be renamed to match AguaClara naming guidelines (eg. camel case)\n",
        "\n",
        "## Comments on the Onshape Drawing\n",
        "- Depending on the configuration values, there is either a slight gap or a slight overlap between the influent hoppers and the concrete supporting the trash racks. It's unclear why this error occurs on the influent side of the trash racks, but not the effluent side. It is possible that the truncation error in the hopper dimensions is magnified when the linear pattern is used. \n",
        "- A coupling was not installed in the concrete for the LFOM due to size mismatching. The largest coupling in the pipe library is 10 inches, but the LFOM has an outer diameter of 12.76 inches. \n",
        "- The same concrete thickness was used everywhere in the design. This thickness could be reduced in some places (such as the LFOM concrete) to reduce material costs\n",
        "- If needed, a configuration to suppress the drawing of grit hoppers could be added to prevent errors when no grit chamber is present\n",
        "- The drain couplings were installed so that they do not protrude above the drain floor. If this is incorrect, the mate connectors should be reoriented.\n",
        "- The configuration, influentPipeND, was not used and could be deleted. Or consider making it a drop-down configuration\n",
        "- Consider definiting 'drainFloorL' in 'Measurements and Variables' rather than as a configuration, because it will only change if a different drain pipe size is selected\n",
        "- It may be helpful to move the influent pipe to it's own part studio. This way, it's location in the entrance tank could be more easily defined with a mate connector. \n",
        "- It was difficult to construct a pipe stub using the custom feature pipeline. Instead the pipe stub was made by sketching and extruding concentric circles. This approach may not be ideal. \n",
        "- The length of the LFOM pipe was increased by an arbitrary amount so that the orifices would be near the top of the entrance tank and visible to plant operators. This extrusion length should be defined explicitly. The named mate connector was moved accordingly so that it was still on the bottom of the LFOM.\n",
        "\n"
      ]
    },
    {
      "cell_type": "markdown",
      "metadata": {
        "id": "lBoMXTcXuCvi",
        "colab_type": "text"
      },
      "source": [
        "# Design the Entrance Tank in Python"
      ]
    },
    {
      "cell_type": "code",
      "metadata": {
        "id": "K0Y4Ny1oq8A9",
        "colab_type": "code",
        "colab": {
          "base_uri": "https://localhost:8080/",
          "height": 923
        },
        "outputId": "8b04f459-3e29-4ea5-9755-ce1ba104deb0"
      },
      "source": [
        "\"\"\"The entrance tank of an AguaClara water treatment plant\"\"\"\n",
        "\n",
        "!pip install aguaclara\n",
        "from aguaclara.core.units import unit_registry as u\n",
        "import aguaclara as ac\n",
        "import numpy as np\n",
        "from aguaclara.design.component import Component\n",
        "from aguaclara.design.pipeline import Pipe\n",
        "\n",
        "\n",
        "class EntranceTank(Component):\n",
        "  \"\"\"Design an AguaClara plant's entrance tank. \n",
        "\n",
        "     An entrance tank's design relies on the LFOM's and the floccualtor's design in\n",
        "     the same plant, but assumed/default values may be used to design an entrance\n",
        "     tank by itself. To design these components in tandem, use :class:`aguaclara.design.ent_floc.EntTankFloc`.\n",
        "\n",
        "     Design Inputs:\n",
        "        - ``q (float * u.L / u.s)``: Flow rate (recommended, defaults to 60 L/s)\n",
        "        - ``temp (float * u.degC)``: Water temperature (recommended, defaults to 20°C)\n",
        "        - ``diam_p (float * u.mm)``: The smallest particle that needs to be captured by the entrance tank grit chamber (optional, defaults to 2.5 mm)\n",
        "        - ``lfom_od (float * u.m)``: The LFOM's outer diameter (recommended, defaults to 10 inch\")\n",
        "        - ``lfom_hl (float * u.m)``: The head loss through the lfom (recommended, defaults to 30 cm)\n",
        "        - ``flocc_gt (float)``: Flocculator collision potential (optional, defaults to 37000)\n",
        "        - ``flocc_hl (float * u.cm)``: Flocculator head loss (optional, defaults to 40cm)\n",
        "        - ``flocc_widthMax (float * u.m)``: The maximum width of a flocculator channel based on the polycarbonate sheets used (optional, defaults to 1.08 m)\n",
        "        - ``flocc_widthMin (float * u.m)``: The minimum width of a flocculator based on average human width (optional, defaults to 0.45 m) \n",
        "        - ``flocc_depth (float)``: The depth of the flocculator (optional, defaults to 2.17 m)\n",
        "        - ``dividing_wall_thickness (float * u.m)``: Thickness of dividing walls between each channel (optional, defaults to 15 cm)\n",
        "        - ``sed_length (float * u.m)``: the length of a sedimentation tank plus the width of the influent and effluent sedimentation channels (recommended, defaults to 7.1 m)\n",
        "        - ``fab_s(float * u.cm)``: The space needed for a person to remove the drain pipe (optional, defaults to 5 cm)\n",
        "        - ``hopper_LWratio (float)``: The length:width ratio of a hopper. Used to manipulate the tradeoff between hopper depth and number of hoppers (optional, defaults to 1)\n",
        "        - ``influentHopper_LWratio (float)``: The length:width ratio of a hopper on the influent side of the trash racks\n",
        "        - ``hopper_slope (float)``: The slope of the hopper walls (optional, defaults to 1)\n",
        "        - ``tRack_number (float)``: The number of trash racks (optional, defaults to 2)\n",
        "        - ``tRack_spacing (float * u.m)``: the space needed between trash racks (optional, defaults to 12 cm)\n",
        "        - ``track_diam (float * u.m)``: the diameter of holes in the trash rack (recommended, defaults to 2 mm)\n",
        "        - ``sdr (float)``: Standard dimension ratio (optional, dafults to 41)\n",
        "        - ``drain_nd (float * u.inch)``: The diameter of the drain pipe (optional, defaults to 3 inch)\n",
        "        - ``submersion_depth (float * u.m)``: the distance that the first orifice on the influent pipe is submerged below the surface to prevent splashing (optional, defaults to 0.1 m)\n",
        "        - ``influentFabSpace (float * u.m)``: extra influent pipe length needed to extend above the entrance tank for fabrication purposes.\n",
        "            and extra space between the influent pipe and the trash racks (optional, defaults to 15 cm)\n",
        "        - ``orifice_diam (float * u.m)``: the diameter of orifices on the influent pipe (optional, defaults to 1.8 cm)\n",
        "        - ``freeboard (float * u.m)``: the height of the tank above the water surface (optional, defaults to 10 cm)\n",
        "        - ``etInfluent_LWratio (float)``: the length:width ratio of the influent area of the entrance tank (optional, defaults to 5)\n",
        "        - ``drainChannelDepth (float * u.m)``: the depth of the drain channel underneath the entrance tank (optional, defaults to 0.3 m)\n",
        "  \"\"\"\n",
        "  def __init__(self, **kwargs):\n",
        "      self.q = (60 * u.L/u.s).to(u.m**3/u.s)\n",
        "      self.temp = 20 * u.degC\n",
        "      self.diam_p = (0.35 * u.mm).to(u.m)\n",
        "      self.lfom_od = (12.756 * u.inch).to(u.m) # Featurescript: Need to access correct outer diameter from the LFOM code\n",
        "      self.lfom_hl = (30 * u.cm).to(u.m) \n",
        "      self.flocc_gt = 37000 # taken from flocculator code\n",
        "      self.flocc_hl = (40.0 * u.cm).to(u.m) # taken from flocculator code\n",
        "      self.flocc_widthMax = 1.08 * u.m # size of polycarbonate sheets used\n",
        "      self.flocc_widthMin = 0.45 * u.m # human width constraint\n",
        "      self.flocc_depth = 2.0 * u.m\n",
        "      self.dividing_wall_thickness = (15 * u.cm).to(u.m)\n",
        "      self.sed_length = 7.1 * u.m\n",
        "      self.fab_s = (5 * u.cm).to(u.m)\n",
        "      self.hopper_LWratio = 1\n",
        "      self.influentHopper_LWratio = 1\n",
        "      self.hopper_slope = 1 # corresponds to a 45 deg angle, the angle of repose for sand when wet\n",
        "      self.tRack_number = 2\n",
        "      self.tRack_spacing = (12 * u.cm).to(u.m) # large enough to fit a hand in between the trash racks\n",
        "      self.tRack_diam = (2 * u.mm).to(u.m) # corresponds to Number 10 SS mesh\n",
        "      self.sdr = 41\n",
        "      self.drain_nd = (3 * u.inch).to(u.m)\n",
        "      self.drain_pipe = Pipe()\n",
        "      self.submersionDepth = 0.10 * u.m\n",
        "      self.influentFabSpace = 0.15 * u.m\n",
        "      self.orifice_diam = (1.8 * u.cm).to(u.m) # an arbitrary choice from aguaclara.core.drills.py\n",
        "      self.freeboard = 0.10 * u.m\n",
        "      self.etInfluent_LWratio = 2 # comes from fluid dynamics. Arbitrarily guess that jet needs to expand 1/5 of the entrance tank width by the time it reaches the back wall\n",
        "      self.drainChannelDepth = 0.3 * u.m\n",
        "\n",
        "  @property\n",
        "  def et_depth(self): # does not include drain channel\n",
        "      \"\"\"the depth of the entrance tank\"\"\"  \n",
        "      et_depth = self.flocc_depth + self.lfom_hl # note that flocc_depth already includes freeboard\n",
        "      return et_depth\n",
        "\n",
        "  @property\n",
        "  def grit_area(self):\n",
        "      \"\"\"the required area of the grit chamber\"\"\"\n",
        "      grit_area = 0 * u.m**2\n",
        "      if self.diam_p < self.tRack_diam: # there is no need for a grit chamber if the desired particle size will be trapped by the trash rack \n",
        "         rho_H20 = ac.density_water(self.temp)\n",
        "         rho_sand = 2650 *u.kg/u.m**3\n",
        "         nu = ac.viscosity_kinematic_water(self.temp)\n",
        "         v_c = ((rho_sand - rho_H20)*ac.GRAVITY*self.diam_p**2)/(18*nu*rho_H20)\n",
        "         Re = v_c*self.diam_p/nu\n",
        "         if Re > 2: # recalculate for transition flow (MWH textbook uses 2 as laminar boundary)\n",
        "            v_c = (((rho_sand - rho_H20)*ac.GRAVITY*self.diam_p**1.6)/(13.9*rho_H20*nu**0.6))**(1/1.4)\n",
        "            v_c = (v_c.magnitude) * (u.m/u.s) # correction for unit truncation error, this is a messy solution.\n",
        "            Re = v_c*self.diam_p/nu\n",
        "            grit_area = self.q/v_c\n",
        "      return grit_area\n",
        "\n",
        "  @property\n",
        "  def etLFOM_length(self):\n",
        "      \"\"\"The length needed by the LFOM in the entrance tank\"\"\"\n",
        "      etLFOM_length = np.max([3 * self.lfom_od.magnitude, self.flocc_widthMin.magnitude + self.dividing_wall_thickness.magnitude])*u.m\n",
        "      return etLFOM_length\n",
        "\n",
        "  @property\n",
        "  def tRack_length(self):\n",
        "      \"\"\"the length of the entrance tank needed for the trash racks\"\"\"\n",
        "      tRack_length = self.tRack_spacing * (self.tRack_number - 1)\n",
        "      return tRack_length\n",
        "\n",
        "  @property\n",
        "  def flocc_area(self):\n",
        "      \"\"\"the required area of the flocculator\"\"\"\n",
        "      vel_grad_avg = ((ac.GRAVITY * self.flocc_hl) / (ac.viscosity_kinematic_water(self.temp) * self.flocc_gt)).to(u.s ** -1)\n",
        "      retention_time = (self.flocc_gt / vel_grad_avg).to(u.s)\n",
        "      flocc_volume = (self.q * retention_time).to(u.m ** 3)\n",
        "      flocc_area = flocc_volume/self.flocc_depth\n",
        "      return flocc_area.to(u.m**2)\n",
        "\n",
        "  @property\n",
        "  def influentPipeND(self): \n",
        "      \"\"\"the nominal diameter of the influent pipe\"\"\"   \n",
        "      HeadLoss = 0.5 * u.m # an approximation to ensure the the influent pipe is a reasonable size\n",
        "      Length = self.et_depth # another approximation (most likely an overestimate)\n",
        "      KMinor = 1 \n",
        "      influentPipeID = ac.diam_pipe(self.q, HeadLoss, Length, ac.viscosity_kinematic_water(self.temp), ac.PVC_PIPE_ROUGH, KMinor)\n",
        "      influentPipeND = ac.ND_SDR_available(influentPipeID,self.sdr) # no AguaClara function converting directly from ID to OD exists\n",
        "      return influentPipeND   \n",
        "\n",
        "  @property\n",
        "  def influentPipeOD(self):\n",
        "      \"\"\"the outer diameter of the influent pipe\"\"\"\n",
        "      influentPipeOD = ac.OD(self.influentPipeND)\n",
        "      return influentPipeOD \n",
        "\n",
        "  def etFlocc_specs(self): \n",
        "      \"\"\"Calculates the length and width of the entrance tank, the width of the flocculator, and the total number of channels.\n",
        "      This algorithm selects the minimum number of channels (to save concrete) and it could be modified to select the maximum number of channels (to save plastic)\"\"\"\n",
        "      n = [1,2,3,4,5,6]  # discuss whether a mechanism is needed to choose an even or odd number of channels with APP and Monroe\n",
        "      i = 0\n",
        "      et_width = 0\n",
        "      flocc_width = 0\n",
        "      found = False\n",
        "      while found == False and i < len(n):\n",
        "            n_channels = n[i]\n",
        "            a = self.etInfluent_LWratio\n",
        "            b = self.etLFOM_length + self.tRack_length + self.dividing_wall_thickness - n_channels*self.sed_length + self.influentPipeOD + self.influentFabSpace\n",
        "            c = self.flocc_area + self.grit_area\n",
        "            W1 = (-b + np.sqrt(b**2 - 4*a*c))/(2*a)\n",
        "            W2 = (-b - np.sqrt(b**2 - 4*a*c))/(2*a)\n",
        "            if W1 >= self.flocc_widthMin and W1 <= self.flocc_widthMax: # if W1 and W2 are both in the deired range, this returns the larger width. This can be changed to return the smaller width, or both of them.\n",
        "              found = True\n",
        "              et_width = W1\n",
        "              flocc_width = W1\n",
        "            elif W2 >= self.flocc_widthMin and W2 <= self.flocc_widthMax:\n",
        "              found = True\n",
        "              et_width = W2\n",
        "              flocc_width = W2\n",
        "            i = i + 1\n",
        "      # determine if the entrance tank gets its own channel\n",
        "      etInfluent_length = self.etInfluent_LWratio * et_width + self.influentPipeOD + self.influentFabSpace\n",
        "      grit_length = self.grit_area/et_width\n",
        "      et_length = etInfluent_length + self.tRack_length + grit_length + self.etLFOM_length\n",
        "\n",
        "      if et_length > self.sed_length or (self.sed_length - et_length) < self.flocc_widthMin: # rename this last variable. Then ET gets it own channel\n",
        "         et_length = self.sed_length\n",
        "         # re-design the flocculator\n",
        "         flocc_nChan = np.ceil(self.flocc_area/(self.sed_length * self.flocc_widthMax)) # make this to an odd number\n",
        "         flocc_width = self.flocc_area/(self.sed_length*flocc_nChan)\n",
        "\n",
        "         # re-design the entrance tank (n = 1)\n",
        "         a = self.etInfluent_LWratio\n",
        "         b = self.etLFOM_length + self.tRack_length - self.sed_length\n",
        "         c = self.grit_area\n",
        "         W1 = (-b + np.sqrt(b**2 - 4*a*c))/(2*a)\n",
        "         W2 = (-b - np.sqrt(b**2 - 4*a*c))/(2*a)\n",
        "         if W2 >= self.flocc_widthMin: # rename this last variable, try the smaller width first\n",
        "            et_width = W2\n",
        "            flocc_width = W2\n",
        "         elif W1 >= self.flocc_widthMin:\n",
        "              et_width = W1\n",
        "              flocc_width = W1\n",
        "         #else is it possible that there will be no solution?\n",
        "         n_channels = flocc_nChan + 1\n",
        "      specs = [et_width, et_length, flocc_width, n_channels]\n",
        "      return specs\n",
        "\n",
        "  @property\n",
        "  def et_width(self):\n",
        "      \"\"\"the width of the entrance tank\"\"\"\n",
        "      et_width = self.etFlocc_specs()[0]\n",
        "      return et_width\n",
        "\n",
        "  @property\n",
        "  def et_length(self):\n",
        "      \"\"\"the length of the entrance tank\"\"\"\n",
        "      et_length = self.etFlocc_specs()[1]\n",
        "      return et_length\n",
        "\n",
        "  @property\n",
        "  def flocc_width(self):\n",
        "      \"\"\"the width of a floccualtor channel\"\"\"\n",
        "      flocc_width = self.etFlocc_specs[2]\n",
        "      return flocc_width\n",
        "\n",
        "  @property\n",
        "  def n_channels(self):\n",
        "      \"\"\"the total number of entrance tank and flocculator channels\"\"\"\n",
        "      n_channels = self.etFlocc_specs[3]\n",
        "      return n_channels\n",
        "\n",
        "  @property\n",
        "  def etInfluent_length(self): # Consider returning this value in etFlocc_specs since it is already calculated there\n",
        "      \"\"\"The length of the entrance tank on the influent side of the trash racks\"\"\"\n",
        "      etInfluent_length = self.etInfluent_LWratio * self.et_width + self.influentPipeOD + self.influentFabSpace\n",
        "      return etInfluent_length\n",
        "\n",
        "  @property\n",
        "  def tRack_width(self):\n",
        "      \"\"\"the width of the trash rack\"\"\"\n",
        "      tRack_width = self.et_width \n",
        "      return tRack_width\n",
        "\n",
        "  @property\n",
        "  def grit_length(self): # Consider returning this value in etFlocc_specs\n",
        "      \"\"\"the length of the entrance tank containing hoppers on the effluent side of the trash racks\"\"\"\n",
        "      grit_length = self.grit_area/self.et_width # does this need to be self.et_width?\n",
        "      return grit_length\n",
        "\n",
        "  @property\n",
        "  def hopper_width(self):\n",
        "      \"\"\"the width of one hopper\"\"\"\n",
        "      hopper_width =  self.et_width\n",
        "      return hopper_width\n",
        "\n",
        "  @property\n",
        "  def gritHopper_length(self): \n",
        "      \"\"\"Calculates the length of hoppers on the effluent side of the trash rack\"\"\"\n",
        "      gritHopper_length = 0 * u.m\n",
        "      if self.grit_area != 0:\n",
        "         gritHopper_length = self.hopper_LWratio * self.hopper_width\n",
        "         n_hoppers = np.floor(self.grit_length/gritHopper_length)\n",
        "         # redistribute extra space to each hopper equally\n",
        "         extraLength = (self.grit_length - n_hoppers*gritHopper_length)/n_hoppers # the extra length added to each hopper to fill the entire grit chamber\n",
        "         gritHopper_length = gritHopper_length + extraLength\n",
        "         hopper_LWratioActual = gritHopper_length/self.hopper_width\n",
        "      return gritHopper_length\n",
        "\n",
        "  @property\n",
        "  def gritHopper_number(self): # is there a better way to do this? (this variable is already defined in gritHopper_length)\n",
        "      \"\"\"the number of hoppers on the effluent side of the trash racks\"\"\"\n",
        "      gritHopper_number = 0\n",
        "      if self.grit_area != 0:\n",
        "         gritHopper_number = self.grit_length/self.gritHopper_length\n",
        "      return gritHopper_number\n",
        "\n",
        "  @property\n",
        "  def drainPipeOD(self):\n",
        "      \"\"\"the outer diameter of the drain pipe\"\"\"\n",
        "      drainPipeOD = ac.OD(self.drain_nd)\n",
        "      return drainPipeOD\n",
        "      \n",
        "  @property\n",
        "  def drainfloor_length(self): # the couplingOD (0.0121 m for a 3\" pipe) could be used instead of drainPipeOD\n",
        "      \"\"\"the side length of the drain floor, assuming a square geometry, centered in the hopper\"\"\"\n",
        "      drainfloor_length = (self.drainPipeOD).to(u.m) + 2 * self.fab_s\n",
        "      return drainfloor_length\n",
        "\n",
        "  @property\n",
        "  def gritHopper_depth(self):\n",
        "      \"\"\"The vertical distance from the bottom of the entrance tank to the top of a hopper on the effluent side of the trash rack\"\"\"\n",
        "      gritHopper_depth = 0 * u.m\n",
        "      if self.grit_area != 0:\n",
        "         gritHopper_lengthWallLong = 0.5*(self.gritHopper_length - self.drainfloor_length) # the distance between the drain floor and the edge of the hopper in the longitudinal direction\n",
        "         gritHopper_depth = self.hopper_slope * gritHopper_lengthWallLong\n",
        "      return gritHopper_depth\n",
        "\n",
        "  @property\n",
        "  def influentHopper_length(self): \n",
        "      \"\"\"Calculates the length of a hopper on the influent side of the trash rack\"\"\"\n",
        "      influentHopper_length = self.influentHopper_LWratio * self.hopper_width\n",
        "      n_hoppers = np.floor(self.etInfluent_length/influentHopper_length)\n",
        "      # redistribute extra space to each hopper equally\n",
        "      extraLength = (self.etInfluent_length - n_hoppers*influentHopper_length)/n_hoppers # the extra length added to each hopper to fill the entire influent area\n",
        "      influentHopper_length = influentHopper_length + extraLength\n",
        "      return influentHopper_length\n",
        "\n",
        "  @property\n",
        "  def influentHopper_number(self): # is there a better way to do this? (this variable is already defined in influentHopper_length)\n",
        "      \"\"\"the number of hoppers on the influent side of the trash racks\"\"\"\n",
        "      influentHopper_number = self.etInfluent_length/self.influentHopper_length\n",
        "      return influentHopper_number \n",
        "\n",
        "  @property\n",
        "  def influentHopper_depth(self):\n",
        "      \"\"\"The vertical distance from the bottom of the entrance tank to the top of a hopper on the influent side of the trash rack\"\"\"\n",
        "      influentHopper_lengthWallLong = 0.5*(self.influentHopper_length - self.drainfloor_length) # the distance between the drain floor and the edge of the hopper in the longitudinal direction\n",
        "      influentHopper_depth = self.hopper_slope * influentHopper_lengthWallLong\n",
        "      return influentHopper_depth\n",
        "\n",
        "  @property\n",
        "  def lfomSupportDepth(self):\n",
        "      \"\"\"The height of concrete extruded to support the lfom\"\"\"\n",
        "      lfomSupportDepth = (np.max([self.gritHopper_depth.magnitude,self.flocc_widthMin.magnitude]))*u.m\n",
        "      return lfomSupportDepth\n",
        "\n",
        "  @property\n",
        "  def tRackSupportDepth(self):\n",
        "      \"\"\"The height of concrete extruded to support the trash racks\"\"\"\n",
        "      if self.grit_area == 0:\n",
        "         tRackSupportDepth = (np.max([self.gritHopper_depth.magnitude,self.influentHopper_depth.magnitude,self.flocc_widthMin.magnitude]))*u.m\n",
        "      else:\n",
        "         tRackSupportDepth = (np.max([self.gritHopper_depth.magnitude,self.influentHopper_depth.magnitude]))*u.m\n",
        "      return tRackSupportDepth\n",
        "\n",
        "  @property\n",
        "  def tRackDepth(self): # this can be adjusted if the trash rack is too big to lift\n",
        "      \"\"\"The height of the trash rack\"\"\"\n",
        "      tRackDepth = self.et_depth - self.tRackSupportDepth\n",
        "      return tRackDepth\n",
        "  \n",
        "  @property\n",
        "  def influentPipeLength(self): # note that this could also be calculated in Onshape\n",
        "      \"\"\"The length of the influent pipe\"\"\"\n",
        "      influentPipeLength = self.et_depth + self.influentFabSpace - self.influentHopper_depth\n",
        "      return influentPipeLength\n",
        "\n",
        "  @property\n",
        "  def orifice_number(self):\n",
        "      \"\"\"The number of orifices on the influent pipe\"\"\"\n",
        "      orifice_number = self.etInfluent_LWratio * (self.et_depth - self.influentHopper_depth - self.freeboard - self.submersionDepth) / self.etInfluent_length\n",
        "      return np.ceil(orifice_number)\n",
        "   \n",
        "  @property\n",
        "  def orifice_spacing(self):\n",
        "      \"\"\"The center-center distance between orifices on the influent pipe\"\"\"  \n",
        "      space = (self.et_depth - self.influentHopper_depth  - self.freeboard - self.submersionDepth - self.orifice_number*self.orifice_diam)/self.orifice_number\n",
        "      orifice_spacing = self.orifice_diam + space\n",
        "      return orifice_spacing\n",
        "\n",
        "  # Note: there is currently no python code defining the geometry of obstacles on the influent side of the entrance tank. These parameters have been defined\n",
        "  # in Onshape based on geometric constraints, but they should also be based off of constraints relating to fluid deformation. There is also no basis \n",
        "  # for the depth and slope of the drain channel. \n",
        "\n",
        "\n",
        "ET = EntranceTank()\n",
        "print('\\n')\n",
        "print('ENTRANCE TANK CONFIGURATIONS')\n",
        "print('entTankL: ',ET.et_length)\n",
        "print('entTankW: ', ET.et_width)\n",
        "print('entTankDepth: ',ET.et_depth)  \n",
        "print('influentL: ',ET.etInfluent_length)\n",
        "print('gritL: ',ET.grit_length)\n",
        "print('influentHopperL: ',ET.influentHopper_length)\n",
        "print('gritHopperL: ',ET.gritHopper_length)\n",
        "print('influentHopperDepth: ',ET.influentHopper_depth)\n",
        "print('gritHopperDepth: ',ET.gritHopper_depth)\n",
        "print('influentHopperNumber: ', ET.influentHopper_number)\n",
        "print('gritHopperNumber: ', ET.gritHopper_number)\n",
        "print('drainFloorL: ',(ET.drainfloor_length).to(u.m))\n",
        "print('tRackSupportDepth: ',ET.tRackSupportDepth)\n",
        "print('lfomSupportDepth: ',ET.lfomSupportDepth)\n",
        "print('lfomOD: ',ET.lfom_od)\n",
        "print('influentPipeL:',ET.influentPipeLength)\n",
        "print('influentPipeND: ',ET.influentPipeND)\n",
        "print('orificeNumber: ',ET.orifice_number)\n",
        "print('orificeSpacing: ',ET.orifice_spacing)\n",
        "print('\\n')\n",
        "print('MEASUREMENTS AND VARIABLES')\n",
        "print('dividingWallThickness: ', ET.dividing_wall_thickness)\n",
        "print('tRackL: ',ET.tRack_length)\n",
        "print('drainPipeOD: ',ET.drainPipeOD.to(u.m)) # note that drainOD in Onshape includes the coupling thickness (0.0121 m)\n",
        "print('orificeDiam: ', ET.orifice_diam)\n",
        "print('drainChannelDepth: ',ET.drainChannelDepth)\n",
        "\n",
        "\n",
        "\n",
        "\n",
        " \n"
      ],
      "execution_count": 2,
      "outputs": [
        {
          "output_type": "stream",
          "text": [
            "Requirement already satisfied: aguaclara in /usr/local/lib/python3.6/dist-packages (0.2.3)\n",
            "Requirement already satisfied: pandas in /usr/local/lib/python3.6/dist-packages (from aguaclara) (1.0.5)\n",
            "Requirement already satisfied: matplotlib in /usr/local/lib/python3.6/dist-packages (from aguaclara) (3.2.2)\n",
            "Requirement already satisfied: urllib3 in /usr/local/lib/python3.6/dist-packages (from aguaclara) (1.24.3)\n",
            "Requirement already satisfied: pint in /usr/local/lib/python3.6/dist-packages (from aguaclara) (0.14)\n",
            "Requirement already satisfied: scipy in /usr/local/lib/python3.6/dist-packages (from aguaclara) (1.4.1)\n",
            "Requirement already satisfied: numpy>=1.13.3 in /usr/local/lib/python3.6/dist-packages (from pandas->aguaclara) (1.18.5)\n",
            "Requirement already satisfied: python-dateutil>=2.6.1 in /usr/local/lib/python3.6/dist-packages (from pandas->aguaclara) (2.8.1)\n",
            "Requirement already satisfied: pytz>=2017.2 in /usr/local/lib/python3.6/dist-packages (from pandas->aguaclara) (2018.9)\n",
            "Requirement already satisfied: cycler>=0.10 in /usr/local/lib/python3.6/dist-packages (from matplotlib->aguaclara) (0.10.0)\n",
            "Requirement already satisfied: pyparsing!=2.0.4,!=2.1.2,!=2.1.6,>=2.0.1 in /usr/local/lib/python3.6/dist-packages (from matplotlib->aguaclara) (2.4.7)\n",
            "Requirement already satisfied: kiwisolver>=1.0.1 in /usr/local/lib/python3.6/dist-packages (from matplotlib->aguaclara) (1.2.0)\n",
            "Requirement already satisfied: packaging in /usr/local/lib/python3.6/dist-packages (from pint->aguaclara) (20.4)\n",
            "Requirement already satisfied: setuptools in /usr/local/lib/python3.6/dist-packages (from pint->aguaclara) (49.2.0)\n",
            "Requirement already satisfied: importlib-metadata; python_version < \"3.8\" in /usr/local/lib/python3.6/dist-packages (from pint->aguaclara) (1.7.0)\n",
            "Requirement already satisfied: six>=1.5 in /usr/local/lib/python3.6/dist-packages (from python-dateutil>=2.6.1->pandas->aguaclara) (1.15.0)\n",
            "Requirement already satisfied: zipp>=0.5 in /usr/local/lib/python3.6/dist-packages (from importlib-metadata; python_version < \"3.8\"->pint->aguaclara) (3.1.0)\n",
            "\n",
            "\n",
            "ENTRANCE TANK CONFIGURATIONS\n"
          ],
          "name": "stdout"
        },
        {
          "output_type": "stream",
          "text": [
            "/usr/local/lib/python3.6/dist-packages/aguaclara/core/pipes.py:144: UnitStrippedWarning: The unit of the quantity is stripped when downcasting to ndarray.\n",
            "  for i in range(len(np.array(ID_SDR_all_available(SDR)))):\n",
            "/usr/local/lib/python3.6/dist-packages/aguaclara/core/pipes.py:145: UnitStrippedWarning: The unit of the quantity is stripped when downcasting to ndarray.\n",
            "  if np.array(ID_SDR_all_available(SDR))[i] >= (ID.to(u.inch)).magnitude:\n",
            "/usr/local/lib/python3.6/dist-packages/pint/numpy_func.py:295: RuntimeWarning: invalid value encountered in sqrt\n",
            "  result_magnitude = func(*stripped_args, **stripped_kwargs)\n"
          ],
          "name": "stderr"
        },
        {
          "output_type": "stream",
          "text": [
            "entTankL:  4.749 meter\n",
            "entTankW:  0.6406 meter\n",
            "entTankDepth:  2.3 meter\n",
            "influentL:  1.65 meter\n",
            "gritL:  2.006 meter\n",
            "influentHopperL:  0.8252 meter\n",
            "gritHopperL:  0.6687 meter\n",
            "influentHopperDepth:  0.3181 meter\n",
            "gritHopperDepth:  0.2399 meter\n",
            "influentHopperNumber:  2 dimensionless\n",
            "gritHopperNumber:  3 dimensionless\n",
            "drainFloorL:  0.1889 meter\n",
            "tRackSupportDepth:  0.3181 meter\n",
            "lfomSupportDepth:  0.45 meter\n",
            "lfomOD:  0.324 meter\n",
            "influentPipeL: 2.132 meter\n",
            "influentPipeND:  8 inch\n",
            "orificeNumber:  3 dimensionless\n",
            "orificeSpacing:  0.594 meter\n",
            "\n",
            "\n",
            "MEASUREMENTS AND VARIABLES\n",
            "dividingWallThickness:  0.15 meter\n",
            "tRackL:  0.12 meter\n",
            "drainPipeOD:  0.0889 meter\n",
            "orificeDiam:  0.018 meter\n",
            "drainChannelDepth:  0.3 meter\n"
          ],
          "name": "stdout"
        }
      ]
    },
    {
      "cell_type": "markdown",
      "metadata": {
        "id": "FrNTUNvm8hzo",
        "colab_type": "text"
      },
      "source": [
        "# Appendices"
      ]
    },
    {
      "cell_type": "markdown",
      "metadata": {
        "id": "S3E-GsNd2WTV",
        "colab_type": "text"
      },
      "source": [
        "## Appendix A: Calculate the Required Length of the Entrance Tank"
      ]
    },
    {
      "cell_type": "markdown",
      "metadata": {
        "id": "tLdFDkOjMp2d",
        "colab_type": "text"
      },
      "source": [
        "*Assume that the entrance tank has the same width as the flocculator and that the plant is running at full capacity. Calculations will focus on the inlet channel of the sedimentation tank, since high shear around baffles in the flocculator makes it less likely that particles will settle there.*\n",
        "\n",
        "**Strategy**\n",
        "\n",
        "1. Determine the diameter of the smallest particle that needs to be removed by the entrance tank.\n",
        "    - **Approach 1:** Use a critical particle size of 0.1 mm recommended by Kawamura (pg. 416)\n",
        "    - **Approach 2:** Calculate the diameter of the largest particle that will be scoured in the inlet channel of the sedimentation tank by rearranging the [equation](https://github.com/AguaClara/CEE4520/blob/master/Lectures/Extras/Sedimentation%20Extras.pptx) (slides 15-18) for scouring velocity:$$V_{min} = \\sqrt{\\frac{2}{3}\\frac{\\sqrt{Re_x}}{0.332}\\frac{\\rho_{p} - \\rho_{H20}}{\\rho_{H20}}\\ g\\ d_p\\ tan\\theta}$$\n",
        "    - **Approach 3:** Calculate the shear on the bottom of the inlet channel of the sedimentation tank and use a modified Shields diagram to determine the critical particle size. \n",
        "1. Use the appropriate Stokes Law for laminar or turbulent flow to determine the corresponding critical velocity of the particle.\n",
        "1. Calculate the required plan-view area of the entrance tank\n"
      ]
    },
    {
      "cell_type": "code",
      "metadata": {
        "id": "9N-YsZ8rQVkq",
        "colab_type": "code",
        "colab": {
          "base_uri": "https://localhost:8080/",
          "height": 485
        },
        "outputId": "80a845c2-59cb-40a4-b0ac-f50bb454f88d"
      },
      "source": [
        "# Initialization: Run this code block first\n",
        "!pip install aguaclara\n",
        "from aguaclara.core.units import unit_registry as u\n",
        "import aguaclara as ac\n",
        "import numpy as np\n",
        "\n",
        "# global variables\n",
        "q = (60 * u.L/u.s).to(u.m**3/u.s)\n",
        "T = 20 * u.degC\n",
        "rho_H20 = ac.density_water(T)\n",
        "rho_p = 2650 *u.kg/u.m**3 # density of sand\n",
        "nu = ac.viscosity_kinematic_water(T) # kinematic viscosity\n",
        "mu = nu*rho_H20 # dynamic viscosity of \n",
        "w_flocculator = 0.60 * u.m # the width of one flocculator at Gracias (inner width ie. does not include thickness of the concrete)\n",
        "length_flocculator = 7.10 * u.m # the length of one flocculator channel at Gracias (inner length ie. does not include thickness of the concrete)\n",
        "depth_flocculator = 2.17 * u.m  # at Gracias (flocculator design code say 2.08)\n",
        "\n",
        "\n"
      ],
      "execution_count": null,
      "outputs": [
        {
          "output_type": "stream",
          "text": [
            "Collecting aguaclara\n",
            "\u001b[?25l  Downloading https://files.pythonhosted.org/packages/37/49/e2b89f6683233fdfed9134871d124823900f15192721e87ea04f867b51b3/aguaclara-0.2.3.tar.gz (87kB)\n",
            "\u001b[K     |████████████████████████████████| 92kB 3.5MB/s \n",
            "\u001b[?25hRequirement already satisfied: matplotlib in /usr/local/lib/python3.6/dist-packages (from aguaclara) (3.2.2)\n",
            "Requirement already satisfied: urllib3 in /usr/local/lib/python3.6/dist-packages (from aguaclara) (1.24.3)\n",
            "Collecting pint\n",
            "\u001b[?25l  Downloading https://files.pythonhosted.org/packages/66/a9/18b232462dee45443994b19254cf6fe49893ea81bc7534cb984932d59e38/Pint-0.14-py2.py3-none-any.whl (197kB)\n",
            "\u001b[K     |████████████████████████████████| 204kB 19.2MB/s \n",
            "\u001b[?25hRequirement already satisfied: pandas in /usr/local/lib/python3.6/dist-packages (from aguaclara) (1.0.5)\n",
            "Requirement already satisfied: scipy in /usr/local/lib/python3.6/dist-packages (from aguaclara) (1.4.1)\n",
            "Requirement already satisfied: pyparsing!=2.0.4,!=2.1.2,!=2.1.6,>=2.0.1 in /usr/local/lib/python3.6/dist-packages (from matplotlib->aguaclara) (2.4.7)\n",
            "Requirement already satisfied: python-dateutil>=2.1 in /usr/local/lib/python3.6/dist-packages (from matplotlib->aguaclara) (2.8.1)\n",
            "Requirement already satisfied: numpy>=1.11 in /usr/local/lib/python3.6/dist-packages (from matplotlib->aguaclara) (1.18.5)\n",
            "Requirement already satisfied: kiwisolver>=1.0.1 in /usr/local/lib/python3.6/dist-packages (from matplotlib->aguaclara) (1.2.0)\n",
            "Requirement already satisfied: cycler>=0.10 in /usr/local/lib/python3.6/dist-packages (from matplotlib->aguaclara) (0.10.0)\n",
            "Requirement already satisfied: setuptools in /usr/local/lib/python3.6/dist-packages (from pint->aguaclara) (49.1.0)\n",
            "Requirement already satisfied: importlib-metadata; python_version < \"3.8\" in /usr/local/lib/python3.6/dist-packages (from pint->aguaclara) (1.7.0)\n",
            "Requirement already satisfied: packaging in /usr/local/lib/python3.6/dist-packages (from pint->aguaclara) (20.4)\n",
            "Requirement already satisfied: pytz>=2017.2 in /usr/local/lib/python3.6/dist-packages (from pandas->aguaclara) (2018.9)\n",
            "Requirement already satisfied: six>=1.5 in /usr/local/lib/python3.6/dist-packages (from python-dateutil>=2.1->matplotlib->aguaclara) (1.15.0)\n",
            "Requirement already satisfied: zipp>=0.5 in /usr/local/lib/python3.6/dist-packages (from importlib-metadata; python_version < \"3.8\"->pint->aguaclara) (3.1.0)\n",
            "Building wheels for collected packages: aguaclara\n",
            "  Building wheel for aguaclara (setup.py) ... \u001b[?25l\u001b[?25hdone\n",
            "  Created wheel for aguaclara: filename=aguaclara-0.2.3-cp36-none-any.whl size=99459 sha256=22ddc9ec328cd70ef44b8d43ffdcd19395d4750ed6caf88405d84aefe389468c\n",
            "  Stored in directory: /root/.cache/pip/wheels/da/f3/b6/a4648b3b3bc239e7953e74a2dee9f21c07d1b1e1f65cb86311\n",
            "Successfully built aguaclara\n",
            "Installing collected packages: pint, aguaclara\n",
            "Successfully installed aguaclara-0.2.3 pint-0.14\n"
          ],
          "name": "stdout"
        }
      ]
    },
    {
      "cell_type": "markdown",
      "metadata": {
        "id": "TFi3nDQkWq86",
        "colab_type": "text"
      },
      "source": [
        "### **Approach 1:** Use the 0.1 mm recommended particle diameter provided by Kawamura (pg. 416)"
      ]
    },
    {
      "cell_type": "code",
      "metadata": {
        "id": "2-YXKJ_NmdH7",
        "colab_type": "code",
        "colab": {
          "base_uri": "https://localhost:8080/",
          "height": 67
        },
        "outputId": "40f075de-0c10-449f-ee22-d55af8c2312a"
      },
      "source": [
        "d_p = (0.1 * u.mm).to(u.m) # minimum grit diameter to be removed according to Kawamura\n",
        "v_c = ((rho_p - rho_H20)*ac.GRAVITY*d_p**2)/(18*nu*rho_H20)\n",
        "print('The cricitcal velocity is ',v_c.to(u.mm/u.s))\n",
        "\n",
        "# check that flow is in laminar regime for Stokes' law to be valid\n",
        "Re = v_c*d_p/nu\n",
        "print('The Reynolds number is ', Re)\n",
        "\n",
        "# calculate the required ET length\n",
        "area = q/v_c\n",
        "length_ET = area/w_flocculator\n",
        "print('The required entrance tank length is ', length_ET)"
      ],
      "execution_count": null,
      "outputs": [
        {
          "output_type": "stream",
          "text": [
            "The cricitcal velocity is  6.919 millimeter / second\n",
            "The Reynolds number is  0.5322 dimensionless\n",
            "The required entrance tank length is  14.45 meter\n"
          ],
          "name": "stdout"
        }
      ]
    },
    {
      "cell_type": "markdown",
      "metadata": {
        "id": "kfE5rsTR1G5S",
        "colab_type": "text"
      },
      "source": [
        "**Reflection:** The calculated critical velocity is 8.984 mm/s, which is very close to the 8 mm/s that was suggested by Monroe. The Reynolds number is well within the laminar regime so using Stokes' law was an appropriate decision. The entrance tank requires a length of 11.13 meters. For comparison, the length of one treatment train at Gracias (sed tanks + flocculators) is approxiamtely 15 m, and the width of one treatment train is about 7 m. Therefore, trying to capture such small particles takes up a considerable amount of space, and may drive up materials and construction costs. Additionally, an entrance tank of that size my block plant operator access to important parts of the plant, such as the first four baffles in the flocculator, where plant operators like to observe flocs. "
      ]
    },
    {
      "cell_type": "markdown",
      "metadata": {
        "id": "j4aXnPr0PLLd",
        "colab_type": "text"
      },
      "source": [
        "### **Approach 2:** Calculate the scouring velocity in the inlet channel of the sedimentation tanks\n",
        "\n",
        "\n",
        "\n",
        "\n"
      ]
    },
    {
      "cell_type": "markdown",
      "metadata": {
        "id": "nhi64rqr-f_C",
        "colab_type": "text"
      },
      "source": [
        "For open-channel flow, the [equation](https://github.com/AguaClara/CEE4520/blob/master/Lectures/Extras/Sedimentation%20Extras.pptx) (slides 15-18) describing scouring velocity is:\n",
        "\n",
        "$$V_{min} = \\sqrt{\\frac{2}{3}\\frac{\\sqrt{Re_x}}{0.332}\\frac{\\rho_{p} - \\rho_{H20}}{\\rho_{H20}}\\ g\\ d_p\\ tan\\theta}$$\n",
        "\n",
        "where\n",
        "\n",
        "$Re_x$ = the Reynold's number based on the distance along the channel. Note that the lowest amount of shear occurs where the boundary layer switches from laminar to turbulent (ie. $Re_x$ = 500,000) (slide 15).\n",
        "\n",
        "$\\rho_{p}$ = density of the particle\n",
        "\n",
        "$\\rho_{H20}$ = density of the water\n",
        "\n",
        "$g$ = acceleration due to gravity\n",
        "\n",
        "$d_p$ = the particle diameter\n",
        "\n",
        "$\\theta$ = a parameter that is approximated from Shields Diagram (slide 18), assuming turbulent flow\n",
        "     $$\\theta =  tan^{-1}(0.056* \\frac{3}{2}) = 4.8^\\circ$$ \n",
        "\n",
        "Knowing the average velocity in the inlet channel, this equation can be rearranged to calculate the size of the largest particle that will be scoured. The inlet channel is designed with a sloped bottom such that it has a relatively constant velocity along the length of the channel. The simplest place to calculate the average velocity is the point where water enters the channel.  \n"
      ]
    },
    {
      "cell_type": "code",
      "metadata": {
        "id": "q74HjQTFPGsr",
        "colab_type": "code",
        "colab": {
          "base_uri": "https://localhost:8080/",
          "height": 150
        },
        "outputId": "94534dbc-011c-44a2-8c0e-3b6cba4afaa3"
      },
      "source": [
        "# calculate the average velocity in the inlet channel to the sedimentation tanks, assuming that it is relatively constant due to sloped bottom geometry\n",
        "theta = (4.8*u.deg).to(u.rad)\n",
        "w_chan = 0.5 * u.m # width of the inlet channel to the sedimentation tanks\n",
        "h_chan = 0.156 * u.m # the height of the inlet channel measured at the influent end\n",
        "a_chan = w_chan*(h_chan - 0.1 * u.m) # The inlet channel to the sedimentation tanks have a 10 cm freeboard\n",
        "v_chan = q/a_chan\n",
        "print('The velocity in the influent channel of the sedimentation tank is ', v_chan)\n",
        "\n",
        "# rearrange the scouring velocity equation to calculate the critical particle diameter\n",
        "dp_2 = (3*0.332*rho_H20*v_chan**2)/(2*500000**0.5*(rho_p - rho_H20)*ac.GRAVITY*np.tan(theta))\n",
        "print('The largest diameter particle that will be scoured by the inlet channel of the sedimentation tanks is ', dp_2.to(u.mm))\n",
        "\n",
        "# calculate the terminal velocity of the particle using Stokes' Law assuming laminar flow\n",
        "vc_2 = ((rho_p - rho_H20)*ac.GRAVITY*dp_2**2)/(18*nu*rho_H20)\n",
        "print('The cricitcal velocity is ',vc_2.to(u.mm/u.s))\n",
        "\n",
        "# check that flow is in laminar regime for Stokes' law to be valid\n",
        "Re = vc_2*dp_2/nu\n",
        "print('The Reynolds number is ', Re)\n",
        "print('The calculation needs to repeated using Stokes Law for transition flow')\n",
        "\n",
        "# calculate the terminal velocity of the particle assuming the transition/turbulent regime\n",
        "v_c_transition = (((rho_p - rho_H20)*ac.GRAVITY*dp_2**1.6)/(13.9*mu**0.6*rho_H20**0.4))**(1/1.4)\n",
        "print('The critical velocity assuming transitional flow is ', v_c_transition)\n",
        "\n",
        "# check that flow is in the transition/turbulent regime\n",
        "Re = v_c_transition*dp_2/nu\n",
        "print('The Reynolds number is ', Re)\n",
        "\n",
        "# calculate the required ET length\n",
        "area2 = q/v_c_transition\n",
        "length_ET2 = area2/w_flocculator # assume ET is same width as the flocculator\n",
        "print('The entrance tank length is ', length_ET2)"
      ],
      "execution_count": null,
      "outputs": [
        {
          "output_type": "stream",
          "text": [
            "The velocity in the influent channel of the sedimentation tank is  2.143 meter / second\n",
            "The largest diameter particle that will be scoured by the inlet channel of the sedimentation tanks is  2.379 millimeter\n",
            "The cricitcal velocity is  3915 millimeter / second\n",
            "The Reynolds number is  7165 dimensionless\n",
            "The calculation needs to repeated using Stokes Law for transition flow\n",
            "The critical velocity assuming transitional flow is  0.3728 meter ** 1 / second\n",
            "The Reynolds number is  682.2 dimensionless\n",
            "The entrance tank length is  0.2682 meter ** 1\n"
          ],
          "name": "stdout"
        }
      ]
    },
    {
      "cell_type": "markdown",
      "metadata": {
        "id": "zOm7xZKJ7hyp",
        "colab_type": "text"
      },
      "source": [
        "**Reflection:** The critical particle size is 2.373 mm and the required entrance tank length is 24 cm. We should be skeptical of these results, because the entrance tank at Gracias is already longer than 24 cm long, and plant operators are observing grit in both the flocculator and inlet to the sedimentation tanks. "
      ]
    },
    {
      "cell_type": "markdown",
      "metadata": {
        "id": "5I7hPLDK_GLv",
        "colab_type": "text"
      },
      "source": [
        "### **Aproach 3:** Calculate the bottom shear in the inlet channel and use a modified Shields Diagram"
      ]
    },
    {
      "cell_type": "markdown",
      "metadata": {
        "id": "m-HmTpzsvTGb",
        "colab_type": "text"
      },
      "source": [
        "**Bottom Shear Stress**\n",
        "\n",
        "We will assume a turbulent boundary layer on the bottom of the inlet channel to the sedimentation tanks, since achieving laminar flow in a water treatment plant takes considerable effort. Wall shear stress, $\\tau_w$, in the turbulent regime can be modeled by the following [Equation:](http://www-mdp.eng.cam.ac.uk/web/library/enginfo/aerothermal_dvd_only/aero/fprops/introvisc/node8.html)\n",
        "\n",
        "$$\\tau_w = \\frac{1}{2}\\rho_{H20} U_ {\\infty}^2 C_f $$\n",
        "\n",
        "where \n",
        "\n",
        "$\\rho_{H20}$ = density of water\n",
        "\n",
        "$U_ {\\infty}$ = free stream speed. \n",
        "\n",
        "$C_f$ = the skin friction\n",
        "\n",
        "<br/>\n",
        "\n",
        "In the turbulent regime,\n",
        "\n",
        "$$C_f = \\frac{0.0594}{Re_x^{0.2}}$$ \n",
        "\n",
        "where\n",
        "\n",
        "$Re_x$ = the Reynolds number with respect to the distance along the channel\n",
        "\n",
        "The shear is the lowest when the boundardy layer switches from laminar to turbulent. Thereofre $Re_x$ will be assumed to be 500,000 [(slide 15)](https://github.com/AguaClara/CEE4520/blob/master/Lectures/Extras/Sedimentation%20Extras.pptx).\n",
        "\n",
        "<br/>\n",
        "\n",
        "**Shields Diagram**\n",
        "\n",
        "Shields diagram represents the empirical relationship between two dimensionless parameters that describe the incipient movement of particles ([Chapter 9](https://ocw.mit.edu/courses/earth-atmospheric-and-planetary-sciences/12-090-introduction-to-fluid-motions-sediment-transport-and-current-generated-sedimentary-structures-fall-2006/course-textbook/ch9.pdf), pg. 268): \n",
        "\n",
        "1) *The 'Shear' or 'Boundary' Reynolds Number*\n",
        "\n",
        "$$Re_* = \\frac{u_*D}{\\nu}$$\n",
        "\n",
        "where\n",
        "\n",
        "$u_* = \\sqrt{\\frac{\\tau_o}{\\rho}}\\ \\ $\"shear velocity\"\n",
        "\n",
        "$\\rho$ = density of the fluid\n",
        "\n",
        "D = particle diameter\n",
        "\n",
        "$\\nu$ = kinematic viscosity\n",
        "\n",
        "<br/>\n",
        "\n",
        "2) *Shields Parameter* ([Hydraulic](https://github.com/monroews/Hydraulics/raw/master/10_Channel_Design.pptx), slides 19-23)\n",
        "\n",
        "$$\\frac{\\tau_o}{\\Delta\\rho gD} = \\frac{2}{3}tan\\theta$$\n",
        "\n",
        "where\n",
        "\n",
        "$\\tau_o$ = shear stress\n",
        "\n",
        "$\\Delta \\rho$ = the difference in density between the particle and water\n",
        "\n",
        "$D$ = particle diameter\n",
        "\n",
        "*Side note: the $\\frac{2}{3}$ fraction on the right hand side may also depend on geometrical and dynamical effects ([Chapter 9](https://ocw.mit.edu/courses/earth-atmospheric-and-planetary-sciences/12-090-introduction-to-fluid-motions-sediment-transport-and-current-generated-sedimentary-structures-fall-2006/course-textbook/ch9.pdf), pg. 267) and multiplying the numerator and denominator by $D^2$ gives a ratio of fluid force on the particle to the weight of the particle (pg. 269).*\n",
        "\n",
        "The original version of Shields Diagram is not particularly useful for determining the critical particle size that will be scoured in the inlet channel, because both shear stress and particle diameter occur as variables on both the x and y axis. \n",
        "\n",
        "However, Shields diagram can be 'recast' so that only one axis contains the variable $\\tau_o$ and only the other axis contains the particle diameter D. These new axis are as follows ([Chapter 9](https://ocw.mit.edu/courses/earth-atmospheric-and-planetary-sciences/12-090-introduction-to-fluid-motions-sediment-transport-and-current-generated-sedimentary-structures-fall-2006/course-textbook/ch9.pdf), pg. 275): \n",
        "\n",
        "$$\\tau_o(\\rho /(g\\Delta\\rho)^2\\mu^2)^{1/3}\\ \\ \\  and\\ \\  \\ D(\\rho (g\\Delta\\rho)/\\mu^2)^{1/3}$$\n",
        "\n",
        "Figure 1 shows an updated version of Shields diagram reframed in terms of shear velocity and particle diameter at $20 ^\\circ C$ ([Chapter 9](https://ocw.mit.edu/courses/earth-atmospheric-and-planetary-sciences/12-090-introduction-to-fluid-motions-sediment-transport-and-current-generated-sedimentary-structures-fall-2006/course-textbook/ch9.pdf), pg. 277). Note that the axis do not look like the ones described above, because constant values at the given temperature such as the acceleration due to gravity and dynamic viscosity have already been plugged in. \n",
        "\n",
        "![Shields Diagram](https://github.com/Emily-Wood/AguaClara/blob/master/Updated_Shields_Diagram%20.PNG?raw=true)\n",
        "\n",
        "\n",
        "**Figure 1**: Shields diagram recast in terms of shear velocity and particle diameter at $20 ^\\circ C$ ([Chapter 9](https://ocw.mit.edu/courses/earth-atmospheric-and-planetary-sciences/12-090-introduction-to-fluid-motions-sediment-transport-and-current-generated-sedimentary-structures-fall-2006/course-textbook/ch9.pdf), page 277)\n",
        "\n",
        "Using the calculated bottom shear stress, the modified Shields Diagram can be used to determine the critical particle size. \n",
        "\n",
        "**Sources:** \n",
        "1. Chapter 9 [Introduction to Fluid Motion, Sediment Transport and Current Generated Sedimentary Structures](https://ocw.mit.edu/courses/earth-atmospheric-and-planetary-sciences/12-090-introduction-to-fluid-motions-sediment-transport-and-current-generated-sedimentary-structures-fall-2006/course-textbook/ch9.pdf)\n",
        "1. [Hydraulic Engineering: Channel Design Powerpoint](https://github.com/monroews/Hydraulics/raw/master/10_Channel_Design.pptx) (slides 19-23)\n",
        "\n",
        "\n",
        "\n",
        "\n",
        "\n",
        "\n",
        "\n"
      ]
    },
    {
      "cell_type": "code",
      "metadata": {
        "id": "YnznbNwRvW2a",
        "colab_type": "code",
        "colab": {
          "base_uri": "https://localhost:8080/",
          "height": 117
        },
        "outputId": "2f1653a6-7629-4c0e-eaef-50a5b1ce3b66"
      },
      "source": [
        "# calculate the average velocity in the inlet channel of the sedimentation tanks (ie. \"free stream speed\")\n",
        "L_chan = 12 * u.m\n",
        "w_chan = 0.5 * u.m\n",
        "h_chan = 0.156 * u.m # the height of the channel at the influent end\n",
        "a_chan = w_chan*(h_chan - 0.1 * u.m) # The inlet channel to the sedimentation tanks have a 10 cm freeboard\n",
        "v_chan = q/a_chan\n",
        "\n",
        "#Re_x = 500000\n",
        "Re_x = v_chan*L_chan/nu # choose the far end of the channel for a conservative estimate of tau\n",
        "print('The Reynolds number with respect to the channel length is ',Re_x)\n",
        "C_f = 0.0594/(Re_x**0.2)\n",
        "tau = 0.5*rho_H20*v_chan**2*C_f\n",
        "\n",
        "u_star = (tau/rho_H20)**0.5\n",
        "print('The shear velocity is ', u_star.to(u.cm/u.s))\n",
        "\n",
        "# According to the recast Shields Diagram, the corresponding critical particle diameter is approximately 1.3 cm\n",
        "dp_3 = (7.5 * u.mm).to(u.m)\n",
        "print('Using the modified Shields diagram, this corresponds to a particle diameter of ', dp_3.to(u.mm))\n",
        "\n",
        "# Calculate the terminal velocity of the particle assuming transitional/turbulent flow\n",
        "v_c_transition2 = (((rho_p - rho_H20)*ac.GRAVITY*dp_3**1.6)/(13.9*mu**0.6*rho_H20**0.4))**(1/1.4) \n",
        "print('The cricitcal velocity is ', v_c_transition2)\n",
        "\n",
        "# check that flow is in the transitional/turbulent regime\n",
        "Re = v_c_transition2*dp_3/nu\n",
        "print('The Reynolds number is ', Re)\n",
        "\n",
        "# calculate the required ET length\n",
        "area3 = q/v_c_transition2\n",
        "length_ET3 = area3/w_flocculator\n",
        "print('The entrance tank length is ', length_ET3)"
      ],
      "execution_count": null,
      "outputs": [
        {
          "output_type": "stream",
          "text": [
            "The Reynolds number with respect to the channel length is  1.978e+07 dimensionless\n",
            "The shear velocity is  6.882 centimeter / second\n",
            "Using the modified Shields diagram, this corresponds to a particle diameter of  7.5 millimeter\n",
            "The cricitcal velocity is  1.385 meter ** 1 / second\n",
            "The Reynolds number is  7990 dimensionless\n",
            "The entrance tank length is  0.07221 meter ** 1\n"
          ],
          "name": "stdout"
        }
      ]
    },
    {
      "cell_type": "markdown",
      "metadata": {
        "id": "jBJKaogN_jWX",
        "colab_type": "text"
      },
      "source": [
        "**Reflection:** With a Reynolds number of 500,000 the shear velocity is 9.942 cm/s. The corresponding critical particle diameter of 1.3 cm is clearly not a physically reasonable result. A piece of grit this large probably would not even make it into the plant, and would certainly be caught by the trash racks. Perhaps the equations selected to model the bottom shear in the inlet channel are not applicable to this situation, or the wrong Reynolds number was selected. It is also really hard to read the recast Shields diagram without gridlines - a small amount of reading error could lead to an order of magnitude difference in particle diameter. The initial assumption of this calculation should be checked, and a different method for approximating the shear stress on the bottom of the inlet channel could be considered. \n",
        "\n",
        "To troubleshoot this approach, I first tried calculating the Reynold's number for the channel directly instead of assuming that it is 500,000. I used the total channel length as the important length, because it would lead to the most conservative measure of shear stress (and less shear means that it is more difficult to scour particles). This led to a new Reynolds number of 25,620,000 (This number is really high, I'm not sure if it is reasonable for the open channel flow in this application) and a shear velocity of 6.707 cm/s. These numbers produce an approximate critical particle size of 7.5 mm, and an entrance tank length of 6.5 cm. This is still a very large particle size. \n",
        "\n",
        "Approach 3 is also less reliable than approach 2, because it relies on reading an empirical graph precisely rather than calculating particle size directly using first principles. \n",
        "\n",
        "\n"
      ]
    },
    {
      "cell_type": "markdown",
      "metadata": {
        "id": "KuLABMCl6-63",
        "colab_type": "text"
      },
      "source": [
        "### Summary and Results\n",
        "\n",
        "The required plan-view area of a horizontal settling basin is determined by the terminal velocity of the smallest particle it is designed to remove. Kawamura suggests that sand and silt smaller than 0.1 mm do not pose a significat risk to downstream pumps and processes (pg. 416). **However, to settle particles larger than 0.1 mm in diameter, the entrance tank would need to be 11.13 m in length.** This calculation was done under the assumption of a 60 L/s flow rate, and that the entrance tank is the same width as the flocculator. For comparison, a single treatment train at the Gracias plant (excluding the filters) covers an approximate 15 m x 7 m area. Increasing the area of the entrance tank would drive up construction costs and may block plant operator access to important parts of the plant. \n",
        "\n",
        "The required plan-view area of the entrance tank could be reduced by increasing the critical particle size that it is designed to capture. Any particles that are not captured in the entrance tank must be scoured in the flocculator and the inlet channel of the sedimentation tanks, otherwise they will cause maintenance issues. Calculations should focus on the inlet channel of the sedimentation tanks since it has lower velocities and less shear than the flocculator. \n",
        "\n",
        "Two approaches were taken to calculate the smallest particle that needs to be captured by the entrance tank. The first approach approximates the scouring velocity in the inlet channel with the following equation: $$V_{min} = \\sqrt{\\frac{2}{3}\\frac{\\sqrt{Re_x}}{0.332}\\frac{\\rho_{p} - \\rho_{H20}}{\\rho_{H20}}\\ g\\ d_p\\ tan\\theta}$$\n",
        "\n",
        "The second approach approximates the shear on the bottom of the inlet channel and uses a modified Shields diagram to determine the corresponding critical particle diameter. **Both approaches produced a critical particle diameter (2.373 mm and 7.5 mm respectively) that is larger than the typical size of sand. These results are not physically reasonable, and do not match observations made by plant operators in Gracias.** The key assumptions made in each approach should be re-examined or a new model should be developed. \n",
        "\n",
        "After consulting Agua Para el Pueblo engineers, it was determined that sand carryover is not as big of a problem in AguaClara plants as originally thought. Gracias and Agalteca are the only two plants that are having this issue. Therefore it makes sense that the entrance tank should be designed so that a grit chamber can be easily incorporated for water sources with potential sand carryover issues. Depending on the flow rate and the need for grit removal, the entrance tank design will range from 1) an entrance tank in-line with the flocculator and with the same width as the flocculator, to 2) an entrance tank the entire length of the flocculator channel and the same width as the floccutor, and 3) to an even wider entrance tank."
      ]
    },
    {
      "cell_type": "markdown",
      "metadata": {
        "id": "R23kTQsH5YRn",
        "colab_type": "text"
      },
      "source": [
        "## Appendix B: Analyze the Kinetic Energy in the Entrance Tank at the Gracias, Honduras Plant"
      ]
    },
    {
      "cell_type": "code",
      "metadata": {
        "id": "2c0OW8qj7XXG",
        "colab_type": "code",
        "colab": {}
      },
      "source": [
        "# Initialization: Run this code block first\n",
        "!pip install aguaclara\n",
        "from aguaclara.core.units import unit_registry as u\n",
        "import aguaclara as ac\n",
        "import numpy as np\n",
        "\n",
        "# global variables\n",
        "q = (60 * u.L/u.s).to(u.m**3/u.s)\n",
        "T = 20 * u.degC\n",
        "rho_H20 = ac.density_water(T)\n",
        "rho_p = 2650 *u.kg/u.m**3 # density of sand\n",
        "nu = ac.viscosity_kinematic_water(T) # kinematic viscosity\n",
        "mu = nu*rho_H20 # dynamic viscosity of \n",
        "w_flocculator = 0.60 * u.m # the width of one flocculator at Gracias (inner width ie. does not include thickness of the concrete)\n",
        "length_flocculator = 7.10 * u.m # the length of one flocculator channel at Gracias (inner length ie. does not include thickness of the concrete)\n",
        "depth_flocculator = 2.17 * u.m  # at Gracias (flocculator design code say 2.08)"
      ],
      "execution_count": null,
      "outputs": []
    },
    {
      "cell_type": "markdown",
      "metadata": {
        "id": "NjY4eL02PVre",
        "colab_type": "text"
      },
      "source": [
        "### Calculate the kinetic energy and velocity exiting the influent pipe at Gracias\n"
      ]
    },
    {
      "cell_type": "code",
      "metadata": {
        "id": "_eft7wdMPTIK",
        "colab_type": "code",
        "colab": {
          "base_uri": "https://localhost:8080/",
          "height": 50
        },
        "outputId": "1ab93aac-a1ae-4b67-962c-6e00eb37f56f"
      },
      "source": [
        "ID = 0.2 * u.m # inner diameter of influent pipe at Gracias\n",
        "a = 0.25*np.pi*ID**2\n",
        "v_influent = q/a\n",
        "KE_influent = v_influent**2/(2*ac.GRAVITY)\n",
        "\n",
        "print('The velocity exiting the influent pipe is ', v_influent)\n",
        "print('The kinetic energy exiting the influent pipe is ', KE_influent.to(u.cm))"
      ],
      "execution_count": null,
      "outputs": [
        {
          "output_type": "stream",
          "text": [
            "The velocity exiting the influent pipe is  1.91 meter / second\n",
            "The kinetic energy exiting the influent pipe is  18.6 centimeter\n"
          ],
          "name": "stdout"
        }
      ]
    },
    {
      "cell_type": "markdown",
      "metadata": {
        "id": "wgYbX74f9b6Q",
        "colab_type": "text"
      },
      "source": [
        "### Calculate Ke = v^2/2g through the plate settlers at Gracias\n"
      ]
    },
    {
      "cell_type": "code",
      "metadata": {
        "id": "m9q7LQ0v-oxh",
        "colab_type": "code",
        "colab": {
          "base_uri": "https://localhost:8080/",
          "height": 50
        },
        "outputId": "99a8499a-74e8-4480-cec7-f47ad38d401d"
      },
      "source": [
        "# calculate the kinetic energy through the plate settlers at Gracias\n",
        "\n",
        "s = 0.0250 * u.m # edge-to-edge distance between plate settlers (ie. does not include plate thickness)\n",
        "n = 24 # number of plate settlers in entrance tank\n",
        "w = 0.6 * u.m # plate settler width\n",
        "area = s*(n+1)*w\n",
        "v = q/area\n",
        "Ke = v**2/(2*ac.GRAVITY)\n",
        "\n",
        "print('The hypothetical velocity through the plate settlers assuming uniform flow is ', v)\n",
        "print('The kinetic energy through the plate settlers at Gracias is ', Ke.to(u.cm))"
      ],
      "execution_count": null,
      "outputs": [
        {
          "output_type": "stream",
          "text": [
            "The hypothetical velocity through the plate settlers assuming uniform flow is  0.16 meter / second\n",
            "The kinetic energy through the plate settlers at Gracias is  0.1305 centimeter\n"
          ],
          "name": "stdout"
        }
      ]
    },
    {
      "cell_type": "markdown",
      "metadata": {
        "id": "pfptXf_ySEKQ",
        "colab_type": "text"
      },
      "source": [
        "### Calculate the velocity through the channel leading to the LFOM"
      ]
    },
    {
      "cell_type": "code",
      "metadata": {
        "id": "zq0FYZHzSdWR",
        "colab_type": "code",
        "colab": {
          "base_uri": "https://localhost:8080/",
          "height": 50
        },
        "outputId": "8ff9a7fb-92d7-4b3a-823b-b3c47c083ae0"
      },
      "source": [
        "# calculate the velocity through the channel leading to the LFOM\n",
        "\n",
        "d = 0.6278 * u.m # depth of water immediately after the plate settlers measured to the top hole on the LFOM (ie. assuming holes are completely covered at 60 L/s flow)\n",
        "w = 0.6 * u.m # width of ET\n",
        "area_LFOMchan = d*w\n",
        "v_LFOMchan = q/area_LFOMchan\n",
        "Ke_LFOMchan = v_LFOMchan**2/(2*ac.GRAVITY)\n",
        "\n",
        "print('The velocity in the channel leading to the LFOM is ', v_LFOMchan)\n",
        "print('The kinetic energy in the channel leading to the LFOM ', Ke_LFOMchan.to(u.cm))"
      ],
      "execution_count": null,
      "outputs": [
        {
          "output_type": "stream",
          "text": [
            "The velocity in the channel leading to the LFOM is  0.1593 meter / second\n",
            "The kinetic energy in the channel leading to the LFOM  0.1294 centimeter\n"
          ],
          "name": "stdout"
        }
      ]
    },
    {
      "cell_type": "markdown",
      "metadata": {
        "id": "hDhNyXqJocCp",
        "colab_type": "text"
      },
      "source": [
        "**Reflection:** It makes sense that neither the velocity or Ke change very much in these two calculations, because the cross-sectional area for flow didn't really change, and v = q/a. The Ke through the plate settlers is well below 5 cm (5 cm would be considered very high)"
      ]
    },
    {
      "cell_type": "markdown",
      "metadata": {
        "id": "qz6gcHvf5ubQ",
        "colab_type": "text"
      },
      "source": [
        "### Summary and Results\n",
        "\n",
        "Table 1 shows the velocity and kinetic energy calculated at various points within the entrance tank: exiting the influent pipe, through the plate settlers, and at the shallow channel leading to the LFOM. \n",
        "\n",
        "*Table 1: The velocity and kinetic energy at various location in the entrance tank*\n",
        "\n",
        "|Location|Velocity (m/s)|Kinetic Energy (cm)|\n",
        "|:---:|:---:|:---:|\n",
        "|Influent Pipe|1.91|18.6|\n",
        "|Plate Settlers|0.16|0.1305|\n",
        "|LFOM Channel|0.1593|0.1294|\n",
        "\n",
        "The velocity exiting the influent pipe is much greater than other areas of the entrance tank. **This suggests that the kinetic energy exiting the influent pipe may be the primary source of wave action.** Various methods should be explored to reduce this kinetic energy and each should evaluated on its effectiveness and ease of construction. \n"
      ]
    },
    {
      "cell_type": "markdown",
      "metadata": {
        "id": "JFTRJI2a8nbs",
        "colab_type": "text"
      },
      "source": [
        "## Appendix C: Miscellaneous Notes and Resources"
      ]
    },
    {
      "cell_type": "markdown",
      "metadata": {
        "id": "_LBPgdWKAUNM",
        "colab_type": "text"
      },
      "source": [
        "### Resources\n",
        "1.  [Capstone Design: Improved Entrance Tank Design](https://github.com/AguaClara/CEE4520/blob/master/Previous_Final_Projects/2019F/Improved_Entrance_Tank.ipynb)\n",
        "1.   [Sed tank design code example](https://colab.research.google.com/github/AguaClara/CEE4520/blob/master/Unit_Process_Designs/Sed.ipynb)\n",
        "1. [Gracias CAD Design](https://cad.onshape.com/documents/cb0559d6c3bd85907f8704d3/w/8b31f12d476b14cf91bd29d9/e/6d7584b2804b3c166ba1e991)\n",
        "1. [Hydraulic Engineering: Channel Design Powerpoint](https://github.com/monroews/Hydraulics/raw/master/10_Channel_Design.pptx) (slides 19-23)\n",
        "1. Chapter 12: Stable Channel Design Functions in [HEC-RAS River Analysis System Hydraulic Reference Manual](https://www.hec.usace.army.mil/software/hec-ras/documentation/HEC-RAS%205.0%20Reference%20Manual.pdf)  (page 12-21)\n",
        "1.   *MWH’s Water Treatment: Principles and Design, Third Edition*\n",
        "1.   Susumu Kawamura: *Integrated Design and Operation of Water Treatment Facilities* (not sure if it's the first or the 2nd addition, note that the editions have different names)\n",
        "1. [Entrance Tank Mid-Summer Presentation](https://docs.google.com/presentation/d/1lLCtQVaRP-_uRsxLlei1LGTmp6PMRT1FUkZEe-t2Wqk/edit#slide=id.g8dbf6a967b_0_74)\n",
        "\n"
      ]
    },
    {
      "cell_type": "markdown",
      "metadata": {
        "id": "_d_oH-grm35g",
        "colab_type": "text"
      },
      "source": [
        "### Textbook Notes About Diffuser Walls\n",
        "\n",
        "**Kawamura textbook**\n",
        "\n",
        "The purpose of a diffuser wall is to reduce kinetic energy by generating many small-scale turbulent eddies which dissipate quickly. According to Kawamura, the diffuser wall of an entrance tank should have an orifice area of approximately 15% of the cross-sectional area of the tank (pg. 415). \n",
        "\n",
        "**MWH Textbook**\n",
        "- See page 631 for diffuser wall design criteria\n",
        "- \"Although coarse screens are used with river intakes, a fine debris screen\n",
        "with approximately 20-mm openings is often provided at the front end\n",
        "of the presedimentation tank. Because the screen also acts as an effective\n",
        "diffuser wall, it should be installed close to the tank inlet. If a separate\n",
        "diffuser wall is specified, the total area of openings at the wall should be\n",
        "about 15 percent of the tank cross-sectional area\" (pg. 667)\n",
        "- \"A diffuser wall is one of the most effective and practical\n",
        "flow distribution methods used at the basin inlet when the flocculation basin is directly attached to the sedimentation basin. The openings should\n",
        "be small holes (100 to 200 mm diameter circular or equivalent) of identical size, evenly distributed on the wall (see discussion of diffuser walls,\n",
        "Sec. 9-7, Chap. 9)\" (pg. 668,669)\n",
        "- \"Studies were conducted by Kawamura (1981) using a 1:25 scale model\n",
        "with dynamic similitude following the Froude law. Temperatures in the\n",
        "tank and the feed flow were kept constant with the feed flow about 0.3◦\n",
        "C lower than the water in the tank. Without diffuser walls in the tank, the\n",
        "density current flowed along the bottom of the tank at a relatively shallow\n",
        "depth and took less time to reach the outlet. Under these conditions,\n",
        "the top two-thirds of the tank depth was not used effectively. To improve\n",
        "the hydraulic efficiency, diffuser walls with approximately 7 percent net\n",
        "opening were added. With the modified diffuser walls, head losses created\n",
        "at the diffuser walls forced the retardation and mixing of the density current\n",
        "with the ambient water, improving the flow distribution in the tank and the\n",
        "efficiency of hydraulic performance\" (pg. 696).\n",
        "- \"With any of these inlet configurations (including\n",
        "a pipe with a tee) it is desirable to install a diffuser wall between the inlet\n",
        "of the basin and the first pass. ... Often a diffuser wall is\n",
        "the best way to manage flow to outlets\" (pg. 985)\n",
        "- \"Diffuser walls always increase head loss because they depend on head loss\n",
        "to redistribute the flow.\n",
        "Kawamura (2000) presented some useful criteria for designing diffuser\n",
        "walls between flocculation basins and sedimentation basins. These criteria\n",
        "are also useful for disinfection contact basins:\n",
        "  - Port openings should be uniformly distributed across the baffle wall.\n",
        "  - A maximum number of ports should be provided so that flow is evenly\n",
        "distributed.\n",
        "  - The size of the ports should be uniform in diameter.\n",
        "  - Ports should be 75 mm or larger to avoid clogging.\n",
        "  - Ports should be spaced with consideration to the structural integrity\n",
        "of the baffle. For wood baffles, this leads to 250- to 500-mm spacing.\n",
        "  - Ports should be designed to cause a head loss of 0.3 to 0.9 mm.\" (pg. 987)"
      ]
    }
  ]
}