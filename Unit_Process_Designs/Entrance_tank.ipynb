{
  "nbformat": 4,
  "nbformat_minor": 0,
  "metadata": {
    "colab": {
      "name": "Entrance_tank.ipynb",
      "provenance": [],
      "collapsed_sections": [],
      "include_colab_link": true
    },
    "kernelspec": {
      "name": "python3",
      "display_name": "Python 3"
    }
  },
  "cells": [
    {
      "cell_type": "markdown",
      "metadata": {
        "id": "view-in-github",
        "colab_type": "text"
      },
      "source": [
        "<a href=\"https://colab.research.google.com/github/AguaClara/CEE4520/blob/master/Unit_Process_Designs/Entrance_tank.ipynb\" target=\"_parent\"><img src=\"https://colab.research.google.com/assets/colab-badge.svg\" alt=\"Open In Colab\"/></a>"
      ]
    },
    {
      "cell_type": "markdown",
      "metadata": {
        "id": "_LBPgdWKAUNM",
        "colab_type": "text"
      },
      "source": [
        "# Entrance Tank\n",
        "\n",
        "## Information sources\n",
        "1.  [Capstone Design: Improved Entrance Tank Design](https://github.com/AguaClara/CEE4520/blob/master/Previous_Final_Projects/2019F/Improved_Entrance_Tank.ipynb)\n",
        "1.   MWH textbook\n",
        "1.   [Susumu Kawamura textbook](https://photos.app.goo.gl/6KWgu6m9uSKmRAKH9)\n",
        "1.   [Sed tank design code example](https://colab.research.google.com/github/AguaClara/CEE4520/blob/master/Unit_Process_Designs/Sed.ipynb)\n",
        "\n",
        "## Problems with the current design\n",
        "\n",
        "1.   Explore options to reduce the kinetic energy of the incoming water. This results in lots of wave action and splashing. Perhaps inject the water deeper into the entrance tank so that turbulent eddies are somewhat dissipated by the time they get to the water surface. Or direct the water against the wall of the tank? Perhaps  2\" diameter diffusers (so that clogging isn't a problem) in the vertical entrance pipe with the diffusers pointing upstream toward the end wall of the entrance tank? \n",
        "1.   Plate settlers don't work because the velocities are too high and flow isn't distributed at all unformly through the plates. Recommend either improving flow distribution (see 4520 capstone design project) or reverting to a simple horizontal flow tank to capture grit. The simple horizontal sed tank should be explored as the simplest option.\n",
        "1.   Velocity through the bar screen is too high. Increase the area for the bar screen and include a minimum of 2 bar screens and 3 tracks for inserting the screens so that one can be removed and cleaned and replaced. Screen can be angled to enable it to have more surface area.\n",
        "1.   Velocity of approach for the LFOM is too high causing wave action. See if we can predict the wave action that is observed at Gracias. The waves are simple a conversion of kinetic energy into potential energy, $v=\\sqrt{2gh}$. \n",
        "\n",
        "The new entrance tank will likely take more horizontal space OR it is likely that it simply is the full depth of the flocculator with several hoppers that drain any accumulated sediment.\n",
        "\n",
        "## Strategy\n",
        "\n",
        "1.  Design the ET in python\n",
        "1.  Draw the ET in Onshape\n",
        "1.  Transition on the python code to Feature Script\n",
        "1.  Intergrate the new ET with the flocculator, LFOM, and CDC\n",
        "\n"
      ]
    },
    {
      "cell_type": "markdown",
      "metadata": {
        "id": "HPVg8_DviAA_",
        "colab_type": "text"
      },
      "source": [
        "## Design the Entrance Tank in Python"
      ]
    },
    {
      "cell_type": "markdown",
      "metadata": {
        "id": "kMHpRka0g2v2",
        "colab_type": "text"
      },
      "source": [
        "### Task 1: Reduce the kinetic energy of the influent water\n",
        "\n",
        "**Problem:** The high kinetic energy of the influent water causes lots of wave action and splashing \n",
        "\n",
        "**Possible Solutions**\n",
        "1. inject the water deeper into the entrance tank so that turbulent eddies are somewhat dissipated by the time they get to the water surface.\n",
        "1. direct the water against the wall of the tank\n",
        "1. use 2\" diameter diffusers (so that clogging isn't a problem) in the vertical entrance pipe with the diffusers pointing upstream toward the end wall of the entrance tank\n",
        "\n"
      ]
    },
    {
      "cell_type": "markdown",
      "metadata": {
        "id": "JFdv6qj6jz3D",
        "colab_type": "text"
      },
      "source": [
        "#### Task 1 Solution 1: Inject water deeper in the entrance tank so that turbulent eddies are somewhat dissipated by the time they get to the water surface\n",
        "\n",
        "- Define \"somewhat dissipated.\"\n",
        "  - From AC textbook: \"Eddy turnover time, $t_{eddy}$, is the time it takes for the eddy to travel a distance equal to its length-scale. Thus the eddy turnover time provides a good estimate of the time required for mixing to occur at the length scale of the eddy. **We assume that the energy of the large eddy is dissipated into smaller length scales in the time $t_{eddy}$:**\"\n",
        "\n",
        "- Which equations govern the dissipation of turbulent eddies?\n",
        "$$t_{eddy} \\approx \\frac{L_{eddy}}{v_{eddy}}$$\n",
        "\n",
        "   The rate of energy loss to smaller scales\n",
        "$$\\bar\\varepsilon \\approx\\frac{v_{eddy}^3}{L_{eddy}}$$\n",
        "\n",
        "   and therefore...\n",
        "\n",
        "$$v_{eddy} \\approx \\left( \\bar\\varepsilon \\, L_{eddy} \\right)^\\frac{1}{3}$$\n",
        "\n",
        "- \"The largest eddies are limited in size by the smallest dimension normal to the direction of flow\"\n",
        "\n",
        "   *Therefore the length scale of a turbulent eddy in the entrance tank is either the vertical distance between the water surface and the 'baffle wall', or the width of the entrance tank (whichever distance is smaller).*\n",
        "\n",
        "- How is water currently being injected?\n",
        "  - see onshape drawing, there's a tee at the end of the pipe so water flows out horizontally towards the side walls of the entrance tank\n",
        "\n",
        "- For reference: The form of energy loss from the influent pipe is expansion, (ie. the following equations are relevant)\n",
        "\n",
        "$$h_e = K\\frac{\\bar v_{out}^2}{2g}$$\n",
        "\n",
        "$$\\bar\\varepsilon = K\\frac{\\bar v_{out}^3}{2H}$$\n",
        "\n",
        "$$G_{CS} = \\bar v_{out}\\sqrt{\\frac{K\\bar v_{out}}{2H\\nu}}$$\n",
        "\n",
        " \n",
        "- Determine the injection depth needed so that turbulent eddies are \"somewhat dissipated\"\n",
        "  - are there any drawbacks to injecting the water deeper in the entrance tank?\n",
        "\n",
        "Questions:\n",
        "- To clarify, are we concerned about waves and splashing in between the 'V' where water is injected, or on the LFOM side of the entrance tank, or both? \n",
        "- We are concerned with turbulent eddies traveling to the surface and producing waves and splashing. This implies that turbulent eddies are traveling upward. However, the water flows to the right through the trash rack, and back around through the plate settlers. In general, what path/distance do the turbulent eddies travel to reach the surface?\n",
        "- is the energy dissipation rate of water coming out of the influent pipe related to the energy dissipation rate of the turbulent eddies?\n",
        "- where can I find more detailed information about the current designs for the entrance tank, especially the bar screen?\n",
        "- the Kawamura textbook link takes me to an empty google photos album. Is there something else I need to do? \n",
        "- For predicting wave action around LFOM, what observations at Gracias should this be based off of?\n",
        "- should I be focusing on hydraulics first or start writing python code? Any old python code for entrance tank?\n",
        "\n",
        "Next Task:\n",
        "- Talk with Monroe to clarify things\n",
        "- Featurescript tutorial and webinar\n",
        "\n",
        "\n",
        "\n"
      ]
    },
    {
      "cell_type": "markdown",
      "metadata": {
        "id": "kGEOj5jabwEY",
        "colab_type": "text"
      },
      "source": [
        "#### Task 1 Solution 2: Direct the water against the wall of the tank\n",
        "\n",
        "\n"
      ]
    },
    {
      "cell_type": "markdown",
      "metadata": {
        "id": "n2BBEsn-C5Ao",
        "colab_type": "text"
      },
      "source": [
        "#### Task 1 Solution 3:"
      ]
    }
  ]
}