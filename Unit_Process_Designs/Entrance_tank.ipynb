{
  "nbformat": 4,
  "nbformat_minor": 0,
  "metadata": {
    "colab": {
      "name": "Entrance_tank.ipynb",
      "provenance": [],
      "collapsed_sections": [],
      "include_colab_link": true
    },
    "kernelspec": {
      "name": "python3",
      "display_name": "Python 3"
    }
  },
  "cells": [
    {
      "cell_type": "markdown",
      "metadata": {
        "id": "view-in-github",
        "colab_type": "text"
      },
      "source": [
        "<a href=\"https://colab.research.google.com/github/AguaClara/CEE4520/blob/master/Unit_Process_Designs/Entrance_tank.ipynb\" target=\"_parent\"><img src=\"https://colab.research.google.com/assets/colab-badge.svg\" alt=\"Open In Colab\"/></a>"
      ]
    },
    {
      "cell_type": "markdown",
      "metadata": {
        "id": "_LBPgdWKAUNM",
        "colab_type": "text"
      },
      "source": [
        "# Entrance Tank\n",
        "\n",
        "## Information sources\n",
        "1.  [Capstone Design: Improved Entrance Tank Design](https://github.com/AguaClara/CEE4520/blob/master/Previous_Final_Projects/2019F/Improved_Entrance_Tank.ipynb)\n",
        "1.   MWH textbook\n",
        "1.   [Susumu Kawamura textbook](https://photos.app.goo.gl/6KWgu6m9uSKmRAKH9)\n",
        "1.   [Sed tank design code example](https://colab.research.google.com/github/AguaClara/CEE4520/blob/master/Unit_Process_Designs/Sed.ipynb)\n",
        "1. [Gracias CAD Design](https://cad.onshape.com/documents/cb0559d6c3bd85907f8704d3/w/8b31f12d476b14cf91bd29d9/e/6d7584b2804b3c166ba1e991)\n",
        "\n",
        "## Problems with the current design\n",
        "\n",
        "1.   Explore options to reduce the kinetic energy of the incoming water. This results in lots of wave action and splashing. Perhaps inject the water deeper into the entrance tank so that turbulent eddies are somewhat dissipated by the time they get to the water surface. Or direct the water against the wall of the tank? Perhaps  2\" diameter diffusers (so that clogging isn't a problem) in the vertical entrance pipe with the diffusers pointing upstream toward the end wall of the entrance tank? \n",
        "1.   Plate settlers don't work because the velocities are too high and flow isn't distributed at all unformly through the plates. Recommend either improving flow distribution (see 4520 capstone design project) or reverting to a simple horizontal flow tank to capture grit. The simple horizontal sed tank should be explored as the simplest option.\n",
        "1.   Velocity through the bar screen is too high. Increase the area for the bar screen and include a minimum of 2 bar screens and 3 tracks for inserting the screens so that one can be removed and cleaned and replaced. Screen can be angled to enable it to have more surface area.\n",
        "1.   Velocity of approach for the LFOM is too high causing wave action. See if we can predict the wave action that is observed at Gracias. The waves are simple a conversion of kinetic energy into potential energy, $v=\\sqrt{2gh}$. \n",
        "\n",
        "The new entrance tank will likely take more horizontal space OR it is likely that it simply is the full depth of the flocculator with several hoppers that drain any accumulated sediment.\n",
        "\n",
        "## Strategy\n",
        "\n",
        "1.  Design the ET in python\n",
        "1.  Draw the ET in Onshape\n",
        "1.  Transition on the python code to Feature Script\n",
        "1.  Intergrate the new ET with the flocculator, LFOM, and CDC\n",
        "\n"
      ]
    },
    {
      "cell_type": "markdown",
      "metadata": {
        "id": "BbTCJYaPRaEU",
        "colab_type": "text"
      },
      "source": [
        "# Python Calculations"
      ]
    },
    {
      "cell_type": "code",
      "metadata": {
        "id": "9N-YsZ8rQVkq",
        "colab_type": "code",
        "colab": {
          "base_uri": "https://localhost:8080/",
          "height": 301
        },
        "outputId": "2bfe4d3d-068d-4da3-ea52-d81c87d08ed3"
      },
      "source": [
        "!pip install aguaclara\n",
        "from aguaclara.core.units import unit_registry as u\n",
        "import aguaclara as ac\n",
        "import numpy as np"
      ],
      "execution_count": 2,
      "outputs": [
        {
          "output_type": "stream",
          "text": [
            "Requirement already satisfied: aguaclara in /usr/local/lib/python3.6/dist-packages (0.2.3)\n",
            "Requirement already satisfied: pint in /usr/local/lib/python3.6/dist-packages (from aguaclara) (0.13)\n",
            "Requirement already satisfied: urllib3 in /usr/local/lib/python3.6/dist-packages (from aguaclara) (1.24.3)\n",
            "Requirement already satisfied: matplotlib in /usr/local/lib/python3.6/dist-packages (from aguaclara) (3.2.2)\n",
            "Requirement already satisfied: scipy in /usr/local/lib/python3.6/dist-packages (from aguaclara) (1.4.1)\n",
            "Requirement already satisfied: pandas in /usr/local/lib/python3.6/dist-packages (from aguaclara) (1.0.5)\n",
            "Requirement already satisfied: setuptools in /usr/local/lib/python3.6/dist-packages (from pint->aguaclara) (47.3.1)\n",
            "Requirement already satisfied: importlib-metadata; python_version < \"3.8\" in /usr/local/lib/python3.6/dist-packages (from pint->aguaclara) (1.6.1)\n",
            "Requirement already satisfied: packaging in /usr/local/lib/python3.6/dist-packages (from pint->aguaclara) (20.4)\n",
            "Requirement already satisfied: pyparsing!=2.0.4,!=2.1.2,!=2.1.6,>=2.0.1 in /usr/local/lib/python3.6/dist-packages (from matplotlib->aguaclara) (2.4.7)\n",
            "Requirement already satisfied: numpy>=1.11 in /usr/local/lib/python3.6/dist-packages (from matplotlib->aguaclara) (1.18.5)\n",
            "Requirement already satisfied: kiwisolver>=1.0.1 in /usr/local/lib/python3.6/dist-packages (from matplotlib->aguaclara) (1.2.0)\n",
            "Requirement already satisfied: cycler>=0.10 in /usr/local/lib/python3.6/dist-packages (from matplotlib->aguaclara) (0.10.0)\n",
            "Requirement already satisfied: python-dateutil>=2.1 in /usr/local/lib/python3.6/dist-packages (from matplotlib->aguaclara) (2.8.1)\n",
            "Requirement already satisfied: pytz>=2017.2 in /usr/local/lib/python3.6/dist-packages (from pandas->aguaclara) (2018.9)\n",
            "Requirement already satisfied: zipp>=0.5 in /usr/local/lib/python3.6/dist-packages (from importlib-metadata; python_version < \"3.8\"->pint->aguaclara) (3.1.0)\n",
            "Requirement already satisfied: six in /usr/local/lib/python3.6/dist-packages (from packaging->pint->aguaclara) (1.12.0)\n"
          ],
          "name": "stdout"
        }
      ]
    },
    {
      "cell_type": "markdown",
      "metadata": {
        "id": "wgYbX74f9b6Q",
        "colab_type": "text"
      },
      "source": [
        "## Calculate Ke = v^2/2g through the plate settlers at Gracias\n"
      ]
    },
    {
      "cell_type": "code",
      "metadata": {
        "id": "m9q7LQ0v-oxh",
        "colab_type": "code",
        "colab": {
          "base_uri": "https://localhost:8080/",
          "height": 50
        },
        "outputId": "99a8499a-74e8-4480-cec7-f47ad38d401d"
      },
      "source": [
        "# calculate the kinetic energy through the plate settlers at Gracias\n",
        "\n",
        "q = (60 * u.L/u.s).to(u.m**3/u.s)\n",
        "s = 0.0250 * u.m # edge-to-edge distance between plate settlers (ie. does not include plate thickness)\n",
        "n = 24 # number of plate settlers in entrance tank\n",
        "w = 0.6 * u.m # plate settler width\n",
        "area = s*(n+1)*w\n",
        "v = q/area\n",
        "Ke = v**2/(2*ac.GRAVITY)\n",
        "\n",
        "print('The hypothetical velocity through the plate settlers assuming uniform flow is ', v)\n",
        "print('The kinetic energy through the plate settlers at Gracias is ', Ke.to(u.cm))"
      ],
      "execution_count": 13,
      "outputs": [
        {
          "output_type": "stream",
          "text": [
            "The hypothetical velocity through the plate settlers assuming uniform flow is  0.16 meter / second\n",
            "The kinetic energy through the plate settlers at Gracias is  0.1305 centimeter\n"
          ],
          "name": "stdout"
        }
      ]
    },
    {
      "cell_type": "markdown",
      "metadata": {
        "id": "pfptXf_ySEKQ",
        "colab_type": "text"
      },
      "source": [
        "## Calculate the velocity through the channel leading to the LFOM"
      ]
    },
    {
      "cell_type": "code",
      "metadata": {
        "id": "zq0FYZHzSdWR",
        "colab_type": "code",
        "colab": {
          "base_uri": "https://localhost:8080/",
          "height": 50
        },
        "outputId": "8ff9a7fb-92d7-4b3a-823b-b3c47c083ae0"
      },
      "source": [
        "# calculate the velocity through the channel leading to the LFOM\n",
        "\n",
        "q = (60 * u.L/u.s).to(u.m**3/u.s)\n",
        "d = 0.6278 * u.m # depth of water immediately after the plate settlers measured to the top hole on the LFOM (ie. assuming holes are completely covered at 60 L/s flow)\n",
        "w = 0.6 * u.m # width of ET\n",
        "area_LFOMchan = d*w\n",
        "v_LFOMchan = q/area_LFOMchan\n",
        "Ke_LFOMchan = v_LFOMchan**2/(2*ac.GRAVITY)\n",
        "\n",
        "print('The velocity in the channel leading to the LFOM is ', v_LFOMchan)\n",
        "print('The kinetic energy in the channel leading to the LFOM ', Ke_LFOMchan.to(u.cm))"
      ],
      "execution_count": 11,
      "outputs": [
        {
          "output_type": "stream",
          "text": [
            "The velocity in the channel leading to the LFOM is  0.1593 meter / second\n",
            "The kinetic energy in the channel leading to the LFOM  0.1294 centimeter\n"
          ],
          "name": "stdout"
        }
      ]
    },
    {
      "cell_type": "markdown",
      "metadata": {
        "id": "hDhNyXqJocCp",
        "colab_type": "text"
      },
      "source": [
        "It makes sense that neither the velocity or Ke change very much in these two calculations, becuase the cross-sectional area for flow didn't really change, and v = q/a"
      ]
    },
    {
      "cell_type": "markdown",
      "metadata": {
        "id": "Yl1rDCsM1Bav",
        "colab_type": "text"
      },
      "source": [
        "# Notes from Meeting with Monroe\n",
        "\n",
        "\n",
        "\n",
        "\n",
        "\n",
        "\n"
      ]
    },
    {
      "cell_type": "markdown",
      "metadata": {
        "id": "9GgOzrQf8Kau",
        "colab_type": "text"
      },
      "source": [
        "## Wed. June 24\n",
        "- clarification: we are concerned with splashing everywhere in the ET\n",
        "- start with worst case scenario, if the pipe coming into the entrance tank was directed right towards the surface. Take the velocity coming out of influent pipe, and find the velocity flowing uniformly between the plates. There is very little headloss between the plates, so it's difficult to get an even distribution of flow\n",
        "- From powerpoint about turbulence:\n",
        "  - b is the width of the jet\n",
        "  - Vc is the velocity at the center of the jet\n",
        "  - s equals the distance forward\n",
        "  - there is a pproximately a 1/10 ratio between s and b, ie. b = 0.116s or something like that (number might not be exactly correct). Suppose the orifices on a trash rack are spaced out a centimeter. This means that 10 cm out, all of the jets will have merged.\n",
        "- We want to create many small eddies, because they dissipate the fastest, the trash rack can possibly help with this.\n",
        "  - Make the trash rack taller and potentially at a slope to increase surface area.\n",
        "  - at the far end of the flocculator, the channel is 2 m deep (we think), upstream add 50 cm headloss, then add 10 cm drop in the LFOM, and then an additional 20 cm for a total of 2.8 m height in the entrance tank. The trash racks would be placed after the first hopper and would go as deep as the top of the hopper. There is a physical limitation to how deep the trash rack can be, because the operators have to be able to lift it to clean it.\n",
        "- There are going to be 4 sided hoppers, need to determine how many and the length of the entrance tank. The number of drains depends on the size of particles. Confirm capture velocity from Kawamura textbook being 8 mm/s and this will set the length of the sed tank\n",
        "- the influent pipe would have a firnco coupling so it can be taken out, and possibly capped at the bottom end to prevent water from flowing straight down into the first hopper. This would be bad because it would not promote even flow throughout the tank. Influent pipe could also have a slot on the side instead of diffusers.\n",
        "- random fact: the eddy velocity in a pipe is roughly 10% of the mean velocity\n",
        "\n",
        "**Action Items:**\n",
        "- Monroe will send the pictures of the Kawamura textbook\n",
        "- Calculate v^2/2g for the plate settlers as Gracias. 5 cm would be a lot. **complete**\n",
        "- Calculate the velocity in the channel leading to the LFOM (where it gets a lot more shallow really fast) **complete**\n",
        "- Calculate how long the ET would need to be for a 60 L/s plant when designed as a horizontal sedimentation chamber. Assume the same flocculator width as Gracias. \n",
        "\n",
        "**Reflections & Future Questions**\n",
        "- Will flow expansion around a barrier dissipate more kinetic energy than water flowing through a barrier with a bunch of hole drilled into it? \n",
        "- Do non-AguaClara entrance tanks have similar problems? Can we learn anything from how problems have been dealt with in the past? \n",
        "- is the energy dissipation rate of water coming out of the influent pipe related to the energy dissipation rate of the turbulent eddies?\n",
        "- For predicting wave action around LFOM, what observations at Gracias should this be based off of?"
      ]
    },
    {
      "cell_type": "markdown",
      "metadata": {
        "id": "kMHpRka0g2v2",
        "colab_type": "text"
      },
      "source": [
        "# Task: Reduce the kinetic energy of the influent water\n",
        "\n",
        "**Problem:** The high kinetic energy of the influent water causes lots of wave action and splashing \n",
        "\n",
        "**Possible Solutions**\n",
        "1. inject the water deeper into the entrance tank so that turbulent eddies are somewhat dissipated by the time they get to the water surface.\n",
        "1. direct the water against the wall of the tank\n",
        "1. use 2\" diameter diffusers (so that clogging isn't a problem) in the vertical entrance pipe with the diffusers pointing upstream toward the end wall of the entrance tank\n",
        "\n"
      ]
    },
    {
      "cell_type": "markdown",
      "metadata": {
        "id": "JFdv6qj6jz3D",
        "colab_type": "text"
      },
      "source": [
        "## Task 1 Solution 1: Inject water deeper in the entrance tank so that turbulent eddies are somewhat dissipated by the time they get to the water surface\n",
        "\n",
        "**Edit 6/24: not sure that we really need to any math to determine how deep the influent tube should be. would probably just position it as low as possible. Ask Monroe later.**\n",
        "\n",
        "- Define \"somewhat dissipated.\"\n",
        "  - From AC textbook: \"Eddy turnover time, $t_{eddy}$, is the time it takes for the eddy to travel a distance equal to its length-scale. Thus the eddy turnover time provides a good estimate of the time required for mixing to occur at the length scale of the eddy. **We assume that the energy of the large eddy is dissipated into smaller length scales in the time $t_{eddy}$:**\"\n",
        "\n",
        "- Which equations govern the dissipation of turbulent eddies?\n",
        "$$t_{eddy} \\approx \\frac{L_{eddy}}{v_{eddy}}$$\n",
        "\n",
        "   The rate of energy loss to smaller scales\n",
        "$$\\bar\\varepsilon \\approx\\frac{v_{eddy}^3}{L_{eddy}}$$\n",
        "\n",
        "   and therefore...\n",
        "\n",
        "$$v_{eddy} \\approx \\left( \\bar\\varepsilon \\, L_{eddy} \\right)^\\frac{1}{3}$$\n",
        "\n",
        "- \"The largest eddies are limited in size by the smallest dimension normal to the direction of flow\"\n",
        "\n",
        "   *Therefore the length scale of a turbulent eddy in the entrance tank is either the vertical distance between the water surface and the 'baffle wall', or the width of the entrance tank (whichever distance is smaller).*???\n",
        "\n",
        "- How is water currently being injected?\n",
        "  - see onshape drawing, there's a tee at the end of the pipe so water flows out horizontally towards the side walls of the entrance tank\n",
        "\n",
        "- For reference: The form of energy loss from the influent pipe is expansion, (ie. the following equations are relevant)\n",
        "\n",
        "$$h_e = K\\frac{\\bar v_{out}^2}{2g}$$\n",
        "\n",
        "$$\\bar\\varepsilon = K\\frac{\\bar v_{out}^3}{2H}$$\n",
        "\n",
        "$$G_{CS} = \\bar v_{out}\\sqrt{\\frac{K\\bar v_{out}}{2H\\nu}}$$\n",
        "\n",
        " \n",
        "- Determine the injection depth needed so that turbulent eddies are \"somewhat dissipated\"\n",
        "  - are there any drawbacks to injecting the water deeper in the entrance tank?\n"
      ]
    }
  ]
}