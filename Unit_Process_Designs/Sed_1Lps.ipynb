{
  "nbformat": 4,
  "nbformat_minor": 0,
  "metadata": {
    "colab": {
      "name": "Sed_1Lps.ipynb",
      "provenance": [],
      "collapsed_sections": [],
      "authorship_tag": "ABX9TyNrzYHku93BW0XLiwpCYNqw",
      "include_colab_link": true
    },
    "kernelspec": {
      "name": "python3",
      "display_name": "Python 3"
    }
  },
  "cells": [
    {
      "cell_type": "markdown",
      "metadata": {
        "id": "view-in-github",
        "colab_type": "text"
      },
      "source": [
        "<a href=\"https://colab.research.google.com/github/AguaClara/CEE4520/blob/master/Unit_Process_Designs/Sed_1Lps.ipynb\" target=\"_parent\"><img src=\"https://colab.research.google.com/assets/colab-badge.svg\" alt=\"Open In Colab\"/></a>"
      ]
    },
    {
      "cell_type": "markdown",
      "metadata": {
        "id": "orTX47CZVpq4",
        "colab_type": "text"
      },
      "source": [
        "# Bhalunka Sedimentation Tank Design\n",
        "Created by William Pennock on 7 August 2020 for the Bhalunka 1 L/s plant in collaboration with AguaClara Reach and Gram Vikas. The calculations were made with reference to:\n",
        "\n",
        "- The [textbook](https://aguaclara.github.io/Textbook/Sedimentation/Sed_Intro.html)\n",
        "- The design Mathcad worksheet\n",
        "- The [CEE 4520 slides](https://github.com/monroews/CEE4520Lectures)\n",
        "- An incomplete version of [AIDE](https://github.com/AguaClara/aguaclara/blob/master/aguaclara/design/sed_tank.py)"
      ]
    },
    {
      "cell_type": "code",
      "metadata": {
        "id": "DOReVl-GyHip",
        "colab_type": "code",
        "colab": {
          "base_uri": "https://localhost:8080/",
          "height": 306
        },
        "outputId": "d454de32-fa51-4b3a-d280-4880b245a27a"
      },
      "source": [
        "!pip install aguaclara"
      ],
      "execution_count": 15,
      "outputs": [
        {
          "output_type": "stream",
          "text": [
            "Requirement already satisfied: aguaclara in /usr/local/lib/python3.6/dist-packages (0.2.3)\n",
            "Requirement already satisfied: matplotlib in /usr/local/lib/python3.6/dist-packages (from aguaclara) (3.2.2)\n",
            "Requirement already satisfied: pandas in /usr/local/lib/python3.6/dist-packages (from aguaclara) (1.0.5)\n",
            "Requirement already satisfied: scipy in /usr/local/lib/python3.6/dist-packages (from aguaclara) (1.4.1)\n",
            "Requirement already satisfied: pint in /usr/local/lib/python3.6/dist-packages (from aguaclara) (0.14)\n",
            "Requirement already satisfied: urllib3 in /usr/local/lib/python3.6/dist-packages (from aguaclara) (1.24.3)\n",
            "Requirement already satisfied: cycler>=0.10 in /usr/local/lib/python3.6/dist-packages (from matplotlib->aguaclara) (0.10.0)\n",
            "Requirement already satisfied: numpy>=1.11 in /usr/local/lib/python3.6/dist-packages (from matplotlib->aguaclara) (1.18.5)\n",
            "Requirement already satisfied: pyparsing!=2.0.4,!=2.1.2,!=2.1.6,>=2.0.1 in /usr/local/lib/python3.6/dist-packages (from matplotlib->aguaclara) (2.4.7)\n",
            "Requirement already satisfied: kiwisolver>=1.0.1 in /usr/local/lib/python3.6/dist-packages (from matplotlib->aguaclara) (1.2.0)\n",
            "Requirement already satisfied: python-dateutil>=2.1 in /usr/local/lib/python3.6/dist-packages (from matplotlib->aguaclara) (2.8.1)\n",
            "Requirement already satisfied: pytz>=2017.2 in /usr/local/lib/python3.6/dist-packages (from pandas->aguaclara) (2018.9)\n",
            "Requirement already satisfied: packaging in /usr/local/lib/python3.6/dist-packages (from pint->aguaclara) (20.4)\n",
            "Requirement already satisfied: setuptools in /usr/local/lib/python3.6/dist-packages (from pint->aguaclara) (49.2.0)\n",
            "Requirement already satisfied: importlib-metadata; python_version < \"3.8\" in /usr/local/lib/python3.6/dist-packages (from pint->aguaclara) (1.7.0)\n",
            "Requirement already satisfied: six in /usr/local/lib/python3.6/dist-packages (from cycler>=0.10->matplotlib->aguaclara) (1.15.0)\n",
            "Requirement already satisfied: zipp>=0.5 in /usr/local/lib/python3.6/dist-packages (from importlib-metadata; python_version < \"3.8\"->pint->aguaclara) (3.1.0)\n"
          ],
          "name": "stdout"
        }
      ]
    },
    {
      "cell_type": "markdown",
      "metadata": {
        "id": "yNxeuk6OVuEE",
        "colab_type": "text"
      },
      "source": [
        "## Imports"
      ]
    },
    {
      "cell_type": "code",
      "metadata": {
        "id": "kQkRtgeRJMS_",
        "colab_type": "code",
        "colab": {}
      },
      "source": [
        "import aguaclara as ac\n",
        "from aguaclara.core.units import unit_registry as u\n",
        "import numpy as np\n",
        "import pandas as pd\n",
        "import matplotlib.pyplot as plt"
      ],
      "execution_count": 16,
      "outputs": []
    },
    {
      "cell_type": "markdown",
      "metadata": {
        "id": "h02MtkGMKVtr",
        "colab_type": "text"
      },
      "source": [
        "## General Parameters"
      ]
    },
    {
      "cell_type": "code",
      "metadata": {
        "id": "g4x_ajdSV-jV",
        "colab_type": "code",
        "colab": {
          "base_uri": "https://localhost:8080/",
          "height": 34
        },
        "outputId": "8bf916e6-795a-4a44-8d66-762f5546bb93"
      },
      "source": [
        "# Plant\n",
        "FlowPlant = 1*(u.L/u.s) # Design flow rate\n",
        "VolStorage = 6000*u.L # Nominal storage of water tower\n",
        "TimeRunPlant = (VolStorage/FlowPlant).to(u.hr) # Single run time to fill water tower.\n",
        "print('The time for a single plant run is ',np.floor(TimeRunPlant.magnitude),' hour and ',np.round((TimeRunPlant.magnitude%1)*60,1),' minutes.',sep='')\n",
        "\n",
        "# Physical\n",
        "Temperature = 15*u.degC # Average low temperature for Bhubaneswar\n",
        "nu = ac.viscosity_kinematic_water(Temperature) # Kinematic viscosity of water\n",
        "rho = ac.density_water(Temperature) #  Density of water"
      ],
      "execution_count": 17,
      "outputs": [
        {
          "output_type": "stream",
          "text": [
            "The time for a single plant run is 1.0 hour and 40.0 minutes.\n"
          ],
          "name": "stdout"
        }
      ]
    },
    {
      "cell_type": "markdown",
      "metadata": {
        "id": "yd0ICIRNWFRd",
        "colab_type": "text"
      },
      "source": [
        "## Sedimentation Tank Design\n",
        " This is a typical masonry sedimentation tank, but with a few key differences:\n",
        "1. To eliminate the \"lost triangle\" under the last plate settler and keep the average velocity through the plate settlers closer to the upflow velocity, an inner wall will be built within the sedimentation tank at the location of the bottom of the last plate settler. This will direct flow up at a higher rate and will serve as the weir for the floc hopper, with the floc hopper occupying the space between the inner wall (weir) and the outer wall. Originally, a 60° sloped wall was proposed, but Santiago at APP thought this would be less practical.\n",
        "2. Having one sedimentation tank removes the necessity of the four-channel system. In its place, there will be an influent pipe from the pipe flocculator to the inlet manifold and a single pipe from outlet manifold to disinfection.\n",
        "3. To make it possible to drain poorly flocculated water before it reaches the sedimentation tank, it is important to have a tee with a ball valve on the inlet pipe.\n",
        "4. An upflow velocity of 0.85 mm/s (as opposed to the standard 1 mm/s) was selected as a conservative design in the absence of knowledge of the composition of the raw water. High organic content water could have low density flocs that will have a lower settling velocity that requires a floc blanket with a correspondingly lower upflow velocity.\n",
        "\n",
        "**Questions:**\n",
        "- How is the sed tank water level controlled in the plantitas (i.e., without the control weir)?\n",
        "- How should the drain for the floc hopper be sized?\n",
        "\n",
        "### General Parameters\n",
        "Primarily using typical AguaClara conventions, as noted in the code. The upflow velocity is lower to account for the likely presence of natural organic matter in flocs.\n",
        "\n",
        "We need to know how wide the plate material is. Like is standard 42\"."
      ]
    },
    {
      "cell_type": "code",
      "metadata": {
        "id": "27qGAjQ1WLuV",
        "colab_type": "code",
        "colab": {
          "base_uri": "https://localhost:8080/",
          "height": 34
        },
        "outputId": "3377946f-6d26-4c35-ec21-968d531db808"
      },
      "source": [
        "VelUp = 0.85*u.mm/u.s # Upflow velocity of sedimentation tank\n",
        "AngleSlope = 50*u.deg # Angle of sloped walls at bottom of sedimentation tank\n",
        "\n",
        "WidthSed = 42 * u.inch # Width of sedimentation tank (this is standard)\n",
        "LengthSed = (FlowPlant/(VelUp*WidthSed)).to(u.m) # Length of sedimentation tank\n",
        "LengthSed.to(u.m)\n",
        "print('The minimum length of the sed tank is',LengthSed)\n",
        "VelUpSed = FlowPlant/(LengthSed*WidthSed)\n",
        "\n",
        "DepthFlocBlanket = 1*u.m # ? This sets the height of the sedimentation tank.\n",
        "## In addition to providing sufficient collisions, this also needs to be deep enough to make flow uniform into the plate settlers."
      ],
      "execution_count": 18,
      "outputs": [
        {
          "output_type": "stream",
          "text": [
            "The minimum length of the sed tank is 1.103 meter\n"
          ],
          "name": "stdout"
        }
      ]
    },
    {
      "cell_type": "markdown",
      "metadata": {
        "id": "4TMVp7r5WQx0",
        "colab_type": "text"
      },
      "source": [
        "### Floc Characteristics\n",
        "This is open for debate. For design purposes, I am still running with assumptions of kaolin flocs with perhaps some adsorption of DOM. We didn't analyze the composition of the water, so we only know it can get up to around 10 NTU, and this turbidity was presumably both organic and inorganic."
      ]
    },
    {
      "cell_type": "code",
      "metadata": {
        "id": "hcmtTng8WUiW",
        "colab_type": "code",
        "colab": {}
      },
      "source": [
        "ShearFlocMax = 0.5*u.Pa # The maximum allowable shear for flocs, based on the textbook derivation from Garland"
      ],
      "execution_count": 19,
      "outputs": []
    },
    {
      "cell_type": "markdown",
      "metadata": {
        "id": "MqH1RrPrWc6X",
        "colab_type": "text"
      },
      "source": [
        "### Inlet Diffuser Design\n",
        "\n",
        "APP has demonstrated at Manzaragua that the sed tank performs better if the diffusers aren't flattened at all! Thus the diffusers are simple round pipes."
      ]
    },
    {
      "cell_type": "code",
      "metadata": {
        "id": "O6PtyP2zWapP",
        "colab_type": "code",
        "colab": {
          "base_uri": "https://localhost:8080/",
          "height": 119
        },
        "outputId": "65330dba-f10b-4d82-f03e-a59885a9e298"
      },
      "source": [
        "# Inputs\n",
        "WidthDiffuser = 1/8*u.inch # Mold fabricated with 1/8\" plate steel\n",
        "HeightDiffuser = 15*u.cm # The diffusers are 15 cm long pieces of pipe\n",
        "HeadLossDiffuser = 1*u.cm # Standard AguaClara design assumption\n",
        "DiamNomDiffuser = 1*u.inch # Standard nominal diameter of diffusers\n",
        "PiStretchDiffuser = 1.2 # Assumed 20% stretch when creating flare\n",
        "# SpaceDiffuser = 6*u.cm # B_Diffuser (was 6 cm in plantita)\n",
        "\n",
        "# Calculations\n",
        "\n",
        "## Maximum Diffuser Velocity\n",
        "# By minor loss equation\n",
        "VelMaxDiffuser = (np.sqrt(2*u.g_0*HeadLossDiffuser)).to(u.mm/u.s)\n",
        "# Calculated based on minor loss equation with K = 1.\n",
        "print('The maximum velocity of the sedimentation tank diffusers by head loss is ',VelMaxDiffuser)\n",
        "# By estimated maximum shear on flocs\n",
        "PiPlaneJet = 0.0124 # Taken from textbook\n",
        "VelMaxDiffuserShear = ((ShearFlocMax/rho)**(1/2)*(VelUp*WidthSed/(nu*PiPlaneJet))**(1/4)).to(u.mm/u.s) # Eq. 434\n",
        "print('The maximum velocity of the sedimentation tank diffusers by fluid shear is ',VelMaxDiffuserShear,'.',sep='')\n",
        "# Diffuser Velocity\n",
        "VelDiffuser = (VelUp*WidthSed/WidthDiffuser).to(u.mm/u.s) # This jet velocity is lower than the head loss maximum and the shear maximum, so this appears to be adequate.\n",
        "WidthJetReversed = WidthSed*VelUp/VelDiffuser\n",
        "print('The sedimentation diffuser velocity is ',VelDiffuser,'.',sep='')\n",
        "EDRDiffuser = (PiPlaneJet*(VelDiffuser**3/WidthJetReversed)).to(u.mW/u.kg)\n",
        "HeadLossDiffuser = (VelDiffuser**2/(2*u.g_0)).to(u.cm)\n",
        "print('The head loss across the diffusers is ',HeadLossDiffuser,'.',sep='')\n",
        "\n",
        "## Diffuser Flare Dimensions\n",
        "LocPipeDiffuser = (np.abs(np.array(ac.pipedb['NDinch'])-DiamNomDiffuser.magnitude)).argmin() # Index for diffuser in pipe_database.csv\n",
        "AreaPVCDiffuser = (np.pi/4)*((ac.pipedb.iloc[LocPipeDiffuser,1]*u.inch)**2-(ac.pipedb.iloc[LocPipeDiffuser,6]*u.inch)**2) # Cross sectional area of 1\" PVC pipe (Schedule 40)\n",
        "\n",
        "ThickStretchDiffuser = ac.pipedb.iloc[LocPipeDiffuser,5]*u.inch/PiStretchDiffuser # Stretched wall thickness of diffuser\n",
        "LengthOutDiffuser = (AreaPVCDiffuser/2/ThickStretchDiffuser - WidthDiffuser).to(u.cm)# Diffuser Outer Length, B_Diffuser\n",
        "LengthInDiffuser = (LengthOutDiffuser - (2*ThickStretchDiffuser)).to(u.cm) # Diffuser inner length, S_Diffuser\n",
        "print('The outer length of the diffuser is ',LengthOutDiffuser, ', and the inner length is ',LengthInDiffuser,'.',sep='')\n",
        "\n",
        "## Number of Diffusers\n",
        "NumDiffuser = np.floor((LengthSed/LengthOutDiffuser).to(u.dimensionless)) # Assumes that diffusers will be touching each other.\n",
        "print('The number of diffusers is ',NumDiffuser.magnitude,'.',sep='')"
      ],
      "execution_count": 20,
      "outputs": [
        {
          "output_type": "stream",
          "text": [
            "The maximum velocity of the sedimentation tank diffusers by head loss is  442.9 millimeter / second\n",
            "The maximum velocity of the sedimentation tank diffusers by fluid shear is 356.3 millimeter / second.\n",
            "The sedimentation diffuser velocity is 285.6 millimeter / second.\n",
            "The head loss across the diffusers is 0.4159 centimeter.\n",
            "The outer length of the diffuser is 5.342 centimeter, and the inner length is 4.779 centimeter.\n",
            "The number of diffusers is 20.0.\n"
          ],
          "name": "stdout"
        }
      ]
    },
    {
      "cell_type": "markdown",
      "metadata": {
        "id": "2fB7x95YXNqf",
        "colab_type": "text"
      },
      "source": [
        "The inlet diffusers will be 15 cm long segments of 1\" pipe molded such that they have a flare that is about 5.3 cm long (outer length). These will be placed close together to approximate a continuous line jet, requiring 22 diffusers. They have a sufficiently low velocity to not exceed the design head loss or the maximum shear on the flocs. They have a head loss of about 3.5 cm.\n",
        "\n",
        "### Inlet Manifold Design"
      ]
    },
    {
      "cell_type": "code",
      "metadata": {
        "id": "I-9yjQ_5XUuN",
        "colab_type": "code",
        "colab": {
          "base_uri": "https://localhost:8080/",
          "height": 102
        },
        "outputId": "ea764986-b940-4ef4-b6b9-0ac515643c0b"
      },
      "source": [
        "PiFlowManifold = 0.8\n",
        "VelMaxManifold = (VelDiffuser*np.sqrt(2*(1-PiFlowManifold**2)/(PiFlowManifold**2+1))).to(u.mm/u.s) # Eq. 435\n",
        "DiamMinManifold = ac.diam_circle(FlowPlant/VelMaxManifold).to(u.inch)\n",
        "SDR = 26\n",
        "DiamNomManifold = ac.ND_SDR_available(DiamMinManifold, SDR) \n",
        "\n",
        "print('The nominal diameter of the inlet manifold is ',DiamNomManifold,' inches.',sep='')\n",
        "\n",
        "HeightReverser2Diffuser = 3*u.cm"
      ],
      "execution_count": 21,
      "outputs": [
        {
          "output_type": "stream",
          "text": [
            "The nominal diameter of the inlet manifold is 3 inch inches.\n"
          ],
          "name": "stdout"
        },
        {
          "output_type": "stream",
          "text": [
            "/usr/local/lib/python3.6/dist-packages/aguaclara/core/pipes.py:144: UnitStrippedWarning: The unit of the quantity is stripped when downcasting to ndarray.\n",
            "  for i in range(len(np.array(ID_SDR_all_available(SDR)))):\n",
            "/usr/local/lib/python3.6/dist-packages/aguaclara/core/pipes.py:145: UnitStrippedWarning: The unit of the quantity is stripped when downcasting to ndarray.\n",
            "  if np.array(ID_SDR_all_available(SDR))[i] >= (ID.to(u.inch)).magnitude:\n"
          ],
          "name": "stderr"
        }
      ]
    },
    {
      "cell_type": "markdown",
      "metadata": {
        "id": "hhPoJ37jhIni",
        "colab_type": "text"
      },
      "source": [
        "The calculated inlet manifold diameter is 3\" with a length equal to the length of the sedimentation tank bay (1.1 m). The jet reverser nominal diameter is assumed to be 3\" with a length of 1.1 m.\n",
        "\n",
        "### Plate Settler Design\n",
        "\n",
        "The plate settlers need to occupy less than full length of the sed tank to account for the lost triangle due to the angle of the plates. \n",
        "\n",
        "The sed tank might have a floc hopper at one end and if that is the case then the floc hopper might fill the space of the triangle created by the plate settlers. Alternatively, if a simple 4\" PVC pipe is used as the floc hopper, then the sed tank can be shorter and the plate settlers will need to be slightly longer.\n",
        "\n",
        "Assume 60 cm long plates and then calculate the sed tank length occupied by the plates and verify that there is enough space. Then when building the plant fill the available space with plate settlers which will be more than required.\n",
        "\n",
        "The following design assumes we will use a pipe for the floc hopper. The pipe floc hopper works and given that the turbidity is low it won't fill that fast."
      ]
    },
    {
      "cell_type": "code",
      "metadata": {
        "id": "N2uTWkwIhOZu",
        "colab_type": "code",
        "colab": {
          "base_uri": "https://localhost:8080/",
          "height": 102
        },
        "outputId": "c6d94101-900c-41aa-c26f-59ff9ac44590"
      },
      "source": [
        "AnglePlate = 60*u.deg\n",
        "SpacePlate = 2.5*u.cm\n",
        "VelCapture = 0.12*u.mm/u.s\n",
        "ThickPlate = 1*u.mm # This is an assumption of policarbonate sheet thickness\n",
        "\n",
        "LengthMinPlate = ((SpacePlate*(VelUp/VelCapture-1)+ThickPlate*(VelUp/VelCapture))/(np.sin(AnglePlate)*np.cos(AnglePlate))).to(u.cm)\n",
        "LengthPlate = 60 * u.cm\n",
        "print('The length of the plate settlers is ',LengthPlate,sep='')\n",
        "\n",
        "HeightPlate = np.sin(AnglePlate)*LengthPlate\n",
        "print('The height of the plates in the sedimentation tank is ',np.round(HeightPlate,1),'.',sep='')\n",
        "OverlapHorizontalPlate = np.cos(AnglePlate)*LengthPlate\n",
        "print('The horizontal overlap of the plates is ',OverlapHorizontalPlate,'.',sep='')\n",
        "\n",
        "SpaceHorizontalPlate = ((ThickPlate + SpacePlate)/np.sin(AnglePlate)).to(u.cm)\n",
        "NumPlate = np.floor(((LengthSed -OverlapHorizontalPlate) /SpaceHorizontalPlate).to(u.dimensionless))\n",
        "print('The number of sedimentation plates required is ',NumPlate,'.',sep='')\n",
        "Lfilledwithplates = NumPlate * SpaceHorizontalPlate + OverlapHorizontalPlate\n",
        "\n",
        "print('The length of the sed tank that is filled with plates is',Lfilledwithplates)\n",
        "# check the capture velocity\n"
      ],
      "execution_count": 22,
      "outputs": [
        {
          "output_type": "stream",
          "text": [
            "The length of the plate settlers is 60 centimeter\n",
            "The height of the plates in the sedimentation tank is 52 centimeter.\n",
            "The horizontal overlap of the plates is 30 centimeter.\n",
            "The number of sedimentation plates required is 26 dimensionless.\n",
            "The length of the sed tank that is filled with plates is 108.1 centimeter\n"
          ],
          "name": "stdout"
        }
      ]
    },
    {
      "cell_type": "markdown",
      "metadata": {
        "id": "QYsL8JiwxAdC",
        "colab_type": "text"
      },
      "source": [
        "The above design shows that the plates almost exactly fill the length of the sed tank and thus thus chosen length of the plate settlers is reasonable.\n",
        "\n",
        "The plate settlers will be spaced 2.5 cm apart at a 60° angle, resulting in 26 plates 0.60 m in length. Within the sedimentation tank, these will occupy a height of about 52 cm. The plate modules will be assembled with 1/2\" PVC with 3/4\" spacers and will be supported with 2\" PVC that runs the length of the sed tank in the same direction as the jet reverser. The plates overlap a horizontal distance of 30 cm, and this lost triangle is accounted for in the design.)\n",
        "\n",
        "### Effluent Manifold Design\n",
        "\n",
        "We can use the design algorithms in Feature Script. The result likely will be a effluent manifold that is the same diameter at the inlet manifold"
      ]
    }
  ]
}