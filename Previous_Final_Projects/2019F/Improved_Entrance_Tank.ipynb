{
  "nbformat": 4,
  "nbformat_minor": 0,
  "metadata": {
    "colab": {
      "name": "FinalCapstoneDesign_TheFlocs.ipynb",
      "provenance": [],
      "collapsed_sections": []
    },
    "kernelspec": {
      "name": "python3",
      "display_name": "Python 3"
    }
  },
  "cells": [
    {
      "cell_type": "markdown",
      "metadata": {
        "id": "V6lC1UIaQ1P0",
        "colab_type": "text"
      },
      "source": [
        "#Improved Entrance Tank Design \n",
        "###Preventing Sand and Grit From Entering an AguaClara Plant\n",
        "##### The Flocs: Rosalie Krasnoff, Daniel Pyrek, Hannah Weinstein, Barbara Oramah\n",
        "##### 18th December, 2019\n",
        "\n",
        "\n",
        "\n",
        "## Introduction\n",
        "---\n",
        "A 120 L/s AguaClara was recently installed in Gracias, Honduras. The current design for the entrance tank is not sufficient and fails to remove the grit that enters the plant, especially during storm events when there is a large influx of debris and grit. Some of the grit settles in the flocculator, which is an issue as it requires the plant operators to take the baffles out of the flocculator and physically remove the grit. The sand and grit that is able to travel through the flocculator can settle in the inlet channel of the sedimentation tank and cause problems. When particles that are too large enter the sedimentation tank, they can be swept into the manifolds and then rapidly clog the diffusers.\n",
        "\n",
        "The entrance tank is a crucial component of a treatment plant because, if designed properly, it protects all downstream processes and allows those systems to be successful. A functional entrance tank that removes grit from the influent is key to a plant that will produce clean water.\n",
        "The goal of this report is to design an entrance tank that is able to remove as much grit as possible in order to minimize any clogging or damage.\n",
        "\n",
        "Currently, the Gracias plant is structured as two 60 L/s plants, meaning there are two entrance tanks. There are large particles going through the entrance tank, into the flocculator, and some of the grit has been observed in the inlet channel to the sedimentation tank. \n",
        "\n",
        "Based on this information, we assume that the sand must be small enough to be scoured in the entrance channel to the sedimentation tank. Scouring will be the most difficult in the sedimentation tank because the velocity on the bottom of the entrance channel is lower than the velocity at the bottom of the flocculator.\n",
        "\n",
        "\n",
        "## Literature Review\n",
        "---\n",
        "In order to understand how to design an efficient entrance tank, the team has sourced its insight on the characteristic of a grit chamber. \n",
        "\n",
        "The main considerations in designing a grit chamber is (Kawamura, S.)\n",
        "\n",
        "*   Location of the tank\n",
        "*   The number of required tanks\n",
        "*   The shape of each tank\n",
        "*   The size of grit/sand\n",
        "\n",
        "Grit chambers are either square or rectangular. Rectangular tanks are prefereable in water treatment plants, with a contracted inlet as the physical characteristics allow for an even flow through the chamber. The method for manual removal is having a gutter in the center of the tank in order to facilitate removal of the particles. \n",
        "\n",
        "Typically, a grit chamber is designed for sand with a diameter that is greater than 0.1 mm to be removed. \n",
        "\n",
        "\n",
        "\n",
        "###Approach\n",
        "---\n",
        "Our approach to redesigning the entrance tank that we decided to take AguaClara’s current design for sedimentation tanks and adjust it so that it will settle sand instead of flocs. A single entrance tank should be equipped to handle the entire flow rate for the plant while removing all particles that will clog downstream processes.\n",
        "\n",
        "The manifold and diffuser system should work for the entrance tank, with adjusted dimensions calculated based on sand instead of flocs. The traditional floc-hopped design will need to be adjusted significantly to allow for the collection of sand without forming a “floc-blanket”, so the sand will not be able to go over the weir in a sedimentation tank.\n",
        "\n"
      ]
    },
    {
      "cell_type": "markdown",
      "metadata": {
        "id": "kbAhiNlyyRnW",
        "colab_type": "text"
      },
      "source": [
        "###Existing Structure\n",
        "---\n",
        "According to the 2017 preliminary designs, the current plant in Gracias, Honduras, serves as a \"preliminary sedimentation process\" to remove particles from the water before it undergoes treatment. \n",
        "\n",
        "The image below is an old design AguaClara that employs horizontal settling:\n",
        "\n",
        "\n",
        "![plot](https://github.com/DanielPyrek/4530/blob/master/2019-4520/CurrentEntranceTank.PNG?raw=true) <div align = 'center'>\n",
        "*__Figure 2__: 2017 design for a 18 L/s Plant's Entrance Tank* \n",
        "</div>\n",
        "\n",
        "The water enters through the inlet pipe on the right side and flows over the hoppers, where the large particulates settle out and collect near the bottom drains. In the first hopper, there is an overflow weir pipe and a drain, allowing for excess flow to waste and manual adjustment of the plant flow rate via a flow control valve. The drain has the capability to drain the full plant flow rate if necessary.\n",
        "\n",
        "The new AguaClara entrance tank is notably more compact. The water is forced down and up through the plate settlers. However, preferential flow causes higher than expected velocities and non-uniform flow through some of the plates. For this reason, sand and grit is able to pass through the entrance tank. A CAD diagram of the current design is shown below in Figure 3:\n",
        "\n",
        "![plot](https://github.com/DanielPyrek/4530/blob/master/2019-4520/Old.PNG?raw=true) \n",
        "<div = 'center'>\n",
        "\n",
        "*__Figure 3__: Current AguaClara Entrance Tank* \n",
        "\n",
        "</div>\n"
      ]
    },
    {
      "cell_type": "markdown",
      "metadata": {
        "id": "CBRYpO0PihZP",
        "colab_type": "text"
      },
      "source": [
        "# Design Process\n",
        "---\n",
        "\n",
        "The flowchart below outlines the strategy that the team utilized. A desired flowrate is entered into the code. The velocity in the flocculator is then calculated and used in the scouring equation to calculate the largest diameter particle that can be scoured. This largest diameter is found in Integrated Design of Water Treatment Facilities by Kawamura that is set to 0.1 mm . A loop is then used to check the Reynold's number and caculate a drag coefficient. From there, the terminal velocity is calculated. This value is muiltiplied by a safety factor of 2 and used as the capture velocity in the plate settlers. The capture velocity is then multiplied by 5 to get the upflow velocity in the tank. All of these values are then used to calculate the number of plate settlers, their length, and the tank's dimensions. These parameters are then employed to calculate the number of diffusers, the diffuser dimensions, and manifold diameter with a maximum headloss of 10 cm.\n",
        "\n",
        "![plot](https://github.com/DanielPyrek/4530/blob/master/2019-4520/flow1.png?raw=true)\n",
        "\n",
        "<div align=\"center\">\n",
        "\n",
        "*__Figure 1__: The design process*\n",
        "\n",
        "</div>\n",
        "\n",
        "\n",
        "\n",
        "### Scouring velocity\n",
        "\n",
        "We need to solve for the size of grit that would be able to scoured from the bottom of the flocculator. If grit is getting into the flocculator, we want to ensure that it will not settle in the flocculator and will be carried into the sedimentation tank so that it can settle out there. If the particles are small enough, it may be that the velocity of the flocculator are high enough to scour the particles and suspend them. Thus, the scour velocity tells us the size of the smallest particles that must be captured by the entrance tank: it will be dictated by the value in the integrated design of water facilities textbook to 0.1 mm.\n",
        "\n",
        "From the diameter of the smallest scoured particle, the design is based on the required terminal velocity for a modified diffuser system to settle the grit along the bottom of the tank and ultimately drain it.\n",
        "\n",
        "$$v_t = \\frac{D^2g}{18\\nu}(\\frac{\\rho_{floc} -\\rho_{H_2O}}{\\rho_{H_2O}})$$\n",
        "\n",
        "\n",
        "<div align = 'center'>\n",
        "\n",
        "*__Equation 1__: Terminal Velocity Equation*\n",
        "\n",
        "</div>\n",
        "\n",
        "\n",
        "We also had to determine the appropriate diameter of particle to allow in, large enough to allow for fluidization but small enough avoid diffusers getting clogged. To protect the downstream processes, the team designed trash rack screens that would be able to capture large debris and can be manually cleaned.\n"
      ]
    },
    {
      "cell_type": "markdown",
      "metadata": {
        "id": "xRrJiwE580wh",
        "colab_type": "text"
      },
      "source": [
        "##Calculations\n",
        "---\n",
        "###Import Python Packages\n"
      ]
    },
    {
      "cell_type": "code",
      "metadata": {
        "id": "Cz5YHNFS-ziw",
        "colab_type": "code",
        "outputId": "b97391f6-68c4-4763-a586-63fdbd00af9a",
        "colab": {
          "base_uri": "https://localhost:8080/",
          "height": 701
        }
      },
      "source": [
        "!pip install aguaclara"
      ],
      "execution_count": 0,
      "outputs": [
        {
          "output_type": "stream",
          "text": [
            "Collecting aguaclara\n",
            "\u001b[?25l  Downloading https://files.pythonhosted.org/packages/52/96/d95acf30fa089f7f9c4ba879844e40df382d92f6af64e900c8af944cff50/aguaclara-0.1.14.tar.gz (85kB)\n",
            "\u001b[K     |████████████████████████████████| 92kB 6.3MB/s \n",
            "\u001b[?25hCollecting matplotlib==3.0.3\n",
            "\u001b[?25l  Downloading https://files.pythonhosted.org/packages/e9/69/f5e05f578585ed9935247be3788b374f90701296a70c8871bcd6d21edb00/matplotlib-3.0.3-cp36-cp36m-manylinux1_x86_64.whl (13.0MB)\n",
            "\u001b[K     |████████████████████████████████| 13.0MB 312kB/s \n",
            "\u001b[?25hRequirement already satisfied: urllib3 in /usr/local/lib/python3.6/dist-packages (from aguaclara) (1.24.3)\n",
            "Collecting pint==0.8.1\n",
            "\u001b[?25l  Downloading https://files.pythonhosted.org/packages/1e/40/6938f7d544eef208a8183c2c80624289e8a4f4e0aea43f4658b9527077de/Pint-0.8.1.tar.gz (162kB)\n",
            "\u001b[K     |████████████████████████████████| 163kB 43.6MB/s \n",
            "\u001b[?25hRequirement already satisfied: pandas in /usr/local/lib/python3.6/dist-packages (from aguaclara) (0.25.3)\n",
            "Requirement already satisfied: scipy in /usr/local/lib/python3.6/dist-packages (from aguaclara) (1.3.3)\n",
            "Requirement already satisfied: cycler>=0.10 in /usr/local/lib/python3.6/dist-packages (from matplotlib==3.0.3->aguaclara) (0.10.0)\n",
            "Requirement already satisfied: kiwisolver>=1.0.1 in /usr/local/lib/python3.6/dist-packages (from matplotlib==3.0.3->aguaclara) (1.1.0)\n",
            "Requirement already satisfied: numpy>=1.10.0 in /usr/local/lib/python3.6/dist-packages (from matplotlib==3.0.3->aguaclara) (1.17.4)\n",
            "Requirement already satisfied: python-dateutil>=2.1 in /usr/local/lib/python3.6/dist-packages (from matplotlib==3.0.3->aguaclara) (2.6.1)\n",
            "Requirement already satisfied: pyparsing!=2.0.4,!=2.1.2,!=2.1.6,>=2.0.1 in /usr/local/lib/python3.6/dist-packages (from matplotlib==3.0.3->aguaclara) (2.4.5)\n",
            "Requirement already satisfied: pytz>=2017.2 in /usr/local/lib/python3.6/dist-packages (from pandas->aguaclara) (2018.9)\n",
            "Requirement already satisfied: six in /usr/local/lib/python3.6/dist-packages (from cycler>=0.10->matplotlib==3.0.3->aguaclara) (1.12.0)\n",
            "Requirement already satisfied: setuptools in /usr/local/lib/python3.6/dist-packages (from kiwisolver>=1.0.1->matplotlib==3.0.3->aguaclara) (42.0.2)\n",
            "Building wheels for collected packages: aguaclara, pint\n",
            "  Building wheel for aguaclara (setup.py) ... \u001b[?25l\u001b[?25hdone\n",
            "  Created wheel for aguaclara: filename=aguaclara-0.1.14-cp36-none-any.whl size=97010 sha256=8f56079dbdfc494095443ad0a6b51ab7215f75bdc16235ef3878b6490a456cb0\n",
            "  Stored in directory: /root/.cache/pip/wheels/1b/6f/d0/19b9938f102549db3fa7a030ad03f9153cd7f1cbc7b1c94101\n",
            "  Building wheel for pint (setup.py) ... \u001b[?25l\u001b[?25hdone\n",
            "  Created wheel for pint: filename=Pint-0.8.1-py2.py3-none-any.whl size=134155 sha256=75d627974fd3df0c6e1ba8e70a0b15cf9a59d6fd00b3a59741e9f5897dbfac33\n",
            "  Stored in directory: /root/.cache/pip/wheels/b4/56/36/7c4d6a4e3660e233b95e3b0482551915cb184abca0f93ee1dd\n",
            "Successfully built aguaclara pint\n",
            "\u001b[31mERROR: albumentations 0.1.12 has requirement imgaug<0.2.7,>=0.2.5, but you'll have imgaug 0.2.9 which is incompatible.\u001b[0m\n",
            "Installing collected packages: matplotlib, pint, aguaclara\n",
            "  Found existing installation: matplotlib 3.1.2\n",
            "    Uninstalling matplotlib-3.1.2:\n",
            "      Successfully uninstalled matplotlib-3.1.2\n",
            "Successfully installed aguaclara-0.1.14 matplotlib-3.0.3 pint-0.8.1\n"
          ],
          "name": "stdout"
        },
        {
          "output_type": "display_data",
          "data": {
            "application/vnd.colab-display-data+json": {
              "pip_warning": {
                "packages": [
                  "matplotlib",
                  "mpl_toolkits"
                ]
              }
            }
          },
          "metadata": {
            "tags": []
          }
        }
      ]
    },
    {
      "cell_type": "code",
      "metadata": {
        "id": "ehVVhk761m19",
        "colab_type": "code",
        "colab": {}
      },
      "source": [
        "from aguaclara.core.units import unit_registry as u\n",
        "import aguaclara as ac\n",
        "import numpy as np\n",
        "import matplotlib.pyplot as plt"
      ],
      "execution_count": 0,
      "outputs": []
    },
    {
      "cell_type": "code",
      "metadata": {
        "id": "JBNVSaVM01vf",
        "colab_type": "code",
        "colab": {}
      },
      "source": [
        "# Constants to be used throughout, these could be adjusted to find an entrance\n",
        "# tank for a larger flow rate (or with different temperature water)\n",
        "Q_plant = 120 * u.L/u.sec\n",
        "T_design = 15 * u.degC"
      ],
      "execution_count": 0,
      "outputs": []
    },
    {
      "cell_type": "markdown",
      "metadata": {
        "id": "Wx5X80akDT6T",
        "colab_type": "text"
      },
      "source": [
        "###Designing the Flocculator to find scour velocity\n",
        "Using AguaClara's existing code for flocculators, we determined the necessary dimensions of a flocculator given a plant flow of $Q=120\\space L/s$.\n",
        "We used the flocculation code to find the channel width and the baffle spacing, and then calculated the crossectional area of the channel and the average velocity in the flocculator, using the following equations:\n",
        "$$area=(channel\\space width)*(baffle\\space spacing)$$\n",
        "\n",
        "$$V_{ave}=\\frac{Q_{plant}}{area}$$\n",
        "\n",
        "<div align=\"center\">\n",
        "\n",
        "*__Equation 2__: Average Velocity Equation in Flocculator*\n",
        "\n",
        "</div>\n"
      ]
    },
    {
      "cell_type": "code",
      "metadata": {
        "id": "W1SbfYWI-6ml",
        "colab_type": "code",
        "outputId": "9f80b192-7417-4dc1-9395-beb24940da02",
        "colab": {
          "base_uri": "https://localhost:8080/",
          "height": 51
        }
      },
      "source": [
        "# Design a flocculator for this plant:\n",
        "myF = ac.Flocculator(q=Q_plant)\n",
        "# flocculator that we just \"built\":\n",
        "#print('The number of channels is', myF.chan_n)\n",
        "#print('The channel length is',myF.chan_l)\n",
        "#print('The channel width is',ac.round_sig_figs(myF.chan_w,2))\n",
        "#print('The spacing between baffles is',ac.round_sig_figs(myF.baffle_s,2))\n",
        "#print('The number of obstacles per baffle is', myF.obstacle_n)\n",
        "#print('The velocity gradient is', ac.round_sig_figs(myF.vel_grad_avg,2))\n",
        "#print('The residence time (not counting the effect of head loss) is',ac.round_sig_figs(myF.retention_time,2))\n",
        "#print('The maximum distance between flow expansions is', ac.round_sig_figs(myF.expansion_h_max,2))\n",
        "#print('The drain diameter is', myF.drain_pipe.size)\n",
        "\n",
        "channel_width = myF.chan_w\n",
        "baffle_spacing = myF.baffle_s\n",
        "\n",
        "# calculate the area of the channel in the flocculator that water travels through\n",
        "area_F = channel_width * baffle_spacing\n",
        "print('The area of the flocculator is',area_F.to(u.m**2))\n",
        "# calculate the average velocity in the flocculator v = Q/A\n",
        "v_ave_F = (Q_plant/area_F).to(u.m/u.s)\n",
        "print('The velocity in the flocculator is', v_ave_F)\n",
        "# We set scour velocity equal to the average velocity in the flocculator\n",
        "# NOTE:  the actual scour velocity, which is the velocity \n",
        "# at the bottom of the flocculator, is in much faster\n",
        "v_scour_F = v_ave_F"
      ],
      "execution_count": 0,
      "outputs": [
        {
          "output_type": "stream",
          "text": [
            "The area of the flocculator is 0.4586 meter ** 2\n",
            "The velocity in the flocculator is 0.2617 meter / second\n"
          ],
          "name": "stdout"
        }
      ]
    },
    {
      "cell_type": "markdown",
      "metadata": {
        "id": "M_gZFiHp-9ES",
        "colab_type": "text"
      },
      "source": [
        "###Diameter of Scoured Particles Calculated from Scour Velocity\n",
        "\n",
        "To find the size grit that would be able to scoured from the bottom of the flocculator, we calculated the scour velocity. Since grit is getting into the flocculator, we want to ensure that it will not settle in the flocculator and will be carried into the sedimentation tank to be settled out. If the particles are small enough, the velocity of the flocculator may be high enough to scour the particles and suspend them. Thus, the scour velocity tells us the size of the smallest particles that must be captured by the entrance tank, which will be dictated by how fast water is moving in the flocculator.\n",
        "\n",
        "We elected to use the average velocity in the flocculator as the effective scour velocity.\n",
        "From the scour velocity, we found the maximum diameter of particle that will be scoured.\n",
        "$$D_{scour}=\\frac{V_{scour}^2*3*0.332*\\rho_{water}}{2*500000^{1/2}*(\\rho_{sand}-\\rho_{water})*g*\\tan(\\theta)}$$\n",
        "<div align=\"center\">\n",
        "\n",
        "*__Equation 3__: Rearranged Minimum Scour Velocity set to find diameter size*\n",
        "\n",
        "</div>\n",
        "\n",
        "We calculated the angle for the scour velocity in the equation below:\n",
        "\n",
        "$$\\theta=\\tan ^{-1}\\left(0.056 \\frac{3}{2}\\right)=4.8 \\mathrm{deg}$$\n"
      ]
    },
    {
      "cell_type": "code",
      "metadata": {
        "id": "Fn7p_Dq2EE7X",
        "colab_type": "code",
        "outputId": "1ecaab50-565c-42aa-b24b-a6048c9920f3",
        "colab": {
          "base_uri": "https://localhost:8080/",
          "height": 34
        }
      },
      "source": [
        "#defining functions: \n",
        "def sand_scour_diam(scour_v,temperature):\n",
        "      \"\"\"Find the diameter of the largest particle that can be scoured given...\n",
        "          the scour velocity (scour_v)and water temperature\"\"\"\n",
        "      p_sand = 2650 *u.kg/u.m**3\n",
        "      p_water=ac.density_water(temperature)\n",
        "      ang = 4.8*u.degree\n",
        "      g = ac.gravity\n",
        "      sand_d = (scour_v**2*3*0.332*p_water)/(2*(500000)**(1/2)*(p_sand-p_water)*g*np.tan(ang))\n",
        "      return sand_d.to(u.mm)\n",
        "\n",
        "sand_diam_F = sand_scour_diam(v_scour_F,T_design)\n",
        "print(\"Largest particle that will be scoured in the flocculator has diamter\",sand_diam_F)"
      ],
      "execution_count": 0,
      "outputs": [
        {
          "output_type": "stream",
          "text": [
            "Largest particle that will be scoured in the flocculator has diamter 0.03544 millimeter\n"
          ],
          "name": "stdout"
        }
      ]
    },
    {
      "cell_type": "markdown",
      "metadata": {
        "id": "MWcOWG3tH5iK",
        "colab_type": "text"
      },
      "source": [
        "The resulting diameter of the largest sand particle that will be scoured is excessively small, smaller than the definition of sand. Based on this result, we can conlude that our assumption that the average velocity for the flocculator is approximately equvalent to the scour velocity was likely incorrect. \n",
        "However, this is not the only reason the diameter was so small. We postulate that because the water is going around a dramatic curve at the point where scouring would occur, the velocity of the water around the bend is actually significantly higher. Because we have no model or equation for how quickly the water travels along the bottom of the flocculator at a turn, we looked for an alternative possibility.\n",
        "\n",
        "Another possible limiting factor of the scoured particle diameter can come from the channel connecting the flocculator to the sedimentation tank. This channel is long and flat, so it is possible that particles are scoured in the flocculator by the fast bottom velocity but settle in the channel and never make it to the sedimentation tank.\n",
        "\n",
        "On this suspicion, we calculated a new minimum scour diameter using the velocity in the inlet channel between the flocculator and sedimentation tanks using the below calculation:\n",
        "$$\\frac{V_{channel}^2}{2g}= \\frac{h_{L,sed}}{1-\\Pi_{Q}^2} $$\n",
        "\n",
        "<div  align='center'>\n",
        "\n",
        "*__Equation 4__: Sedimentation Inlet Velocity Equation*\n",
        "\n",
        "</div>\n",
        "\n"
      ]
    },
    {
      "cell_type": "code",
      "metadata": {
        "id": "70cjHEozH-qM",
        "colab_type": "code",
        "outputId": "86c886fd-dec4-4927-978c-9fae2ff78c45",
        "colab": {
          "base_uri": "https://localhost:8080/",
          "height": 34
        }
      },
      "source": [
        "# calculating the velocity in the inlet channel between the flocculator and sed tank:\n",
        "hl_sed = 5 *u.cm  #headloss in the sed tank from Monroe\n",
        "SED_TANK_Q_RATIO = 0.95   #known flow ratio for sed tank\n",
        "\n",
        "v_chan = (np.sqrt(hl_sed*2*ac.gravity/(1-SED_TANK_Q_RATIO**2))).to(u.m/u.s)\n",
        "\n",
        "#set new scour velocity to be the equal to the velocity of water in the channel\n",
        "v_scour_C = v_chan\n",
        "\n",
        "#find new sand diameter:\n",
        "sand_diam_C = sand_scour_diam(v_scour_C,T_design)\n",
        "print(\"Largest particle that will be scoured in the sed tank channel has diameter\",sand_diam_C)"
      ],
      "execution_count": 0,
      "outputs": [
        {
          "output_type": "stream",
          "text": [
            "Largest particle that will be scoured in the sed tank channel has diameter 5.206 millimeter\n"
          ],
          "name": "stdout"
        }
      ]
    },
    {
      "cell_type": "markdown",
      "metadata": {
        "id": "w-0h6HazQiGF",
        "colab_type": "text"
      },
      "source": [
        "###Results of attempts to find scour diameter\n",
        "\n",
        "From the flocculator calculations, we found that the maximum scoured particles would have a diameter of 0.035 mm and the sedimentation tank channel calculations suggest that the particles up to a diameter of 5.2 mm will be scoured. From the assumptions we made for the flocculator calculations, common sense, and information we received from the operators and engineers working at Gracias, neither of these solutions are reasonable.\n",
        "\n",
        "The original purpose of finding the maximum size of a particle that will be scoured was to find the minimum size of grit that must be captured by the entrance tank to prevent damage to the plant and grit from getting into the flocculator.\n",
        "\n",
        "Thus, we turned to the literature to come up with a value for the smallest particles our entrance tank must capture. According to Kawamura, a typical minimum for grit removed is 0.1 mm. We used this value to calculate the dimensions and design of our entrance tank."
      ]
    },
    {
      "cell_type": "code",
      "metadata": {
        "id": "DcEbLhyRQhtu",
        "colab_type": "code",
        "colab": {}
      },
      "source": [
        "# Constant to be used throughout for sand diameter\n",
        "Diameter = 0.1*u.mm"
      ],
      "execution_count": 0,
      "outputs": []
    },
    {
      "cell_type": "markdown",
      "metadata": {
        "id": "kplV0-LB0_af",
        "colab_type": "text"
      },
      "source": [
        "###Finding Terminal Velocity\n",
        "In the sedimentation tank, flocs with large diameters around 200 μm have a terminal velocity of about 1 mm/s. In our sedimentation tanks, which are upflow sedimentation tanks, we have water flowing up at about 1 mm/s to capture a 200 μm floc. In the entrance tank, we will have sand particles up to 2 mm in size. The terminal velocity needs to be calculated in order to determine the upflow velocity. \n",
        "\n",
        "\n",
        "From the minimum scour diameter, we were able to find the terminal velocity of the particles, but we were unsure if the flow was laminar or turbulent. Using the following equations, we developed a loop in Python atomatically to iterate through them to solve for the correct terminal velocity. \n",
        "\n",
        "\n",
        "$$V_t = \\frac{D^2g}{18\\nu}(\\frac{\\rho_{floc} -\\rho_{H_2O}}{\\rho_{H_2O}})$$\n",
        "<div align=\"center\">\n",
        "\n",
        "*__Equation 4__: Laminar Terminal Velocity*\n",
        "\n",
        "</div>\n",
        "\n",
        "$$V_t = \\frac{4Dg(\\rho_{floc} -\\rho_{H_2O})}{(3C_d\\rho_{H_2O})^{1/2}}$$\n",
        "\n",
        "<div align=\"center\">\n",
        "\n",
        "*__Equation 5__: Turbulent Terminal Velocity*\n",
        "\n",
        "</div>\n",
        "\n",
        "Where: $Re=\\frac{V_tD}{\\nu}$ and $C_d$ are related to the Reynolds number by the Cheng Equation:\n",
        "$$C_d=\\frac{24}{Re}(1+.27Re)^{.43}+.47(1-e^{-0.04Re^{0.38}})$$\n",
        "<div align=\"center\">\n",
        "\n",
        "*__Equation 6__: Cheng Equation*\n",
        "\n",
        "</div>\n",
        "\n",
        "We also graphed the relationship between the terminal velocity and the diameter of scoured particles. This graph helps us better understand how and to what extent the size of the particle we determined, (and further, our assumptions) affect the terminal velocity. It showed us there is a non-linear (quadradic) increasing relationship between the particle diameter and terminal velocity. What this demonstrates is that the upflow velocity that we select for the tank will not suspend all the particles, just the smaller ones. For larger sized particles, their terminal velocity is higher than the upflow velocity, so while they should be somewhat suspended by the jets from the manifold, they will not rise up in the tank as high as the smallest particles which have a termincal velocity only slightly larger than upflow and will be suspended and then settled by the plate settlers.\n",
        "\n",
        "This graph is coded below.\n",
        "\n"
      ]
    },
    {
      "cell_type": "code",
      "metadata": {
        "id": "dTM2tD1z0_A9",
        "colab_type": "code",
        "outputId": "cb8c4a88-2138-43a0-b60b-f84a4fe62f8b",
        "colab": {
          "base_uri": "https://localhost:8080/",
          "height": 565
        }
      },
      "source": [
        "def TerminalVelocityLaminar(D,temperature):\n",
        "  \"\"\"Function to find terminal velocity for a particle with diameter D in laminar flow\"\"\"\n",
        "  p_sand = 2500*u.kg/u.m**3\n",
        "  viscocity = ac.viscosity_kinematic(temperature)\n",
        "  V_t = (D**2*ac.gravity*(p_sand - ac.density_water(temperature)))/(18*viscocity*ac.density_water(temperature))\n",
        "  return V_t.to(u.m/u.s)\n",
        "\n",
        "def TerminalVelocityTurbulent(D,temperature,C_d):\n",
        "  \"\"\"Function to find terminal velocity for a particle with diameter D in turbulent flow\"\"\"\n",
        "  p_sand = 2500*u.kg/u.m**3\n",
        "  V_t = ((4*u.gravity*D*(p_sand - ac.density_water(temperature)))/(3*C_d*ac.density_water(temperature)))**(.5)\n",
        "  return V_t.to(u.m/u.s)\n",
        "\n",
        "def Reynolds(V_t,D,temperature):\n",
        "  \"\"\"Function to calculate Reynolds number for particle with diameter D in turbulent flow\"\"\"\n",
        "  viscocity = ac.viscosity_kinematic(temperature)\n",
        "  Re = V_t*D/viscocity\n",
        "  return Re\n",
        "\n",
        "def ChengEquation(Re):\n",
        "  \"\"\"Function calculates Coefficient of drag from Reynolds number using ...\n",
        "  Cheng equation: https://www.sciencedirect.com/science/article/pii/S2095268615000178\"\"\"\n",
        "  Cd = 24/Re*(1+0.27*Re)**0.43 + 0.47*(1-np.exp(-0.04*Re**0.38))\n",
        "  return Cd\n",
        "\n",
        "# Calculate the terminal velocity from the scour diameter:\n",
        "\n",
        "# Calculate Vt assuming it's laminar flow\n",
        "V_t = TerminalVelocityLaminar(Diameter,T_design)\n",
        "\n",
        "#Calculate reynold's number to check if laminar flow assumption was valid\n",
        "Re = Reynolds(V_t,Diameter,T_design)\n",
        "\n",
        "if Re > 2100: #If turbulent\n",
        "  #Get V_t using turbulent flow:\n",
        "  C_d = ChengEquation(Re) #Calculate the Cd\n",
        "  V_t = TerminalVelocityTurbulent(Diameter,T_design,C_d)\n",
        "  print('Oops the flow is turbulent')\n",
        "\n",
        "print('The final terminal velocity is', V_t.to(u.mm/u.s))\n",
        "print(\"The Reynold's number is\", Re.to(u.dimensionless),\"and it must be less than 2100 to be laminar flow\")\n",
        "\n",
        "\n",
        "# Graphing relationship between a particle's diameter and it's terminal velocity\n",
        "Diameters = np.arange(0.0,1,0.05)*u.mm\n",
        "x = len(Diameters)\n",
        "velocities = np.zeros(x)\n",
        "\n",
        "for i in range(0,x):\n",
        "  # Calculate the terminal velocity from the scour diameter:\n",
        "\n",
        "  # Calculate Vt assuming it's laminar flow\n",
        "  V_t_graph = (TerminalVelocityLaminar(Diameters[i],T_design))\n",
        "  velocities[i] = V_t_graph.magnitude\n",
        "\n",
        "  #Calculate reynold's number to check if laminar flow assumption was valid\n",
        "  Re = (Reynolds(V_t,Diameters[i],T_design)).to(u.dimensionless)\n",
        "\n",
        "  if Re > 2100: #If turbulent\n",
        "    #Get V_t_graph using turbulent flow:\n",
        "    C_d = ChengEquation(Re) #Calculate the Cd\n",
        "    V_t_graph = TerminalVelocityTurbulent(Diameter,T_design,C_d)\n",
        "    velocities[i] = V_t_graph.magnitude\n",
        "\n",
        "\n",
        "plt.figure('ax',(10,8)) #sets the size of the figure\n",
        "plt.plot(Diameters,velocities,'k-')\n",
        "plt.xlabel('Particle Diameter (mm)', fontsize=20)\n",
        "plt.ylabel('Terminal Velocity (m/s)', fontsize=20)\n",
        "plt.title(\"Relationship between a particle's diameter and how fast it settles\", fontsize=25)\n",
        "plt.show()\n"
      ],
      "execution_count": 0,
      "outputs": [
        {
          "output_type": "stream",
          "text": [
            "The final terminal velocity is 7.198 millimeter / second\n",
            "The Reynold's number is 0.6331 dimensionless and it must be less than 2100 to be laminar flow\n"
          ],
          "name": "stdout"
        },
        {
          "output_type": "display_data",
          "data": {
            "image/png": "[encoded data removed]",
            "text/plain": [
              "<Figure size 720x576 with 1 Axes>"
            ]
          },
          "metadata": {
            "tags": []
          }
        }
      ]
    },
    {
      "cell_type": "markdown",
      "metadata": {
        "id": "-Y-WGHqv3sgZ",
        "colab_type": "text"
      },
      "source": [
        "##Plate Settler Design\n",
        "We are designing a plate settler specifically to capture the smallest, critical particle. Plate spacing, thickness, angle, and the tank width were all fixed at 5 cm, 2 mm, 60 degrees, and 42 inches, respectively. Plate spacing in the AguaClara sedimentation tank is usually 2.5 cm. However, Monroe stated that doubling the spacing would allow for a greater density current. More particles would fall on each plate, causing a larger ‘avalanche’. This would give the particles a higher horizontal velocity as they leave the plates which will push them to the sand hopper. The next step was to define the capture velocity and the upwards velocity in the tank. The capture velocity was defined with the terminal velocity from the previous section with a safety factor of 2. The upwards velocity in the tank was set to the capture velocity times 5. Using the number 5 is somewhat arbitrary but was recommended to us by Monroe. The length of each plate settler was calculated using the equation below:\n",
        "\n",
        "$$L_{plate}=s_{plate}(\\frac{V_{up}}{V_{capture}}-1)+\\frac{thickness_{plate}( \\frac{V_{up}}{V_{capture}})}{\\sin{\\theta_{plate}}*\\sin{\\theta_{plate}}}$$\n",
        "\n",
        "<div align=\"center\">\n",
        "\n",
        "*__Equation 7__: Plate Settler Length Equation*\n",
        "\n",
        "</div>\n",
        "\n",
        "From there, the area of the tank was calculated by dividing the flowrate of the plant by the vertical velocity in the tank:\n",
        "\n",
        "$$A_{tank}= \\frac{Q_{plant}}{V_{up}}$$\n",
        "\n",
        "\n",
        "The length of the tank was then calculated by dividing the area of the tank by the width defined above. \n",
        "\n",
        "$$L_{tank}= \\frac{A_{tank}}{W_{tank}}$$\n",
        "\n",
        "The horizontal spacing was then calculated using the equation below:\n",
        "\n",
        "$$S_{plates,horizontal}= \\frac{Thickness_{tank} + Spacing_{Perpendicular}}{Sin(angle)}$$\n",
        "<div align=\"center\">\n",
        "\n",
        "*__Equation 8__: Plate Settler Spacing Equation*\n",
        "\n",
        "</div>\n",
        "\n",
        "The length of the tank and the horizontal spacing above was then used to calculate the number of plates in the tank.\n",
        "\n",
        "$$Number_{Plates} = int(round(\\frac{L_{tank}}{S_{plates,horizontal}})) $$"
      ]
    },
    {
      "cell_type": "code",
      "metadata": {
        "id": "dnOydkhn4ztl",
        "colab_type": "code",
        "outputId": "37e393df-d1c9-4be1-dd91-66576b3380c1",
        "colab": {
          "base_uri": "https://localhost:8080/",
          "height": 119
        }
      },
      "source": [
        "#Plate Settlers\n",
        "\n",
        "s_sed_plate = 5 * u.cm #Perpendicular spacing - we increased the number of particles per plate so that there will be more horizontal velocity, density current of particles coming off the plates\n",
        "angle_sed_plate = 60 * u.deg #Plate Angle\n",
        "thickness_sed_plate = 2 * u.mm\n",
        "N_sed_tanks = 1\n",
        "Q_plant = 120*u.liter/u.second\n",
        "# ARBITRARY safety factor of 2 for capture velocity and upflow velocity as 5*capture velocity\n",
        "V_sed_capture = (V_t/2)  #We are designing a plate settler specifically to capture the critical particle, the terminal velocity equals the capture velocity\n",
        "V_sed_up = V_sed_capture*5 #Monroe said this was okay\n",
        "W_sed = 42 * u.inch # The corrugated plastic sheets used to make the plate settlers from textbook\n",
        "\n",
        "#Calculate the minimum length of the plate settlers - we would like it to be less than a standard plate that is 50cm\n",
        "L_sed_plate = ((s_sed_plate * ((V_sed_up/V_sed_capture)-1) + thickness_sed_plate * (V_sed_up/V_sed_capture)) / (np.sin(angle_sed_plate) * np.cos(angle_sed_plate))).to(u.m)\n",
        "\n",
        "#Calculate the area of the tank\n",
        "A_sed = (Q_plant / V_sed_up).to(u.m**2)\n",
        "\n",
        "#Calculate the length of the tank\n",
        "L_sed = (A_sed / W_sed).to(u.m)\n",
        "\n",
        "#Calculate the horizontal spacing between the plates\n",
        "B_sed_plate_horizontal = ((thickness_sed_plate + s_sed_plate) / np.sin(angle_sed_plate)).to(u.cm)\n",
        "\n",
        "#Calculate the number of plates in the tank\n",
        "N_sed_plates_pertank = int(round((((L_sed/N_sed_tanks) / B_sed_plate_horizontal)).to(u.dimensionless)))\n",
        "\n",
        "\n",
        "print('The length of the entrance tank is', L_sed)\n",
        "print(\"The width of the tank is\",W_sed.to(u.m))\n",
        "print('The number of plate settlers per entrance tank is',N_sed_plates_pertank)\n",
        "print('The minimum length of the plate settlers is',L_sed_plate.to(u.cm))\n",
        "print('The horizontal spacing between plate settlers is',B_sed_plate_horizontal)\n",
        "print('The thickness of the plate settlers is',thickness_sed_plate,'and the angle of incline is',angle_sed_plate)"
      ],
      "execution_count": 0,
      "outputs": [
        {
          "output_type": "stream",
          "text": [
            "The length of the entrance tank is 6.251 meter\n",
            "The width of the tank is 1.067 meter\n",
            "The number of plate settlers per entrance tank is 104\n",
            "The minimum length of the plate settlers is 48.5 centimeter\n",
            "The horizontal spacing between plate settlers is 6.004 centimeter\n",
            "The thickness of the plate settlers is 2 millimeter and the angle of incline is 60 degree\n"
          ],
          "name": "stdout"
        }
      ]
    },
    {
      "cell_type": "markdown",
      "metadata": {
        "id": "CJIOgCyRYtPB",
        "colab_type": "text"
      },
      "source": [
        "## Diffuser Calculations\n",
        "The team chose to use two inlet manifolds because it would allow for better energy dissipation through jet expansion. The water will come out of the diffusers at a high speed, and this change will allow the water to slow down by the time it reaches the plate settlers. It will also allow for the drain to be centered. In order to design for 2 manifolds, the effective width was set to 1/2 the original width. A maximum headloss of 10 cm was set. The maximum velocity was calculated with K=1:\n",
        "\n",
        "$$V_{Diffuser,Max} = \\sqrt{2 * g * He_{maximum \\space allowable}}$$\n",
        "\n",
        "<div align=\"center\">\n",
        "\n",
        "*__Equation 9__: Velocity of Diffusers*\n",
        "\n",
        "</div>\n",
        "\n",
        "Mass conservation was then used to calculate the width of the diffuser:\n",
        "\n",
        "$$ W_{diffuser \\space inner \\space min} = \\frac{V_{up}}{V_{diffuser}}$$\n",
        "\n",
        "<div align=\"center\">\n",
        "\n",
        "*__Equation 10__: Width of Diffusers*\n",
        "\n",
        "</div>\n",
        "\n",
        "The actual width of the diffuser was then calculated by ceiling the value found above to the nearest pvc pipe size which come in increments of 1/16 inches. The pipe streches when the diffusers are made because it is heated and stretched. A strech factor was used to find the final inner and outer length of the diffusers. The flow and velocity of water leaving the diffusers was then calculated:\n",
        "\n",
        "$$Q_{max \\space diffuser} = V_{up} * W_{tank} * L_{diffuser \\space outerlength}$$\n",
        "$$V_{diffuser} = (Q_{max \\space diffuser} / (W_{diffuser} * L_{diffuser \\space innerlength}))$$\n",
        "\n",
        "The headloss was then calculated using the equation below:\n",
        "\n",
        "$$hl_{diffuser} = \\frac{(V_{diffuser} - V_{up})^ 2}{(2 * g)}$$\n",
        "<div align=\"center\">\n",
        "\n",
        "*__Equation 11__: Headloss of Diffusers*\n",
        "\n",
        "</div>\n",
        "\n",
        "The number of diffusers per manifold was then calculated:\n",
        "\n",
        "$$N_{diffusers} = int(floor(\\frac{L_{tank}}{L_{diffuser \\space outerlength}}))$$\n",
        "\n",
        "\n"
      ]
    },
    {
      "cell_type": "code",
      "metadata": {
        "id": "u3ypL7dxYzmH",
        "colab_type": "code",
        "outputId": "0fbb09c4-a694-4ab8-e5e5-29e27691bce9",
        "colab": {
          "base_uri": "https://localhost:8080/",
          "height": 238
        }
      },
      "source": [
        "#Diffusers\n",
        "\n",
        "# Divide width of tank by 2 because 2 inlet manifolds\n",
        "Width_sed = W_sed/2\n",
        "\n",
        "# We've set a maximum head loss in the sedimentation tank inlet based on talk with Monroe:\n",
        "headloss_sed_inlet_max = 10*u.cm\n",
        "\n",
        "# Solving for the maximum velocity with a minor loss equation with K=1\n",
        "V_diffuser_max = (np.sqrt((2 * ac.gravity * headloss_sed_inlet_max))).to(u.m / u.s)\n",
        "print('The maximum velocity of the entrance tank diffusers is',V_diffuser_max)\n",
        "\n",
        "# mass conservation\n",
        "W_diffuser_inner_min = ((V_sed_up / V_diffuser_max) * Width_sed).to(u.mm)\n",
        "print('The minimum width of the entrance tank diffusers is',W_diffuser_inner_min)\n",
        "\n",
        "#Calculate parameters of diffusers:\n",
        "W_diffuser = ac.ceil_nearest(W_diffuser_inner_min, np.arange(1/16,100,1/16)*u.inch)\n",
        "print('The width of entrance tank diffuser is',W_diffuser.to(u.mm), 'or', W_diffuser)\n",
        "\n",
        "from aguaclara.core import pipes as pipe\n",
        "SDR=26\n",
        "\n",
        "# Assumed stretch of the PVC pipes as they are heated and molded:\n",
        "Pi_PVC_stretch = 1.2\n",
        "\n",
        "# Nominal diameter of the sed tank diffuser\n",
        "ND_sed_diffuser = 1 * u.inch\n",
        "#The cross-sectional area of the pipe wall is:\n",
        "area_PVC = (np.pi/4) * ((pipe.OD(ND_sed_diffuser)**2) - (pipe.ID_SDR(ND_sed_diffuser,SDR)**2))\n",
        "\n",
        "#The thickness of the wall is reduced by the stretch factor:\n",
        "thickness_sed_diffuser_wall = ((pipe.OD(ND_sed_diffuser) - pipe.ID_SDR(ND_sed_diffuser,SDR)) / (2 * Pi_PVC_stretch))\n",
        "\n",
        "# From geometry of the rectangular diffuser opening (assuming perfectly square corners) we have:\n",
        "B_diffuser = ((area_PVC / (2 * thickness_sed_diffuser_wall)) - W_diffuser).to(u.cm)\n",
        "S_diffuser = B_diffuser - (2 * thickness_sed_diffuser_wall)\n",
        "\n",
        "print(\"Diffuser outer length:\", B_diffuser)\n",
        "print(\"Diffuser inner length:\", S_diffuser)\n",
        "\n",
        "# Solving for the actual velocity and flow through each diffuser\n",
        "flow_max_diffuser = V_sed_up * Width_sed * B_diffuser\n",
        "V_diffuser = (flow_max_diffuser / (W_diffuser * S_diffuser)).to(u.m / u.s)\n",
        "print('The flow of water leaving a entrance tank diffuser is',flow_max_diffuser.to(u.ml/u.s))\n",
        "print('The velocity of water leaving the entrance tank diffuser is',V_diffuser)\n",
        "\n",
        "#Calculate the thickness of the jet after it does the 180 degree bend of the jet reverser. \n",
        "#The change in thickness of the jet after the 180 degree bend is due to the flow spreading out to fill in the gaps created by the diffuser pipe walls. \n",
        "Pi_jet_plane = 0.0124  # Pi_jet_plane is used to estimate the maximum energy dissipation rate in a plane jet.\n",
        "W_jet_reversed = Width_sed * V_sed_up / V_diffuser_max\n",
        "EDR_inlet_jet = Pi_jet_plane* ((V_diffuser_max**3)/ W_jet_reversed).to(u.mW / u.kg)\n",
        "print('The energy dissipation rate for inlet jet is', EDR_inlet_jet)\n",
        "\n",
        "#Head loss calculations\n",
        "hl_sed_diffuser_exit1 = (((V_diffuser - V_sed_up) ** 2) / (2 *ac.gravity)).to(u.cm)\n",
        "hl_sed_diffuser_exit2 = (((V_diffuser) ** 2) / (2 *ac.gravity)).to(u.cm)\n",
        "hl_sed_diffuser_error = (hl_sed_diffuser_exit2-hl_sed_diffuser_exit1)/hl_sed_diffuser_exit1\n",
        "\n",
        "print('The best estimate of the exit head loss for the diffuser is', hl_sed_diffuser_exit1)\n",
        "print('The 2nd estimate of the exit head loss for the diffuser ignoring the upflow velocity is', hl_sed_diffuser_exit2)\n",
        "print('It is reasonable to neglect the effect of the upflow velocity. The error is',hl_sed_diffuser_error)\n",
        "\n",
        "N_sed_tank_diffusers = int(np.floor(((L_sed/N_sed_tanks) / B_diffuser).to(u.dimensionless)))\n",
        "print('The number of diffuser pipes per each manifold is',N_sed_tank_diffusers)\n",
        "\n",
        "testceil = ac.ceil_nearest(10*u.inch, np.arange(1/16,1,1/16)*u.inch)\n",
        "print(testceil)"
      ],
      "execution_count": 0,
      "outputs": [
        {
          "output_type": "stream",
          "text": [
            "The maximum velocity of the entrance tank diffusers is 1.4 meter / second\n",
            "The minimum width of the entrance tank diffusers is 6.854 millimeter\n",
            "The width of entrance tank diffuser is 7.938 millimeter or 0.3125 inch\n",
            "Diffuser outer length: 5.26 centimeter\n",
            "Diffuser inner length: 5.046 centimeter\n",
            "The flow of water leaving a entrance tank diffuser is 504.9 milliliter / second\n",
            "The velocity of water leaving the entrance tank diffuser is 1.261 meter / second\n",
            "The energy dissipation rate for inlet jet is 4969 milliwatt / kilogram\n",
            "The best estimate of the exit head loss for the diffuser is 7.873 centimeter\n",
            "The 2nd estimate of the exit head loss for the diffuser ignoring the upflow velocity is 8.103 centimeter\n",
            "It is reasonable to neglect the effect of the upflow velocity. The error is 0.02917 dimensionless\n",
            "The number of diffuser pipes per each manifold is 118\n",
            "0.0625 inch\n"
          ],
          "name": "stdout"
        }
      ]
    },
    {
      "cell_type": "markdown",
      "metadata": {
        "id": "7IK3EO0iYay8",
        "colab_type": "text"
      },
      "source": [
        "## Manifold Calculations:\n",
        "\n",
        "In order to design the manifolds, we had to determine its parameters. First we calcualted the maximum velocity in the manifold:\n",
        "\n",
        "$$V_{Manifold} = \\sqrt{2\\left(\\frac{1 - {\\Pi_{DiffuserFlow}}^{2}}{{\\Pi_{DiffuserFlow}}^{2} + 1} \\right)} $$\n",
        "<div align=\"center\">\n",
        "\n",
        "*__Equation 12__: Max Velocity in Manifold*\n",
        "\n",
        "</div>\n",
        "\n",
        "The maximum flow rate is calculated from the upflow region, or the product of the width and the velocity.Finally, we find the necessary diameter of inlet manifolds, by finding the required area of the manifold from the flow divided by the velocity, and then solving for the diameter based on the area. Because pipes only come in certain sizes, we  found the closest nominal diameter of a pipe that would be able to handle the required flow."
      ]
    },
    {
      "cell_type": "code",
      "metadata": {
        "id": "tPDW7H6MYaSQ",
        "colab_type": "code",
        "outputId": "a195b4fb-2679-49e3-ffbe-6d98af69ba9a",
        "colab": {
          "base_uri": "https://localhost:8080/",
          "height": 85
        }
      },
      "source": [
        "#Manifold \n",
        "\n",
        "# The minimum port flow (from the first port) divided by the maximum port\n",
        "# flow (from the last port) for flow division between sedimentation tanks\n",
        "# and for flow distribution from the inlet manifold should be at least:\n",
        "Pi_sed_manifold_flow = 0.8\n",
        "\n",
        "def Vel_sed_manifold_max(Pi_diffuser_flow, V_diffuser):\n",
        "    return (V_diffuser * np.sqrt(2 * ((1-(Pi_diffuser_flow**2))/ ((Pi_diffuser_flow**2)+1))))\n",
        "\n",
        "#Only the diffuser head loss is in the parallel paths\n",
        "V_sed_manifold_max = Vel_sed_manifold_max(Pi_sed_manifold_flow, V_diffuser)\n",
        "\n",
        "print('The maximum velocity in each entrance tank manifold is',V_sed_manifold_max)\n",
        "print('The flow area ratio of manifold pipe to diffusers is',(V_diffuser / V_sed_manifold_max).to(u.dimensionless))\n",
        "\n",
        "L_sed_upflow_max = 5.8 * u.m\n",
        "flow_sed_max = (L_sed_upflow_max * V_sed_up * Width_sed).to(u.L / u.s)\n",
        "\n",
        "D_sed_manifold_min= ac.diam_circle(flow_sed_max / V_sed_manifold_max)\n",
        "ND_sed_manifold = pipe.ND_SDR_available(D_sed_manifold_min, SDR)\n",
        "\n",
        "print('The minimum inner diameter of the 2 entrance tank inflow manifolds is',D_sed_manifold_min.to(u.inch))\n",
        "print('The nominal diameter of the 2 entrance tank inflow manifolds is',ND_sed_manifold)"
      ],
      "execution_count": 0,
      "outputs": [
        {
          "output_type": "stream",
          "text": [
            "The maximum velocity in each entrance tank manifold is 0.8353 meter / second\n",
            "The flow area ratio of manifold pipe to diffusers is 1.509 dimensionless\n",
            "The minimum inner diameter of the 2 entrance tank inflow manifolds is 11.47 inch\n",
            "The nominal diameter of the 2 entrance tank inflow manifolds is 12 inch\n"
          ],
          "name": "stdout"
        }
      ]
    },
    {
      "cell_type": "markdown",
      "metadata": {
        "id": "oAwUg_p2d4eQ",
        "colab_type": "text"
      },
      "source": [
        "## Drain Pipe\n",
        "---\n",
        "We don't have a good basis for how big the drainage area needs to be, because we don't have any idea of the loading of sand. We arbitrarily made the drainage area 0.5 m long, the same width as the entrance tank, and with a depth determined by having a 60˚ slope. For a specific future plant, an approximate loading should be calculated for the plant, and the capacity of the drain should be calculated so that operators do not need to open the drain too frequently during storm events.\n",
        "\n",
        "We used a 4 inch diameter pipe for the plug for the drain, as that is a comfortable size of pipe for the operator to deal with. \n",
        "\n",
        "We checked the flow for how quickly our designed drainage system is able to drain the sand and water that has settled. We assumed we have at least 3 meters of height between the surface of the water and the bottom of the drain, and calculated the Q from the equations:\n",
        "$$H_e = \\Sigma K \\frac{V^2}{2g}$$\n",
        "Where: $$\\Sigma K = K_{entrance} + K_{elbow} + K_{exit}$$ and $$V=\\frac{Q}{A}$$\n",
        "\n",
        "\n",
        "When unplugged, the flow out of the drain is 44.5 L/s. This seems reasonable and should be sufficient to drain the accumulated sand and water."
      ]
    },
    {
      "cell_type": "code",
      "metadata": {
        "id": "vZihVvpRd4KR",
        "colab_type": "code",
        "outputId": "a872416f-f0ae-42ef-ab5a-d5b88a047158",
        "colab": {
          "base_uri": "https://localhost:8080/",
          "height": 34
        }
      },
      "source": [
        "#Drain Pipe\n",
        "\n",
        "#checking that a 4 in diameter drain is sufficient:\n",
        "nom_d = 4*u.inch\n",
        "diameter = ac.ID_sch40(nom_d)\n",
        "area = ac.area_circle(diameter)\n",
        "\n",
        "# K values from https://neutrium.net/fluid_flow/pressure-loss-from-pipe-entrances-and-exits/\n",
        "K_entrance = 0.25\n",
        "K_exit = 1\n",
        "K_elbow = 0.75\n",
        "K_total = K_entrance + K_elbow + K_exit\n",
        "\n",
        "# say that we have at least 3 meters of headloss between the bottom of the drain and the surface of the water\n",
        "He = 3 *u.m \n",
        "\n",
        "Q_out = area*np.sqrt((He*2*ac.gravity)/K_total)\n",
        "\n",
        "print(\"Flow capacity of the drain is\",Q_out.to(u.L/u.sec))"
      ],
      "execution_count": 0,
      "outputs": [
        {
          "output_type": "stream",
          "text": [
            "Flow capacity of the drain is 44.55 liter / second\n"
          ],
          "name": "stdout"
        }
      ]
    },
    {
      "cell_type": "markdown",
      "metadata": {
        "id": "S7qMy4th6TUz",
        "colab_type": "text"
      },
      "source": [
        "##Trash Racks\n",
        "---\n",
        "As raw water flows into the entrance tank, it can bring with quite a bit of debris and particles. In order to protect the rest of the entrance tank, we need something to prevent particles larger than 2mm sand from passing through.\n",
        "We designed a 2 trash rack system that will allow the plant to continue running while the operator cleans one rack. The racks will slide into slots built into the entrance tank wall. \n",
        "We wanted to minimize the headloss through the screen. \n",
        "Because it is through a screen, the governing equation, shown below, is slightly different. It is instead governed by the ratio of the cross-sectional width of the bars (r) to the spacing between the bars (b). \n",
        "$$h_l=\\beta(r/d)^{4/3} \\sin{\\theta}*V_t^2/2g$$\n",
        "<div align=\"center\">\n",
        "\n",
        "*__Equation 13__: Headloss in trash rack*\n",
        "\n",
        "</div>\n",
        "\n",
        "Beta represents the “bar factor,” which is 1.79 for round wires, and Theta represents the angle of the bar screen with the horizontal, for which we used 90 degrees. We want the trash rack to prevent particles larger than 2mm, so the maximum value for the spacing between the bars is 2 mm.\n",
        "\n",
        "We explored two different options for creating the racks.\n",
        "The first option would be to use wire mesh to prevent sand from getting into the entrance tank. Based on US standard mesh dimensions, #10 mesh would have a 2 mm nominal sieve size opening, and a nominal wire diameter of 0.9 mm.\n"
      ]
    },
    {
      "cell_type": "code",
      "metadata": {
        "id": "KqpHosIh4SwO",
        "colab_type": "code",
        "outputId": "00024057-ad3d-4a83-d239-c96a6d55b869",
        "colab": {
          "base_uri": "https://localhost:8080/",
          "height": 51
        }
      },
      "source": [
        "#Trash Racks made of mesh \n",
        "def headloss (V,k):\n",
        "  h_L= k * (V**2)/(2*ac.gravity)\n",
        "  return h_L\n",
        "\n",
        "def K_loss_trashracks(beta,r,d,theta):\n",
        "  k_l=beta*((r/d)**(4/3))*np.sin(theta)\n",
        "  return k_l\n",
        "#using US std mesh 10\n",
        "d=2*u.mm\n",
        "r=.9*u.mm\n",
        "beta = 1.79 * u.dimensionless\n",
        "theta= 90*u.degrees\n",
        "\n",
        "k=K_loss_trashracks(beta,r,d,theta)\n",
        "#use V_t for V\n",
        "h_L = headloss(V_t,k)\n",
        "\n",
        "print('The trash rack will use US Standard Mesh No. 10, which has a', d, 'nominal sieve size opening. It will be reinforced by rebar.')\n",
        "print('The maximum headloss through the trash rack will be', h_L.to(u.cm), \", if the water gets to terminal velocity\")"
      ],
      "execution_count": 0,
      "outputs": [
        {
          "output_type": "stream",
          "text": [
            "The trash rack will use US Standard Mesh No. 10, which has a 2 millimeter nominal sieve size opening. It will be reinforced by rebar.\n",
            "The maximum headloss through the trash rack will be 0.0001631 centimeter , if the water gets to terminal velocity\n"
          ],
          "name": "stdout"
        }
      ]
    },
    {
      "cell_type": "markdown",
      "metadata": {
        "id": "NeigbZQNKX49",
        "colab_type": "text"
      },
      "source": [
        "The second option we tried was creating a rack out of rebar. This would allow debris to be raked off of the surface of the screen. We found the possible rebar sizes in the US, and calculated the headloss for each of them. We determined that the headloss would be lowest when the k_loss value was lowest, which would be when the ratio of the cross-sectional width of the bars to the bar spacing is the smallest. The smallest rebar size gives us the least headloss.\n"
      ]
    },
    {
      "cell_type": "code",
      "metadata": {
        "id": "BpYEsk8I7mXP",
        "colab_type": "code",
        "outputId": "0101ac1b-6433-404c-d13c-f900f87c5f17",
        "colab": {
          "base_uri": "https://localhost:8080/",
          "height": 51
        }
      },
      "source": [
        "#Trash Racks rebar\n",
        "\n",
        "rebar_sizes = [6.35,9.525,12.7,15.875,19.05,22.225]*u.mm\n",
        "list_l = 6\n",
        "k= np.empty(list_l)*u.dimensionless\n",
        "h= np.empty(list_l)*u.cm\n",
        "for i in range(list_l):\n",
        "  k[i]=K_loss_trashracks(beta,rebar_sizes[i],d,theta)\n",
        "  h[i] = headloss(V_t,k[i])\n",
        "\n",
        "#the min possible headloss given K will be when K is smallest, and when the rebar is the smallest diameter\n",
        "k_rebar = min(rebar_sizes)\n",
        "h_L_rebar=min(h)\n",
        "\n",
        "print('The rebar trash rack will be made of', k_rebar, 'rebar, spaced', d, 'apart.')\n",
        "print('The headloss through the rebar trash rack will be', h_L_rebar.to(u.cm))\n"
      ],
      "execution_count": 0,
      "outputs": [
        {
          "output_type": "stream",
          "text": [
            "The rebar trash rack will be made of 6.35 millimeter rebar, spaced 2 millimeter apart.\n",
            "The headloss through the rebar trash rack will be 0.002207 centimeter\n"
          ],
          "name": "stdout"
        }
      ]
    },
    {
      "cell_type": "markdown",
      "metadata": {
        "id": "v56ZkeLWbKFv",
        "colab_type": "text"
      },
      "source": [
        "###Final Trash Rack Design\n",
        "---\n",
        "Our proposed trash rack system would be comprised of two racks in one slot. These would be install in the plant upstream from the entrance tank described above, in a channel for the influent for the plant. Each trash rack would be a mesh screen layered with a rebar screen on top, where the water would come into contact with the rebar screen first. With two racks, the particles are more likely to be removed either with the removal of the screen or by raking the rebar mesh. When one trash rack needs to be cleaned, the upsteam rack should be removed and pulled out to be cleaned, then the downstream rack will be pushed forward, and then the cleaned rack should be put in behind the rack in the system. This will make it possible to remove racks for cleaning without ever leaving the channel unprotexted by a trash rack. The total headloss would be the sum of the headloss from the mesh and rebar screens.\n",
        "\n",
        "![plot](https://github.com/DanielPyrek/4530/blob/master/2019-4520/Trash%20Rack%201.png?raw=true)\n",
        "<div align=\"center\">\n",
        "\n",
        "*__Figure 4__: Trash Rack Design*\n",
        "\n",
        "</p>\n",
        "\n",
        "![plot](https://github.com/DanielPyrek/4530/blob/master/2019-4520/Trash1.png?raw=true)\n",
        "<p align=\"center\">\n",
        "\n",
        "*__Figure 5__: Trash Rack Cleaning Step 1*\n",
        "\n",
        "</p>\n",
        "\n",
        "![plot](https://github.com/DanielPyrek/4530/blob/master/2019-4520/Trash2.png?raw=true)\n",
        "<p align=\"center\">\n",
        "\n",
        "*__Figure 6__: Trash Rack Cleaning Step 2*\n",
        "\n",
        "</p>"
      ]
    },
    {
      "cell_type": "code",
      "metadata": {
        "id": "4cns9j-9PtIL",
        "colab_type": "code",
        "outputId": "03b0850a-d364-4cb6-ccc9-e0b69c2aa637",
        "colab": {
          "base_uri": "https://localhost:8080/",
          "height": 34
        }
      },
      "source": [
        "h_L_one_rack=h_L_rebar.to(u.cm) + h_L.to(u.cm)\n",
        "\n",
        "print('The headloss of the one trash rack of our design will be', h_L_one_rack)\n"
      ],
      "execution_count": 0,
      "outputs": [
        {
          "output_type": "stream",
          "text": [
            "The headloss of the one trash rack of our design will be 0.00237 centimeter\n"
          ],
          "name": "stdout"
        }
      ]
    },
    {
      "cell_type": "markdown",
      "metadata": {
        "id": "N-qUxvxLN9eK",
        "colab_type": "text"
      },
      "source": [
        "###Final Design Sketches\n",
        "\n",
        "The final design is illustrated and labeled below:\n",
        "\n",
        "![plot](https://github.com/DanielPyrek/4530/blob/master/2019-4520/WholeDesign.png?raw=true)\n",
        "\n",
        "<div align=\"center\">\n",
        "\n",
        "*__Figure 7__: Final Design Layout*\n",
        "\n",
        "</div>\n",
        "\n",
        "This is a zoomed in photo depicting the drain when it is plugged. The 4 inch diameter pipe is currently in the drain, preventing water from escaping. There are 2 influent and 2 effluent manifold pipes, each with many diffuser pipes. There is 1 set of plate settlers above the 2 bays of the manifolds, see Figure 10 for a side view to illustrate the 2 bays. The drain systems comes to a maximum depth at the bottom, where there is the drain outlet, typically plugged by the drain control pipe. In order to prevent sand from rising up to the surface at the end of the tank, where the plate settlers stop, a sheet of PV should be placed at the bottom of the plate settlers and attached to the wall so that it would sit parallel to the surface of the water. A hole would need to be cut in the sheet for the drain pipe to go through.\n",
        "\n",
        "![plot](https://github.com/DanielPyrek/4530/blob/master/2019-4520/Drain1.png?raw=true)\n",
        "\n",
        "<div align=\"center\">\n",
        "\n",
        "*__Figure 8__: Plugged Drain*\n",
        "</div>\n",
        "\n",
        "During routine cleaning or during storms where there would be an excess influent of sand, the operator can pull the pipe out of the drain elbow. This will allow the sand hopper to drain out the collected waste. This is illustrated below:\n",
        "\n",
        "![plot](https://github.com/DanielPyrek/4530/blob/master/2019-4520/Drain2.png?raw=true)\n",
        "<div align=\"center\">\n",
        "\n",
        "*__Figure 9__: Unplugged Drain*\n",
        "</p>\n",
        "\n",
        "The side view of the entrance tank, which gives another view of the sand hopper drain, illustrates that there are two manifolds and essentially 2 parallel sedimentation style basins with sloped walls. The sand should drain from the jet reverse channels along the bottom of the tank into the sand hopper so that it can be removed when the drain plug pipe is pulled out.\n",
        "\n",
        "![plot](https://github.com/DanielPyrek/4530/blob/master/2019-4520/Entrance.png?raw=true)\n",
        "<div align=\"center\">\n",
        "\n",
        "*__Figure 10__: Side View of Tank*\n",
        "</p>\n"
      ]
    },
    {
      "cell_type": "markdown",
      "metadata": {
        "id": "miwfVTGOPqmy",
        "colab_type": "text"
      },
      "source": [
        "###Example Design for a 120 L/s Plant\n",
        "---\n",
        "The code was run for a 120 L/s plant. The flowrate used was 120 L/s at 15 degrees celsius (extreme case):\n",
        "\n",
        "\n",
        "\n",
        "*   The final terminal velocity is 7.198 millimeter/s for the critical small particle\n",
        "*   The length of the entrance tank was 6.251 meter and the width was 1.067 meter\n",
        "*   The number of plate settlers per entrance tank was 104\n",
        "* The minimum length of the plate settlers is 48.5 centimeter\n",
        "* The horizontal spacing between plate settlers is 6.004 centimeter\n",
        "* The maximum velocity of the entrance tank diffusers is 1.4 m/s\n",
        "* The minimum width of the entrance tank diffusers is 6.854 millimeter\n",
        "* The width of entrance tank diffuser is 7.938 millimeter or 0.3125 inch\n",
        "* Diffuser outer length: 5.26 centimeter\n",
        "* Diffuser inner length: 5.046 centimeter\n",
        "* The flow of water leaving a entrance tank diffuser is 504.9 mm/s\n",
        "* The velocity of water leaving the entrance tank diffuser is 1.261 m/s\n",
        "* The best estimate of the exit head loss for the diffuser is 7.873 centimeter\n",
        "* The number of diffuser pipes per each manifold is 118\n",
        "* The maximum velocity in each entrance tank manifold is 0.8353 m/s\n",
        "* The flow area ratio of manifold pipe to diffusers is 1.509\n",
        "* The minimum inner diameter of the 2 entrance tank inflow manifolds is 11.47 inch\n",
        "* The nominal diameter of the 2 entrance tank inflow manifolds is 12 inch\n",
        "* Flow capacity of the drain is 44.55 L/s\n"
      ]
    },
    {
      "cell_type": "code",
      "metadata": {
        "id": "-NS_KaOTTYqt",
        "colab_type": "code",
        "outputId": "55351aff-b2f7-481d-ffe5-dfc84e93355b",
        "colab": {
          "base_uri": "https://localhost:8080/",
          "height": 34
        }
      },
      "source": [
        "#Horizontal Grit Chamber Estimation for Comparison\n",
        "\n",
        "Width = 1*u.m\n",
        "Depth = 2*u.m\n",
        "Q = 120*u.L/u.s\n",
        "\n",
        "V = (Q/Width/Depth).to(u.m/u.s)\n",
        "FallingTime= Depth/V_t\n",
        "Length = FallingTime*V\n",
        "print('The length of a horizontal grit chamber would be', Length)"
      ],
      "execution_count": 0,
      "outputs": [
        {
          "output_type": "stream",
          "text": [
            "The length of a horizontal grit chamber would be 16.67 meter\n"
          ],
          "name": "stdout"
        }
      ]
    },
    {
      "cell_type": "markdown",
      "metadata": {
        "id": "EQprYwlQtwVS",
        "colab_type": "text"
      },
      "source": [
        "##Future Work\n",
        "---\n",
        "In the future, the upflow velocity should be explored further and potentially measured, as our assumptions were purely speculative about what it should be. Plate spacing and angle could be adjusted to find the optimal orientation for the entrance tank. For the purpose of our design, the team made a series of assumptions that are discussed in the report. These assumptions should be verified. The team also failed to ever make the connection between the scour velocity in the flocculator or inlet channel to the sedimentation tank. Ideally, the maximum possible scoured particle should be the same as the smallest sized particle that is captured by the entrance tank. Creating this link would justify the values used for terminal velocity and make the design more robust. A flowchart of the decisions based on assumptions are shown below:\n",
        "\n",
        "![plot](https://github.com/DanielPyrek/4530/blob/master/2019-4520/flow2.png?raw=true)\n",
        "<div align=\"center\">\n",
        "\n",
        "*__Figure 11__: Entrance tank decision tree*\n",
        "\n",
        "</div>"
      ]
    },
    {
      "cell_type": "markdown",
      "metadata": {
        "id": "2kUsa_fZS0_q",
        "colab_type": "text"
      },
      "source": [
        "##Conclusion\n",
        "---\n",
        "If a horizontal grit chamber were to be used, it would require 17 meters of length and 17 $m^2$ of area. A cyclone tank, on the other hand, requires power which is does not align with AguaClara's mission of operating without electricity. The design documented in this report is superior to these technologies. For a 120 L/s plant, this new entrance tank would only require 6.25 meters of length and 6.25 $m^2$ of area. It is also self cleaning and easy to drain. Moreover, the final design for the trash rack can be easily cleaned and replaced by the plant operators and minimize headloss in the entrance of the plant. This design should prevent grit and sand that is settling in the flocculator in the plant in Gracias and improve overall efficiency in the plant. \n",
        "\n",
        "This project gave the team a great sense of accomplishment and joy. It was satisfying to culminate the material of the course into a real design."
      ]
    },
    {
      "cell_type": "markdown",
      "metadata": {
        "id": "QbpzMFK1oPON",
        "colab_type": "text"
      },
      "source": [
        "#### Bibliography\n",
        "\n",
        "Kawamura, S. (2000) *Integrated Design of Water Treatment Facilities*\n",
        "\n",
        "Weber-Shirk, M et al. (2018), AguaClara Textbook\n",
        "\n",
        "CrystalStream Technologies - Structural Best Management Practices (BMPs). Understanding Re-Suspension Rates. http://crystalstream.com/wp-content/uploads/2010/12/Understanding-Resuspension-Rates.pdf. Accessed 18 Dec. 2019.\n",
        "\n",
        "\n",
        "Mesh and Micron Sizes | ISM. https://www.industrialspec.com/resources/mesh-and-micron-sizes. Accessed 18 Dec. 2019.\n",
        "\n",
        "\n",
        "“Rebar.” Wikipedia, 12 Dec. 2019. Wikipedia, https://en.wikipedia.org/w/index.php?title=Rebar&oldid=930499416.\n",
        "\n",
        "\n",
        "Vitez, Tomas, and Petr Trávníček. “Study of Settling Velocity of Sand Particles Located in Wastewater Treatment Plant.” Acta Universitatis Agriculturae et Silviculturae Mendelianae Brunensis, vol. 59, 2011, pp. 249–54, doi:10.11118/actaun201159010249.\n"
      ]
    }
  ]
}