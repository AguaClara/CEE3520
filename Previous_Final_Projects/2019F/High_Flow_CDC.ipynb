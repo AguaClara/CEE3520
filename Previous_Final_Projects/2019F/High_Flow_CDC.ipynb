{
  "nbformat": 4,
  "nbformat_minor": 0,
  "metadata": {
    "colab": {
      "name": "PhoenixFloc_Capstone_Design.ipynb",
      "provenance": [],
      "collapsed_sections": []
    },
    "kernelspec": {
      "name": "python3",
      "display_name": "Python 3"
    }
  },
  "cells": [
    {
      "cell_type": "markdown",
      "metadata": {
        "id": "xuHKs4y-SljM",
        "colab_type": "text"
      },
      "source": [
        "**High Flow Rate Chemical Dose Controller Design**\n",
        "\n",
        "---\n",
        "\n",
        "\n",
        "Team Members: Ellie Beaudry\n",
        "              Jillian Foley\n",
        "              Wenduo Nie"
      ]
    },
    {
      "cell_type": "markdown",
      "metadata": {
        "id": "A98gpxIWUkez",
        "colab_type": "text"
      },
      "source": [
        "**Introduction:**\n",
        "\n",
        "\n",
        "\n",
        "The linear chemical dose controller (CDC) is used to dose chemicals easily and accurately. The flow of chemicals is adjusted based on the plant flow rate to keep a constant chemical dose set by the operator.  \n",
        "\n",
        "\n",
        "The CDC is consisted of the linear flow orifice meter (LFOM) and the “Almost Linear” flow controller. The LFOM is a pipe with rows of holes (orifices) on it. As shown in figure 1, there are fewer holes on the top and more holes on the bottom of the pipe. All holes have the same size. Calculations need to be done to determine the number of holes on each row. Water flows down the LFOM in the set up. \n",
        "\n",
        "\\\n",
        "\n",
        "![alt text](https://raw.githubusercontent.com/eb562/Final-Design-Project/master/LFOM%20diagram.jpg)\n",
        "\n",
        "\n",
        "\n",
        "_Figure 1. linear flow orifice meter_\n",
        "\n",
        "\\\n",
        " “Almost linear” flow controller consists of constant head tank (CHT), a float valve and a flexible tube at the bottom of CHT. The float valve is used to keep the solution in CHT at a constant water level. Above the CHT, there is a stock tank that stores chemical solutions. There is a different tube connects the stock tank and the float valve. \n",
        "\n",
        "\n",
        "Now let’s look at the entire CDC set up. Please refer to the diagram in figure 2. Start at the Constant Head Tank (CHT). We use a tube with large diameter to connect the bottom of  CHT because we want to minimize the head loss. We chose to use three thin, straight tubes instead of one tube because we want to generate major losses instead of minor losses, and this will ensure the Hagen-Poiseuille equation being applicable. In this case, the flow will be directly proportional to the head.\n",
        "\n",
        "\\\n",
        "\n",
        "![alt text](https://raw.githubusercontent.com/eb562/Final-Design-Project/master/CDC%20diagram.jpg)\n",
        "\n",
        "\n",
        "\n",
        "_Figure 2. the entire set up of CDC_\n",
        "\n",
        "\\\n",
        "\n",
        "The chemicals flow out through the large-diameter tube on the right of the three tubes mentioned above. The end of this large tube is connected to a slider and a drop tube. When the chemical enters the drop tube it falls freely and no longer affects the CDC system.\n",
        "\n",
        "\n",
        "The slider is rested on a lever. LFOM adjusted the water level in the entrance tank, and the leveler connects the water level to the difference in head between the CHT and the end of the dosing tube. This enables CDC to automatically adjust the flow of chemicals based on a change in the plant flow rate and maintain a constant dose in the plant water. At one end of the lever, a float is used to track the water level in the entrance tank. The counterweight on the other side of the lever makes the float *track the water surface*. \n",
        "\n",
        "\n",
        "For this project, we want to design a CDC that allows a larger flow (more than 100 L/s) because now the the plant is aimed to serve a city instead of a small town, and the water flow will be much greater.  This may change the current design significantly because at a certain flow rate we will need to change to a larger float valve.  In addition, we need to keep the flow in the dosing tubes laminar to maintain a linear relationship between headloss and flow.  With a higher flowrate, the velocity and/or the diameter will need to be increased and this will lead to a higher Reynolds number.  This will impact the number of dosing tubes used. The current design uses three dosing tubes based on the minor loss constraints and the required flow rate of the current AguaClara plants.  If we were to change the 3 short tubes into one long one, that would increase the flow and therefore the velocity through the dosing tube.  Since we are trying to keep minor loses minimal to achieve a linear relationship between headloss and flow, increasing the velocity would change the ratio betwee minor losses and major losses as minor losses scale with v^2 and major losses scale with v. \n",
        "\n",
        "\n",
        "\\\n",
        "\n",
        "\n",
        "**Constraints:**\n",
        "\n",
        "1.   Size of float valve must be appropriate to the flow and based on standard manufactured sizings\n",
        "2.   Laminar flow should be maintained in the dosing tubes to preserve a linear relationship between headloss and flowrate \n",
        "3.   Completely operable without the use of electricity (current design is powered by a headloss of 20 cm so we want to keep that as a target for energy usage)\n",
        "4.   Error due to minor losses below 10%\n",
        "5.   Should be able to operate for plant flow rates of at least 430 L/s\n",
        "6.   Size of dose controller (length and width) should fit in plant\n",
        "7.   The dose controller should either be made out of materials available in Honduras so it can be constructed there or the cost of shipping pre-manufactured components should be reasonable\n",
        "8.   The plant operator should be able to easily change the coagulant dose\n",
        "\n",
        "\n",
        "\n",
        "\n",
        "\n",
        "\n",
        "\n",
        "\n"
      ]
    },
    {
      "cell_type": "code",
      "metadata": {
        "id": "F2_QLYucXVRZ",
        "colab_type": "code",
        "outputId": "040eefc3-b367-4e90-ab24-2ae49cf0d003",
        "colab": {
          "base_uri": "https://localhost:8080/",
          "height": 275
        }
      },
      "source": [
        "!pip install aguaclara"
      ],
      "execution_count": 0,
      "outputs": [
        {
          "output_type": "stream",
          "text": [
            "Requirement already satisfied: aguaclara in /usr/local/lib/python3.6/dist-packages (0.1.14)\n",
            "Requirement already satisfied: urllib3 in /usr/local/lib/python3.6/dist-packages (from aguaclara) (1.24.3)\n",
            "Requirement already satisfied: matplotlib==3.0.3 in /usr/local/lib/python3.6/dist-packages (from aguaclara) (3.0.3)\n",
            "Requirement already satisfied: scipy in /usr/local/lib/python3.6/dist-packages (from aguaclara) (1.3.3)\n",
            "Requirement already satisfied: pint==0.8.1 in /usr/local/lib/python3.6/dist-packages (from aguaclara) (0.8.1)\n",
            "Requirement already satisfied: pandas in /usr/local/lib/python3.6/dist-packages (from aguaclara) (0.25.3)\n",
            "Requirement already satisfied: python-dateutil>=2.1 in /usr/local/lib/python3.6/dist-packages (from matplotlib==3.0.3->aguaclara) (2.6.1)\n",
            "Requirement already satisfied: numpy>=1.10.0 in /usr/local/lib/python3.6/dist-packages (from matplotlib==3.0.3->aguaclara) (1.17.4)\n",
            "Requirement already satisfied: cycler>=0.10 in /usr/local/lib/python3.6/dist-packages (from matplotlib==3.0.3->aguaclara) (0.10.0)\n",
            "Requirement already satisfied: pyparsing!=2.0.4,!=2.1.2,!=2.1.6,>=2.0.1 in /usr/local/lib/python3.6/dist-packages (from matplotlib==3.0.3->aguaclara) (2.4.5)\n",
            "Requirement already satisfied: kiwisolver>=1.0.1 in /usr/local/lib/python3.6/dist-packages (from matplotlib==3.0.3->aguaclara) (1.1.0)\n",
            "Requirement already satisfied: pytz>=2017.2 in /usr/local/lib/python3.6/dist-packages (from pandas->aguaclara) (2018.9)\n",
            "Requirement already satisfied: six>=1.5 in /usr/local/lib/python3.6/dist-packages (from python-dateutil>=2.1->matplotlib==3.0.3->aguaclara) (1.12.0)\n",
            "Requirement already satisfied: setuptools in /usr/local/lib/python3.6/dist-packages (from kiwisolver>=1.0.1->matplotlib==3.0.3->aguaclara) (42.0.2)\n"
          ],
          "name": "stdout"
        }
      ]
    },
    {
      "cell_type": "code",
      "metadata": {
        "id": "SOiM2x8HXX2e",
        "colab_type": "code",
        "colab": {}
      },
      "source": [
        "from aguaclara.core.units import unit_registry as u\n",
        "import aguaclara as ac\n",
        "import numpy as np\n",
        "import matplotlib.pyplot as plt\n",
        "import math\n",
        "import pandas as pd"
      ],
      "execution_count": 0,
      "outputs": []
    },
    {
      "cell_type": "markdown",
      "metadata": {
        "id": "UUPicWpL_qVb",
        "colab_type": "text"
      },
      "source": [
        "**Current AguaClara Design**"
      ]
    },
    {
      "cell_type": "markdown",
      "metadata": {
        "id": "A4TT_iwLLbFg",
        "colab_type": "text"
      },
      "source": [
        "First we calculated the current number of dosing tubes given 430 L/s flow. \n",
        "Our assumptions are that the stock concentration is 180 g/L, the max stock concentration dose is 40 mg/L as PACL, the max head loss is 20 cm, temperature is 20degC and the minor loss coefficient for the dosing tubes is 3. We are currently assuming that the diameter of the dosing tubes is 1/8 in. [FCM DC](https://colab.research.google.com/github/aguaclara/CEE4520/blob/master/DC/FCM_DC.ipynb)"
      ]
    },
    {
      "cell_type": "code",
      "metadata": {
        "id": "BeXJGwKoD0nj",
        "colab_type": "code",
        "outputId": "8f742710-778b-459b-f317-92fbef543998",
        "colab": {
          "base_uri": "https://localhost:8080/",
          "height": 85
        }
      },
      "source": [
        "temp = 20* u.celsius \n",
        "c_stock = 180 * (u.g/u.L)\n",
        "dose_max = 40 * (u.mg/u.L)\n",
        "K_minor = 2\n",
        "roughness = 0\n",
        "hl = 20 * u.cm\n",
        "Q = 430 * (u.L/u.s)\n",
        "\n",
        "\n",
        "my_cdc=ac.CDC(hl=20*u.cm,q=Q,coag_dose_conc_max=dose_max,temp=temp,tube_k=K_minor,coag_stock_conc_est=c_stock)\n",
        "diam = my_cdc.coag_tube_id\n",
        "num=my_cdc.coag_tubes_active_n\n",
        "length = my_cdc.coag_tube_l\n",
        "print('The diameter would be', diam)\n",
        "print('The number of dosing tubes is', num)\n",
        "print('The length of the dosing tube is', length)\n",
        "print('The flow rate through each dosing tube is', (my_cdc._coag_tube_q_max).to(u.mL/u.s))"
      ],
      "execution_count": 0,
      "outputs": [
        {
          "output_type": "stream",
          "text": [
            "The diameter would be 0.125 inch\n",
            "The number of dosing tubes is 41 dimensionless\n",
            "The length of the dosing tube is 1.257 meter\n",
            "The flow rate through each dosing tube is 3.506 milliliter / second\n"
          ],
          "name": "stdout"
        }
      ]
    },
    {
      "cell_type": "markdown",
      "metadata": {
        "id": "W7ZTiNYkZkO1",
        "colab_type": "text"
      },
      "source": [
        "The plant would need 41 dosing tubes running at all times to handle a flow of 430 L/s and 42 tubes constructed in total. This would not make sense to implement at the plant and would be impossible for the operator to keep up with. "
      ]
    },
    {
      "cell_type": "markdown",
      "metadata": {
        "id": "mp-XmZIMex7D",
        "colab_type": "text"
      },
      "source": [
        "We checked the current code for Reynolds number constraint assuming a pipe roughness of 0.\n"
      ]
    },
    {
      "cell_type": "code",
      "metadata": {
        "id": "Ld6iPdgxgdBb",
        "colab_type": "code",
        "outputId": "8bb029ab-3074-4818-d883-278002d8fb65",
        "colab": {
          "base_uri": "https://localhost:8080/",
          "height": 34
        }
      },
      "source": [
        "nu = my_cdc.coag_stock_nu\n",
        "flow = my_cdc._coag_tube_q_max\n",
        "rey = ac.re_pipe(flow, diam, nu)\n",
        "print('The Reynolds number is', ac.round_sig_figs(rey,4))"
      ],
      "execution_count": 0,
      "outputs": [
        {
          "output_type": "stream",
          "text": [
            "The Reynolds number is 1401.0\n"
          ],
          "name": "stdout"
        }
      ]
    },
    {
      "cell_type": "markdown",
      "metadata": {
        "id": "G7ffSR9niRPv",
        "colab_type": "text"
      },
      "source": [
        "The Reynolds number is 1401 which is laminat because it is below the transition point of 2100. We want the flow in the tubes to be laminar so that there is a linear relationship between head loss and flow. The current design meets this requirement so the limiting factor is the number of dosing tubes. "
      ]
    },
    {
      "cell_type": "markdown",
      "metadata": {
        "id": "x2jCMDmKjO0F",
        "colab_type": "text"
      },
      "source": [
        "We then used a larger diameter for the coagulant tubes while keeping the head loss at 20 cm to see if increasing the diameter will improve the design. "
      ]
    },
    {
      "cell_type": "code",
      "metadata": {
        "id": "9jMf-crmkFxQ",
        "colab_type": "code",
        "outputId": "3aa4ab8a-2f8f-4cd0-9269-919ee5ca50c1",
        "colab": {
          "base_uri": "https://localhost:8080/",
          "height": 85
        }
      },
      "source": [
        "#setting the diameter to be a larger value\n",
        "large_Diam = 10 * u.mm\n",
        "\n",
        "highflow_cdc=ac.CDC(hl=hl,q=Q,coag_dose_conc_max=dose_max,temp=temp,tube_k=K_minor,coag_stock_conc_est=c_stock,coag_tube_id=large_Diam)\n",
        "print('The number of dosing tubes needed is', highflow_cdc.coag_tubes_active_n)\n",
        "print('The dosing tube length would be', highflow_cdc.coag_tube_l)\n",
        "print('The flow through each tube would be', highflow_cdc._coag_tube_q_max.to_base_units())\n",
        "\n",
        "highflow_nu = highflow_cdc.coag_stock_nu\n",
        "rey_new = ac.re_pipe(highflow_cdc._coag_tube_q_max, highflow_cdc.coag_tube_id, highflow_nu)\n",
        "print('The Reynolds number in the pipe would be', ac.round_sig_figs(rey_new,4))\n"
      ],
      "execution_count": 0,
      "outputs": [
        {
          "output_type": "stream",
          "text": [
            "The number of dosing tubes needed is 5 dimensionless\n",
            "The dosing tube length would be 15.61 meter\n",
            "The flow through each tube would be 3.478e-05 meter ** 3 / second\n",
            "The Reynolds number in the pipe would be 4413.0\n"
          ],
          "name": "stdout"
        }
      ]
    },
    {
      "cell_type": "markdown",
      "metadata": {
        "id": "TjkimocOlypf",
        "colab_type": "text"
      },
      "source": [
        "Increasing the diameter lowers the number of coagulant tubes to 5 but increases the dosing tube length to 15.6 meters which is not reasonable to implement. The length of the coagulant tubes is limited by the size of the plant. The actual length of the tubes would be longer than 15.6m because there is currently a bug in the CDC code that fails to check the Reynolds number constraint for laminar flow. In order to meet this constraint, the tubes would have to be even longer to get the desired flow. Since the tubes are already too long, using this method would not be possible for a plant of this size. In addition, the flow would be turbulent which is not desirable for the design because we want to maintain a linear relationship. Therefore, just increasing the diameter of the coagulant tubes to account for the higher flows is not enough. "
      ]
    },
    {
      "cell_type": "markdown",
      "metadata": {
        "id": "eC4hlCKIth8G",
        "colab_type": "text"
      },
      "source": [
        "Finally, we would want to update the current CDC code to correct for the Reynolds number constraint. To do this we would have to add a check within the CDC object code to check the Reynolds number within the object. We submitted a GitHub request for the addition of a Reynold's number constraint and wrote the necessary code that can be added to the CDC class:  [AguaClara GitHub](https://github.com/AguaClara/aguaclara/issues/257)"
      ]
    },
    {
      "cell_type": "markdown",
      "metadata": {
        "id": "AOjzCTua5yyH",
        "colab_type": "text"
      },
      "source": [
        "**Alternative Dosing Systems**\n",
        "\n",
        "|System|Dilution Range|Water Flow Range (LPS)|Dimensions (cm)|Weight (kg)|Weight (kg)|Operating Pressure (kPa)|Pressure loss (kPa)|Max Temp (deg C)|\n",
        "|---|---|---|---|---|---|---|---|---|\n",
        "|[Dosatron]( https://www.dosatronusa.com/d25re09/) D40WL3000NAF|.03-.125%|0.138-2.52|66.99 x 21.59|5.44|5.44|15.2-800|40-140|40|\n",
        "|[MixRite]( https://www.adtec.gr/products/en/water-powered-chemical-dosing-pump/water-powered-dosing-pump-dilution-p-2064.html) 575 Chlorine Model|3-10%|0.00556-0.694|55.6 x 16.02|1.25|1.25|20-827|100|50|\n",
        "|[Gator XL](http://www.gatorxl.com/Specifications.html.) 8001XL|0.75%, 1.0%, 1.5%, 2.0%|.00211-0.631|61 x 25|2.82|2.82|21-827|103|-|\n",
        "|[Superdos45]( https://hydrosystemseurope.com/product/superdos/) 113715GB|0.4-5%|.0158-2.78|-|-|-|40-550|-|38|\n",
        "\n",
        "\n",
        "\\\n",
        "All the dosing systems compared in the table above are variations on water powered chemical injection devices, and do not require electricity to run. However, they operate with much smaller flowrates than the Aguaclara dosing controller, with the maximum flowrate of 2.78 liters/second handled by the Superdos45 system. In water treatment applications, these dose controllers require a bypass system, where a percentage of the flow is directed into the chemical injection unit. For a 430 L/s plant, this percentage would range from approximately .1-.6% of the plant flow rate. The concentration is diluted from stock concentration when injected into the diverted flow and then mixed back into the rest of the flow downstream to give the desired coagulant or chlorine dosage. Separate dose controllers would be required for chlorine and coagulant. As creating the bypass creates added construction cost and diverting the flow so that the dosage remains proportional to the overall plant flowrate is not a trivial challenge, these systems do not seem like feasible alternatives to Aguaclara’s dose controller. However, if one of the above systems were to be chosen, the MixRite system has the largest dilution range out of all the systems, giving the plant operator’s greatest control over chemical dosing. Another important consideration would be the head loss going through the dose controller, represented in the chart by the pressure loss through their respective systems. The aguaclara system currently operates with about 20 cm of headloss, which corresponds to a pressure loss of 1.9 kPa (calculations below). The alternative systems with pressure loss available require almost 100 times more head to operate. This high energy requirement is not feasible in aguaclara plants."
      ]
    },
    {
      "cell_type": "code",
      "metadata": {
        "id": "8_ssSvaQ-DNL",
        "colab_type": "code",
        "outputId": "aba7706e-f54d-4c31-c644-03e96bc0becf",
        "colab": {
          "base_uri": "https://localhost:8080/",
          "height": 34
        }
      },
      "source": [
        "#Calculating pressure drop through CDC\n",
        "temp_min=10*u.celsius\n",
        "average_hl= 20*u.cm\n",
        "CDC_pressure_drop= average_hl*ac.density_water(temp_min)*ac.gravity\n",
        "print(\"The pressure drop through AguaClara's dose controller is\",CDC_pressure_drop.to(u.kilopascal))"
      ],
      "execution_count": 0,
      "outputs": [
        {
          "output_type": "stream",
          "text": [
            "The pressure drop through AguaClara's dose controller is 1.961 kilopascal\n"
          ],
          "name": "stdout"
        }
      ]
    },
    {
      "cell_type": "markdown",
      "metadata": {
        "id": "YuVDOMIGip-O",
        "colab_type": "text"
      },
      "source": [
        "**Summary of Current CDC Failures**\n",
        "\n",
        "The current CDC design is not feasible for larger plants with larger flows. The number of tubes that the current design proposes for this flow is 41 tube which would be too many for the operator to manage since the tubes will need to be cleaned regularly as they can clog. When we increased the diameter to be larger, the flow through the dosing tubes became turbulent. Since we want the relationship between headloss and flow to be linear, we cannot have turbulent flow through these tubes. Therefore, the current design is not viable for a 430 L/s flow.  \n",
        "\n",
        "We looked into commercially available alternative dosing systems but they all required the addition of a bypass system so that only a portion of the flow goes through the device at a time. Adding in a bypass system would be costly and require changes to the plant infrastructure which is not ideal. Finally, the high energy requirements of these devices make them unattractive for use in AguaClara plants.\n",
        "\n",
        "Based on these failures, we have to reconsider various aspects of the current CDC design that would need to be changed for higher flow rates. This includes sizing the float valves for larger flows, changing the dimensions of the CDC tubing, implementing a new geometry for how the coagulant tubes are arranged and changing the size of the float to balance the dosing meter. "
      ]
    },
    {
      "cell_type": "markdown",
      "metadata": {
        "id": "1dySdvBsFt4C",
        "colab_type": "text"
      },
      "source": [
        "**Float Valve Sizing:**\n",
        "\\\n",
        "A float valve should be able to produce the max dosage at a minimum headloss of 30 cm. From the [FCM DC](https://colab.research.google.com/github/aguaclara/CEE4520/blob/master/DC/FCM_DC.ipynb), the max coagulant dose is 40 mg/L and the stock concentration is 180 g/L\n",
        "\n",
        "Standard diameters of float valve orifices were found [here](http://www.cdivalve.com/brands/kerick-valve).  Kerick valves were used because they are chlorine resistent.\n",
        "\n",
        "Instead of the pressure constraints given by the float valve manufacturer, we used the orifice equation to determine the flow rate through the valve as the pressure in our system is always much less than the pressures the float valves are design to handle.\n",
        "\n",
        "[Orifice Equation](https://aguaclara.github.io/Textbook/Review/Review_Fluid_Mechanics.html#equation-orifice-equation):\n",
        "$$Q = \\Pi_{vc} A_{or} \\sqrt{2g\\Delta h}$$"
      ]
    },
    {
      "cell_type": "code",
      "metadata": {
        "id": "WB4xd2NN_Gn0",
        "colab_type": "code",
        "outputId": "c783f9f4-5370-4ad7-fe52-23a2a64cd771",
        "colab": {
          "base_uri": "https://localhost:8080/",
          "height": 346
        }
      },
      "source": [
        "delta_h=30*u.cm\n",
        "Q_plant= np.linspace(0,7000,num=100)*(u.L/u.s)\n",
        "def diam_float(Q_plant,dose_max,c_stock,delta_h):\n",
        "#returns standard float valve sizing in inches.  If flow is too great for standard sizing, returns -1\n",
        "  Q_stock=(Q_plant*dose_max)/c_stock\n",
        "  diam_min=((2*np.sqrt(Q_stock/(ac.VC_ORIFICE_RATIO*np.pi*np.sqrt(2*ac.gravity*delta_h)))).to(u.inch)).magnitude\n",
        "  diam_standard=[3/8,1/2,3/4,1,1.25,1.5]*u.inch\n",
        "  diam=-1*u.inch\n",
        "  for i in range(0,6):\n",
        "    if diam.magnitude == -1:\n",
        "      if diam_min < diam_standard[i].magnitude:\n",
        "        diam=diam_standard[i]\n",
        "  return diam\n",
        "f_size=np.zeros(100)*u.inch\n",
        "for i in range(0,100):\n",
        "  f_size[i]=diam_float(Q_plant[i],dose_max,c_stock,delta_h)\n",
        "\n",
        "plt.plot(Q_plant,f_size)\n",
        "plt.xlabel(\"Flow Rate (L/s)\", fontsize=15)\n",
        "plt.ylabel(\"Float Valve Diameter (in)\", fontsize=15)\n",
        "plt.title(\"Float Valve Sizing vs Flow rate\", fontsize=25)\n",
        "\n",
        "#calculate exact flow rate when you need to change to a 1 in float valve\n",
        "d_small=1*u.inch\n",
        "Q_stock_big=ac.VC_ORIFICE_RATIO*np.pi*(d_small/2)**2*np.sqrt(2*ac.gravity*delta_h)\n",
        "Q_plant_big=(Q_stock_big*c_stock)/dose_max\n",
        "print(\"You need to change to a 1 in float valve when the plant flow rate goes above\", Q_plant_big.to(u.L/u.s))"
      ],
      "execution_count": 0,
      "outputs": [
        {
          "output_type": "stream",
          "text": [
            "You need to change to a 1 in float valve when the plant flow rate goes above 3485 liter / second\n"
          ],
          "name": "stdout"
        },
        {
          "output_type": "display_data",
          "data": {
            "image/png": "[encoded data removed]",
            "text/plain": [
              "<Figure size 432x288 with 1 Axes>"
            ]
          },
          "metadata": {
            "tags": []
          }
        }
      ]
    },
    {
      "cell_type": "markdown",
      "metadata": {
        "colab_type": "text",
        "id": "gU0Cvw8r81ZK"
      },
      "source": [
        "**CDC Tubing Design:**\n",
        "\n",
        "With a higher flow rate, the headloss through the additional tubing that delivers the chemical to and from the dosing tubes must be kept to less than 1 cm (5% of the 20 cm design headloss through the dosing tubes).  This includes the long straight tube bringing the chemical from the constant head tank to the dosing tubes, the rigid tube bringing the chemical from the dosing tubes to the meter, the flexible tubing attached to the meter that allows the plant operator to move the dosing meter, and the tubing that brings the chemical from the bottom of the drop tube to the LFOM.    \n",
        "\n",
        "The dimensions of L1 and L2, as labeled in the image below, are estimated as 1.5m and 0.5m, although this would change based on where and how the CDC is installed in a particular plant. The straight, larger pipe lenghth is 2*L1, accounting for the piping on both sides of the dosing tubes, and the flexible tubing is 0.5 m long to give enough slack to allow the tubing to move up and down the 0.5 m long dosing meter. Flow through the drop tube is open channel to make sure the height of water in the LFOM does not feed back into the CDC flow so the only other pipe flow is through the one delivering the chemical from the bottom of the drop tube to the LFOM, which is a length of L2.  This design uses the same diameter flexible tubing as the rigid pipe to minimize headloss from an unneccessary flow contraction.  Additionally, all tubing is made out of pvc to ensure chlorine resistance.\n",
        "\n",
        "![alt text](https://github.com/eb562/Final-Design-Project/blob/master/CDC%20tubing%20diagram.PNG?raw=true)\n",
        "\n",
        "The fluid makes one 180 degree bend going from the rigid to the flexible tubing, which gives a conservative estimate of the minor loss coefficient of 1.5 ([Engineering Toolbox](https://www.engineeringtoolbox.com/minor-loss-coefficients-pipes-d_626.html)). The k-values to exit into the drop tube and then enter into the last pipe are both estimated as 1 giving a total minor loss coeficient of 3.5. The minor losses of the fluid entering and exiting the dosing tubes is included in the k-value for the dosing tube design."
      ]
    },
    {
      "cell_type": "markdown",
      "metadata": {
        "id": "Er3m9xnvtCeK",
        "colab_type": "text"
      },
      "source": [
        "**Set Plant Flow Rate**"
      ]
    },
    {
      "cell_type": "code",
      "metadata": {
        "id": "Rn1iqDUl5bLR",
        "colab_type": "code",
        "outputId": "b997e82f-947b-43df-9c61-9df7596cbea6",
        "colab": {
          "base_uri": "https://localhost:8080/",
          "height": 54
        }
      },
      "source": [
        "Q_plant_design=430*u.L/u.s\n",
        "Q_stock_design= (Q_plant_design*dose_max)/c_stock\n",
        "print(\"The total flow rate that will go through all the dosing tubes is calculated and names as Q_stock_design, which is\",Q_stock_design.to(u.ml/u.s))"
      ],
      "execution_count": 0,
      "outputs": [
        {
          "output_type": "stream",
          "text": [
            "The total flow rate that will go through all the dosing tubes is calculated and names as Q_stock_design, which is 44.44 milliliter / second\n"
          ],
          "name": "stdout"
        }
      ]
    },
    {
      "cell_type": "markdown",
      "metadata": {
        "id": "Bz6iyI5XTE2X",
        "colab_type": "text"
      },
      "source": [
        "The total flow rate that will go through all the dosing tubes is calculated and names as Q_stock_design, which is 95.56 ml/sec. "
      ]
    },
    {
      "cell_type": "code",
      "metadata": {
        "id": "SdGQb1hE87oK",
        "colab_type": "code",
        "outputId": "e0790ede-1ae1-478e-f73a-962fc257a4d0",
        "colab": {
          "base_uri": "https://localhost:8080/",
          "height": 34
        }
      },
      "source": [
        "L1=1.5*u.m\n",
        "L2=0.5*u.m\n",
        "L_meter=0.5*u.m\n",
        "\n",
        "L_total=2*L1+L2+L_meter\n",
        "k_tubing=3.5\n",
        "temp_min=10*u.celsius\n",
        "hl_constraint=.05*20*u.cm\n",
        "nu_max=ac.viscosity_kinematic(temp_min)\n",
        "\n",
        "\n",
        "diam_piping=ac.diam_pipe(Q_stock_design,hl_constraint,L_total,nu_max,roughness,k_tubing)\n",
        "print(\"The diameter of the piping for a plant low rate of\",Q_plant_design,\"is\",diam_piping.to(u.cm))\n"
      ],
      "execution_count": 0,
      "outputs": [
        {
          "output_type": "stream",
          "text": [
            "The diameter of the piping for a plant low rate of 200 liter / second is 2.043 centimeter\n"
          ],
          "name": "stdout"
        }
      ]
    },
    {
      "cell_type": "markdown",
      "metadata": {
        "id": "e-hPMZUP48Qg",
        "colab_type": "text"
      },
      "source": [
        "**New Dosing Tube Geometry**"
      ]
    },
    {
      "cell_type": "markdown",
      "metadata": {
        "id": "wJEsdrUDTbzP",
        "colab_type": "text"
      },
      "source": [
        "We proposed several plans to reach desired headloss (20 cm) with resonable costs and dimensions. \n",
        "\n",
        "Plan A is to have a big PVC pipe filled with multiple smaller and flexible PVC tubes (see diagram below). Since the smaller PVC tubes are flexible, the voids in between small tubes can be neglected during calculation. The thickness of the selected PVC tube is 1/16 inches. This is one of the thinnest PVC tubes we can find on market that meet the length requirement. Although straws are thinner, we can not find long enough (more than 1 m) straws with thin walls on market. We thus stayed with the 1/8'' inner diameter, 1/4'' outer diameter and 1/16'' thickness PVC pipe. The price of the small tubes is also relatively cheap. For 50 ft of 1/8'' x 1/4'' tubes, the cost is $33.6. The link below shows one possible purchase choice.\n",
        "\n",
        "https://www.coleparmer.com/i/cole-parmer-pvc-tubing-1-8-x-1-4-50-ft-pk/9660501?PubID=UX&persist=true&ip=no&gclid=EAIaIQobChMI2pv7lO355QIVEz0MCh3HKQBzEAkYAiABEgJaz_D_BwE\n",
        "\n",
        "![alt text](https://github.com/eb562/Final-Design-Project/blob/master/CDC%20cross%20section%201.JPG?raw=true)\n",
        "\n",
        "Plan B is to have a PVC pipe with dividers inside. However, this kind of pipe can be hardly found on the market.\n",
        "\n",
        "![alt text](https://github.com/eb562/Final-Design-Project/blob/master/CDC%20cross%20section%202.JPG?raw=true)\n",
        "\n",
        "Plan C is to use reticulated foam. After checking the price of reticulated foam, we realize that this option will be too pricy compared to plan A. The link below shows one possible purchase choice.\n",
        "\n",
        "https://cleverbrand.com/products/reticulated-foam-sheets-12-wide-x-4-ft-long?gclid=EAIaIQobChMI05fH-Mj55QIVgZ6zCh0mSQWMEAAYASAAEgI_rPD_BwE\n",
        "\n",
        "\n",
        "Overall, plan A is the easiest and cheapest way to reach desired headloss. We thus make designs and calculations based on plan A. \n",
        "\n",
        "We first calculated the flow rate within each smaller tube based on inner diameter of small tube and the desired headloss. \n",
        "\n",
        "For calculation purpose, we assume coefficient of minor loss to be 2 (1 for entrance and 1 for exit). We understand that if we use reducer to connect from bigger pipes to smaller pipes, there would be vena contracta, which will change the value of coefficient of minor loss. However, it's hard for us to quantify the value, so for the calculations below, we stay with using 2 as the value. \n",
        "\n",
        "The equation we used here to calculate the flow rate within each small tube based on desired headloss is:\n",
        "\n",
        "$$Q_{Max, \\, Tube} = \\frac{\\pi D^2}{4} \\sqrt{\\frac{2 h_L g \\Pi_{Error}}{\\sum{K} }}$$\n"
      ]
    },
    {
      "cell_type": "code",
      "metadata": {
        "id": "KA5MVD6lJCqv",
        "colab_type": "code",
        "outputId": "c3356b68-0caf-47a3-b9d4-44664b2b4e32",
        "colab": {
          "base_uri": "https://localhost:8080/",
          "height": 122
        }
      },
      "source": [
        "# Plan No.1: inner diameter of the small tube is 1/8 inches\n",
        "#smaller tube inner diameter = sm_inner\n",
        "SDR =35\n",
        "\n",
        "sm_inner = 1/8 * u.inch\n",
        "error = 0.1\n",
        "g= ac.gravity\n",
        "KMinor=2\n",
        "hl_design = 20 *u.cm\n",
        "Q_max_tube = (math.pi * sm_inner **2 / 4 ) * np.sqrt(2* hl_design *g* error) /np.sqrt(KMinor)\n",
        "print('According to headloss constraint, the flow rate that go through each small tube with 1/8 inches inner diameter is',Q_max_tube.to(u.ml/u.s))\n",
        "\n",
        "\n",
        "A_1_8 = math.pi * (sm_inner / 2) ** 2\n",
        "Velocity_1_8 = Q_max_tube / A_1_8\n",
        "print ('The unadjusted velocity of the fluid inside the small tubes with 1/8 inches inner diameter is', Velocity_1_8.to(u.m/u.s))\n",
        "Re_1_8 = ac.density_water(temp_min) * Velocity_1_8 * sm_inner / ac.viscosity_dynamic (temp_min)\n",
        "print('The unadjusted Reynolds number for 1/8 inches diameter is', Re_1_8.to_base_units())\n",
        "\n",
        "if Re_1_8 > 2100:\n",
        "  Velocity_1_8 = 2100/ac.density_water(temp_min)/new_sm_inner*ac.viscosity_dynamic (temp_min)\n",
        "  print('The adjusted velocity that fits laminar constraint is', Velocity_1_8.to(u.m/u.s))\n",
        "  Q_max_tube = Velocity_1_8* A_1_8\n",
        "  print('The adjusted flow rate inside small tubes that fits laminar constraint is', Q_max_tube.to(u.ml/u.s))\n",
        "\n",
        "n_tubes = np.ceil(Q_stock_design/Q_max_tube)\n",
        "n=np.ceil(n_tubes.to_base_units()) #number of smaller tubes = n\n",
        "print('The number of small tubes with 1/8 inches diameter needed is', n)\n",
        "print('The calculated number of tubes is different from previous section because instead of using the flow rate of the plant, 430 L/sec, we used the flow rate of the design stock, which is 95.56 ml/sec.')\n"
      ],
      "execution_count": 0,
      "outputs": [
        {
          "output_type": "stream",
          "text": [
            "According to headloss constraint, the flow rate that go through each small tube with 1/8 inches inner diameter is 3.506 milliliter / second\n",
            "The unadjusted velocity of the fluid inside the small tubes with 1/8 inches inner diameter is 0.4429 meter / second\n",
            "The unadjusted Reynolds number for 1/8 inches diameter is 1082 dimensionless\n",
            "The number of small tubes with 1/8 inches diameter needed is 13 dimensionless\n",
            "The calculated number of tubes is different from previous section because instead of using the flow rate of the plant, 430 L/sec, we used the flow rate of the design stock, which is 95.56 ml/sec.\n"
          ],
          "name": "stdout"
        }
      ]
    },
    {
      "cell_type": "code",
      "metadata": {
        "id": "OCwQ5gBDhZVp",
        "colab_type": "code",
        "outputId": "8be5ddc7-b9da-4737-c8c6-e8cd00b29601",
        "colab": {
          "base_uri": "https://localhost:8080/",
          "height": 139
        }
      },
      "source": [
        "#now we check out a different diameter for the smaller inner diameter of the tubes to compare the two plans.\n",
        "#plan No.2: inner diameter of the small tube is 1/4 inches\n",
        "new_sm_inner = 1/4 * u.inch\n",
        "new_Q_max_tube = (math.pi * new_sm_inner **2 / 4 ) * np.sqrt(2* hl_design *g* error) /np.sqrt(KMinor)\n",
        "\n",
        "print('According to equation that check headloss constraint, the flow rate that go through each small tube with 1/4 inches inner diameter is',new_Q_max_tube.to(u.ml/u.s))\n",
        "A_1_4 = math.pi * (new_sm_inner / 2) ** 2\n",
        "Velocity_1_4 = new_Q_max_tube / A_1_4\n",
        "print ('The unadjusted velocity of the fluid inside the small tubes with 1/4 inches inner diameter is', Velocity_1_4.to(u.m/u.s))\n",
        "\n",
        "Re_1_4 = ac.density_water(temp_min) * Velocity_1_4 * new_sm_inner / ac.viscosity_dynamic (temp_min)\n",
        "print('The unadjusted Reynolds number for 1/4 inches diameter is', Re_1_4.to_base_units(), ', which is greater than the laminar flow constraint of Reynolds number (2100), so we need to adjust velocity based on Reynolds number constraint.')\n",
        "\n",
        "if Re_1_4 > 2100:\n",
        "  Velocity_1_4 = 2100/ac.density_water(temp_min)/new_sm_inner*ac.viscosity_dynamic (temp_min)\n",
        "  print('The adjusted velocity that fits laminar constraint is', Velocity_1_4.to(u.m/u.s))\n",
        "  new_Q_max_tube = Velocity_1_4* A_1_4\n",
        "  print('The adjusted flow rate inside small tubes that fits laminar constraint is', new_Q_max_tube.to(u.ml/u.s))\n",
        "\n",
        "new_n_tubes = np.ceil(Q_stock_design/new_Q_max_tube)\n",
        "new_n=np.ceil(new_n_tubes.to_base_units()) #number of smaller tubes = n\n",
        "print('The number of small tubes with 1/4 inches diameter needed is', new_n)"
      ],
      "execution_count": 0,
      "outputs": [
        {
          "output_type": "stream",
          "text": [
            "According to equation that check headloss constraint, the flow rate that go through each small tube with 1/4 inches inner diameter is 14.03 milliliter / second\n",
            "The unadjusted velocity of the fluid inside the small tubes with 1/4 inches inner diameter is 0.4429 meter / second\n",
            "The unadjusted Reynolds number for 1/4 inches diameter is 2163 dimensionless , which is greater than the laminar flow constraint of Reynolds number (2100), so we need to adjust velocity based on Reynolds number constraint.\n",
            "The adjusted velocity that fits laminar constraint is 0.4299 meter / second\n",
            "The adjusted flow rate inside small tubes that fits laminar constraint is 13.61 milliliter / second\n",
            "The number of small tubes with 1/4 inches diameter needed is 4 dimensionless\n"
          ],
          "name": "stdout"
        }
      ]
    },
    {
      "cell_type": "markdown",
      "metadata": {
        "id": "cvDbV2OdYXYs",
        "colab_type": "text"
      },
      "source": [
        "After figuring out above numbers, we need to calculate the minimum length of dosing tubes to reach desired headloss."
      ]
    },
    {
      "cell_type": "code",
      "metadata": {
        "id": "gSUkumqjNYdE",
        "colab_type": "code",
        "outputId": "21d13bd4-b8d7-4c01-be81-d7cddb1c21e3",
        "colab": {
          "base_uri": "https://localhost:8080/",
          "height": 71
        }
      },
      "source": [
        "#L_min: minimum length of dosing tubes\n",
        "L_min = (g*hl_design * math.pi * sm_inner ** 4)/(128* nu_max* Q_max_tube) - (Q_max_tube/(16 * math.pi * nu_max)*KMinor)\n",
        "print('The minimum length of the dosing tube with 1/8 inches as small inner diameter is', L_min.to(u.m))\n",
        "\n",
        "new_L_min = (g*hl_design * math.pi * new_sm_inner ** 4)/(128* nu_max* new_Q_max_tube) - (new_Q_max_tube/(16 * math.pi * nu_max)*KMinor)\n",
        "print('The minimum length of the dosing tube with 1/4 inches as small inner diameter is', new_L_min.to(u.m))\n"
      ],
      "execution_count": 0,
      "outputs": [
        {
          "output_type": "stream",
          "text": [
            "The minimum length of the dosing tube with 1/8 inches as small inner diameter is 0.9659 meter\n",
            "The minimum length of the dosing tube with 1/4 inches as small inner diameter is 4.006 meter\n"
          ],
          "name": "stdout"
        }
      ]
    },
    {
      "cell_type": "markdown",
      "metadata": {
        "id": "sb-hhWweaeSK",
        "colab_type": "text"
      },
      "source": [
        "From the calculations above, we can see that, according to equation for headloss constraint, the calculated Reynolds number for 1/4 inches diameter case is greater than the laminar flow constraint. Thus we needed to adjust the velocity. \n",
        "\n",
        "With adjusted velocity and adjusted flow rate within tubes, we calculated the minimum required length for 1/4 inches diameter tubes, which is much longer than that of 1/8 inches. \n",
        "\n",
        "We thus conclude that it's not worth to go with 1/4 inches or bigger for small tubes. 1/8 inches is a decent choice for inner diameters of small tubes. \n",
        "\n",
        "After choosing the inner diameter of the small tubes, we want to see what is the inner diameter of the big pipe we should choose. \n",
        "\n",
        "We want at least two big pipes so we can adjust valve and shut down one of them during low flow rate time period. We also want one additional pipe as backup so the two-pipe system can keep going when we take down one pipe for cleaning. We thus determine that we will need at least 3 big pipes to start with. We want to choose a big pipe size that works for above constraints and settle with it. When the total flow rate for the plant increase, we will increase the number of big pipes. "
      ]
    },
    {
      "cell_type": "code",
      "metadata": {
        "id": "prtK8YMK7HbP",
        "colab_type": "code",
        "outputId": "9d4296c7-0d63-437c-da84-d939a26c3cf4",
        "colab": {
          "base_uri": "https://localhost:8080/",
          "height": 139
        }
      },
      "source": [
        "\n",
        "#smaller tube outer diameter = sm_outer\n",
        "#big tube inner diameter = big_ID\n",
        "#All assumptions below are based on 430 L/s flow rate for us to first decide an inner diameter for the big pipe. \n",
        "\n",
        "sm_outer = 1/4 * u.inch\n",
        "Area_small = math.pi * (sm_outer/2) **2\n",
        "proposed_Area_big = np.ceil(n/3)* Area_small\n",
        "proposed_big_inner= np.sqrt(proposed_Area_big / math.pi) * 2\n",
        "print('The proposed inner diameter of the big pipe should be at least', proposed_big_inner)\n",
        "\n",
        "print('Available inner diameter of manufactured pipes:', ac.ID_SDR_all_available(35).magnitude)\n",
        "# The closest inner diameter available is 0.792 inches. Thus we choose all our big pipes to be 0.792 inches as inner diameter:\n",
        "\n",
        "big_ID = 0.792 * u.inch\n",
        "Area_big = math.pi * (big_ID/2)**2\n",
        "number_in_each_pipe = Area_big / Area_small\n",
        "print('The big pipe each can hold at most', number_in_each_pipe, 'smaller pipes, which fits our design idea of having 3 big pipes at 430 L/s flow rate to start with.')\n",
        "\n",
        "number_of_big_pipe = np.ceil(n/number_in_each_pipe)\n",
        "if n > 30:\n",
        "  number_of_big_pipe = np.ceil(n/10)\n",
        "\n",
        "print('Number of big pipe needed is', number_of_big_pipe)\n",
        "\n",
        "\n",
        "\n"
      ],
      "execution_count": 0,
      "outputs": [
        {
          "output_type": "stream",
          "text": [
            "The proposed inner diameter of the big pipe should be at least 0.559 inch\n",
            "Available inner diameter of manufactured pipes: [ 0.792       1.23985714  1.79142857  2.23928571  3.3         4.24285714\n",
            "  6.24642857  8.13214286 10.13571429 12.02142857 15.08571429 16.97142857\n",
            " 22.62857143 28.28571429 33.94285714 45.25714286 56.57142857 67.88571429]\n",
            "The big pipe each can hold at most 10.04 dimensionless smaller pipes, which fits our design idea of having 3 big pipes at 430 L/s flow rate to start with.\n",
            "Number of big pipe needed is 2 dimensionless\n"
          ],
          "name": "stdout"
        }
      ]
    },
    {
      "cell_type": "markdown",
      "metadata": {
        "id": "0PwjiRFCYxGE",
        "colab_type": "text"
      },
      "source": [
        "We plug all the numbers back into the Aguaclara headloss functions to see if the designs we made so far would let us reach our desired headloss."
      ]
    },
    {
      "cell_type": "code",
      "metadata": {
        "id": "qh3Yuz817MAk",
        "colab_type": "code",
        "outputId": "22fe34a6-2687-477b-a97d-c7a839adc786",
        "colab": {
          "base_uri": "https://localhost:8080/",
          "height": 105
        }
      },
      "source": [
        "#This section is to check if our design works\n",
        "\n",
        "Roughness = 0 \n",
        "\n",
        "flow_rate = Q_max_tube \n",
        "length = L_min \n",
        "\n",
        "#major headloss from one small tube:\n",
        "major_headloss = ac.headloss_fric(flow_rate, sm_inner,length,nu_max, Roughness)\n",
        "print ('Major headloss from one small tube is',ac.round_sig_figs(major_headloss, 4))\n",
        "\n",
        "\n",
        "#minor headloss from one small tube:\n",
        "minor_headloss = ac.headloss_exp(flow_rate, sm_inner,KMinor)\n",
        "print ('Minor headloss from one small tube is',ac.round_sig_figs(minor_headloss, 3))\n",
        "print('After calculation, the total headloss matches our desired headloss, which is 20 cm.')\n",
        "\n",
        "#compare if the length of the dosing tube is shorter than the flocculator\n",
        "myF = ac.Flocculator(q=Q_plant_design)\n",
        "print('The length of the first channel occupied by the entrance tank is',myF.ent_l,', which is longer than the length of the dosing tube. So our design will work.')\n",
        "#compare in text box"
      ],
      "execution_count": 0,
      "outputs": [
        {
          "output_type": "stream",
          "text": [
            "Major headloss from one small tube is 0.18 meter\n",
            "Minor headloss from one small tube is 0.02 meter\n",
            "After calculation, the total headloss matches our desired headloss, which is 20 cm.\n",
            "The length of the first channel occupied by the entrance tank is 1.5 meter , which is longer than the length of the dosing tube. So our design will work.\n"
          ],
          "name": "stdout"
        }
      ]
    },
    {
      "cell_type": "markdown",
      "metadata": {
        "id": "3mc-wcZHZ6KS",
        "colab_type": "text"
      },
      "source": [
        "We want to have an rough estimation on the cost of our small tubes to make sure the price is reasonable. We used the price from an online vendor to make the calculation. The link was posted above. "
      ]
    },
    {
      "cell_type": "code",
      "metadata": {
        "id": "mf9Pwld07srP",
        "colab_type": "code",
        "outputId": "6effcf94-32b8-40d6-8a00-0f739a93f525",
        "colab": {
          "base_uri": "https://localhost:8080/",
          "height": 51
        }
      },
      "source": [
        "#cost calculator for small tubes\n",
        "total_price = 33.6 *u.dollar\n",
        "tube_length = 50 *u.ft #from the vendor\n",
        "\n",
        "unit_price = total_price / tube_length\n",
        "print('Unit price of smaller tube is',unit_price)\n",
        "total_length = n * L_min\n",
        "\n",
        "#total cost for all small tubes is:\n",
        "total_cost_sm_tube = total_length * unit_price\n",
        "print('Total cost for all smaller tubes is',total_cost_sm_tube.to(u.dollar))"
      ],
      "execution_count": 0,
      "outputs": [
        {
          "output_type": "stream",
          "text": [
            "Unit price of smaller tube is 0.672 dollar / foot\n",
            "Total cost for all smaller tubes is 27.68 dollar\n"
          ],
          "name": "stdout"
        }
      ]
    },
    {
      "cell_type": "markdown",
      "metadata": {
        "id": "9wvQRPDUbIu4",
        "colab_type": "text"
      },
      "source": [
        "After calculation, we can conclude that plan A is feasible and the cost is reasonable. "
      ]
    },
    {
      "cell_type": "markdown",
      "metadata": {
        "id": "kypYXg6PE6Ww",
        "colab_type": "text"
      },
      "source": [
        "**Float sizing**\n",
        "\n",
        "The size of the float depends on the difference in torque applied by the flexible tubing when the dosage is set to the minimum and maximum positions on the meter.  The diagram below shows the force balance on the float.  We want to design the float so that it only moves 1 cm up or down (shift) in the water when going from the two extreme positions.  If we attach the drop tube to the side of the entrance tank, the weight of the tubing only consists of the 0.5m flexible tubing and the water inside that tube.  The green ticks in the diagram below indicate where the tubing is attached.\n",
        "\n",
        "Difference in Torque applied by the tubing is:\n",
        "$$\\Delta T_{T}=Weight_{tubing}*L_{meter}$$\n",
        "This assumes that when the dose is set to 0, the weight of the tubing is applied at the fulcrum so it exerts no torque.\n",
        "\n",
        "The Difference in Torque applied by the changing bouyancy force is:\n",
        "$$\\Delta T_{B}=shift*\\pi r_{float}^{} 2*\\rho _{water}g*L_{meter}$$\n",
        "\n",
        "Set these two torques equal to eachother to solve for the required radius of the float.\n",
        "\n",
        "The resultant equation for the radius is:\n",
        "$$r_{float}=(\\frac{W_{tubing}}{shift*\\Pi *\\rho _{water}*g})^{1/2}$$\n",
        "\n",
        "\\\n",
        "Low Dosage:\n",
        "![alt text](https://raw.githubusercontent.com/eb562/Final-Design-Project/master/Float%20balance%20low%20dosage.PNG)\n",
        "\n",
        "High Dosage:\n",
        "![alt text](https://raw.githubusercontent.com/eb562/Final-Design-Project/master/Float%20Force%20Balance%20high%20dosage.png)\n",
        "\n",
        "The density of PVC is approximately 1.3 g/cm^3 ([Omnexus](https://omnexus.specialchem.com/selection-guide/polyvinyl-chloride-pvc-plastic))\n",
        "\n",
        "The float is modeled as a cylinder.  The below calculations give the required radius of the float.\n"
      ]
    },
    {
      "cell_type": "code",
      "metadata": {
        "id": "ULyRMs4DE8rP",
        "colab_type": "code",
        "outputId": "3f4e0897-eeb2-4ca6-f256-3acb5f71ba47",
        "colab": {
          "base_uri": "https://localhost:8080/",
          "height": 34
        }
      },
      "source": [
        "SDR=35 #arbitrary SDR chosen\n",
        "dens_pvc=1.3*u.g/u.cm**3\n",
        "shift=1*u.cm\n",
        "volume_pvc=L_meter*np.pi*(ac.OD(ac.ND_SDR_available(diam_piping,SDR))**2-(diam_piping**2))\n",
        "weight_pvc=volume_pvc*dens_pvc*ac.gravity\n",
        "weight_water=L_meter*np.pi*diam_piping**2*ac.density_water(temp_min)*ac.gravity\n",
        "weight_total=weight_water+weight_pvc\n",
        "r_float=np.sqrt((weight_total)/(shift*np.pi*ac.density_water(temp_min)*ac.gravity))\n",
        "print(\"The required radius of the float is\", r_float.to(u.cm))"
      ],
      "execution_count": 0,
      "outputs": [
        {
          "output_type": "stream",
          "text": [
            "The required radius of the float is 25.74 centimeter\n"
          ],
          "name": "stdout"
        }
      ]
    },
    {
      "cell_type": "markdown",
      "metadata": {
        "id": "mVWg2jS36O2w",
        "colab_type": "text"
      },
      "source": [
        "**Pipe Connections**\n",
        "\n",
        "All pipe connections and tubing must be chlorine resistant.  Each pipe in the CDC must be easily taken apart for cleaning.\n",
        "\n",
        "\\\n",
        "To connect the rigid to flexible tubing attached to the dosing meter, we use a barbed fitting with a larger diameter than the inner diameter of the pipe to reduce minor losses from the flow expansion.  This is how the flexible tubing is connected in the current CDC\n",
        "\n",
        "\\\n",
        "To connect the auxilary piping to the dosing tubes, we need a t-connector and a reducer to go from the larger sized auxilary piping to the smaller sized dosing tubes.  Additionally, we need to add a valve after the reducer so that we can turn off the flow through the dosing tube to remove it for cleaning.  All comercially available pvc valves that we have found have an o-ring made out of EPDM, which is moderately chlorine resistant.  Chlorine resistant connections that may be used for the design are included below.  The size required depends on plant flow rate.  \n",
        "\n",
        "Reducer: https://www.mcmaster.com/4415k393\n",
        "\n",
        "T-connector: https://www.mcmaster.com/4415k333\n"
      ]
    },
    {
      "cell_type": "markdown",
      "metadata": {
        "id": "TvW_OJ-pfJUX",
        "colab_type": "text"
      },
      "source": [
        "**Conclusion**\n",
        "\n",
        "Since the current CDC design would require 41 dosing tubes for a 430 L/s plant, we determined that a new geometry was required for the dosing tubes for high flow rate plants to prevent an unfeasible amount of connections.  This new geometry would consist of small 1/8th diameter tubes being inserted into a larger diameter tube so that the required major head loss and reynolds number constraints were met inside the small tubes but the only required connections are for the larger tubes that housed them.  We chose the size of the larger tube to give us 3 dosing tube units at 430 L/s so that one tube may be taken offline and cleaned while the others continued to operate.  This new geometry works for flow rates of from 200 L/s up to 2000 L/s, where the number of dosing tube units reaches 13 and again begins to become unreasonable.  For flow rates smaller than 200 L/s, only one dosing tube unit would be needed, and having only one large tube is not a very robust design.  \n",
        "\n",
        "\n",
        "The size of the float becomes unweildly at a lower flowrate than the maximum for the new dosing tube geometry, reaching a radius of 35 cm at 1000 L/s.  This would take up over 50% of the 1 m wide entrance tank.  The size of the float may be reduced by implementing a pully system from the ceiling that exactly counterbalances the weight of the tubing.  Further considerations to minimize float size is recommended."
      ]
    },
    {
      "cell_type": "markdown",
      "metadata": {
        "id": "M36h8Ogq4Eyt",
        "colab_type": "text"
      },
      "source": [
        "Citations\n",
        "\n",
        "AguaClara Textbook https://aguaclara.github.io/Textbook/index.html\n",
        "\n",
        "Adtec-Zerowaste. (n.d.). Retrieved from https://www.adtec.gr/products/en/water-powered-chemical-dosing-pump/water-powered-dosing-pump-dilution-p-2064.html.\n",
        "\n",
        "Cole-Parmer PVC Tubing, 1/8\" x 1/4\", 50 Ft/Pk. (n.d.). Retrieved from https://www.coleparmer.com/i/cole-parmer-pvc-tubing-1-8-x-1-4-50-ft-pk/9660501?PubID=UX&persist=true&ip=no&gclid=EAIaIQobChMI2pv7lO355QIVEz0MCh3HKQBzEAkYAiABEgJaz_D_BwE.\n",
        "\n",
        "Comprehensive Guide on Polyvinyl Chloride (PVC). (n.d.). Retrieved from https://omnexus.specialchem.com/selection-guide/polyvinyl-chloride-pvc-plastic.\n",
        "\n",
        "D25RE09. (n.d.). Retrieved from https://www.dosatronusa.com/d25re09/.\n",
        "\n",
        "Gator-XL - Water Powered Chemical Feed Pump Injector - Specifications. (n.d.). Retrieved from http://www.gatorxl.com/Specifications.html.\n",
        "\n",
        "Minor or Dynamic Loss Coefficients for Pipe or Tube System Components. (n.d.). Retrieved from https://www.engineeringtoolbox.com/minor-loss-coefficients-pipes-d_626.html.\n",
        "\n",
        "Reticulated Foam Sheets - 12. (n.d.). Retrieved from https://cleverbrand.com/products/reticulated-foam-sheets-12-wide-x-4-ft-long?gclid=EAIaIQobChMI05fH-Mj55QIVgZ6zCh0mSQWMEAAYASAAEgI_rPD_BwE.\n",
        "\n",
        "SuperDos: Proportional Fertilizer Injector: Hydro Sytems Europe. (n.d.). Retrieved from https://hydrosystemseurope.com/product/superdos/.\n",
        "\n",
        "The AYLESBURY™ Float Valve Range. (n.d.). Retrieved from https://cms.esi.info/Media/documents/Kera_valves_ML.pdf."
      ]
    }
  ]
}